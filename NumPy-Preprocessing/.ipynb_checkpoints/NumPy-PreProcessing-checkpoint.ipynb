{
 "cells": [
  {
   "cell_type": "code",
   "execution_count": 1,
   "id": "fda6bd19",
   "metadata": {},
   "outputs": [],
   "source": [
    "import numpy as np"
   ]
  },
  {
   "cell_type": "markdown",
   "id": "bd754112",
   "metadata": {},
   "source": [
    "### Checking for Missing Values"
   ]
  },
  {
   "cell_type": "code",
   "execution_count": 2,
   "id": "8b549c5a",
   "metadata": {},
   "outputs": [],
   "source": [
    "lending_com_data = np.loadtxt(\"Lending-company-Numeric.csv\", \n",
    "                              delimiter = ',')\n",
    "#we have used np.loadtxt to check if there are any missing values\n",
    "#since loadtxt will not work if there are missing values"
   ]
  },
  {
   "cell_type": "code",
   "execution_count": 3,
   "id": "f61bfcef",
   "metadata": {},
   "outputs": [
    {
     "data": {
      "text/plain": [
       "0"
      ]
     },
     "execution_count": 3,
     "metadata": {},
     "output_type": "execute_result"
    }
   ],
   "source": [
    "np.isnan(lending_com_data).sum()\n",
    "#np.isnan is used to know if there is any missing data in the given data set\n",
    "#here True means there are missing values and False means there are none\n",
    "#.sum is used to sum the number of missing values\n",
    "#as True represents 1 and False 0\n",
    "#the sum tells us in this case there are no missing values"
   ]
  },
  {
   "cell_type": "code",
   "execution_count": 4,
   "id": "2d189eac",
   "metadata": {},
   "outputs": [],
   "source": [
    "#lending_com_data_NAN = np.loadtxt(\"Lending-company-Numeric-NAN.csv\", \n",
    "                              #delimiter = ';')\n",
    "    #this code showed error so the given file has missing values"
   ]
  },
  {
   "cell_type": "code",
   "execution_count": 5,
   "id": "6126afa7",
   "metadata": {},
   "outputs": [],
   "source": [
    "lending_com_data_NAN = np.genfromtxt(\"Lending-company-Numeric-NAN.csv\", \n",
    "                              delimiter = ';')\n",
    "#np.genfromtxt doesn't show errors"
   ]
  },
  {
   "cell_type": "code",
   "execution_count": 6,
   "id": "8c96b27d",
   "metadata": {},
   "outputs": [
    {
     "data": {
      "text/plain": [
       "260"
      ]
     },
     "execution_count": 6,
     "metadata": {},
     "output_type": "execute_result"
    }
   ],
   "source": [
    "np.isnan(lending_com_data_NAN).sum()"
   ]
  },
  {
   "cell_type": "code",
   "execution_count": 7,
   "id": "aaae93c3",
   "metadata": {},
   "outputs": [],
   "source": [
    "#one way of filling the missing values is\n",
    "lending_com_data_NAN = np.genfromtxt(\"Lending-company-Numeric-NAN.csv\",\n",
    "                                     delimiter = ';',\n",
    "                                    filling_values = 0)"
   ]
  },
  {
   "cell_type": "code",
   "execution_count": 8,
   "id": "85ca0e35",
   "metadata": {},
   "outputs": [
    {
     "data": {
      "text/plain": [
       "0"
      ]
     },
     "execution_count": 8,
     "metadata": {},
     "output_type": "execute_result"
    }
   ],
   "source": [
    "np.isnan(lending_com_data_NAN).sum()\n",
    "#now all the missing values have been replaced with 0\n",
    "#but since 0 can have a significant representation\n",
    "#we should use some alternate"
   ]
  },
  {
   "cell_type": "code",
   "execution_count": 9,
   "id": "2f3a0d26",
   "metadata": {},
   "outputs": [],
   "source": [
    "lending_com_data_NAN = np.genfromtxt(\"Lending-company-Numeric-NAN.csv\",\n",
    "                                     delimiter = ';')\n",
    "temporary_fill = np.nanmax(lending_com_data_NAN).round(2) + 1\n",
    "#here we are creating a temporary fill value\n",
    "#this value will be greater then the biggest value in the data set by 1\n",
    "#a good practice is to round off the numbers when working with floats"
   ]
  },
  {
   "cell_type": "code",
   "execution_count": 10,
   "id": "5c80d570",
   "metadata": {},
   "outputs": [
    {
     "data": {
      "text/plain": [
       "64002.0"
      ]
     },
     "execution_count": 10,
     "metadata": {},
     "output_type": "execute_result"
    }
   ],
   "source": [
    "temporary_fill"
   ]
  },
  {
   "cell_type": "code",
   "execution_count": 11,
   "id": "846b3892",
   "metadata": {},
   "outputs": [],
   "source": [
    "lending_com_data_NAN = np.genfromtxt('Lending-company-Numeric-NAN.csv',\n",
    "                                    delimiter = ';',\n",
    "                                    filling_values = temporary_fill)"
   ]
  },
  {
   "cell_type": "code",
   "execution_count": 12,
   "id": "ea7f1b14",
   "metadata": {},
   "outputs": [
    {
     "data": {
      "text/plain": [
       "0"
      ]
     },
     "execution_count": 12,
     "metadata": {},
     "output_type": "execute_result"
    }
   ],
   "source": [
    "np.isnan(lending_com_data_NAN).sum()"
   ]
  },
  {
   "cell_type": "markdown",
   "id": "86f06e6f",
   "metadata": {},
   "source": [
    "### Substituting Missing Values"
   ]
  },
  {
   "cell_type": "markdown",
   "id": "130931e4",
   "metadata": {},
   "source": [
    "Up till now we have placed the biggest value + 1 of the array in the place of missing values. But this can create a huge problem. The more prefered way is to substitute the values with the mean of the given column as it does not affect the overall deviation of data. "
   ]
  },
  {
   "cell_type": "code",
   "execution_count": 13,
   "id": "2040ad35",
   "metadata": {},
   "outputs": [
    {
     "data": {
      "text/plain": [
       "array([[ 2000.,    40.,   365.,  3121.,  4241., 13621.],\n",
       "       [ 2000.,    40.,   365.,  3061.,  4171., 15041.],\n",
       "       [ 1000.,    40.,   365.,  2160.,  3280., 15340.],\n",
       "       ...,\n",
       "       [   nan,    40.,   365.,  4201.,  5001., 16600.],\n",
       "       [ 1000.,    40.,   365.,  2080.,  3320., 15600.],\n",
       "       [ 2000.,    40.,   365.,  4601.,  4601., 16600.]])"
      ]
     },
     "execution_count": 13,
     "metadata": {},
     "output_type": "execute_result"
    }
   ],
   "source": [
    "lending_com_data_NAN = np.genfromtxt(\"Lending-company-Numeric-NAN.csv\",\n",
    "                                    delimiter = ';')\n",
    "lending_com_data_NAN"
   ]
  },
  {
   "cell_type": "code",
   "execution_count": 14,
   "id": "dae93579",
   "metadata": {},
   "outputs": [],
   "source": [
    "temporary_mean = np.nanmean(lending_com_data_NAN,\n",
    "                           axis = 0).round(2)"
   ]
  },
  {
   "cell_type": "code",
   "execution_count": 15,
   "id": "61869562",
   "metadata": {},
   "outputs": [
    {
     "data": {
      "text/plain": [
       "2250.25"
      ]
     },
     "execution_count": 15,
     "metadata": {},
     "output_type": "execute_result"
    }
   ],
   "source": [
    "temporary_mean[0]"
   ]
  },
  {
   "cell_type": "code",
   "execution_count": 16,
   "id": "3c479a7e",
   "metadata": {},
   "outputs": [],
   "source": [
    "temporary_fill = np.nanmax(lending_com_data_NAN).round(2) + 1\n",
    "\n",
    "lending_com_data_NAN = np.genfromtxt('Lending-company-Numeric-NAN.csv',\n",
    "                                    delimiter = ';',\n",
    "                                    filling_values = temporary_fill)"
   ]
  },
  {
   "cell_type": "code",
   "execution_count": 17,
   "id": "58932b9e",
   "metadata": {},
   "outputs": [
    {
     "data": {
      "text/plain": [
       "64002.0"
      ]
     },
     "execution_count": 17,
     "metadata": {},
     "output_type": "execute_result"
    }
   ],
   "source": [
    "temporary_fill"
   ]
  },
  {
   "cell_type": "code",
   "execution_count": 18,
   "id": "4007accc",
   "metadata": {},
   "outputs": [
    {
     "data": {
      "text/plain": [
       "4263.25"
      ]
     },
     "execution_count": 18,
     "metadata": {},
     "output_type": "execute_result"
    }
   ],
   "source": [
    "np.mean(lending_com_data_NAN[:,0]).round(2)"
   ]
  },
  {
   "cell_type": "code",
   "execution_count": 19,
   "id": "c4abfd77",
   "metadata": {},
   "outputs": [
    {
     "data": {
      "text/plain": [
       "2250.25"
      ]
     },
     "execution_count": 19,
     "metadata": {},
     "output_type": "execute_result"
    }
   ],
   "source": [
    "temporary_mean[0]"
   ]
  },
  {
   "cell_type": "code",
   "execution_count": 20,
   "id": "05c9c365",
   "metadata": {},
   "outputs": [],
   "source": [
    "lending_com_data_NAN[:,0] = np.where(lending_com_data_NAN[:,0] == temporary_fill,\n",
    "                                    temporary_mean[0],\n",
    "                                    lending_com_data_NAN[:,0])"
   ]
  },
  {
   "cell_type": "markdown",
   "id": "eab6adab",
   "metadata": {},
   "source": [
    "The above code can be break down in following steps:\n",
    "\n",
    "1.) We are checking the 1st columns of the given data set, and if that column contains a value which is equal to the temporary_fill value which in our case is 64002.0 we replace it with the temporary_mean of the 1st column which we have stored above\n",
    "\n",
    "2.) If the value is not equal to 64002.0 it remains the same "
   ]
  },
  {
   "cell_type": "code",
   "execution_count": 21,
   "id": "f2cdb6a8",
   "metadata": {},
   "outputs": [
    {
     "data": {
      "text/plain": [
       "2250.25"
      ]
     },
     "execution_count": 21,
     "metadata": {},
     "output_type": "execute_result"
    }
   ],
   "source": [
    "np.mean(lending_com_data_NAN[:,0]).round(2)\n",
    "#this proves that subsitiuting missing values with the mean value makes no difference to the value of the mean"
   ]
  },
  {
   "cell_type": "code",
   "execution_count": 22,
   "id": "f7d5897a",
   "metadata": {},
   "outputs": [],
   "source": [
    "#now if we want to do this to all the columns we use a for loop...\n",
    "for i in range(lending_com_data_NAN.shape[1]): #number of columns\n",
    "    lending_com_data_NAN[:,i] = np.where(lending_com_data_NAN[:,i] == temporary_fill,\n",
    "                                    temporary_mean[i],\n",
    "                                    lending_com_data_NAN[:,i])"
   ]
  },
  {
   "cell_type": "markdown",
   "id": "8b19fe3e",
   "metadata": {},
   "source": [
    "Now all the missing values have been changed from 64002.0 to the respective mean of the columns"
   ]
  },
  {
   "cell_type": "code",
   "execution_count": 23,
   "id": "22df5870",
   "metadata": {},
   "outputs": [],
   "source": [
    "for i in range(lending_com_data_NAN.shape[1]): #number of columns\n",
    "    lending_com_data_NAN[:,i] = np.where(lending_com_data_NAN[:,i] < 0,\n",
    "                                    0,\n",
    "                                    lending_com_data_NAN[:,i])"
   ]
  },
  {
   "cell_type": "markdown",
   "id": "a3ad1d86",
   "metadata": {},
   "source": [
    "This changes all the negative value to zero"
   ]
  },
  {
   "cell_type": "markdown",
   "id": "d2e4eba5",
   "metadata": {},
   "source": [
    "### Reshaping Ndarrays"
   ]
  },
  {
   "cell_type": "code",
   "execution_count": 24,
   "id": "b10a801a",
   "metadata": {},
   "outputs": [],
   "source": [
    "lending_co_data_numeric = np.loadtxt(\"Lending-company-Numeric.csv\",\n",
    "                                    delimiter = ',')"
   ]
  },
  {
   "cell_type": "code",
   "execution_count": 25,
   "id": "a80b988c",
   "metadata": {},
   "outputs": [
    {
     "data": {
      "text/plain": [
       "array([[ 2000.,    40.,   365.,  3121.,  4241., 13621.],\n",
       "       [ 2000.,    40.,   365.,  3061.,  4171., 15041.],\n",
       "       [ 1000.,    40.,   365.,  2160.,  3280., 15340.],\n",
       "       ...,\n",
       "       [ 2000.,    40.,   365.,  4201.,  5001., 16600.],\n",
       "       [ 1000.,    40.,   365.,  2080.,  3320., 15600.],\n",
       "       [ 2000.,    40.,   365.,  4601.,  4601., 16600.]])"
      ]
     },
     "execution_count": 25,
     "metadata": {},
     "output_type": "execute_result"
    }
   ],
   "source": [
    "lending_co_data_numeric"
   ]
  },
  {
   "cell_type": "markdown",
   "id": "b4fa7e3c",
   "metadata": {},
   "source": [
    "<b>RESHAPING:</b>\n",
    "\n",
    "Is the act of morphing the shape of an object a certain way. Usually it is used when a certain condition is needed to met. It's not always possible to store the output of a functionas a part of an existing aray (or Series).\n",
    "\n",
    "YES there are certaibn restrictions to the shape we can give toa array since we have a fixed amount of data available."
   ]
  },
  {
   "cell_type": "code",
   "execution_count": 26,
   "id": "62e386b7",
   "metadata": {},
   "outputs": [
    {
     "data": {
      "text/plain": [
       "(1043, 6)"
      ]
     },
     "execution_count": 26,
     "metadata": {},
     "output_type": "execute_result"
    }
   ],
   "source": [
    "lending_co_data_numeric.shape"
   ]
  },
  {
   "cell_type": "code",
   "execution_count": 27,
   "id": "b6f49126",
   "metadata": {},
   "outputs": [
    {
     "data": {
      "text/plain": [
       "array([[ 2000.,    40.,   365., ...,   365.,  1581.,  3041.],\n",
       "       [12277.,  2000.,    40., ...,    50.,   365.,  5350.],\n",
       "       [ 6850., 15150.,  1000., ...,  2000.,    40.,   365.],\n",
       "       [ 3101.,  4351., 16600., ..., 16600.,  2000.,    40.],\n",
       "       [  365.,  3441.,  4661., ...,  8450., 22250.,  2000.],\n",
       "       [   40.,   365.,  3701., ...,  4601.,  4601., 16600.]])"
      ]
     },
     "execution_count": 27,
     "metadata": {},
     "output_type": "execute_result"
    }
   ],
   "source": [
    "np.reshape(lending_co_data_numeric, (6, 1043))\n",
    "#the way reshape works is it flattens the array\n",
    "#then it prints the first 1043 entries in 1st row\n",
    "# then the 2nd and so on...\n",
    "#so it does not make rows into columns...for that purpose transpose is used"
   ]
  },
  {
   "cell_type": "code",
   "execution_count": 28,
   "id": "24639b5e",
   "metadata": {},
   "outputs": [
    {
     "data": {
      "text/plain": [
       "array([[ 2000.,  2000.,  1000., ...,  2000.,  1000.,  2000.],\n",
       "       [   40.,    40.,    40., ...,    40.,    40.,    40.],\n",
       "       [  365.,   365.,   365., ...,   365.,   365.,   365.],\n",
       "       [ 3121.,  3061.,  2160., ...,  4201.,  2080.,  4601.],\n",
       "       [ 4241.,  4171.,  3280., ...,  5001.,  3320.,  4601.],\n",
       "       [13621., 15041., 15340., ..., 16600., 15600., 16600.]])"
      ]
     },
     "execution_count": 28,
     "metadata": {},
     "output_type": "execute_result"
    }
   ],
   "source": [
    "np.transpose(lending_co_data_numeric)"
   ]
  },
  {
   "cell_type": "code",
   "execution_count": 30,
   "id": "a54ac2eb",
   "metadata": {},
   "outputs": [],
   "source": [
    "#np.reshape(lending_co_data_numeric,(3,500))\n",
    "#this code will show error\n",
    "#as the dimensions are less then the specific requirement which is \n",
    "# m*n = 6258"
   ]
  },
  {
   "cell_type": "code",
   "execution_count": 31,
   "id": "ba395ce5",
   "metadata": {},
   "outputs": [
    {
     "data": {
      "text/plain": [
       "array([[ 2000.,    40.,   365., ...,    50.,   365.,  5350.],\n",
       "       [ 6850., 15150.,  1000., ..., 16600.,  2000.,    40.],\n",
       "       [  365.,  3441.,  4661., ...,  4601.,  4601., 16600.]])"
      ]
     },
     "execution_count": 31,
     "metadata": {},
     "output_type": "execute_result"
    }
   ],
   "source": [
    "np.reshape(lending_co_data_numeric,(3,2086))"
   ]
  },
  {
   "cell_type": "code",
   "execution_count": 32,
   "id": "5a8dbdfb",
   "metadata": {},
   "outputs": [
    {
     "data": {
      "text/plain": [
       "array([[[ 2000.,    40.,   365., ...,   365.,  1581.,  3041.],\n",
       "        [12277.,  2000.,    40., ...,    50.,   365.,  5350.],\n",
       "        [ 6850., 15150.,  1000., ...,  2000.,    40.,   365.]],\n",
       "\n",
       "       [[ 3101.,  4351., 16600., ..., 16600.,  2000.,    40.],\n",
       "        [  365.,  3441.,  4661., ...,  8450., 22250.,  2000.],\n",
       "        [   40.,   365.,  3701., ...,  4601.,  4601., 16600.]]])"
      ]
     },
     "execution_count": 32,
     "metadata": {},
     "output_type": "execute_result"
    }
   ],
   "source": [
    "np.reshape(lending_co_data_numeric,(2,3,1043))\n",
    "#you can change the dimesions of array"
   ]
  },
  {
   "cell_type": "code",
   "execution_count": 33,
   "id": "c537b771",
   "metadata": {},
   "outputs": [
    {
     "data": {
      "text/plain": [
       "array([[[[[ 2000.,    40.,   365., ...,   365.,  1581.,  3041.],\n",
       "          [12277.,  2000.,    40., ...,    50.,   365.,  5350.],\n",
       "          [ 6850., 15150.,  1000., ...,  2000.,    40.,   365.]],\n",
       "\n",
       "         [[ 3101.,  4351., 16600., ..., 16600.,  2000.,    40.],\n",
       "          [  365.,  3441.,  4661., ...,  8450., 22250.,  2000.],\n",
       "          [   40.,   365.,  3701., ...,  4601.,  4601., 16600.]]]]])"
      ]
     },
     "execution_count": 33,
     "metadata": {},
     "output_type": "execute_result"
    }
   ],
   "source": [
    "#another example to change the dimension is\n",
    "np.reshape(lending_co_data_numeric,(1,1,2,3,1043))"
   ]
  },
  {
   "cell_type": "markdown",
   "id": "dc7ffae1",
   "metadata": {},
   "source": [
    "###### Adding dimension is useful when a method or function only takes inputs with a higher number of dimensions than the array we want to plug in"
   ]
  },
  {
   "cell_type": "code",
   "execution_count": 34,
   "id": "3273bce0",
   "metadata": {},
   "outputs": [
    {
     "data": {
      "text/plain": [
       "array([[ 2000.,    40.,   365.,  3121.,  4241., 13621.],\n",
       "       [ 2000.,    40.,   365.,  3061.,  4171., 15041.],\n",
       "       [ 1000.,    40.,   365.,  2160.,  3280., 15340.],\n",
       "       ...,\n",
       "       [ 2000.,    40.,   365.,  4201.,  5001., 16600.],\n",
       "       [ 1000.,    40.,   365.,  2080.,  3320., 15600.],\n",
       "       [ 2000.,    40.,   365.,  4601.,  4601., 16600.]])"
      ]
     },
     "execution_count": 34,
     "metadata": {},
     "output_type": "execute_result"
    }
   ],
   "source": [
    "lending_co_data_numeric\n",
    "#so reshaping doesn't affect the dataset\n",
    "#it just changes the position of the given data\n",
    "#if you want to use the reshaped data then you need to store it seperately"
   ]
  },
  {
   "cell_type": "code",
   "execution_count": 35,
   "id": "8bb6dbab",
   "metadata": {},
   "outputs": [
    {
     "data": {
      "text/plain": [
       "array([[ 2000.,    40.,   365., ...,   365.,  1581.,  3041.],\n",
       "       [12277.,  2000.,    40., ...,    50.,   365.,  5350.],\n",
       "       [ 6850., 15150.,  1000., ...,  2000.,    40.,   365.],\n",
       "       [ 3101.,  4351., 16600., ..., 16600.,  2000.,    40.],\n",
       "       [  365.,  3441.,  4661., ...,  8450., 22250.,  2000.],\n",
       "       [   40.,   365.,  3701., ...,  4601.,  4601., 16600.]])"
      ]
     },
     "execution_count": 35,
     "metadata": {},
     "output_type": "execute_result"
    }
   ],
   "source": [
    "#another way to reshape data is to use .reshape()\n",
    "lending_co_data_numeric.reshape(6,1043)"
   ]
  },
  {
   "cell_type": "markdown",
   "id": "06d27e5b",
   "metadata": {},
   "source": [
    "### Removing Values"
   ]
  },
  {
   "cell_type": "code",
   "execution_count": 36,
   "id": "8a6a93c9",
   "metadata": {},
   "outputs": [],
   "source": [
    "lending_co_data_numeric = np.loadtxt(\"Lending-company-Numeric.csv\",\n",
    "                                    delimiter = ',')"
   ]
  },
  {
   "cell_type": "code",
   "execution_count": 37,
   "id": "4b039cc5",
   "metadata": {},
   "outputs": [
    {
     "data": {
      "text/plain": [
       "array([[ 2000.,    40.,   365.,  3121.,  4241., 13621.],\n",
       "       [ 2000.,    40.,   365.,  3061.,  4171., 15041.],\n",
       "       [ 1000.,    40.,   365.,  2160.,  3280., 15340.],\n",
       "       ...,\n",
       "       [ 2000.,    40.,   365.,  4201.,  5001., 16600.],\n",
       "       [ 1000.,    40.,   365.,  2080.,  3320., 15600.],\n",
       "       [ 2000.,    40.,   365.,  4601.,  4601., 16600.]])"
      ]
     },
     "execution_count": 37,
     "metadata": {},
     "output_type": "execute_result"
    }
   ],
   "source": [
    "lending_co_data_numeric"
   ]
  },
  {
   "cell_type": "code",
   "execution_count": 38,
   "id": "3d013cfc",
   "metadata": {},
   "outputs": [
    {
     "data": {
      "text/plain": [
       "(6257,)"
      ]
     },
     "execution_count": 38,
     "metadata": {},
     "output_type": "execute_result"
    }
   ],
   "source": [
    "#to delete the first element of the sheet\n",
    "np.delete(lending_co_data_numeric, 0).shape"
   ]
  },
  {
   "cell_type": "code",
   "execution_count": 39,
   "id": "10a9d62d",
   "metadata": {},
   "outputs": [
    {
     "data": {
      "text/plain": [
       "6258"
      ]
     },
     "execution_count": 39,
     "metadata": {},
     "output_type": "execute_result"
    }
   ],
   "source": [
    "lending_co_data_numeric.size\n",
    "#since we have not stored the deleted array the value is not changed"
   ]
  },
  {
   "cell_type": "code",
   "execution_count": 40,
   "id": "db427ee3",
   "metadata": {},
   "outputs": [
    {
     "data": {
      "text/plain": [
       "array([[ 2000.,    40.,   365.,  3121.,  4241., 13621.],\n",
       "       [ 2000.,    40.,   365.,  3061.,  4171., 15041.],\n",
       "       [ 1000.,    40.,   365.,  2160.,  3280., 15340.],\n",
       "       ...,\n",
       "       [ 2000.,    40.,   365.,  4201.,  5001., 16600.],\n",
       "       [ 1000.,    40.,   365.,  2080.,  3320., 15600.],\n",
       "       [ 2000.,    40.,   365.,  4601.,  4601., 16600.]])"
      ]
     },
     "execution_count": 40,
     "metadata": {},
     "output_type": "execute_result"
    }
   ],
   "source": [
    "lending_co_data_numeric"
   ]
  },
  {
   "cell_type": "code",
   "execution_count": 41,
   "id": "a0b489f4",
   "metadata": {},
   "outputs": [
    {
     "data": {
      "text/plain": [
       "array([[ 2000.,    40.,   365.,  3061.,  4171., 15041.],\n",
       "       [ 1000.,    40.,   365.,  2160.,  3280., 15340.],\n",
       "       [ 2000.,    40.,   365.,  3041.,  4241., 15321.],\n",
       "       ...,\n",
       "       [ 2000.,    40.,   365.,  4201.,  5001., 16600.],\n",
       "       [ 1000.,    40.,   365.,  2080.,  3320., 15600.],\n",
       "       [ 2000.,    40.,   365.,  4601.,  4601., 16600.]])"
      ]
     },
     "execution_count": 41,
     "metadata": {},
     "output_type": "execute_result"
    }
   ],
   "source": [
    "#when you want to delete a complete row or column\n",
    "np.delete(lending_co_data_numeric, 0, axis = 0)\n",
    "# axis = 0 delete rows\n",
    "#axis = 1 delete columns"
   ]
  },
  {
   "cell_type": "code",
   "execution_count": 42,
   "id": "42315a20",
   "metadata": {},
   "outputs": [
    {
     "data": {
      "text/plain": [
       "array([[   40.,   365.,  3121.,  4241., 13621.],\n",
       "       [   40.,   365.,  3061.,  4171., 15041.],\n",
       "       [   40.,   365.,  2160.,  3280., 15340.],\n",
       "       ...,\n",
       "       [   40.,   365.,  4201.,  5001., 16600.],\n",
       "       [   40.,   365.,  2080.,  3320., 15600.],\n",
       "       [   40.,   365.,  4601.,  4601., 16600.]])"
      ]
     },
     "execution_count": 42,
     "metadata": {},
     "output_type": "execute_result"
    }
   ],
   "source": [
    "np.delete(lending_co_data_numeric, 0, axis = 1)"
   ]
  },
  {
   "cell_type": "code",
   "execution_count": 43,
   "id": "28f50ba8",
   "metadata": {},
   "outputs": [
    {
     "data": {
      "text/plain": [
       "array([[ 2000.,   365.,  3121.,  4241., 13621.],\n",
       "       [ 2000.,   365.,  3061.,  4171., 15041.],\n",
       "       [ 1000.,   365.,  2160.,  3280., 15340.],\n",
       "       ...,\n",
       "       [ 2000.,   365.,  4201.,  5001., 16600.],\n",
       "       [ 1000.,   365.,  2080.,  3320., 15600.],\n",
       "       [ 2000.,   365.,  4601.,  4601., 16600.]])"
      ]
     },
     "execution_count": 43,
     "metadata": {},
     "output_type": "execute_result"
    }
   ],
   "source": [
    "np.delete(lending_co_data_numeric, 1, axis = 1)\n",
    "#you change the col no. and that column is deleted accordingly "
   ]
  },
  {
   "cell_type": "code",
   "execution_count": 44,
   "id": "8f8ec36f",
   "metadata": {},
   "outputs": [
    {
     "data": {
      "text/plain": [
       "array([[   40.,  3121., 13621.],\n",
       "       [   40.,  3061., 15041.],\n",
       "       [   40.,  2160., 15340.],\n",
       "       ...,\n",
       "       [   40.,  4201., 16600.],\n",
       "       [   40.,  2080., 15600.],\n",
       "       [   40.,  4601., 16600.]])"
      ]
     },
     "execution_count": 44,
     "metadata": {},
     "output_type": "execute_result"
    }
   ],
   "source": [
    "np.delete(lending_co_data_numeric, (0,2,4), axis = 1)"
   ]
  },
  {
   "cell_type": "code",
   "execution_count": 45,
   "id": "4bd5a8e4",
   "metadata": {},
   "outputs": [
    {
     "data": {
      "text/plain": [
       "array([[   40.,  3061., 15041.],\n",
       "       [   40.,  3041., 15321.],\n",
       "       [   50.,  3470., 13720.],\n",
       "       ...,\n",
       "       [   40.,  4240., 16600.],\n",
       "       [   40.,  4201., 16600.],\n",
       "       [   40.,  2080., 15600.]])"
      ]
     },
     "execution_count": 45,
     "metadata": {},
     "output_type": "execute_result"
    }
   ],
   "source": [
    "#but when you want delete rows and columns\n",
    "np.delete(np.delete(lending_co_data_numeric, \n",
    "                    [0,2,4],\n",
    "                    axis = 1),\n",
    "         [0,2,-1],\n",
    "         axis = 0)"
   ]
  },
  {
   "cell_type": "code",
   "execution_count": null,
   "id": "9aa778c2",
   "metadata": {},
   "outputs": [],
   "source": []
  }
 ],
 "metadata": {
  "kernelspec": {
   "display_name": "Python 3 (ipykernel)",
   "language": "python",
   "name": "python3"
  },
  "language_info": {
   "codemirror_mode": {
    "name": "ipython",
    "version": 3
   },
   "file_extension": ".py",
   "mimetype": "text/x-python",
   "name": "python",
   "nbconvert_exporter": "python",
   "pygments_lexer": "ipython3",
   "version": "3.10.9"
  }
 },
 "nbformat": 4,
 "nbformat_minor": 5
}
