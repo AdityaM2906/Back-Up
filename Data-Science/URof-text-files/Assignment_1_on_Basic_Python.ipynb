{
 "cells": [
  {
   "cell_type": "markdown",
   "id": "3476a732",
   "metadata": {},
   "source": [
    "Following asssignment contains all possible topics which come in the category of \"Basic_1\" please go through this assignment atleast twice to reinforce your concept"
   ]
  },
  {
   "cell_type": "markdown",
   "id": "81c41140",
   "metadata": {},
   "source": [
    "# Variables"
   ]
  },
  {
   "cell_type": "markdown",
   "id": "9ed43b75",
   "metadata": {},
   "source": [
    "Create a variable with name, \"your name\" and a value of \"your age\". Execute."
   ]
  },
  {
   "cell_type": "code",
   "execution_count": 2,
   "id": "6755e071",
   "metadata": {},
   "outputs": [],
   "source": [
    "vanshika=24"
   ]
  },
  {
   "cell_type": "markdown",
   "id": "ab2c0123",
   "metadata": {},
   "source": [
    "Tell the computer to show the value of the created variable(There are two ways to do this)"
   ]
  },
  {
   "cell_type": "code",
   "execution_count": 3,
   "id": "a32e0c85",
   "metadata": {},
   "outputs": [
    {
     "name": "stdout",
     "output_type": "stream",
     "text": [
      "24\n"
     ]
    }
   ],
   "source": [
    "print (vanshika)"
   ]
  },
  {
   "cell_type": "code",
   "execution_count": 4,
   "id": "043e82eb",
   "metadata": {},
   "outputs": [
    {
     "data": {
      "text/plain": [
       "24"
      ]
     },
     "execution_count": 4,
     "metadata": {},
     "output_type": "execute_result"
    }
   ],
   "source": [
    "vanshika"
   ]
  },
  {
   "cell_type": "markdown",
   "id": "08c74b73",
   "metadata": {},
   "source": [
    "Create four variables with value 10,20,30,40 respectively"
   ]
  },
  {
   "cell_type": "code",
   "execution_count": 6,
   "id": "702d542e",
   "metadata": {},
   "outputs": [],
   "source": [
    "a,b,c,d = 10,20,30,40"
   ]
  },
  {
   "cell_type": "markdown",
   "id": "91bf7bb6",
   "metadata": {},
   "source": [
    "Now print each variables value separately"
   ]
  },
  {
   "cell_type": "code",
   "execution_count": 7,
   "id": "1f93831b",
   "metadata": {},
   "outputs": [
    {
     "name": "stdout",
     "output_type": "stream",
     "text": [
      "10\n"
     ]
    }
   ],
   "source": [
    "print(a)"
   ]
  },
  {
   "cell_type": "code",
   "execution_count": 8,
   "id": "7c3f4e33",
   "metadata": {},
   "outputs": [
    {
     "data": {
      "text/plain": [
       "20"
      ]
     },
     "execution_count": 8,
     "metadata": {},
     "output_type": "execute_result"
    }
   ],
   "source": [
    "b"
   ]
  },
  {
   "cell_type": "code",
   "execution_count": 9,
   "id": "50b6fbf0",
   "metadata": {},
   "outputs": [
    {
     "data": {
      "text/plain": [
       "30"
      ]
     },
     "execution_count": 9,
     "metadata": {},
     "output_type": "execute_result"
    }
   ],
   "source": [
    "c"
   ]
  },
  {
   "cell_type": "code",
   "execution_count": 10,
   "id": "bb98f9c5",
   "metadata": {},
   "outputs": [
    {
     "data": {
      "text/plain": [
       "40"
      ]
     },
     "execution_count": 10,
     "metadata": {},
     "output_type": "execute_result"
    }
   ],
   "source": [
    "d"
   ]
  },
  {
   "cell_type": "markdown",
   "id": "4fd377d4",
   "metadata": {},
   "source": [
    "# Numbers and Boolean Values"
   ]
  },
  {
   "cell_type": "markdown",
   "id": "4d0a47ed",
   "metadata": {},
   "source": [
    "Create a variable equal to \"True\""
   ]
  },
  {
   "cell_type": "code",
   "execution_count": 12,
   "id": "839c8472",
   "metadata": {},
   "outputs": [],
   "source": [
    "v = True"
   ]
  },
  {
   "cell_type": "markdown",
   "id": "e03c9b26",
   "metadata": {},
   "source": [
    "Check its type"
   ]
  },
  {
   "cell_type": "code",
   "execution_count": 13,
   "id": "258dbaf4",
   "metadata": {},
   "outputs": [
    {
     "data": {
      "text/plain": [
       "bool"
      ]
     },
     "execution_count": 13,
     "metadata": {},
     "output_type": "execute_result"
    }
   ],
   "source": [
    "type(v)"
   ]
  },
  {
   "cell_type": "markdown",
   "id": "89e107a9",
   "metadata": {},
   "source": [
    "Create a variable equal to 99, check its type and change it's type"
   ]
  },
  {
   "cell_type": "code",
   "execution_count": 14,
   "id": "e9e62ba6",
   "metadata": {},
   "outputs": [],
   "source": [
    "s = 99"
   ]
  },
  {
   "cell_type": "code",
   "execution_count": 15,
   "id": "a1b3af50",
   "metadata": {},
   "outputs": [
    {
     "data": {
      "text/plain": [
       "int"
      ]
     },
     "execution_count": 15,
     "metadata": {},
     "output_type": "execute_result"
    }
   ],
   "source": [
    "type(s)"
   ]
  },
  {
   "cell_type": "markdown",
   "id": "f1c0159c",
   "metadata": {},
   "source": [
    "Create a variable equal to 0.99, check its type and change it's type"
   ]
  },
  {
   "cell_type": "code",
   "execution_count": 16,
   "id": "4e44a528",
   "metadata": {},
   "outputs": [],
   "source": [
    "b = 0.99"
   ]
  },
  {
   "cell_type": "code",
   "execution_count": 17,
   "id": "b886beb3",
   "metadata": {},
   "outputs": [
    {
     "data": {
      "text/plain": [
       "float"
      ]
     },
     "execution_count": 17,
     "metadata": {},
     "output_type": "execute_result"
    }
   ],
   "source": [
    "type(b)"
   ]
  },
  {
   "cell_type": "markdown",
   "id": "2daeb0c9",
   "metadata": {},
   "source": [
    "Assign the value 1000 to the variable \"life\", now with the help of \"life\", create a one line code which has output 1000 ways to live."
   ]
  },
  {
   "cell_type": "code",
   "execution_count": 25,
   "id": "f321eba3",
   "metadata": {},
   "outputs": [],
   "source": [
    "life = 1000"
   ]
  },
  {
   "cell_type": "code",
   "execution_count": 26,
   "id": "81d3d570",
   "metadata": {},
   "outputs": [
    {
     "data": {
      "text/plain": [
       "'1000 ways to live'"
      ]
     },
     "execution_count": 26,
     "metadata": {},
     "output_type": "execute_result"
    }
   ],
   "source": [
    "str(1000) + ' ways to live'"
   ]
  },
  {
   "cell_type": "markdown",
   "id": "df730e62",
   "metadata": {},
   "source": [
    "Produce an output equal to It's cool, isn't it?"
   ]
  },
  {
   "cell_type": "code",
   "execution_count": 27,
   "id": "0bfd2f93",
   "metadata": {},
   "outputs": [
    {
     "data": {
      "text/plain": [
       "\"it's cool, isn't it ? \""
      ]
     },
     "execution_count": 27,
     "metadata": {},
     "output_type": "execute_result"
    }
   ],
   "source": [
    "str( \"it's cool, isn't it ? \")"
   ]
  },
  {
   "cell_type": "markdown",
   "id": "ae8c3d40",
   "metadata": {},
   "source": [
    "Fix my mistake ;-)"
   ]
  },
  {
   "cell_type": "code",
   "execution_count": 29,
   "id": "9c095501",
   "metadata": {},
   "outputs": [
    {
     "data": {
      "text/plain": [
       "\" don't be stiff \""
      ]
     },
     "execution_count": 29,
     "metadata": {},
     "output_type": "execute_result"
    }
   ],
   "source": [
    " \" don't be stiff \""
   ]
  },
  {
   "cell_type": "markdown",
   "id": "908dcde3",
   "metadata": {},
   "source": [
    "Produce an output equal to Click \"YES\""
   ]
  },
  {
   "cell_type": "code",
   "execution_count": 30,
   "id": "38cce3f8",
   "metadata": {},
   "outputs": [
    {
     "data": {
      "text/plain": [
       "\"Click ' YES'\""
      ]
     },
     "execution_count": 30,
     "metadata": {},
     "output_type": "execute_result"
    }
   ],
   "source": [
    "\"Click ' YES'\""
   ]
  },
  {
   "cell_type": "markdown",
   "id": "62bac432",
   "metadata": {},
   "source": [
    "# Arithmetic Operation"
   ]
  },
  {
   "cell_type": "markdown",
   "id": "017f4a9e",
   "metadata": {},
   "source": [
    "Combine 10 and 23 and then subtract it"
   ]
  },
  {
   "cell_type": "code",
   "execution_count": 31,
   "id": "079ca776",
   "metadata": {},
   "outputs": [
    {
     "data": {
      "text/plain": [
       "33"
      ]
     },
     "execution_count": 31,
     "metadata": {},
     "output_type": "execute_result"
    }
   ],
   "source": [
    "10 + 23"
   ]
  },
  {
   "cell_type": "code",
   "execution_count": 32,
   "id": "afaa5910",
   "metadata": {},
   "outputs": [
    {
     "data": {
      "text/plain": [
       "13"
      ]
     },
     "execution_count": 32,
     "metadata": {},
     "output_type": "execute_result"
    }
   ],
   "source": [
    "23 - 10"
   ]
  },
  {
   "cell_type": "markdown",
   "id": "e39f4f0f",
   "metadata": {},
   "source": [
    "Divide 20 by 4, Divide 22 by 4,Divide the float 22 by 4, Find remainder of 22/4"
   ]
  },
  {
   "cell_type": "code",
   "execution_count": 34,
   "id": "4db7ef78",
   "metadata": {},
   "outputs": [
    {
     "data": {
      "text/plain": [
       "5.0"
      ]
     },
     "execution_count": 34,
     "metadata": {},
     "output_type": "execute_result"
    }
   ],
   "source": [
    "20 / 4"
   ]
  },
  {
   "cell_type": "code",
   "execution_count": 35,
   "id": "d2f293e6",
   "metadata": {},
   "outputs": [
    {
     "data": {
      "text/plain": [
       "5.5"
      ]
     },
     "execution_count": 35,
     "metadata": {},
     "output_type": "execute_result"
    }
   ],
   "source": [
    "22/ 4"
   ]
  },
  {
   "cell_type": "code",
   "execution_count": 36,
   "id": "47a0b5dc",
   "metadata": {},
   "outputs": [
    {
     "data": {
      "text/plain": [
       "5.5"
      ]
     },
     "execution_count": 36,
     "metadata": {},
     "output_type": "execute_result"
    }
   ],
   "source": [
    "float(22) / 4"
   ]
  },
  {
   "cell_type": "code",
   "execution_count": 37,
   "id": "e7e7e79c",
   "metadata": {},
   "outputs": [
    {
     "data": {
      "text/plain": [
       "2"
      ]
     },
     "execution_count": 37,
     "metadata": {},
     "output_type": "execute_result"
    }
   ],
   "source": [
    "22 % 4"
   ]
  },
  {
   "cell_type": "markdown",
   "id": "ce9f31a1",
   "metadata": {},
   "source": [
    "Multiply 25 by 2 and then, put 2 to the power of 25"
   ]
  },
  {
   "cell_type": "code",
   "execution_count": 39,
   "id": "a6d7d7ea",
   "metadata": {},
   "outputs": [
    {
     "data": {
      "text/plain": [
       "50"
      ]
     },
     "execution_count": 39,
     "metadata": {},
     "output_type": "execute_result"
    }
   ],
   "source": [
    "25 * 2 "
   ]
  },
  {
   "cell_type": "code",
   "execution_count": 41,
   "id": "5c6a617b",
   "metadata": {},
   "outputs": [
    {
     "data": {
      "text/plain": [
       "33554432"
      ]
     },
     "execution_count": 41,
     "metadata": {},
     "output_type": "execute_result"
    }
   ],
   "source": [
    "2 ** 25"
   ]
  },
  {
   "cell_type": "markdown",
   "id": "dd527fc6",
   "metadata": {},
   "source": [
    "# The double-equality sign"
   ]
  },
  {
   "cell_type": "markdown",
   "id": "d3c201d4",
   "metadata": {},
   "source": [
    "Demonstrate that 100 is not equal to 10**3"
   ]
  },
  {
   "cell_type": "code",
   "execution_count": 42,
   "id": "dacc4995",
   "metadata": {},
   "outputs": [
    {
     "data": {
      "text/plain": [
       "False"
      ]
     },
     "execution_count": 42,
     "metadata": {},
     "output_type": "execute_result"
    }
   ],
   "source": [
    "100 == 10 ** 3"
   ]
  },
  {
   "cell_type": "markdown",
   "id": "2fa19b61",
   "metadata": {},
   "source": [
    "# Reassign Values"
   ]
  },
  {
   "cell_type": "markdown",
   "id": "231928ae",
   "metadata": {},
   "source": [
    "Assign the value of 14 to p, calculate p + 20, then assign 25 to p and Calculate p + 55"
   ]
  },
  {
   "cell_type": "code",
   "execution_count": 43,
   "id": "8ce674ea",
   "metadata": {},
   "outputs": [],
   "source": [
    "p = 14"
   ]
  },
  {
   "cell_type": "code",
   "execution_count": 44,
   "id": "82a61384",
   "metadata": {},
   "outputs": [
    {
     "data": {
      "text/plain": [
       "34"
      ]
     },
     "execution_count": 44,
     "metadata": {},
     "output_type": "execute_result"
    }
   ],
   "source": [
    "p + 20"
   ]
  },
  {
   "cell_type": "code",
   "execution_count": 45,
   "id": "366c1e98",
   "metadata": {},
   "outputs": [],
   "source": [
    "p = 25"
   ]
  },
  {
   "cell_type": "code",
   "execution_count": 46,
   "id": "73220a0d",
   "metadata": {},
   "outputs": [
    {
     "data": {
      "text/plain": [
       "80"
      ]
     },
     "execution_count": 46,
     "metadata": {},
     "output_type": "execute_result"
    }
   ],
   "source": [
    "p + 55"
   ]
  },
  {
   "cell_type": "markdown",
   "id": "43df36b8",
   "metadata": {},
   "source": [
    "# Line Continuation"
   ]
  },
  {
   "cell_type": "markdown",
   "id": "bfbf25d4",
   "metadata": {},
   "source": [
    "Add a backslash in the code below, explain the change"
   ]
  },
  {
   "cell_type": "code",
   "execution_count": 47,
   "id": "144721c7",
   "metadata": {},
   "outputs": [
    {
     "data": {
      "text/plain": [
       "-26"
      ]
     },
     "execution_count": 47,
     "metadata": {},
     "output_type": "execute_result"
    }
   ],
   "source": [
    "15 + 31\n",
    "-26"
   ]
  },
  {
   "cell_type": "code",
   "execution_count": 48,
   "id": "ab073538",
   "metadata": {},
   "outputs": [
    {
     "data": {
      "text/plain": [
       "20"
      ]
     },
     "execution_count": 48,
     "metadata": {},
     "output_type": "execute_result"
    }
   ],
   "source": [
    "15 + 31 \\\n",
    "-26"
   ]
  },
  {
   "cell_type": "markdown",
   "id": "727e6895",
   "metadata": {},
   "source": [
    "# Indexing"
   ]
  },
  {
   "cell_type": "markdown",
   "id": "7eae925b",
   "metadata": {},
   "source": [
    "Extract any one letter from your name"
   ]
  },
  {
   "cell_type": "code",
   "execution_count": 49,
   "id": "12ac3e63",
   "metadata": {},
   "outputs": [],
   "source": [
    "Name = ' VANSHIKA'"
   ]
  },
  {
   "cell_type": "code",
   "execution_count": 51,
   "id": "404fae4a",
   "metadata": {},
   "outputs": [
    {
     "data": {
      "text/plain": [
       "'S'"
      ]
     },
     "execution_count": 51,
     "metadata": {},
     "output_type": "execute_result"
    }
   ],
   "source": [
    "Name[4]"
   ]
  },
  {
   "cell_type": "markdown",
   "id": "615b3081",
   "metadata": {},
   "source": [
    "Extract the letter \"u\" from \"Constitution\"."
   ]
  },
  {
   "cell_type": "code",
   "execution_count": 54,
   "id": "c2b23a5b",
   "metadata": {},
   "outputs": [
    {
     "data": {
      "text/plain": [
       "'u'"
      ]
     },
     "execution_count": 54,
     "metadata": {},
     "output_type": "execute_result"
    }
   ],
   "source": [
    "\" Constitution\" [-5]"
   ]
  },
  {
   "cell_type": "code",
   "execution_count": 56,
   "id": "69b9c505",
   "metadata": {},
   "outputs": [
    {
     "data": {
      "text/plain": [
       "'u'"
      ]
     },
     "execution_count": 56,
     "metadata": {},
     "output_type": "execute_result"
    }
   ],
   "source": [
    "\" Constitution\" [8]"
   ]
  },
  {
   "cell_type": "markdown",
   "id": "d2a97452",
   "metadata": {},
   "source": [
    "# Indentation"
   ]
  },
  {
   "cell_type": "markdown",
   "id": "97b496e9",
   "metadata": {},
   "source": [
    "Use indentation properly to print the result of the function with an argument of 3."
   ]
  },
  {
   "cell_type": "code",
   "execution_count": 70,
   "id": "30a8a181",
   "metadata": {},
   "outputs": [
    {
     "name": "stdout",
     "output_type": "stream",
     "text": [
      "10\n"
     ]
    }
   ],
   "source": [
    "def ten(x):\n",
    "    x = 10\n",
    "    return x\n",
    "\n",
    "print(ten(3))"
   ]
  },
  {
   "cell_type": "code",
   "execution_count": null,
   "id": "50fecbe2",
   "metadata": {},
   "outputs": [],
   "source": []
  },
  {
   "cell_type": "markdown",
   "id": "d4a2e5bb",
   "metadata": {},
   "source": [
    "# Operators"
   ]
  },
  {
   "cell_type": "markdown",
   "id": "dfc1efc6",
   "metadata": {},
   "source": [
    "## Comparison Operators"
   ]
  },
  {
   "cell_type": "markdown",
   "id": "89db5be7",
   "metadata": {},
   "source": [
    "Verify that 25 is smaller than 30,\n",
    "\n",
    "Verify that 5 multiplied by 3 is less than or equal to 5 to the power of 3.\n",
    "\n",
    "Verify that 100 is equal to 10 square.\n",
    "\n",
    "Verify that 53 is not equal to 46."
   ]
  },
  {
   "cell_type": "code",
   "execution_count": 71,
   "id": "b503d729",
   "metadata": {},
   "outputs": [
    {
     "data": {
      "text/plain": [
       "True"
      ]
     },
     "execution_count": 71,
     "metadata": {},
     "output_type": "execute_result"
    }
   ],
   "source": [
    "25 < 30"
   ]
  },
  {
   "cell_type": "code",
   "execution_count": 72,
   "id": "90ab6194",
   "metadata": {},
   "outputs": [
    {
     "data": {
      "text/plain": [
       "True"
      ]
     },
     "execution_count": 72,
     "metadata": {},
     "output_type": "execute_result"
    }
   ],
   "source": [
    "5 * 3 <= 5 ** 3"
   ]
  },
  {
   "cell_type": "code",
   "execution_count": 75,
   "id": "88377176",
   "metadata": {},
   "outputs": [
    {
     "data": {
      "text/plain": [
       "False"
      ]
     },
     "execution_count": 75,
     "metadata": {},
     "output_type": "execute_result"
    }
   ],
   "source": [
    "100 == 10 ** 10"
   ]
  },
  {
   "cell_type": "code",
   "execution_count": 76,
   "id": "91613e9c",
   "metadata": {},
   "outputs": [
    {
     "data": {
      "text/plain": [
       "True"
      ]
     },
     "execution_count": 76,
     "metadata": {},
     "output_type": "execute_result"
    }
   ],
   "source": [
    "53 != 46"
   ]
  },
  {
   "cell_type": "markdown",
   "id": "f26a7d79",
   "metadata": {},
   "source": [
    "# Logical and Identity Operators"
   ]
  },
  {
   "cell_type": "markdown",
   "id": "f5333228",
   "metadata": {},
   "source": [
    "Check whether the following code is True of False:\n",
    "\n",
    "False or not True and not False\n",
    "\n",
    "True and not False and True or not False\n",
    "\n",
    "False and True or False"
   ]
  },
  {
   "cell_type": "code",
   "execution_count": 77,
   "id": "2a9ff839",
   "metadata": {},
   "outputs": [
    {
     "data": {
      "text/plain": [
       "False"
      ]
     },
     "execution_count": 77,
     "metadata": {},
     "output_type": "execute_result"
    }
   ],
   "source": [
    "False or not True and not False"
   ]
  },
  {
   "cell_type": "code",
   "execution_count": 78,
   "id": "8805de7d",
   "metadata": {},
   "outputs": [
    {
     "data": {
      "text/plain": [
       "True"
      ]
     },
     "execution_count": 78,
     "metadata": {},
     "output_type": "execute_result"
    }
   ],
   "source": [
    "True and not False and True or not False"
   ]
  },
  {
   "cell_type": "code",
   "execution_count": 79,
   "id": "4d71d7d9",
   "metadata": {},
   "outputs": [
    {
     "data": {
      "text/plain": [
       "False"
      ]
     },
     "execution_count": 79,
     "metadata": {},
     "output_type": "execute_result"
    }
   ],
   "source": [
    "False and True or False"
   ]
  },
  {
   "cell_type": "markdown",
   "id": "84a78f32",
   "metadata": {},
   "source": [
    "# Conditional Statement"
   ]
  },
  {
   "cell_type": "markdown",
   "id": "b0a08bf9",
   "metadata": {},
   "source": [
    "Assign 200 to x. Create the following piece of code: If x > 200, print out \"Big\"; If x > 100 and x <= 200, print out \"Average\"; and If x <= 100, print out \"Small\". Use the If, Elif, and Else keywords in your code."
   ]
  },
  {
   "cell_type": "code",
   "execution_count": 95,
   "id": "3b607b75",
   "metadata": {},
   "outputs": [
    {
     "name": "stdout",
     "output_type": "stream",
     "text": [
      "Average\n"
     ]
    }
   ],
   "source": [
    "x = 200\n",
    "if x > 200 :\n",
    "        print(\"Big\")\n",
    "    \n",
    "elif x>100 and x<=200:\n",
    "        print(\"Average\")\n",
    "        \n",
    "elif x<=100:\n",
    "        print(\"Small\")"
   ]
  },
  {
   "cell_type": "markdown",
   "id": "53c8d79a",
   "metadata": {},
   "source": [
    "# Function"
   ]
  },
  {
   "cell_type": "markdown",
   "id": "21711497",
   "metadata": {},
   "source": [
    "## Using a function in Another Function"
   ]
  },
  {
   "cell_type": "markdown",
   "id": "dacea9ed",
   "metadata": {},
   "source": [
    "Define a function that adds 5 to the parameter. Then, define another function that will multiply the newly obtained number by 3. Verify your code was correct by calling the second function with an argument of 5. Was your output equal to 30?"
   ]
  },
  {
   "cell_type": "code",
   "execution_count": 99,
   "id": "5113ced5",
   "metadata": {},
   "outputs": [
    {
     "data": {
      "text/plain": [
       "20"
      ]
     },
     "execution_count": 99,
     "metadata": {},
     "output_type": "execute_result"
    }
   ],
   "source": [
    "def pluse_10 (x):\n",
    "    x= x+10\n",
    "    return x\n",
    "pluse_10(10)"
   ]
  },
  {
   "cell_type": "markdown",
   "id": "eda18daf",
   "metadata": {},
   "source": [
    "## Combining Conditional Statement and Functions"
   ]
  },
  {
   "cell_type": "markdown",
   "id": "dc80d17c",
   "metadata": {},
   "source": [
    "Define a function, called compare_the_two(), with two arguments. If the first one is greater than the second one, let it print \"Greater\". If the second one is greater, it should print \"Less\". Let it print \"Equal\" if the two values are the same number."
   ]
  },
  {
   "cell_type": "code",
   "execution_count": 103,
   "id": "0e1aff90",
   "metadata": {},
   "outputs": [
    {
     "name": "stdout",
     "output_type": "stream",
     "text": [
      " Less\n"
     ]
    }
   ],
   "source": [
    "def compare (v,s):\n",
    "    if v>s:\n",
    "        print(\" Greater\")\n",
    "        \n",
    "    elif s>v:\n",
    "        print(\" Less\")\n",
    "        \n",
    "    elif v==s:\n",
    "        print(\"Even\")\n",
    "        \n",
    "compare (10,20)"
   ]
  },
  {
   "cell_type": "markdown",
   "id": "1e14137d",
   "metadata": {},
   "source": [
    "Bonus: Define a function that states the value of the argument accompanied by the phrase \"Raised to the power of 2:\" and returns a value equal to its argument raised to the power of 2. This time, use a new variable, called \"result\", in the body of the Function. Call the function with some argument to verify it works properly.\n",
    "\n",
    "Hint: Your knowledge about stating multiple elements on a line can be of great help in solving this exercise!"
   ]
  },
  {
   "cell_type": "code",
   "execution_count": null,
   "id": "1e60a973",
   "metadata": {},
   "outputs": [],
   "source": []
  },
  {
   "cell_type": "markdown",
   "id": "84364c5a",
   "metadata": {},
   "source": [
    "# Notable Built - In Functions in Python"
   ]
  },
  {
   "cell_type": "markdown",
   "id": "dd3479dc",
   "metadata": {},
   "source": [
    "Give example of:\n",
    "1) A built in function which tells the maximum value among numbers\n",
    "2) A built in function which tells the minimum value among numbers\n",
    "3) A function which tells absolute value\n",
    "4) A function which rounds off\n",
    "5) A function which finds sum of a list\n",
    "6) A function which raises power\n",
    "7) A function which tells how many characters are there in your name"
   ]
  },
  {
   "cell_type": "code",
   "execution_count": 104,
   "id": "40bdae70",
   "metadata": {},
   "outputs": [
    {
     "data": {
      "text/plain": [
       "28"
      ]
     },
     "execution_count": 104,
     "metadata": {},
     "output_type": "execute_result"
    }
   ],
   "source": [
    "max(24,28)"
   ]
  },
  {
   "cell_type": "code",
   "execution_count": 105,
   "id": "67b0a070",
   "metadata": {},
   "outputs": [
    {
     "data": {
      "text/plain": [
       "24"
      ]
     },
     "execution_count": 105,
     "metadata": {},
     "output_type": "execute_result"
    }
   ],
   "source": [
    "min(24,28)"
   ]
  },
  {
   "cell_type": "code",
   "execution_count": 107,
   "id": "38292874",
   "metadata": {},
   "outputs": [
    {
     "data": {
      "text/plain": [
       "100"
      ]
     },
     "execution_count": 107,
     "metadata": {},
     "output_type": "execute_result"
    }
   ],
   "source": [
    "abs(-100)"
   ]
  },
  {
   "cell_type": "code",
   "execution_count": 108,
   "id": "d4dbdb70",
   "metadata": {},
   "outputs": [
    {
     "data": {
      "text/plain": [
       "3.46"
      ]
     },
     "execution_count": 108,
     "metadata": {},
     "output_type": "execute_result"
    }
   ],
   "source": [
    "round(3.4567,2)"
   ]
  },
  {
   "cell_type": "code",
   "execution_count": 109,
   "id": "49a90615",
   "metadata": {},
   "outputs": [],
   "source": [
    "list=[10,20,30]"
   ]
  },
  {
   "cell_type": "code",
   "execution_count": 110,
   "id": "9c9bd7f0",
   "metadata": {},
   "outputs": [
    {
     "data": {
      "text/plain": [
       "60"
      ]
     },
     "execution_count": 110,
     "metadata": {},
     "output_type": "execute_result"
    }
   ],
   "source": [
    "sum(list)"
   ]
  },
  {
   "cell_type": "code",
   "execution_count": 111,
   "id": "4a3c0ece",
   "metadata": {},
   "outputs": [
    {
     "data": {
      "text/plain": [
       "243"
      ]
     },
     "execution_count": 111,
     "metadata": {},
     "output_type": "execute_result"
    }
   ],
   "source": [
    "pow(3,5)"
   ]
  },
  {
   "cell_type": "code",
   "execution_count": 112,
   "id": "73e69275",
   "metadata": {},
   "outputs": [
    {
     "data": {
      "text/plain": [
       "8"
      ]
     },
     "execution_count": 112,
     "metadata": {},
     "output_type": "execute_result"
    }
   ],
   "source": [
    "len(\"Vanshika\")"
   ]
  },
  {
   "cell_type": "code",
   "execution_count": null,
   "id": "6e8faaef",
   "metadata": {},
   "outputs": [],
   "source": []
  }
 ],
 "metadata": {
  "kernelspec": {
   "display_name": "Python 3 (ipykernel)",
   "language": "python",
   "name": "python3"
  },
  "language_info": {
   "codemirror_mode": {
    "name": "ipython",
    "version": 3
   },
   "file_extension": ".py",
   "mimetype": "text/x-python",
   "name": "python",
   "nbconvert_exporter": "python",
   "pygments_lexer": "ipython3",
   "version": "3.10.9"
  }
 },
 "nbformat": 4,
 "nbformat_minor": 5
}
