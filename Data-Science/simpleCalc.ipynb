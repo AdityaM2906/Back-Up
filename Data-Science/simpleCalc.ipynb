{
 "cells": [
  {
   "cell_type": "code",
   "execution_count": 2,
   "id": "70434cad",
   "metadata": {},
   "outputs": [
    {
     "name": "stdout",
     "output_type": "stream",
     "text": [
      "First value: 12\n",
      "Mathematical Expression (+,-,*,/)+\n",
      "Second value: 20\n",
      "32.0\n"
     ]
    }
   ],
   "source": [
    "def simpleCalculator(a,b,s):\n",
    "    a = float(a)\n",
    "    b = float(b)\n",
    "    if s==\"+\":\n",
    "        answer = a+b\n",
    "        print(answer)\n",
    "    elif s=='-':\n",
    "        answer = a-b\n",
    "        print(answer)\n",
    "    elif s==\"*\":\n",
    "        answer = a*b\n",
    "        print(answer)\n",
    "    elif s==\"/\":\n",
    "        if b==0:\n",
    "            print(\"Not Possible\")\n",
    "        else:\n",
    "            answer= a/b\n",
    "            print(answer)\n",
    "    else:\n",
    "        print(\"Please enter valid enteries\")\n",
    "\n",
    "a = input (\"First value: \")\n",
    "s = input (\"Mathematical Expression (+,-,*,/)\")\n",
    "b = input (\"Second value: \")\n",
    "\n",
    "simpleCalculator(a,b,s)"
   ]
  },
  {
   "cell_type": "markdown",
   "id": "beb87e6e",
   "metadata": {},
   "source": [
    "# By com"
   ]
  },
  {
   "cell_type": "code",
   "execution_count": 3,
   "id": "43eb8d98",
   "metadata": {},
   "outputs": [
    {
     "name": "stdout",
     "output_type": "stream",
     "text": [
      "Simple Calculator Program\n",
      "Available operations: +, -, *, /\n",
      "Enter the first number: 12\n",
      "Enter the second number: 12\n",
      "Enter the operation (+, -, *, /): *\n",
      "Result:  144.0\n"
     ]
    }
   ],
   "source": [
    "def add(a, b):\n",
    "    return a + b\n",
    "\n",
    "def subtract(a, b):\n",
    "    return a - b\n",
    "\n",
    "def multiply(a, b):\n",
    "    return a * b\n",
    "\n",
    "def divide(a, b):\n",
    "    if b == 0:\n",
    "        print(\"Error: Division by zero is not allowed.\")\n",
    "        return None\n",
    "    return a / b\n",
    "\n",
    "def calculator():\n",
    "    print(\"Simple Calculator Program\")\n",
    "    print(\"Available operations: +, -, *, /\")\n",
    "    a = float(input(\"Enter the first number: \"))\n",
    "    b = float(input(\"Enter the second number: \"))\n",
    "    operation = input(\"Enter the operation (+, -, *, /): \")\n",
    "\n",
    "    if operation == '+':\n",
    "        result = add(a, b)\n",
    "    elif operation == '-':\n",
    "        result = subtract(a, b)\n",
    "    elif operation == '*':\n",
    "        result = multiply(a, b)\n",
    "    elif operation == '/':\n",
    "        result = divide(a, b)\n",
    "    else:\n",
    "        print(\"Error: Invalid operation.\")\n",
    "        return\n",
    "\n",
    "    print(\"Result: \", result)\n",
    "\n",
    "calculator()\n"
   ]
  },
  {
   "cell_type": "code",
   "execution_count": null,
   "id": "c6597a47",
   "metadata": {},
   "outputs": [],
   "source": []
  }
 ],
 "metadata": {
  "kernelspec": {
   "display_name": "Python 3 (ipykernel)",
   "language": "python",
   "name": "python3"
  },
  "language_info": {
   "codemirror_mode": {
    "name": "ipython",
    "version": 3
   },
   "file_extension": ".py",
   "mimetype": "text/x-python",
   "name": "python",
   "nbconvert_exporter": "python",
   "pygments_lexer": "ipython3",
   "version": "3.10.9"
  }
 },
 "nbformat": 4,
 "nbformat_minor": 5
}
