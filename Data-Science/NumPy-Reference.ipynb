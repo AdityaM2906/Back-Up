{
 "cells": [
  {
   "cell_type": "code",
   "execution_count": 1,
   "id": "ae0be7ce",
   "metadata": {},
   "outputs": [],
   "source": [
    "import numpy as np\n",
    "#import numpy"
   ]
  },
  {
   "cell_type": "code",
   "execution_count": 2,
   "id": "34c246f0",
   "metadata": {},
   "outputs": [
    {
     "data": {
      "text/plain": [
       "array([5])"
      ]
     },
     "execution_count": 2,
     "metadata": {},
     "output_type": "execute_result"
    }
   ],
   "source": [
    "s = np.array([5])\n",
    "s\n",
    "#A scalar"
   ]
  },
  {
   "cell_type": "code",
   "execution_count": 3,
   "id": "c5e209c2",
   "metadata": {},
   "outputs": [
    {
     "data": {
      "text/plain": [
       "(1,)"
      ]
     },
     "execution_count": 3,
     "metadata": {},
     "output_type": "execute_result"
    }
   ],
   "source": [
    "s.shape"
   ]
  },
  {
   "cell_type": "code",
   "execution_count": 4,
   "id": "d4519baa",
   "metadata": {},
   "outputs": [
    {
     "data": {
      "text/plain": [
       "array([1, 2, 3, 4, 5])"
      ]
     },
     "execution_count": 4,
     "metadata": {},
     "output_type": "execute_result"
    }
   ],
   "source": [
    "v = np.array([1,2,3,4,5])\n",
    "v\n",
    "# A Vector"
   ]
  },
  {
   "cell_type": "code",
   "execution_count": 5,
   "id": "f254d1b0",
   "metadata": {},
   "outputs": [
    {
     "data": {
      "text/plain": [
       "(5,)"
      ]
     },
     "execution_count": 5,
     "metadata": {},
     "output_type": "execute_result"
    }
   ],
   "source": [
    "v.shape"
   ]
  },
  {
   "cell_type": "code",
   "execution_count": 6,
   "id": "73d9c486",
   "metadata": {},
   "outputs": [
    {
     "data": {
      "text/plain": [
       "array([[1],\n",
       "       [2],\n",
       "       [3],\n",
       "       [4],\n",
       "       [5]])"
      ]
     },
     "execution_count": 6,
     "metadata": {},
     "output_type": "execute_result"
    }
   ],
   "source": [
    "#this is how you reshape a vector\n",
    "v.reshape(5,1)"
   ]
  },
  {
   "cell_type": "code",
   "execution_count": 7,
   "id": "ade43d3c",
   "metadata": {},
   "outputs": [
    {
     "data": {
      "text/plain": [
       "array([[1, 2, 3, 4],\n",
       "       [5, 6, 7, 8]])"
      ]
     },
     "execution_count": 7,
     "metadata": {},
     "output_type": "execute_result"
    }
   ],
   "source": [
    "m = np.array([[1,2,3,4],[5,6,7,8]])\n",
    "m\n",
    "# A metrics"
   ]
  },
  {
   "cell_type": "markdown",
   "id": "03e50572",
   "metadata": {},
   "source": [
    "###### Addititon"
   ]
  },
  {
   "cell_type": "code",
   "execution_count": 8,
   "id": "42a309fc",
   "metadata": {},
   "outputs": [
    {
     "data": {
      "text/plain": [
       "array([[ 8, 16, 14],\n",
       "       [ 8,  9, 12]])"
      ]
     },
     "execution_count": 8,
     "metadata": {},
     "output_type": "execute_result"
    }
   ],
   "source": [
    "m1 = np.array([[7,8,9],[4,5,6]])\n",
    "m2 = np.array([[1,8,5],[4,4,6]])\n",
    "m1 + m2"
   ]
  },
  {
   "cell_type": "markdown",
   "id": "bba04658",
   "metadata": {},
   "source": [
    "Arrays should have same dimensions when performing addition or substraction."
   ]
  },
  {
   "cell_type": "markdown",
   "id": "43652359",
   "metadata": {},
   "source": [
    "###### Multiplication"
   ]
  },
  {
   "cell_type": "code",
   "execution_count": 10,
   "id": "89040b07",
   "metadata": {},
   "outputs": [],
   "source": [
    "#np.dot(m1,m2)\n",
    "#the code won't work\n",
    "#The rule of multiplication is m * n x n * k"
   ]
  },
  {
   "cell_type": "markdown",
   "id": "9f52dda6",
   "metadata": {},
   "source": [
    "###### Create 2 matrics which will multiply "
   ]
  },
  {
   "cell_type": "markdown",
   "id": "358f44cd",
   "metadata": {},
   "source": [
    "###### Transpose\n",
    "Converting rows into col or vise versa"
   ]
  },
  {
   "cell_type": "code",
   "execution_count": 11,
   "id": "da072d6d",
   "metadata": {},
   "outputs": [
    {
     "data": {
      "text/plain": [
       "array([[7, 4],\n",
       "       [8, 5],\n",
       "       [9, 6]])"
      ]
     },
     "execution_count": 11,
     "metadata": {},
     "output_type": "execute_result"
    }
   ],
   "source": [
    "m1.T"
   ]
  }
 ],
 "metadata": {
  "kernelspec": {
   "display_name": "Python 3 (ipykernel)",
   "language": "python",
   "name": "python3"
  },
  "language_info": {
   "codemirror_mode": {
    "name": "ipython",
    "version": 3
   },
   "file_extension": ".py",
   "mimetype": "text/x-python",
   "name": "python",
   "nbconvert_exporter": "python",
   "pygments_lexer": "ipython3",
   "version": "3.10.9"
  }
 },
 "nbformat": 4,
 "nbformat_minor": 5
}
