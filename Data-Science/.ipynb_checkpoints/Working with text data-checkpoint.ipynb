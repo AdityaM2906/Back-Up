{
 "cells": [
  {
   "cell_type": "markdown",
   "id": "c661bc7d",
   "metadata": {},
   "source": [
    "# Working with text data"
   ]
  },
  {
   "cell_type": "code",
   "execution_count": 1,
   "id": "8ad5afd6",
   "metadata": {},
   "outputs": [
    {
     "name": "stdout",
     "output_type": "stream",
     "text": [
      "This item is from from the product category \"$s\"\n"
     ]
    }
   ],
   "source": [
    "product_category = 'A'\n",
    "print('This item is from from the product category \"$s\"')"
   ]
  },
  {
   "cell_type": "markdown",
   "id": "b50b6b69",
   "metadata": {},
   "source": [
    "This shows that currently %s is not carring the meaning which we want it to carry, which is toprint the value 'A', so now we will use MODULUS OPERATOR = %"
   ]
  },
  {
   "cell_type": "code",
   "execution_count": 2,
   "id": "bcb4881f",
   "metadata": {},
   "outputs": [
    {
     "name": "stdout",
     "output_type": "stream",
     "text": [
      "This item is from from the product category \"A\".\n"
     ]
    }
   ],
   "source": [
    "product_category = 'A'\n",
    "print('This item is from from the product category \"%s\".' % product_category)"
   ]
  },
  {
   "cell_type": "markdown",
   "id": "dc6bbafc",
   "metadata": {},
   "source": [
    "Now as we can see the values are being printed as we wanted if you want to change the value in this condition you just need to change the product value and rest will happen automatically."
   ]
  },
  {
   "cell_type": "markdown",
   "id": "b07008cb",
   "metadata": {},
   "source": [
    "Now if we use a list of objects "
   ]
  },
  {
   "cell_type": "code",
   "execution_count": 3,
   "id": "d06596bb",
   "metadata": {},
   "outputs": [
    {
     "name": "stdout",
     "output_type": "stream",
     "text": [
      "This item is from product category \"A\".\n",
      "This item is from product category \"B\".\n"
     ]
    }
   ],
   "source": [
    "product_category = ['A','B']\n",
    "print('This item is from product category \"%s\".' % product_category[0])\n",
    "print('This item is from product category \"%s\".' % product_category[1])"
   ]
  },
  {
   "cell_type": "markdown",
   "id": "4d9afcbe",
   "metadata": {},
   "source": [
    "Now if we are dealing with numbers we use, %d"
   ]
  },
  {
   "cell_type": "code",
   "execution_count": 4,
   "id": "b54773bd",
   "metadata": {},
   "outputs": [
    {
     "name": "stdout",
     "output_type": "stream",
     "text": [
      "We currently have 500 available units of this item.\n",
      "We currently have 100 available units of this item.\n"
     ]
    }
   ],
   "source": [
    "quantities = [100,500]\n",
    "print('We currently have %d available units of this item.' % quantities[1])\n",
    "print('We currently have %d available units of this item.' % quantities[0])"
   ]
  },
  {
   "cell_type": "markdown",
   "id": "68907d92",
   "metadata": {},
   "source": [
    "Now if the numbers are floats"
   ]
  },
  {
   "cell_type": "code",
   "execution_count": 5,
   "id": "07e4a054",
   "metadata": {},
   "outputs": [
    {
     "name": "stdout",
     "output_type": "stream",
     "text": [
      "This stock costs $40.000000 per share.\n",
      "This stock costs $60 per share.\n",
      "This stock costs $50.0 per share.\n"
     ]
    }
   ],
   "source": [
    "stock_share_price_list = [40,50,60,35]\n",
    "print(\"This stock costs $%f per share.\" % stock_share_price_list[0])\n",
    "print(\"This stock costs $%.f per share.\" % stock_share_price_list[2])\n",
    "print(\"This stock costs $%.1f per share.\" % stock_share_price_list[1])"
   ]
  },
  {
   "cell_type": "markdown",
   "id": "8ac05178",
   "metadata": {},
   "source": [
    "What you write in between the $%f decides what will be decimal places"
   ]
  },
  {
   "cell_type": "markdown",
   "id": "f7476a56",
   "metadata": {},
   "source": [
    "Now if we want to specify values together of multiple objects we use"
   ]
  },
  {
   "cell_type": "code",
   "execution_count": 6,
   "id": "db84e031",
   "metadata": {},
   "outputs": [
    {
     "name": "stdout",
     "output_type": "stream",
     "text": [
      "Currently, we have 100 units of category 'A' product in store.\n"
     ]
    }
   ],
   "source": [
    "i = 0\n",
    "print(\"Currently, we have %d units of category '%s' product in store.\" % (quantities[i],product_category[i]))"
   ]
  },
  {
   "cell_type": "markdown",
   "id": "6f52c24d",
   "metadata": {},
   "source": [
    "Now if we want to place a character in a new line we can use \\n"
   ]
  },
  {
   "cell_type": "code",
   "execution_count": 7,
   "id": "9248da7d",
   "metadata": {},
   "outputs": [
    {
     "name": "stdout",
     "output_type": "stream",
     "text": [
      "This product is from \n",
      "Category \"A\"\n"
     ]
    }
   ],
   "source": [
    "print('This product is from \\nCategory \"A\"')\n",
    "#The more \\n you put the more space will be created between the string"
   ]
  },
  {
   "cell_type": "markdown",
   "id": "a1b14a7f",
   "metadata": {},
   "source": [
    "Now if we want tp put a tab we can put \\t"
   ]
  },
  {
   "cell_type": "code",
   "execution_count": 8,
   "id": "fcdf3c55",
   "metadata": {},
   "outputs": [
    {
     "name": "stdout",
     "output_type": "stream",
     "text": [
      "This product is from Category \"A\".\tThat product is from Category \"B\"\n"
     ]
    }
   ],
   "source": [
    "print('This product is from Category \"A\".\\tThat product is from Category \"B\"')"
   ]
  },
  {
   "cell_type": "markdown",
   "id": "ad194931",
   "metadata": {},
   "source": [
    "Now if you want to shift the character we use \\r, it replaces the same number of characters as we request"
   ]
  },
  {
   "cell_type": "code",
   "execution_count": 9,
   "id": "4f40d0ba",
   "metadata": {},
   "outputs": [
    {
     "name": "stdout",
     "output_type": "stream",
     "text": [
      "This product is from Category \"A\". \r",
      "Product 0001\n"
     ]
    }
   ],
   "source": [
    "print('This product is from Category \"A\". \\rProduct 0001')"
   ]
  },
  {
   "cell_type": "markdown",
   "id": "ccc25cb9",
   "metadata": {},
   "source": [
    "# String Methods"
   ]
  },
  {
   "cell_type": "code",
   "execution_count": 10,
   "id": "34a6ff91",
   "metadata": {},
   "outputs": [
    {
     "data": {
      "text/plain": [
       "'Price per unit'"
      ]
     },
     "execution_count": 10,
     "metadata": {},
     "output_type": "execute_result"
    }
   ],
   "source": [
    "s = 'Price per unit'\n",
    "s"
   ]
  },
  {
   "cell_type": "markdown",
   "id": "59e39daa",
   "metadata": {},
   "source": [
    "Now to replace something we will use .replace() method and in () we put what to replace, with what."
   ]
  },
  {
   "cell_type": "code",
   "execution_count": 11,
   "id": "cf11ba07",
   "metadata": {},
   "outputs": [
    {
     "data": {
      "text/plain": [
       "'Cost per unit'"
      ]
     },
     "execution_count": 11,
     "metadata": {},
     "output_type": "execute_result"
    }
   ],
   "source": [
    "s1 = s.replace('Price','Cost')\n",
    "s1"
   ]
  },
  {
   "cell_type": "markdown",
   "id": "2d1e7172",
   "metadata": {},
   "source": [
    ".startwith() method is used to check if the perticular strings starts with the given input. It is useful in String Validation, File Filtering, URL Handling,etc"
   ]
  },
  {
   "cell_type": "code",
   "execution_count": 12,
   "id": "5aa05b8b",
   "metadata": {},
   "outputs": [
    {
     "data": {
      "text/plain": [
       "True"
      ]
     },
     "execution_count": 12,
     "metadata": {},
     "output_type": "execute_result"
    }
   ],
   "source": [
    "s1.startswith('Cost')"
   ]
  },
  {
   "cell_type": "code",
   "execution_count": 13,
   "id": "4e308c4f",
   "metadata": {},
   "outputs": [
    {
     "data": {
      "text/plain": [
       "False"
      ]
     },
     "execution_count": 13,
     "metadata": {},
     "output_type": "execute_result"
    }
   ],
   "source": [
    "s1.startswith('cost')"
   ]
  },
  {
   "cell_type": "markdown",
   "id": "192cd72d",
   "metadata": {},
   "source": [
    "Be very care full while using this method as python is case sensitive\n",
    "\n",
    "Moving on to endswith()"
   ]
  },
  {
   "cell_type": "code",
   "execution_count": 14,
   "id": "10d89da2",
   "metadata": {},
   "outputs": [
    {
     "data": {
      "text/plain": [
       "True"
      ]
     },
     "execution_count": 14,
     "metadata": {},
     "output_type": "execute_result"
    }
   ],
   "source": [
    "s1.endswith('it')"
   ]
  },
  {
   "cell_type": "markdown",
   "id": "afe91765",
   "metadata": {},
   "source": [
    "Now we will see one of the most important method in string manipulation which is .split(): It splits the original string bya aspecified argument and returns a list containing the separate values"
   ]
  },
  {
   "cell_type": "code",
   "execution_count": 15,
   "id": "01c72b1b",
   "metadata": {},
   "outputs": [
    {
     "data": {
      "text/plain": [
       "'Cost per unit'"
      ]
     },
     "execution_count": 15,
     "metadata": {},
     "output_type": "execute_result"
    }
   ],
   "source": [
    "s1"
   ]
  },
  {
   "cell_type": "code",
   "execution_count": 16,
   "id": "8217e3f6",
   "metadata": {},
   "outputs": [
    {
     "data": {
      "text/plain": [
       "['Cost', 'per', 'unit']"
      ]
     },
     "execution_count": 16,
     "metadata": {},
     "output_type": "execute_result"
    }
   ],
   "source": [
    "s1.split()"
   ]
  },
  {
   "cell_type": "code",
   "execution_count": 17,
   "id": "a18bdeae",
   "metadata": {},
   "outputs": [
    {
     "data": {
      "text/plain": [
       "3"
      ]
     },
     "execution_count": 17,
     "metadata": {},
     "output_type": "execute_result"
    }
   ],
   "source": [
    "len(s1.split())"
   ]
  },
  {
   "cell_type": "code",
   "execution_count": 18,
   "id": "9b683a95",
   "metadata": {},
   "outputs": [
    {
     "data": {
      "text/plain": [
       "['Cost', 'per', 'unit']"
      ]
     },
     "execution_count": 18,
     "metadata": {},
     "output_type": "execute_result"
    }
   ],
   "source": [
    "s1.split(' ')"
   ]
  },
  {
   "cell_type": "code",
   "execution_count": 19,
   "id": "96d72a65",
   "metadata": {},
   "outputs": [
    {
     "ename": "ValueError",
     "evalue": "empty separator",
     "output_type": "error",
     "traceback": [
      "\u001b[1;31m---------------------------------------------------------------------------\u001b[0m",
      "\u001b[1;31mValueError\u001b[0m                                Traceback (most recent call last)",
      "Cell \u001b[1;32mIn[19], line 1\u001b[0m\n\u001b[1;32m----> 1\u001b[0m \u001b[43ms1\u001b[49m\u001b[38;5;241;43m.\u001b[39;49m\u001b[43msplit\u001b[49m\u001b[43m(\u001b[49m\u001b[38;5;124;43m'\u001b[39;49m\u001b[38;5;124;43m'\u001b[39;49m\u001b[43m)\u001b[49m\n",
      "\u001b[1;31mValueError\u001b[0m: empty separator"
     ]
    }
   ],
   "source": [
    "s1.split('') \n",
    "#this will show as error cause there is no value\n",
    "#In above cases the empty() shows the max splits and (' ') has a white space as the parameter"
   ]
  },
  {
   "cell_type": "code",
   "execution_count": 20,
   "id": "8dac1ee8",
   "metadata": {},
   "outputs": [
    {
     "data": {
      "text/plain": [
       "['Cost ', ' unit']"
      ]
     },
     "execution_count": 20,
     "metadata": {},
     "output_type": "execute_result"
    }
   ],
   "source": [
    "s1.split('per')"
   ]
  },
  {
   "cell_type": "code",
   "execution_count": 21,
   "id": "f4d42ce9",
   "metadata": {},
   "outputs": [
    {
     "data": {
      "text/plain": [
       "['Cost per unit']"
      ]
     },
     "execution_count": 21,
     "metadata": {},
     "output_type": "execute_result"
    }
   ],
   "source": [
    "s1.split(' ', maxsplit = 0)"
   ]
  },
  {
   "cell_type": "code",
   "execution_count": 22,
   "id": "d5e22445",
   "metadata": {},
   "outputs": [],
   "source": [
    "s2 = 'Mr,John,Karter'"
   ]
  },
  {
   "cell_type": "code",
   "execution_count": 23,
   "id": "b4a7167d",
   "metadata": {},
   "outputs": [
    {
     "data": {
      "text/plain": [
       "['Mr', 'John', 'Karter']"
      ]
     },
     "execution_count": 23,
     "metadata": {},
     "output_type": "execute_result"
    }
   ],
   "source": [
    "s2.split(',')"
   ]
  },
  {
   "cell_type": "code",
   "execution_count": 24,
   "id": "7d2b0ec3",
   "metadata": {},
   "outputs": [
    {
     "data": {
      "text/plain": [
       "'Mr'"
      ]
     },
     "execution_count": 24,
     "metadata": {},
     "output_type": "execute_result"
    }
   ],
   "source": [
    "s2.split(',')[0]"
   ]
  },
  {
   "cell_type": "markdown",
   "id": "1ec87fa4",
   "metadata": {},
   "source": [
    "Thats how split workes"
   ]
  },
  {
   "cell_type": "markdown",
   "id": "25d31611",
   "metadata": {},
   "source": [
    "# String methods that  change case"
   ]
  },
  {
   "cell_type": "code",
   "execution_count": 25,
   "id": "ccd17562",
   "metadata": {},
   "outputs": [],
   "source": [
    "s3 = 'Mr. Aditya Meshram'"
   ]
  },
  {
   "cell_type": "code",
   "execution_count": 26,
   "id": "b8d420a5",
   "metadata": {},
   "outputs": [
    {
     "data": {
      "text/plain": [
       "'MR. ADITYA MESHRAM'"
      ]
     },
     "execution_count": 26,
     "metadata": {},
     "output_type": "execute_result"
    }
   ],
   "source": [
    "s3.upper()"
   ]
  },
  {
   "cell_type": "code",
   "execution_count": 27,
   "id": "d7b36281",
   "metadata": {},
   "outputs": [
    {
     "data": {
      "text/plain": [
       "'mr. aditya meshram'"
      ]
     },
     "execution_count": 27,
     "metadata": {},
     "output_type": "execute_result"
    }
   ],
   "source": [
    "s3.lower()"
   ]
  },
  {
   "cell_type": "code",
   "execution_count": 28,
   "id": "eabdf4cb",
   "metadata": {},
   "outputs": [
    {
     "data": {
      "text/plain": [
       "'Mr. aditya meshram'"
      ]
     },
     "execution_count": 28,
     "metadata": {},
     "output_type": "execute_result"
    }
   ],
   "source": [
    "s3.capitalize()"
   ]
  },
  {
   "cell_type": "code",
   "execution_count": 29,
   "id": "0533cec1",
   "metadata": {},
   "outputs": [
    {
     "data": {
      "text/plain": [
       "'Mr. Aditya Meshram'"
      ]
     },
     "execution_count": 29,
     "metadata": {},
     "output_type": "execute_result"
    }
   ],
   "source": [
    "s3.title()"
   ]
  },
  {
   "cell_type": "markdown",
   "id": "9ddaa295",
   "metadata": {},
   "source": [
    "As you can see the methods .upper(),.lower(),.capitalize(),.title() are used to make the string all upperc case, all lower case, capitalize 1st alphabet, capitalize 1st alphabet of each word."
   ]
  },
  {
   "cell_type": "markdown",
   "id": "5b8b6419",
   "metadata": {},
   "source": [
    "# String methods that can strip"
   ]
  },
  {
   "cell_type": "code",
   "execution_count": 30,
   "id": "2b9a5e43",
   "metadata": {},
   "outputs": [],
   "source": [
    "s4 = ' quarterly earnings report '"
   ]
  },
  {
   "cell_type": "code",
   "execution_count": 31,
   "id": "0e6280f7",
   "metadata": {},
   "outputs": [
    {
     "data": {
      "text/plain": [
       "'quarterly earnings report'"
      ]
     },
     "execution_count": 31,
     "metadata": {},
     "output_type": "execute_result"
    }
   ],
   "source": [
    "s4.strip()"
   ]
  },
  {
   "cell_type": "markdown",
   "id": "bcd885b4",
   "metadata": {},
   "source": [
    "As you can see this method removes white spaces from beginning and end of the string."
   ]
  },
  {
   "cell_type": "code",
   "execution_count": 32,
   "id": "b6682c1e",
   "metadata": {},
   "outputs": [
    {
     "data": {
      "text/plain": [
       "'quarterly earnings report'"
      ]
     },
     "execution_count": 32,
     "metadata": {},
     "output_type": "execute_result"
    }
   ],
   "source": [
    "s4.strip(' ')"
   ]
  },
  {
   "cell_type": "code",
   "execution_count": 33,
   "id": "c35b8a36",
   "metadata": {},
   "outputs": [
    {
     "data": {
      "text/plain": [
       "'uarterly earnings repor'"
      ]
     },
     "execution_count": 33,
     "metadata": {},
     "output_type": "execute_result"
    }
   ],
   "source": [
    "s4.strip(' qt')"
   ]
  },
  {
   "cell_type": "code",
   "execution_count": 34,
   "id": "25875d19",
   "metadata": {},
   "outputs": [
    {
     "data": {
      "text/plain": [
       "' quarterly earnings report '"
      ]
     },
     "execution_count": 34,
     "metadata": {},
     "output_type": "execute_result"
    }
   ],
   "source": [
    "s4.strip('qt') #thats what happens when you dont tell to remove white spaces"
   ]
  },
  {
   "cell_type": "code",
   "execution_count": 35,
   "id": "c5b97133",
   "metadata": {},
   "outputs": [
    {
     "data": {
      "text/plain": [
       "'quarterly earnings report '"
      ]
     },
     "execution_count": 35,
     "metadata": {},
     "output_type": "execute_result"
    }
   ],
   "source": [
    "s4.lstrip()"
   ]
  },
  {
   "cell_type": "code",
   "execution_count": 36,
   "id": "38de021b",
   "metadata": {},
   "outputs": [
    {
     "data": {
      "text/plain": [
       "' quarterly earnings report'"
      ]
     },
     "execution_count": 36,
     "metadata": {},
     "output_type": "execute_result"
    }
   ],
   "source": [
    "s4.rstrip()"
   ]
  },
  {
   "cell_type": "code",
   "execution_count": 37,
   "id": "c3b7ef90",
   "metadata": {},
   "outputs": [
    {
     "data": {
      "text/plain": [
       "'nings repo'"
      ]
     },
     "execution_count": 37,
     "metadata": {},
     "output_type": "execute_result"
    }
   ],
   "source": [
    "#If you want to strip a complete word please be sure that if \n",
    "#Same alphabets from otherwords will be removed\n",
    "s4.strip(' quarterly')\n",
    "#in such situation use below code"
   ]
  },
  {
   "cell_type": "code",
   "execution_count": 38,
   "id": "d5dd5e63",
   "metadata": {},
   "outputs": [
    {
     "data": {
      "text/plain": [
       "'quarterly earnings report'"
      ]
     },
     "execution_count": 38,
     "metadata": {},
     "output_type": "execute_result"
    }
   ],
   "source": [
    "s5 = s4.strip()\n",
    "s5"
   ]
  },
  {
   "cell_type": "code",
   "execution_count": 39,
   "id": "40edbff4",
   "metadata": {},
   "outputs": [
    {
     "data": {
      "text/plain": [
       "' earnings report'"
      ]
     },
     "execution_count": 39,
     "metadata": {},
     "output_type": "execute_result"
    }
   ],
   "source": [
    "s5.lstrip('quarterly')"
   ]
  },
  {
   "cell_type": "code",
   "execution_count": 40,
   "id": "3bfe1876",
   "metadata": {},
   "outputs": [
    {
     "data": {
      "text/plain": [
       "' quarterly earnings report '"
      ]
     },
     "execution_count": 40,
     "metadata": {},
     "output_type": "execute_result"
    }
   ],
   "source": [
    "#Mostly the strip method is used to remove unnecssary symbols from name\n",
    "s6 = \"@#$!%s\" % s4\n",
    "s6.strip('!@#$%^&')"
   ]
  },
  {
   "cell_type": "markdown",
   "id": "a9185135",
   "metadata": {},
   "source": [
    "# String Accessors"
   ]
  },
  {
   "cell_type": "code",
   "execution_count": 41,
   "id": "1f3944fc",
   "metadata": {},
   "outputs": [],
   "source": [
    "#we are using pandas series here so we will import it\n",
    "import pandas as pd"
   ]
  },
  {
   "cell_type": "code",
   "execution_count": 42,
   "id": "74822165",
   "metadata": {},
   "outputs": [
    {
     "data": {
      "text/plain": [
       "0    employee satisfaction rating\n",
       "1             employee churn rate\n",
       "dtype: object"
      ]
     },
     "execution_count": 42,
     "metadata": {},
     "output_type": "execute_result"
    }
   ],
   "source": [
    "operational_kpis = pd.Series([\"employee satisfaction rating\",\n",
    "                              \"employee churn rate\"])\n",
    "operational_kpis"
   ]
  },
  {
   "cell_type": "code",
   "execution_count": 43,
   "id": "4ed2966a",
   "metadata": {},
   "outputs": [
    {
     "ename": "AttributeError",
     "evalue": "'Series' object has no attribute 'lstrip'",
     "output_type": "error",
     "traceback": [
      "\u001b[1;31m---------------------------------------------------------------------------\u001b[0m",
      "\u001b[1;31mAttributeError\u001b[0m                            Traceback (most recent call last)",
      "Cell \u001b[1;32mIn[43], line 1\u001b[0m\n\u001b[1;32m----> 1\u001b[0m \u001b[43moperational_kpis\u001b[49m\u001b[38;5;241;43m.\u001b[39;49m\u001b[43mlstrip\u001b[49m(\u001b[38;5;124m'\u001b[39m\u001b[38;5;124memployee\u001b[39m\u001b[38;5;124m'\u001b[39m)\n",
      "File \u001b[1;32m~\\anaconda3\\lib\\site-packages\\pandas\\core\\generic.py:5989\u001b[0m, in \u001b[0;36mNDFrame.__getattr__\u001b[1;34m(self, name)\u001b[0m\n\u001b[0;32m   5982\u001b[0m \u001b[38;5;28;01mif\u001b[39;00m (\n\u001b[0;32m   5983\u001b[0m     name \u001b[38;5;129;01mnot\u001b[39;00m \u001b[38;5;129;01min\u001b[39;00m \u001b[38;5;28mself\u001b[39m\u001b[38;5;241m.\u001b[39m_internal_names_set\n\u001b[0;32m   5984\u001b[0m     \u001b[38;5;129;01mand\u001b[39;00m name \u001b[38;5;129;01mnot\u001b[39;00m \u001b[38;5;129;01min\u001b[39;00m \u001b[38;5;28mself\u001b[39m\u001b[38;5;241m.\u001b[39m_metadata\n\u001b[0;32m   5985\u001b[0m     \u001b[38;5;129;01mand\u001b[39;00m name \u001b[38;5;129;01mnot\u001b[39;00m \u001b[38;5;129;01min\u001b[39;00m \u001b[38;5;28mself\u001b[39m\u001b[38;5;241m.\u001b[39m_accessors\n\u001b[0;32m   5986\u001b[0m     \u001b[38;5;129;01mand\u001b[39;00m \u001b[38;5;28mself\u001b[39m\u001b[38;5;241m.\u001b[39m_info_axis\u001b[38;5;241m.\u001b[39m_can_hold_identifiers_and_holds_name(name)\n\u001b[0;32m   5987\u001b[0m ):\n\u001b[0;32m   5988\u001b[0m     \u001b[38;5;28;01mreturn\u001b[39;00m \u001b[38;5;28mself\u001b[39m[name]\n\u001b[1;32m-> 5989\u001b[0m \u001b[38;5;28;01mreturn\u001b[39;00m \u001b[38;5;28;43mobject\u001b[39;49m\u001b[38;5;241;43m.\u001b[39;49m\u001b[38;5;21;43m__getattribute__\u001b[39;49m\u001b[43m(\u001b[49m\u001b[38;5;28;43mself\u001b[39;49m\u001b[43m,\u001b[49m\u001b[43m \u001b[49m\u001b[43mname\u001b[49m\u001b[43m)\u001b[49m\n",
      "\u001b[1;31mAttributeError\u001b[0m: 'Series' object has no attribute 'lstrip'"
     ]
    }
   ],
   "source": [
    "operational_kpis.lstrip('employee')"
   ]
  },
  {
   "cell_type": "code",
   "execution_count": 44,
   "id": "a1c53747",
   "metadata": {},
   "outputs": [
    {
     "data": {
      "text/plain": [
       "' satisfaction rating'"
      ]
     },
     "execution_count": 44,
     "metadata": {},
     "output_type": "execute_result"
    }
   ],
   "source": [
    "operational_kpis[0].lstrip('employee')"
   ]
  },
  {
   "cell_type": "code",
   "execution_count": 45,
   "id": "3d65421b",
   "metadata": {},
   "outputs": [
    {
     "data": {
      "text/plain": [
       "' churn rate'"
      ]
     },
     "execution_count": 45,
     "metadata": {},
     "output_type": "execute_result"
    }
   ],
   "source": [
    "operational_kpis[1].lstrip('employee')"
   ]
  },
  {
   "cell_type": "code",
   "execution_count": 46,
   "id": "fd139503",
   "metadata": {},
   "outputs": [
    {
     "data": {
      "text/plain": [
       "0     satisfaction rating\n",
       "1              churn rate\n",
       "dtype: object"
      ]
     },
     "execution_count": 46,
     "metadata": {},
     "output_type": "execute_result"
    }
   ],
   "source": [
    "pd.Series([operational_kpis[0].lstrip('employee'),operational_kpis[1].lstrip('employee')])"
   ]
  },
  {
   "cell_type": "code",
   "execution_count": 47,
   "id": "c59ad77c",
   "metadata": {},
   "outputs": [
    {
     "data": {
      "text/plain": [
       "<pandas.core.strings.accessor.StringMethods at 0x1e0d0827eb0>"
      ]
     },
     "execution_count": 47,
     "metadata": {},
     "output_type": "execute_result"
    }
   ],
   "source": [
    "#but there is a easier way of doing this\n",
    "operational_kpis.str"
   ]
  },
  {
   "cell_type": "code",
   "execution_count": 48,
   "id": "cab44782",
   "metadata": {},
   "outputs": [
    {
     "data": {
      "text/plain": [
       "0    m\n",
       "1    m\n",
       "dtype: object"
      ]
     },
     "execution_count": 48,
     "metadata": {},
     "output_type": "execute_result"
    }
   ],
   "source": [
    "operational_kpis.str[1] # this gives the 1st character"
   ]
  },
  {
   "cell_type": "code",
   "execution_count": 49,
   "id": "6fa13d17",
   "metadata": {},
   "outputs": [
    {
     "data": {
      "text/plain": [
       "'employee churn rate'"
      ]
     },
     "execution_count": 49,
     "metadata": {},
     "output_type": "execute_result"
    }
   ],
   "source": [
    "operational_kpis[1] #this gives the value at 1st position"
   ]
  },
  {
   "cell_type": "code",
   "execution_count": 50,
   "id": "3914214b",
   "metadata": {},
   "outputs": [
    {
     "data": {
      "text/plain": [
       "0     satisfaction rating\n",
       "1              churn rate\n",
       "dtype: object"
      ]
     },
     "execution_count": 50,
     "metadata": {},
     "output_type": "execute_result"
    }
   ],
   "source": [
    "operational_kpis.str.lstrip('employee')"
   ]
  },
  {
   "cell_type": "markdown",
   "id": "28c6699f",
   "metadata": {},
   "source": [
    "what if there not just string but other type of value"
   ]
  },
  {
   "cell_type": "code",
   "execution_count": 51,
   "id": "ec626aa5",
   "metadata": {},
   "outputs": [
    {
     "data": {
      "text/plain": [
       "0    Text_data\n",
       "1           34\n",
       "dtype: object"
      ]
     },
     "execution_count": 51,
     "metadata": {},
     "output_type": "execute_result"
    }
   ],
   "source": [
    "test_series = pd.Series(['Text_data',34])\n",
    "test_series"
   ]
  },
  {
   "cell_type": "code",
   "execution_count": 52,
   "id": "11eabff1",
   "metadata": {},
   "outputs": [
    {
     "data": {
      "text/plain": [
       "0    data\n",
       "1     NaN\n",
       "dtype: object"
      ]
     },
     "execution_count": 52,
     "metadata": {},
     "output_type": "execute_result"
    }
   ],
   "source": [
    "test_series.str.lstrip('Text_')"
   ]
  },
  {
   "cell_type": "markdown",
   "id": "4a1e3785",
   "metadata": {},
   "source": [
    "So this will happen if one of it is not a string"
   ]
  },
  {
   "cell_type": "code",
   "execution_count": 53,
   "id": "f5add437",
   "metadata": {},
   "outputs": [
    {
     "data": {
      "text/plain": [
       "0    data\n",
       "1      34\n",
       "dtype: object"
      ]
     },
     "execution_count": 53,
     "metadata": {},
     "output_type": "execute_result"
    }
   ],
   "source": [
    "#So the way to go is\n",
    "test_series = pd.Series(['Text_data','34'])\n",
    "test_series.str.lstrip('Text_')"
   ]
  },
  {
   "cell_type": "code",
   "execution_count": 54,
   "id": "b435a07c",
   "metadata": {},
   "outputs": [
    {
     "data": {
      "text/plain": [
       "0    $400,000\n",
       "1    $500,000\n",
       "2    $600,000\n",
       "dtype: object"
      ]
     },
     "execution_count": 54,
     "metadata": {},
     "output_type": "execute_result"
    }
   ],
   "source": [
    "house_price = pd.Series(['$400,000','$500,000','$600,000'])\n",
    "house_price"
   ]
  },
  {
   "cell_type": "code",
   "execution_count": 55,
   "id": "ec8416c3",
   "metadata": {},
   "outputs": [
    {
     "data": {
      "text/plain": [
       "0    True\n",
       "1    True\n",
       "2    True\n",
       "dtype: bool"
      ]
     },
     "execution_count": 55,
     "metadata": {},
     "output_type": "execute_result"
    }
   ],
   "source": [
    "house_price.str.contains('$')"
   ]
  },
  {
   "cell_type": "markdown",
   "id": "9c9b9e5f",
   "metadata": {},
   "source": [
    "# Using the .format()"
   ]
  },
  {
   "cell_type": "code",
   "execution_count": 56,
   "id": "038296ff",
   "metadata": {},
   "outputs": [
    {
     "data": {
      "text/plain": [
       "(1, 3, 12)"
      ]
     },
     "execution_count": 56,
     "metadata": {},
     "output_type": "execute_result"
    }
   ],
   "source": [
    "time_horizon = 1,3,12\n",
    "time_horizon"
   ]
  },
  {
   "cell_type": "code",
   "execution_count": 57,
   "id": "298472f9",
   "metadata": {},
   "outputs": [
    {
     "data": {
      "text/plain": [
       "['Product A', 'Product B']"
      ]
     },
     "execution_count": 57,
     "metadata": {},
     "output_type": "execute_result"
    }
   ],
   "source": [
    "product = ['Product A','Product B']\n",
    "product"
   ]
  },
  {
   "cell_type": "code",
   "execution_count": 58,
   "id": "c8cd035a",
   "metadata": {},
   "outputs": [
    {
     "data": {
      "text/plain": [
       "'Expected sales for a period of 12 month(s) for Product B:'"
      ]
     },
     "execution_count": 58,
     "metadata": {},
     "output_type": "execute_result"
    }
   ],
   "source": [
    "'Expected sales for a period of {} month(s) for {}:'.format(12,'Product B')"
   ]
  },
  {
   "cell_type": "code",
   "execution_count": 59,
   "id": "6a27f7a0",
   "metadata": {},
   "outputs": [
    {
     "data": {
      "text/plain": [
       "\"Expected sales for a period of (1, 3, 12) month(s) for ['Product A', 'Product B']:\""
      ]
     },
     "execution_count": 59,
     "metadata": {},
     "output_type": "execute_result"
    }
   ],
   "source": [
    "'Expected sales for a period of {} month(s) for {}:'.format(time_horizon,product)"
   ]
  },
  {
   "cell_type": "code",
   "execution_count": 60,
   "id": "6214a9fa",
   "metadata": {},
   "outputs": [
    {
     "data": {
      "text/plain": [
       "'Expected sales for a period of 12 month(s) for Product B:'"
      ]
     },
     "execution_count": 60,
     "metadata": {},
     "output_type": "execute_result"
    }
   ],
   "source": [
    "'Expected sales for a period of {} month(s) for {}:'.format(time_horizon[2],product[1])"
   ]
  },
  {
   "cell_type": "code",
   "execution_count": 63,
   "id": "88e12488",
   "metadata": {},
   "outputs": [
    {
     "data": {
      "text/plain": [
       "'Expected sales for a period of 12 month(s) for Product B:'"
      ]
     },
     "execution_count": 63,
     "metadata": {},
     "output_type": "execute_result"
    }
   ],
   "source": [
    "'Expected sales for a period of {0} month(s) for {1}:'.format(time_horizon[2],product[1])"
   ]
  },
  {
   "cell_type": "code",
   "execution_count": 64,
   "id": "709b6d4f",
   "metadata": {},
   "outputs": [
    {
     "data": {
      "text/plain": [
       "'Expected sales for a period of Product B month(s) for 12:'"
      ]
     },
     "execution_count": 64,
     "metadata": {},
     "output_type": "execute_result"
    }
   ],
   "source": [
    "'Expected sales for a period of {1} month(s) for {0}:'.format(time_horizon[2],product[1])"
   ]
  },
  {
   "cell_type": "code",
   "execution_count": 65,
   "id": "87896250",
   "metadata": {},
   "outputs": [
    {
     "data": {
      "text/plain": [
       "'Expected sales for a period of 12 month(s) for Product B:'"
      ]
     },
     "execution_count": 65,
     "metadata": {},
     "output_type": "execute_result"
    }
   ],
   "source": [
    "'Expected sales for a period of {t_hor} month(s) for {prod}:'.format(t_hor=12,prod='Product B')\n",
    "#this is actually the most intutitive methods used in python"
   ]
  },
  {
   "cell_type": "code",
   "execution_count": 66,
   "id": "b64f02ff",
   "metadata": {},
   "outputs": [
    {
     "data": {
      "text/plain": [
       "\"Expected sales for a period of 12 month(s) for ['Product A', 'Product B']:\""
      ]
     },
     "execution_count": 66,
     "metadata": {},
     "output_type": "execute_result"
    }
   ],
   "source": [
    "'Expected sales for a period of {t_hor} month(s) for {prod}:'.format(t_hor=12,prod=['Product A','Product B'])"
   ]
  },
  {
   "cell_type": "code",
   "execution_count": 68,
   "id": "f049bc98",
   "metadata": {},
   "outputs": [
    {
     "data": {
      "text/plain": [
       "'Expected sales for a period of 12 month(s) for Product B:'"
      ]
     },
     "execution_count": 68,
     "metadata": {},
     "output_type": "execute_result"
    }
   ],
   "source": [
    "'Expected sales for a period of {t_hor} month(s) for {prod[1]}:'.format(t_hor=12,prod=['Product A','Product B'])"
   ]
  },
  {
   "cell_type": "code",
   "execution_count": 69,
   "id": "f2fe844c",
   "metadata": {},
   "outputs": [
    {
     "data": {
      "text/plain": [
       "'Expected sales for a period of 12 month(s) for Product B:'"
      ]
     },
     "execution_count": 69,
     "metadata": {},
     "output_type": "execute_result"
    }
   ],
   "source": [
    "'Expected sales for a period of {t_hor[2]} month(s) for {prod[1]}:'.format(t_hor=time_horizon,prod=product)"
   ]
  },
  {
   "cell_type": "code",
   "execution_count": 70,
   "id": "5f12f8dd",
   "metadata": {},
   "outputs": [
    {
     "data": {
      "text/plain": [
       "'Expected sales for a period of 12 month(s) for Product B: $10000'"
      ]
     },
     "execution_count": 70,
     "metadata": {},
     "output_type": "execute_result"
    }
   ],
   "source": [
    "'Expected sales for a period of {t_hor} month(s) for {prod[1]}: ${sales}'.format(t_hor=12,prod=['Product A','Product B'], sales = 10000)"
   ]
  },
  {
   "cell_type": "code",
   "execution_count": 71,
   "id": "3219bd1b",
   "metadata": {},
   "outputs": [
    {
     "data": {
      "text/plain": [
       "'Expected sales for a period of 12 month(s) for Product B:'"
      ]
     },
     "execution_count": 71,
     "metadata": {},
     "output_type": "execute_result"
    }
   ],
   "source": [
    "'Expected sales for a period of {0} month(s) for {prod[1]}:'.format(12,prod=['Product A','Product B'])"
   ]
  }
 ],
 "metadata": {
  "kernelspec": {
   "display_name": "Python 3 (ipykernel)",
   "language": "python",
   "name": "python3"
  },
  "language_info": {
   "codemirror_mode": {
    "name": "ipython",
    "version": 3
   },
   "file_extension": ".py",
   "mimetype": "text/x-python",
   "name": "python",
   "nbconvert_exporter": "python",
   "pygments_lexer": "ipython3",
   "version": "3.10.9"
  }
 },
 "nbformat": 4,
 "nbformat_minor": 5
}
