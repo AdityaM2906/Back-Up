{
 "cells": [
  {
   "cell_type": "markdown",
   "id": "eb5ccf83",
   "metadata": {},
   "source": [
    "# Live Project:\n",
    "\n",
    "\n",
    "### Eyeballing information:\n",
    "\n",
    "###### 1.) File format is excel\n",
    "###### 2.) There are 5 sheets: Analysis Summary, Expenses details, Inward Cash Flow. Bank Account Reconsilition, Details\n",
    "###### 3.) Details tells the categorisation of Expence type and Exp Source\n",
    "###### 4.) There are multiple unnecessary blank spaces\n",
    "###### 5.) Expence Detials is based on only counter book (ONLY)\n",
    "###### 6.) The range of Expence data is from 1st Jan 2023 to 21st July 2023\n",
    "###### 7.) Difference in Total Expence(24,20,492) and  Cash Inflow(64,79,004) is 40,58,512\n",
    "\n",
    "\n",
    "### What to do:\n",
    "\n",
    "###### 1.)Using pandas is recommended for data cleaning\n",
    "###### 2.)Check for missing values or missing data\n",
    "###### 3.)Removal of unncessary column is advised\n",
    "###### 4.)Removal of seperation rows in advised\n"
   ]
  },
  {
   "cell_type": "code",
   "execution_count": 1,
   "id": "45914ff9",
   "metadata": {},
   "outputs": [],
   "source": [
    "import pandas as pd #imported pandas\n",
    "import numpy as np #imported numpy\n",
    "np.set_printoptions(suppress = True,\n",
    "                   linewidth = 100,\n",
    "                   precision = 2)"
   ]
  },
  {
   "cell_type": "code",
   "execution_count": 2,
   "id": "59bf5f9a",
   "metadata": {},
   "outputs": [],
   "source": [
    "expense_details = pd.read_excel(\"Sales Summary.xlsx\", sheet_name=\"Expenses details\")"
   ]
  },
  {
   "cell_type": "code",
   "execution_count": 3,
   "id": "f665f3d1",
   "metadata": {},
   "outputs": [
    {
     "data": {
      "text/html": [
       "<div>\n",
       "<style scoped>\n",
       "    .dataframe tbody tr th:only-of-type {\n",
       "        vertical-align: middle;\n",
       "    }\n",
       "\n",
       "    .dataframe tbody tr th {\n",
       "        vertical-align: top;\n",
       "    }\n",
       "\n",
       "    .dataframe thead th {\n",
       "        text-align: right;\n",
       "    }\n",
       "</style>\n",
       "<table border=\"1\" class=\"dataframe\">\n",
       "  <thead>\n",
       "    <tr style=\"text-align: right;\">\n",
       "      <th></th>\n",
       "      <th>Date</th>\n",
       "      <th>Month</th>\n",
       "      <th>Expense Details</th>\n",
       "      <th>Amount</th>\n",
       "      <th>Catagory</th>\n",
       "      <th>Exp Source</th>\n",
       "    </tr>\n",
       "  </thead>\n",
       "  <tbody>\n",
       "    <tr>\n",
       "      <th>0</th>\n",
       "      <td>2023-01-01</td>\n",
       "      <td>Jan</td>\n",
       "      <td>HPGas big 1</td>\n",
       "      <td>1950.0</td>\n",
       "      <td>02_Gas</td>\n",
       "      <td>Counter Book</td>\n",
       "    </tr>\n",
       "    <tr>\n",
       "      <th>1</th>\n",
       "      <td>2023-01-01</td>\n",
       "      <td>Jan</td>\n",
       "      <td>Live singing</td>\n",
       "      <td>5000.0</td>\n",
       "      <td>03_Misc</td>\n",
       "      <td>Counter Book</td>\n",
       "    </tr>\n",
       "    <tr>\n",
       "      <th>2</th>\n",
       "      <td>2023-01-01</td>\n",
       "      <td>Jan</td>\n",
       "      <td>Suraj waiter (Adv Dec)</td>\n",
       "      <td>2000.0</td>\n",
       "      <td>04_Salary</td>\n",
       "      <td>Counter Book</td>\n",
       "    </tr>\n",
       "    <tr>\n",
       "      <th>3</th>\n",
       "      <td>2023-01-01</td>\n",
       "      <td>Jan</td>\n",
       "      <td>Ganesh Kumre (Adv Dec)</td>\n",
       "      <td>500.0</td>\n",
       "      <td>04_Salary</td>\n",
       "      <td>Counter Book</td>\n",
       "    </tr>\n",
       "    <tr>\n",
       "      <th>4</th>\n",
       "      <td>2023-01-01</td>\n",
       "      <td>Jan</td>\n",
       "      <td>Yogesh (Adv Dec)</td>\n",
       "      <td>1000.0</td>\n",
       "      <td>04_Salary</td>\n",
       "      <td>Counter Book</td>\n",
       "    </tr>\n",
       "    <tr>\n",
       "      <th>...</th>\n",
       "      <td>...</td>\n",
       "      <td>...</td>\n",
       "      <td>...</td>\n",
       "      <td>...</td>\n",
       "      <td>...</td>\n",
       "      <td>...</td>\n",
       "    </tr>\n",
       "    <tr>\n",
       "      <th>1122</th>\n",
       "      <td>2023-07-20</td>\n",
       "      <td>July</td>\n",
       "      <td>Yuvraj full sal June</td>\n",
       "      <td>6500.0</td>\n",
       "      <td>04_Salary</td>\n",
       "      <td>Counter Book</td>\n",
       "    </tr>\n",
       "    <tr>\n",
       "      <th>1123</th>\n",
       "      <td>NaT</td>\n",
       "      <td>NaN</td>\n",
       "      <td>NaN</td>\n",
       "      <td>NaN</td>\n",
       "      <td>NaN</td>\n",
       "      <td>NaN</td>\n",
       "    </tr>\n",
       "    <tr>\n",
       "      <th>1124</th>\n",
       "      <td>2023-07-21</td>\n",
       "      <td>July</td>\n",
       "      <td>French fries</td>\n",
       "      <td>380.0</td>\n",
       "      <td>01_Dairy</td>\n",
       "      <td>Counter Book</td>\n",
       "    </tr>\n",
       "    <tr>\n",
       "      <th>1125</th>\n",
       "      <td>2023-07-21</td>\n",
       "      <td>July</td>\n",
       "      <td>Corn 2</td>\n",
       "      <td>240.0</td>\n",
       "      <td>01_Dairy</td>\n",
       "      <td>Counter Book</td>\n",
       "    </tr>\n",
       "    <tr>\n",
       "      <th>1126</th>\n",
       "      <td>2023-07-21</td>\n",
       "      <td>July</td>\n",
       "      <td>Pankaj full sal June</td>\n",
       "      <td>7800.0</td>\n",
       "      <td>04_Salary</td>\n",
       "      <td>Counter Book</td>\n",
       "    </tr>\n",
       "  </tbody>\n",
       "</table>\n",
       "<p>1127 rows × 6 columns</p>\n",
       "</div>"
      ],
      "text/plain": [
       "           Date Month         Expense Details  Amount   Catagory    Exp Source\n",
       "0    2023-01-01   Jan             HPGas big 1  1950.0     02_Gas  Counter Book\n",
       "1    2023-01-01   Jan            Live singing  5000.0    03_Misc  Counter Book\n",
       "2    2023-01-01   Jan  Suraj waiter (Adv Dec)  2000.0  04_Salary  Counter Book\n",
       "3    2023-01-01   Jan  Ganesh Kumre (Adv Dec)   500.0  04_Salary  Counter Book\n",
       "4    2023-01-01   Jan        Yogesh (Adv Dec)  1000.0  04_Salary  Counter Book\n",
       "...         ...   ...                     ...     ...        ...           ...\n",
       "1122 2023-07-20  July    Yuvraj full sal June  6500.0  04_Salary  Counter Book\n",
       "1123        NaT   NaN                     NaN     NaN        NaN           NaN\n",
       "1124 2023-07-21  July            French fries   380.0   01_Dairy  Counter Book\n",
       "1125 2023-07-21  July                  Corn 2   240.0   01_Dairy  Counter Book\n",
       "1126 2023-07-21  July    Pankaj full sal June  7800.0  04_Salary  Counter Book\n",
       "\n",
       "[1127 rows x 6 columns]"
      ]
     },
     "execution_count": 3,
     "metadata": {},
     "output_type": "execute_result"
    }
   ],
   "source": [
    "expense_details"
   ]
  },
  {
   "cell_type": "code",
   "execution_count": 4,
   "id": "6fe1fdd8",
   "metadata": {},
   "outputs": [],
   "source": [
    "expense_details = expense_details.dropna(how='all')\n",
    "#removed unnecessary blank rows"
   ]
  },
  {
   "cell_type": "code",
   "execution_count": 5,
   "id": "1df15c8b",
   "metadata": {},
   "outputs": [
    {
     "data": {
      "text/html": [
       "<div>\n",
       "<style scoped>\n",
       "    .dataframe tbody tr th:only-of-type {\n",
       "        vertical-align: middle;\n",
       "    }\n",
       "\n",
       "    .dataframe tbody tr th {\n",
       "        vertical-align: top;\n",
       "    }\n",
       "\n",
       "    .dataframe thead th {\n",
       "        text-align: right;\n",
       "    }\n",
       "</style>\n",
       "<table border=\"1\" class=\"dataframe\">\n",
       "  <thead>\n",
       "    <tr style=\"text-align: right;\">\n",
       "      <th></th>\n",
       "      <th>Date</th>\n",
       "      <th>Month</th>\n",
       "      <th>Expense Details</th>\n",
       "      <th>Amount</th>\n",
       "      <th>Catagory</th>\n",
       "      <th>Exp Source</th>\n",
       "    </tr>\n",
       "  </thead>\n",
       "  <tbody>\n",
       "    <tr>\n",
       "      <th>0</th>\n",
       "      <td>2023-01-01</td>\n",
       "      <td>Jan</td>\n",
       "      <td>HPGas big 1</td>\n",
       "      <td>1950.0</td>\n",
       "      <td>02_Gas</td>\n",
       "      <td>Counter Book</td>\n",
       "    </tr>\n",
       "    <tr>\n",
       "      <th>1</th>\n",
       "      <td>2023-01-01</td>\n",
       "      <td>Jan</td>\n",
       "      <td>Live singing</td>\n",
       "      <td>5000.0</td>\n",
       "      <td>03_Misc</td>\n",
       "      <td>Counter Book</td>\n",
       "    </tr>\n",
       "    <tr>\n",
       "      <th>2</th>\n",
       "      <td>2023-01-01</td>\n",
       "      <td>Jan</td>\n",
       "      <td>Suraj waiter (Adv Dec)</td>\n",
       "      <td>2000.0</td>\n",
       "      <td>04_Salary</td>\n",
       "      <td>Counter Book</td>\n",
       "    </tr>\n",
       "    <tr>\n",
       "      <th>3</th>\n",
       "      <td>2023-01-01</td>\n",
       "      <td>Jan</td>\n",
       "      <td>Ganesh Kumre (Adv Dec)</td>\n",
       "      <td>500.0</td>\n",
       "      <td>04_Salary</td>\n",
       "      <td>Counter Book</td>\n",
       "    </tr>\n",
       "    <tr>\n",
       "      <th>4</th>\n",
       "      <td>2023-01-01</td>\n",
       "      <td>Jan</td>\n",
       "      <td>Yogesh (Adv Dec)</td>\n",
       "      <td>1000.0</td>\n",
       "      <td>04_Salary</td>\n",
       "      <td>Counter Book</td>\n",
       "    </tr>\n",
       "    <tr>\n",
       "      <th>...</th>\n",
       "      <td>...</td>\n",
       "      <td>...</td>\n",
       "      <td>...</td>\n",
       "      <td>...</td>\n",
       "      <td>...</td>\n",
       "      <td>...</td>\n",
       "    </tr>\n",
       "    <tr>\n",
       "      <th>1121</th>\n",
       "      <td>2023-07-20</td>\n",
       "      <td>July</td>\n",
       "      <td>Ankit July adv</td>\n",
       "      <td>1000.0</td>\n",
       "      <td>04_Salary</td>\n",
       "      <td>Counter Book</td>\n",
       "    </tr>\n",
       "    <tr>\n",
       "      <th>1122</th>\n",
       "      <td>2023-07-20</td>\n",
       "      <td>July</td>\n",
       "      <td>Yuvraj full sal June</td>\n",
       "      <td>6500.0</td>\n",
       "      <td>04_Salary</td>\n",
       "      <td>Counter Book</td>\n",
       "    </tr>\n",
       "    <tr>\n",
       "      <th>1124</th>\n",
       "      <td>2023-07-21</td>\n",
       "      <td>July</td>\n",
       "      <td>French fries</td>\n",
       "      <td>380.0</td>\n",
       "      <td>01_Dairy</td>\n",
       "      <td>Counter Book</td>\n",
       "    </tr>\n",
       "    <tr>\n",
       "      <th>1125</th>\n",
       "      <td>2023-07-21</td>\n",
       "      <td>July</td>\n",
       "      <td>Corn 2</td>\n",
       "      <td>240.0</td>\n",
       "      <td>01_Dairy</td>\n",
       "      <td>Counter Book</td>\n",
       "    </tr>\n",
       "    <tr>\n",
       "      <th>1126</th>\n",
       "      <td>2023-07-21</td>\n",
       "      <td>July</td>\n",
       "      <td>Pankaj full sal June</td>\n",
       "      <td>7800.0</td>\n",
       "      <td>04_Salary</td>\n",
       "      <td>Counter Book</td>\n",
       "    </tr>\n",
       "  </tbody>\n",
       "</table>\n",
       "<p>946 rows × 6 columns</p>\n",
       "</div>"
      ],
      "text/plain": [
       "           Date Month         Expense Details  Amount   Catagory    Exp Source\n",
       "0    2023-01-01   Jan             HPGas big 1  1950.0     02_Gas  Counter Book\n",
       "1    2023-01-01   Jan            Live singing  5000.0    03_Misc  Counter Book\n",
       "2    2023-01-01   Jan  Suraj waiter (Adv Dec)  2000.0  04_Salary  Counter Book\n",
       "3    2023-01-01   Jan  Ganesh Kumre (Adv Dec)   500.0  04_Salary  Counter Book\n",
       "4    2023-01-01   Jan        Yogesh (Adv Dec)  1000.0  04_Salary  Counter Book\n",
       "...         ...   ...                     ...     ...        ...           ...\n",
       "1121 2023-07-20  July          Ankit July adv  1000.0  04_Salary  Counter Book\n",
       "1122 2023-07-20  July    Yuvraj full sal June  6500.0  04_Salary  Counter Book\n",
       "1124 2023-07-21  July            French fries   380.0   01_Dairy  Counter Book\n",
       "1125 2023-07-21  July                  Corn 2   240.0   01_Dairy  Counter Book\n",
       "1126 2023-07-21  July    Pankaj full sal June  7800.0  04_Salary  Counter Book\n",
       "\n",
       "[946 rows x 6 columns]"
      ]
     },
     "execution_count": 5,
     "metadata": {},
     "output_type": "execute_result"
    }
   ],
   "source": [
    "expense_details"
   ]
  },
  {
   "cell_type": "code",
   "execution_count": 6,
   "id": "b05d85b5",
   "metadata": {},
   "outputs": [],
   "source": [
    "expense_details.to_excel(\"Expense-Details.xlsx\", index = False)\n",
    "#created a back-up"
   ]
  },
  {
   "cell_type": "code",
   "execution_count": 7,
   "id": "9871bb7c",
   "metadata": {},
   "outputs": [
    {
     "name": "stderr",
     "output_type": "stream",
     "text": [
      "C:\\Users\\DELL\\AppData\\Local\\Temp\\ipykernel_9736\\1269580459.py:1: SettingWithCopyWarning: \n",
      "A value is trying to be set on a copy of a slice from a DataFrame\n",
      "\n",
      "See the caveats in the documentation: https://pandas.pydata.org/pandas-docs/stable/user_guide/indexing.html#returning-a-view-versus-a-copy\n",
      "  expense_details.drop(\"Month\",axis=1,inplace=True)\n"
     ]
    }
   ],
   "source": [
    "expense_details.drop(\"Month\",axis=1,inplace=True)\n",
    "#No need of months column the dates show the month"
   ]
  },
  {
   "cell_type": "code",
   "execution_count": 8,
   "id": "9b785621",
   "metadata": {},
   "outputs": [
    {
     "data": {
      "text/html": [
       "<div>\n",
       "<style scoped>\n",
       "    .dataframe tbody tr th:only-of-type {\n",
       "        vertical-align: middle;\n",
       "    }\n",
       "\n",
       "    .dataframe tbody tr th {\n",
       "        vertical-align: top;\n",
       "    }\n",
       "\n",
       "    .dataframe thead th {\n",
       "        text-align: right;\n",
       "    }\n",
       "</style>\n",
       "<table border=\"1\" class=\"dataframe\">\n",
       "  <thead>\n",
       "    <tr style=\"text-align: right;\">\n",
       "      <th></th>\n",
       "      <th>Date</th>\n",
       "      <th>Expense Details</th>\n",
       "      <th>Amount</th>\n",
       "      <th>Catagory</th>\n",
       "      <th>Exp Source</th>\n",
       "    </tr>\n",
       "  </thead>\n",
       "  <tbody>\n",
       "    <tr>\n",
       "      <th>0</th>\n",
       "      <td>2023-01-01</td>\n",
       "      <td>HPGas big 1</td>\n",
       "      <td>1950.0</td>\n",
       "      <td>02_Gas</td>\n",
       "      <td>Counter Book</td>\n",
       "    </tr>\n",
       "    <tr>\n",
       "      <th>1</th>\n",
       "      <td>2023-01-01</td>\n",
       "      <td>Live singing</td>\n",
       "      <td>5000.0</td>\n",
       "      <td>03_Misc</td>\n",
       "      <td>Counter Book</td>\n",
       "    </tr>\n",
       "    <tr>\n",
       "      <th>2</th>\n",
       "      <td>2023-01-01</td>\n",
       "      <td>Suraj waiter (Adv Dec)</td>\n",
       "      <td>2000.0</td>\n",
       "      <td>04_Salary</td>\n",
       "      <td>Counter Book</td>\n",
       "    </tr>\n",
       "    <tr>\n",
       "      <th>3</th>\n",
       "      <td>2023-01-01</td>\n",
       "      <td>Ganesh Kumre (Adv Dec)</td>\n",
       "      <td>500.0</td>\n",
       "      <td>04_Salary</td>\n",
       "      <td>Counter Book</td>\n",
       "    </tr>\n",
       "    <tr>\n",
       "      <th>4</th>\n",
       "      <td>2023-01-01</td>\n",
       "      <td>Yogesh (Adv Dec)</td>\n",
       "      <td>1000.0</td>\n",
       "      <td>04_Salary</td>\n",
       "      <td>Counter Book</td>\n",
       "    </tr>\n",
       "    <tr>\n",
       "      <th>...</th>\n",
       "      <td>...</td>\n",
       "      <td>...</td>\n",
       "      <td>...</td>\n",
       "      <td>...</td>\n",
       "      <td>...</td>\n",
       "    </tr>\n",
       "    <tr>\n",
       "      <th>1121</th>\n",
       "      <td>2023-07-20</td>\n",
       "      <td>Ankit July adv</td>\n",
       "      <td>1000.0</td>\n",
       "      <td>04_Salary</td>\n",
       "      <td>Counter Book</td>\n",
       "    </tr>\n",
       "    <tr>\n",
       "      <th>1122</th>\n",
       "      <td>2023-07-20</td>\n",
       "      <td>Yuvraj full sal June</td>\n",
       "      <td>6500.0</td>\n",
       "      <td>04_Salary</td>\n",
       "      <td>Counter Book</td>\n",
       "    </tr>\n",
       "    <tr>\n",
       "      <th>1124</th>\n",
       "      <td>2023-07-21</td>\n",
       "      <td>French fries</td>\n",
       "      <td>380.0</td>\n",
       "      <td>01_Dairy</td>\n",
       "      <td>Counter Book</td>\n",
       "    </tr>\n",
       "    <tr>\n",
       "      <th>1125</th>\n",
       "      <td>2023-07-21</td>\n",
       "      <td>Corn 2</td>\n",
       "      <td>240.0</td>\n",
       "      <td>01_Dairy</td>\n",
       "      <td>Counter Book</td>\n",
       "    </tr>\n",
       "    <tr>\n",
       "      <th>1126</th>\n",
       "      <td>2023-07-21</td>\n",
       "      <td>Pankaj full sal June</td>\n",
       "      <td>7800.0</td>\n",
       "      <td>04_Salary</td>\n",
       "      <td>Counter Book</td>\n",
       "    </tr>\n",
       "  </tbody>\n",
       "</table>\n",
       "<p>946 rows × 5 columns</p>\n",
       "</div>"
      ],
      "text/plain": [
       "           Date         Expense Details  Amount   Catagory    Exp Source\n",
       "0    2023-01-01             HPGas big 1  1950.0     02_Gas  Counter Book\n",
       "1    2023-01-01            Live singing  5000.0    03_Misc  Counter Book\n",
       "2    2023-01-01  Suraj waiter (Adv Dec)  2000.0  04_Salary  Counter Book\n",
       "3    2023-01-01  Ganesh Kumre (Adv Dec)   500.0  04_Salary  Counter Book\n",
       "4    2023-01-01        Yogesh (Adv Dec)  1000.0  04_Salary  Counter Book\n",
       "...         ...                     ...     ...        ...           ...\n",
       "1121 2023-07-20          Ankit July adv  1000.0  04_Salary  Counter Book\n",
       "1122 2023-07-20    Yuvraj full sal June  6500.0  04_Salary  Counter Book\n",
       "1124 2023-07-21            French fries   380.0   01_Dairy  Counter Book\n",
       "1125 2023-07-21                  Corn 2   240.0   01_Dairy  Counter Book\n",
       "1126 2023-07-21    Pankaj full sal June  7800.0  04_Salary  Counter Book\n",
       "\n",
       "[946 rows x 5 columns]"
      ]
     },
     "execution_count": 8,
     "metadata": {},
     "output_type": "execute_result"
    }
   ],
   "source": [
    "expense_details"
   ]
  },
  {
   "cell_type": "code",
   "execution_count": 9,
   "id": "1adcef17",
   "metadata": {},
   "outputs": [],
   "source": [
    "unique_values_exp_src = expense_details[\"Exp Source\"].unique()\n",
    "#checking if there is any other source of expences"
   ]
  },
  {
   "cell_type": "code",
   "execution_count": 10,
   "id": "a8d6e7f0",
   "metadata": {},
   "outputs": [
    {
     "data": {
      "text/plain": [
       "array(['Counter Book'], dtype=object)"
      ]
     },
     "execution_count": 10,
     "metadata": {},
     "output_type": "execute_result"
    }
   ],
   "source": [
    "unique_values_exp_src\n",
    "#Expences are purely recorded with counter book"
   ]
  },
  {
   "cell_type": "code",
   "execution_count": 11,
   "id": "6f0c4d0f",
   "metadata": {},
   "outputs": [
    {
     "name": "stderr",
     "output_type": "stream",
     "text": [
      "C:\\Users\\DELL\\AppData\\Local\\Temp\\ipykernel_9736\\2498295097.py:1: SettingWithCopyWarning: \n",
      "A value is trying to be set on a copy of a slice from a DataFrame\n",
      "\n",
      "See the caveats in the documentation: https://pandas.pydata.org/pandas-docs/stable/user_guide/indexing.html#returning-a-view-versus-a-copy\n",
      "  expense_details.drop(\"Exp Source\", axis=1, inplace=True)\n"
     ]
    }
   ],
   "source": [
    "expense_details.drop(\"Exp Source\", axis=1, inplace=True)"
   ]
  },
  {
   "cell_type": "code",
   "execution_count": 12,
   "id": "3ab71130",
   "metadata": {},
   "outputs": [
    {
     "data": {
      "text/html": [
       "<div>\n",
       "<style scoped>\n",
       "    .dataframe tbody tr th:only-of-type {\n",
       "        vertical-align: middle;\n",
       "    }\n",
       "\n",
       "    .dataframe tbody tr th {\n",
       "        vertical-align: top;\n",
       "    }\n",
       "\n",
       "    .dataframe thead th {\n",
       "        text-align: right;\n",
       "    }\n",
       "</style>\n",
       "<table border=\"1\" class=\"dataframe\">\n",
       "  <thead>\n",
       "    <tr style=\"text-align: right;\">\n",
       "      <th></th>\n",
       "      <th>Date</th>\n",
       "      <th>Expense Details</th>\n",
       "      <th>Amount</th>\n",
       "      <th>Catagory</th>\n",
       "    </tr>\n",
       "  </thead>\n",
       "  <tbody>\n",
       "    <tr>\n",
       "      <th>0</th>\n",
       "      <td>2023-01-01</td>\n",
       "      <td>HPGas big 1</td>\n",
       "      <td>1950.0</td>\n",
       "      <td>02_Gas</td>\n",
       "    </tr>\n",
       "    <tr>\n",
       "      <th>1</th>\n",
       "      <td>2023-01-01</td>\n",
       "      <td>Live singing</td>\n",
       "      <td>5000.0</td>\n",
       "      <td>03_Misc</td>\n",
       "    </tr>\n",
       "    <tr>\n",
       "      <th>2</th>\n",
       "      <td>2023-01-01</td>\n",
       "      <td>Suraj waiter (Adv Dec)</td>\n",
       "      <td>2000.0</td>\n",
       "      <td>04_Salary</td>\n",
       "    </tr>\n",
       "    <tr>\n",
       "      <th>3</th>\n",
       "      <td>2023-01-01</td>\n",
       "      <td>Ganesh Kumre (Adv Dec)</td>\n",
       "      <td>500.0</td>\n",
       "      <td>04_Salary</td>\n",
       "    </tr>\n",
       "    <tr>\n",
       "      <th>4</th>\n",
       "      <td>2023-01-01</td>\n",
       "      <td>Yogesh (Adv Dec)</td>\n",
       "      <td>1000.0</td>\n",
       "      <td>04_Salary</td>\n",
       "    </tr>\n",
       "    <tr>\n",
       "      <th>...</th>\n",
       "      <td>...</td>\n",
       "      <td>...</td>\n",
       "      <td>...</td>\n",
       "      <td>...</td>\n",
       "    </tr>\n",
       "    <tr>\n",
       "      <th>1121</th>\n",
       "      <td>2023-07-20</td>\n",
       "      <td>Ankit July adv</td>\n",
       "      <td>1000.0</td>\n",
       "      <td>04_Salary</td>\n",
       "    </tr>\n",
       "    <tr>\n",
       "      <th>1122</th>\n",
       "      <td>2023-07-20</td>\n",
       "      <td>Yuvraj full sal June</td>\n",
       "      <td>6500.0</td>\n",
       "      <td>04_Salary</td>\n",
       "    </tr>\n",
       "    <tr>\n",
       "      <th>1124</th>\n",
       "      <td>2023-07-21</td>\n",
       "      <td>French fries</td>\n",
       "      <td>380.0</td>\n",
       "      <td>01_Dairy</td>\n",
       "    </tr>\n",
       "    <tr>\n",
       "      <th>1125</th>\n",
       "      <td>2023-07-21</td>\n",
       "      <td>Corn 2</td>\n",
       "      <td>240.0</td>\n",
       "      <td>01_Dairy</td>\n",
       "    </tr>\n",
       "    <tr>\n",
       "      <th>1126</th>\n",
       "      <td>2023-07-21</td>\n",
       "      <td>Pankaj full sal June</td>\n",
       "      <td>7800.0</td>\n",
       "      <td>04_Salary</td>\n",
       "    </tr>\n",
       "  </tbody>\n",
       "</table>\n",
       "<p>946 rows × 4 columns</p>\n",
       "</div>"
      ],
      "text/plain": [
       "           Date         Expense Details  Amount   Catagory\n",
       "0    2023-01-01             HPGas big 1  1950.0     02_Gas\n",
       "1    2023-01-01            Live singing  5000.0    03_Misc\n",
       "2    2023-01-01  Suraj waiter (Adv Dec)  2000.0  04_Salary\n",
       "3    2023-01-01  Ganesh Kumre (Adv Dec)   500.0  04_Salary\n",
       "4    2023-01-01        Yogesh (Adv Dec)  1000.0  04_Salary\n",
       "...         ...                     ...     ...        ...\n",
       "1121 2023-07-20          Ankit July adv  1000.0  04_Salary\n",
       "1122 2023-07-20    Yuvraj full sal June  6500.0  04_Salary\n",
       "1124 2023-07-21            French fries   380.0   01_Dairy\n",
       "1125 2023-07-21                  Corn 2   240.0   01_Dairy\n",
       "1126 2023-07-21    Pankaj full sal June  7800.0  04_Salary\n",
       "\n",
       "[946 rows x 4 columns]"
      ]
     },
     "execution_count": 12,
     "metadata": {},
     "output_type": "execute_result"
    }
   ],
   "source": [
    "expense_details"
   ]
  },
  {
   "cell_type": "code",
   "execution_count": 13,
   "id": "3393704f",
   "metadata": {},
   "outputs": [],
   "source": [
    "unique_values_category = expense_details[\"Catagory\"].unique()"
   ]
  },
  {
   "cell_type": "code",
   "execution_count": 14,
   "id": "89cfb94e",
   "metadata": {
    "scrolled": true
   },
   "outputs": [
    {
     "data": {
      "text/plain": [
       "array(['02_Gas', '03_Misc', '04_Salary', '04_Samaj seva', '03_Petrol', '01_Kirana',\n",
       "       '02_Electric bill', '04_ODC', '03_Cash Return', '01_Dairy', '03_Room Rent', '01_Vegetables',\n",
       "       '01_Non Veg', '04_Salary OT', '03_Maintainance', '01_Egg', '02_Coal', '01_Mutton',\n",
       "       '01_Chicken', '01_Fish'], dtype=object)"
      ]
     },
     "execution_count": 14,
     "metadata": {},
     "output_type": "execute_result"
    }
   ],
   "source": [
    "unique_values_category"
   ]
  },
  {
   "cell_type": "code",
   "execution_count": 15,
   "id": "7d6fb7cf",
   "metadata": {},
   "outputs": [
    {
     "data": {
      "text/plain": [
       "20"
      ]
     },
     "execution_count": 15,
     "metadata": {},
     "output_type": "execute_result"
    }
   ],
   "source": [
    "len(unique_values_category)\n",
    "#So there are in total 20 unique places where the money has been used"
   ]
  },
  {
   "cell_type": "code",
   "execution_count": 16,
   "id": "5e150fb3",
   "metadata": {},
   "outputs": [],
   "source": [
    "unique_values_category_count = expense_details[\"Catagory\"].value_counts()"
   ]
  },
  {
   "cell_type": "code",
   "execution_count": 17,
   "id": "bfdfa421",
   "metadata": {},
   "outputs": [
    {
     "data": {
      "text/plain": [
       "Catagory\n",
       "04_Salary           417\n",
       "03_Petrol           118\n",
       "02_Gas               92\n",
       "03_Misc              84\n",
       "03_Maintainance      35\n",
       "01_Kirana            32\n",
       "04_Samaj seva        29\n",
       "03_Cash Return       28\n",
       "04_ODC               24\n",
       "01_Dairy             18\n",
       "01_Vegetables        17\n",
       "04_Salary OT         15\n",
       "03_Room Rent         11\n",
       "02_Electric bill      9\n",
       "02_Coal               6\n",
       "01_Non Veg            3\n",
       "01_Egg                3\n",
       "01_Chicken            3\n",
       "01_Mutton             1\n",
       "01_Fish               1\n",
       "Name: count, dtype: int64"
      ]
     },
     "execution_count": 17,
     "metadata": {},
     "output_type": "execute_result"
    }
   ],
   "source": [
    "unique_values_category_count\n",
    "#count of the repetation of category"
   ]
  },
  {
   "cell_type": "code",
   "execution_count": 18,
   "id": "9e7cbeab",
   "metadata": {},
   "outputs": [],
   "source": [
    "unique_values_exp_details = expense_details[\"Expense Details\"].unique()\n",
    "#this gives the exact number of unique places where money was spent"
   ]
  },
  {
   "cell_type": "code",
   "execution_count": 19,
   "id": "e2144851",
   "metadata": {},
   "outputs": [
    {
     "data": {
      "text/plain": [
       "637"
      ]
     },
     "execution_count": 19,
     "metadata": {},
     "output_type": "execute_result"
    }
   ],
   "source": [
    "len(unique_values_exp_details)"
   ]
  },
  {
   "cell_type": "code",
   "execution_count": 20,
   "id": "5bdd5084",
   "metadata": {},
   "outputs": [],
   "source": [
    "unique_values_exp_details_count = expense_details[\"Expense Details\"].value_counts()"
   ]
  },
  {
   "cell_type": "code",
   "execution_count": 21,
   "id": "3995b0ee",
   "metadata": {
    "scrolled": true
   },
   "outputs": [
    {
     "data": {
      "text/plain": [
       "Expense Details\n",
       "Bike petrol               45\n",
       "Omni petrol               41\n",
       "HP Gas small 1            24\n",
       "HP gas small 1            19\n",
       "Samaj seva                19\n",
       "                          ..\n",
       "Sarswati bai (Feb adv)     1\n",
       "Omlal (Feb adv)            1\n",
       "Cash return (M4)           1\n",
       "Sumitra Bai (Feb adv)      1\n",
       "Pankaj full sal June       1\n",
       "Name: count, Length: 636, dtype: int64"
      ]
     },
     "execution_count": 21,
     "metadata": {},
     "output_type": "execute_result"
    }
   ],
   "source": [
    "unique_values_exp_details_count"
   ]
  },
  {
   "cell_type": "code",
   "execution_count": 22,
   "id": "ec87eb5f",
   "metadata": {},
   "outputs": [],
   "source": [
    "unique_values_exp_details_count.to_excel(\"Unique-Expense-Details.xlsx\")"
   ]
  },
  {
   "cell_type": "code",
   "execution_count": 23,
   "id": "8b57285a",
   "metadata": {},
   "outputs": [],
   "source": [
    "expense_details.set_index(\"Date\",inplace=True)"
   ]
  },
  {
   "cell_type": "code",
   "execution_count": 24,
   "id": "95ee1f2a",
   "metadata": {
    "scrolled": true
   },
   "outputs": [
    {
     "data": {
      "text/html": [
       "<div>\n",
       "<style scoped>\n",
       "    .dataframe tbody tr th:only-of-type {\n",
       "        vertical-align: middle;\n",
       "    }\n",
       "\n",
       "    .dataframe tbody tr th {\n",
       "        vertical-align: top;\n",
       "    }\n",
       "\n",
       "    .dataframe thead th {\n",
       "        text-align: right;\n",
       "    }\n",
       "</style>\n",
       "<table border=\"1\" class=\"dataframe\">\n",
       "  <thead>\n",
       "    <tr style=\"text-align: right;\">\n",
       "      <th></th>\n",
       "      <th>Expense Details</th>\n",
       "      <th>Amount</th>\n",
       "      <th>Catagory</th>\n",
       "    </tr>\n",
       "    <tr>\n",
       "      <th>Date</th>\n",
       "      <th></th>\n",
       "      <th></th>\n",
       "      <th></th>\n",
       "    </tr>\n",
       "  </thead>\n",
       "  <tbody>\n",
       "    <tr>\n",
       "      <th>2023-01-01</th>\n",
       "      <td>HPGas big 1</td>\n",
       "      <td>1950.0</td>\n",
       "      <td>02_Gas</td>\n",
       "    </tr>\n",
       "    <tr>\n",
       "      <th>2023-01-01</th>\n",
       "      <td>Live singing</td>\n",
       "      <td>5000.0</td>\n",
       "      <td>03_Misc</td>\n",
       "    </tr>\n",
       "    <tr>\n",
       "      <th>2023-01-01</th>\n",
       "      <td>Suraj waiter (Adv Dec)</td>\n",
       "      <td>2000.0</td>\n",
       "      <td>04_Salary</td>\n",
       "    </tr>\n",
       "    <tr>\n",
       "      <th>2023-01-01</th>\n",
       "      <td>Ganesh Kumre (Adv Dec)</td>\n",
       "      <td>500.0</td>\n",
       "      <td>04_Salary</td>\n",
       "    </tr>\n",
       "    <tr>\n",
       "      <th>2023-01-01</th>\n",
       "      <td>Yogesh (Adv Dec)</td>\n",
       "      <td>1000.0</td>\n",
       "      <td>04_Salary</td>\n",
       "    </tr>\n",
       "    <tr>\n",
       "      <th>...</th>\n",
       "      <td>...</td>\n",
       "      <td>...</td>\n",
       "      <td>...</td>\n",
       "    </tr>\n",
       "    <tr>\n",
       "      <th>2023-07-20</th>\n",
       "      <td>Ankit July adv</td>\n",
       "      <td>1000.0</td>\n",
       "      <td>04_Salary</td>\n",
       "    </tr>\n",
       "    <tr>\n",
       "      <th>2023-07-20</th>\n",
       "      <td>Yuvraj full sal June</td>\n",
       "      <td>6500.0</td>\n",
       "      <td>04_Salary</td>\n",
       "    </tr>\n",
       "    <tr>\n",
       "      <th>2023-07-21</th>\n",
       "      <td>French fries</td>\n",
       "      <td>380.0</td>\n",
       "      <td>01_Dairy</td>\n",
       "    </tr>\n",
       "    <tr>\n",
       "      <th>2023-07-21</th>\n",
       "      <td>Corn 2</td>\n",
       "      <td>240.0</td>\n",
       "      <td>01_Dairy</td>\n",
       "    </tr>\n",
       "    <tr>\n",
       "      <th>2023-07-21</th>\n",
       "      <td>Pankaj full sal June</td>\n",
       "      <td>7800.0</td>\n",
       "      <td>04_Salary</td>\n",
       "    </tr>\n",
       "  </tbody>\n",
       "</table>\n",
       "<p>946 rows × 3 columns</p>\n",
       "</div>"
      ],
      "text/plain": [
       "                   Expense Details  Amount   Catagory\n",
       "Date                                                 \n",
       "2023-01-01             HPGas big 1  1950.0     02_Gas\n",
       "2023-01-01            Live singing  5000.0    03_Misc\n",
       "2023-01-01  Suraj waiter (Adv Dec)  2000.0  04_Salary\n",
       "2023-01-01  Ganesh Kumre (Adv Dec)   500.0  04_Salary\n",
       "2023-01-01        Yogesh (Adv Dec)  1000.0  04_Salary\n",
       "...                            ...     ...        ...\n",
       "2023-07-20          Ankit July adv  1000.0  04_Salary\n",
       "2023-07-20    Yuvraj full sal June  6500.0  04_Salary\n",
       "2023-07-21            French fries   380.0   01_Dairy\n",
       "2023-07-21                  Corn 2   240.0   01_Dairy\n",
       "2023-07-21    Pankaj full sal June  7800.0  04_Salary\n",
       "\n",
       "[946 rows x 3 columns]"
      ]
     },
     "execution_count": 24,
     "metadata": {},
     "output_type": "execute_result"
    }
   ],
   "source": [
    "expense_details"
   ]
  },
  {
   "cell_type": "code",
   "execution_count": null,
   "id": "8d884256",
   "metadata": {},
   "outputs": [],
   "source": []
  }
 ],
 "metadata": {
  "kernelspec": {
   "display_name": "Python 3 (ipykernel)",
   "language": "python",
   "name": "python3"
  },
  "language_info": {
   "codemirror_mode": {
    "name": "ipython",
    "version": 3
   },
   "file_extension": ".py",
   "mimetype": "text/x-python",
   "name": "python",
   "nbconvert_exporter": "python",
   "pygments_lexer": "ipython3",
   "version": "3.10.9"
  }
 },
 "nbformat": 4,
 "nbformat_minor": 5
}
