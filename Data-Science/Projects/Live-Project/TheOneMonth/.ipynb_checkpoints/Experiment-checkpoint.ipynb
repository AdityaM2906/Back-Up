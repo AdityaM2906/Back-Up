{
 "cells": [
  {
   "cell_type": "code",
   "execution_count": null,
   "id": "ec0bb670",
   "metadata": {},
   "outputs": [],
   "source": [
    "for items in salesData[\"Expense Details\"].unique():\n",
    "    salesData[salesData[\"Expense Details\"].str.startswith(item)]"
   ]
  },
  {
   "cell_type": "code",
   "execution_count": null,
   "id": "f6e10ec5",
   "metadata": {},
   "outputs": [],
   "source": [
    "pankaj_salary = update_expense_details[update_expense_details[\"Expense Details\"].str.startswith('Pankaj')]"
   ]
  },
  {
   "cell_type": "code",
   "execution_count": 1,
   "id": "267d92eb",
   "metadata": {},
   "outputs": [],
   "source": [
    "import pandas as pd\n",
    "\n",
    "# Create a DataFrame\n",
    "df = pd.DataFrame({\n",
    "    'Date': ['2021-01-01', '2021-01-02', '2021-01-03'],\n",
    "    'Variable': ['A', 'B', 'A'],\n",
    "    'Value': [1, 2, 3]\n",
    "})\n",
    "\n",
    "# Pivot the DataFrame\n",
    "pivoted = df.pivot(index='Date', columns='Variable', values='Value')\n"
   ]
  },
  {
   "cell_type": "code",
   "execution_count": 2,
   "id": "19aa5744",
   "metadata": {},
   "outputs": [
    {
     "data": {
      "text/html": [
       "<div>\n",
       "<style scoped>\n",
       "    .dataframe tbody tr th:only-of-type {\n",
       "        vertical-align: middle;\n",
       "    }\n",
       "\n",
       "    .dataframe tbody tr th {\n",
       "        vertical-align: top;\n",
       "    }\n",
       "\n",
       "    .dataframe thead th {\n",
       "        text-align: right;\n",
       "    }\n",
       "</style>\n",
       "<table border=\"1\" class=\"dataframe\">\n",
       "  <thead>\n",
       "    <tr style=\"text-align: right;\">\n",
       "      <th></th>\n",
       "      <th>Date</th>\n",
       "      <th>Variable</th>\n",
       "      <th>Value</th>\n",
       "    </tr>\n",
       "  </thead>\n",
       "  <tbody>\n",
       "    <tr>\n",
       "      <th>0</th>\n",
       "      <td>2021-01-01</td>\n",
       "      <td>A</td>\n",
       "      <td>1</td>\n",
       "    </tr>\n",
       "    <tr>\n",
       "      <th>1</th>\n",
       "      <td>2021-01-02</td>\n",
       "      <td>B</td>\n",
       "      <td>2</td>\n",
       "    </tr>\n",
       "    <tr>\n",
       "      <th>2</th>\n",
       "      <td>2021-01-03</td>\n",
       "      <td>A</td>\n",
       "      <td>3</td>\n",
       "    </tr>\n",
       "  </tbody>\n",
       "</table>\n",
       "</div>"
      ],
      "text/plain": [
       "         Date Variable  Value\n",
       "0  2021-01-01        A      1\n",
       "1  2021-01-02        B      2\n",
       "2  2021-01-03        A      3"
      ]
     },
     "execution_count": 2,
     "metadata": {},
     "output_type": "execute_result"
    }
   ],
   "source": [
    "df"
   ]
  },
  {
   "cell_type": "code",
   "execution_count": null,
   "id": "804eea1f",
   "metadata": {},
   "outputs": [],
   "source": []
  }
 ],
 "metadata": {
  "kernelspec": {
   "display_name": "Python 3 (ipykernel)",
   "language": "python",
   "name": "python3"
  },
  "language_info": {
   "codemirror_mode": {
    "name": "ipython",
    "version": 3
   },
   "file_extension": ".py",
   "mimetype": "text/x-python",
   "name": "python",
   "nbconvert_exporter": "python",
   "pygments_lexer": "ipython3",
   "version": "3.10.9"
  }
 },
 "nbformat": 4,
 "nbformat_minor": 5
}
