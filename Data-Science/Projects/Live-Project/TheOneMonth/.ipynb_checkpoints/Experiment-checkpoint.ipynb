{
 "cells": [
  {
   "cell_type": "code",
   "execution_count": null,
   "id": "ec0bb670",
   "metadata": {},
   "outputs": [],
   "source": [
    "for items in salesData[\"Expense Details\"].unique():\n",
    "    salesData[salesData[\"Expense Details\"].str.startswith(item)]"
   ]
  },
  {
   "cell_type": "code",
   "execution_count": null,
   "id": "f6e10ec5",
   "metadata": {},
   "outputs": [],
   "source": [
    "pankaj_salary = update_expense_details[update_expense_details[\"Expense Details\"].str.startswith('Pankaj')]"
   ]
  }
 ],
 "metadata": {
  "kernelspec": {
   "display_name": "Python 3 (ipykernel)",
   "language": "python",
   "name": "python3"
  },
  "language_info": {
   "codemirror_mode": {
    "name": "ipython",
    "version": 3
   },
   "file_extension": ".py",
   "mimetype": "text/x-python",
   "name": "python",
   "nbconvert_exporter": "python",
   "pygments_lexer": "ipython3",
   "version": "3.10.9"
  }
 },
 "nbformat": 4,
 "nbformat_minor": 5
}
