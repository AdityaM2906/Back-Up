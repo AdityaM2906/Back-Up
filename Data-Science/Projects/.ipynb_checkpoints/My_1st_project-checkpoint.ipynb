{
 "cells": [
  {
   "cell_type": "markdown",
   "id": "a0d907d3",
   "metadata": {},
   "source": [
    "# Python Program to find the Metadata of a given excel file"
   ]
  },
  {
   "cell_type": "code",
   "execution_count": 1,
   "id": "14edf47e",
   "metadata": {},
   "outputs": [],
   "source": [
    "import pandas as pd"
   ]
  },
  {
   "cell_type": "code",
   "execution_count": 2,
   "id": "9364fb94",
   "metadata": {},
   "outputs": [
    {
     "name": "stdout",
     "output_type": "stream",
     "text": [
      "Please enter the file name or the file path:Test_1.xlsx\n",
      "No. of columns are: 4\n",
      "No. of rows are: 6\n",
      "No. missing data: 0\n",
      "Different Data Types:\n",
      " Name           object\n",
      "Age             int64\n",
      "Gender         object\n",
      "Designation    object\n",
      "dtype: object\n"
     ]
    }
   ],
   "source": [
    "filename = input(\"Please enter the file name or the file path:\")\n",
    "\n",
    "file_meta_data = pd.read_excel(filename)\n",
    "\n",
    "print(\"No. of columns are:\", file_meta_data.shape[1])\n",
    "print(\"No. of rows are:\", file_meta_data.shape[0])\n",
    "print(\"No. missing data:\", file_meta_data.isna().sum().sum())\n",
    "print(\"Different Data Types:\\n\", file_meta_data.dtypes)"
   ]
  },
  {
   "cell_type": "code",
   "execution_count": null,
   "id": "f075fef7",
   "metadata": {},
   "outputs": [],
   "source": []
  },
  {
   "cell_type": "code",
   "execution_count": null,
   "id": "194dcfbd",
   "metadata": {},
   "outputs": [],
   "source": []
  }
 ],
 "metadata": {
  "kernelspec": {
   "display_name": "Python 3 (ipykernel)",
   "language": "python",
   "name": "python3"
  },
  "language_info": {
   "codemirror_mode": {
    "name": "ipython",
    "version": 3
   },
   "file_extension": ".py",
   "mimetype": "text/x-python",
   "name": "python",
   "nbconvert_exporter": "python",
   "pygments_lexer": "ipython3",
   "version": "3.11.5"
  }
 },
 "nbformat": 4,
 "nbformat_minor": 5
}
