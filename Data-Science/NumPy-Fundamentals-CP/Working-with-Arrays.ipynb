{
 "cells": [
  {
   "cell_type": "markdown",
   "id": "9f92913e",
   "metadata": {},
   "source": [
    "## Basic Slicing in NumPy"
   ]
  },
  {
   "cell_type": "code",
   "execution_count": 1,
   "id": "ffeab45d",
   "metadata": {},
   "outputs": [],
   "source": [
    "import numpy as np"
   ]
  },
  {
   "cell_type": "markdown",
   "id": "13c68c95",
   "metadata": {},
   "source": [
    "#### Slicing"
   ]
  },
  {
   "cell_type": "code",
   "execution_count": 2,
   "id": "2558ff8c",
   "metadata": {},
   "outputs": [
    {
     "data": {
      "text/plain": [
       "array([[1, 2, 3],\n",
       "       [4, 5, 6]])"
      ]
     },
     "execution_count": 2,
     "metadata": {},
     "output_type": "execute_result"
    }
   ],
   "source": [
    "matrix_a = np.array([[1,2,3],[4,5,6]])\n",
    "matrix_a"
   ]
  },
  {
   "cell_type": "markdown",
   "id": "80147b0e",
   "metadata": {},
   "source": [
    "#### Basic Slicing\n",
    "Creating a new array by taking chunks of values out of the existing one\n",
    "###### Slice: It contains entire rows and columns of the original array, or just part of them"
   ]
  },
  {
   "cell_type": "code",
   "execution_count": 3,
   "id": "807bc4ef",
   "metadata": {},
   "outputs": [
    {
     "data": {
      "text/plain": [
       "array([[1, 2, 3],\n",
       "       [4, 5, 6]])"
      ]
     },
     "execution_count": 3,
     "metadata": {},
     "output_type": "execute_result"
    }
   ],
   "source": [
    "matrix_a[:]\n",
    "#this shows all the rows and columns"
   ]
  },
  {
   "cell_type": "code",
   "execution_count": 4,
   "id": "5ef193e3",
   "metadata": {},
   "outputs": [
    {
     "data": {
      "text/plain": [
       "array([], shape=(0, 3), dtype=int32)"
      ]
     },
     "execution_count": 4,
     "metadata": {},
     "output_type": "execute_result"
    }
   ],
   "source": [
    "matrix_a[0:0]\n",
    "#this shows an empty array but it still has 3 columns"
   ]
  },
  {
   "cell_type": "code",
   "execution_count": 5,
   "id": "44810f7c",
   "metadata": {},
   "outputs": [
    {
     "data": {
      "text/plain": [
       "array([[1, 2, 3]])"
      ]
     },
     "execution_count": 5,
     "metadata": {},
     "output_type": "execute_result"
    }
   ],
   "source": [
    "matrix_a[0:1]\n",
    "#[0:1] signifies all the values before row of index 1\n",
    "# We don't use upper limit"
   ]
  },
  {
   "cell_type": "code",
   "execution_count": 6,
   "id": "9798822f",
   "metadata": {},
   "outputs": [
    {
     "data": {
      "text/plain": [
       "array([[1, 2, 3],\n",
       "       [4, 5, 6]])"
      ]
     },
     "execution_count": 6,
     "metadata": {},
     "output_type": "execute_result"
    }
   ],
   "source": [
    "matrix_a[0:2]"
   ]
  },
  {
   "cell_type": "code",
   "execution_count": 7,
   "id": "2d2a8baf",
   "metadata": {},
   "outputs": [
    {
     "data": {
      "text/plain": [
       "array([[1, 2, 3],\n",
       "       [4, 5, 6]])"
      ]
     },
     "execution_count": 7,
     "metadata": {},
     "output_type": "execute_result"
    }
   ],
   "source": [
    "matrix_a[:,:]\n",
    "#This prints the complete matrix"
   ]
  },
  {
   "cell_type": "code",
   "execution_count": 8,
   "id": "54a8b532",
   "metadata": {},
   "outputs": [
    {
     "data": {
      "text/plain": [
       "array([[4, 5, 6]])"
      ]
     },
     "execution_count": 8,
     "metadata": {},
     "output_type": "execute_result"
    }
   ],
   "source": [
    "#Similarly\n",
    "matrix_a[1:]\n",
    "#[1:] tells from where to start and print till the end"
   ]
  },
  {
   "cell_type": "code",
   "execution_count": 9,
   "id": "84e54888",
   "metadata": {},
   "outputs": [
    {
     "data": {
      "text/plain": [
       "array([], shape=(0, 3), dtype=int32)"
      ]
     },
     "execution_count": 9,
     "metadata": {},
     "output_type": "execute_result"
    }
   ],
   "source": [
    "matrix_a[2:]\n",
    "#Since there is no index 2 row"
   ]
  },
  {
   "cell_type": "code",
   "execution_count": 10,
   "id": "ec69b91a",
   "metadata": {},
   "outputs": [
    {
     "data": {
      "text/plain": [
       "array([[1, 2, 3],\n",
       "       [4, 5, 6]])"
      ]
     },
     "execution_count": 10,
     "metadata": {},
     "output_type": "execute_result"
    }
   ],
   "source": [
    "matrix_a[:2]\n",
    "#even this gives full matrix as there are only index till 1"
   ]
  },
  {
   "cell_type": "code",
   "execution_count": 11,
   "id": "31a824d7",
   "metadata": {},
   "outputs": [
    {
     "data": {
      "text/plain": [
       "array([[1, 2, 3]])"
      ]
     },
     "execution_count": 11,
     "metadata": {},
     "output_type": "execute_result"
    }
   ],
   "source": [
    "matrix_a[:1]\n",
    "# this is 2D slicing"
   ]
  },
  {
   "cell_type": "code",
   "execution_count": 12,
   "id": "39cadcbc",
   "metadata": {},
   "outputs": [
    {
     "data": {
      "text/plain": [
       "array([1, 2, 3])"
      ]
     },
     "execution_count": 12,
     "metadata": {},
     "output_type": "execute_result"
    }
   ],
   "source": [
    "#on the other side\n",
    "matrix_a[0]\n",
    "#this is 1D slicing"
   ]
  },
  {
   "cell_type": "markdown",
   "id": "853f51c3",
   "metadata": {},
   "source": [
    "So the numerical values are identical <b>BUT</b> the output vary in dimension"
   ]
  },
  {
   "cell_type": "code",
   "execution_count": 13,
   "id": "2111c88f",
   "metadata": {},
   "outputs": [
    {
     "data": {
      "text/plain": [
       "array([[1, 2, 3]])"
      ]
     },
     "execution_count": 13,
     "metadata": {},
     "output_type": "execute_result"
    }
   ],
   "source": [
    "#lets use negative index\n",
    "matrix_a[:-1]"
   ]
  },
  {
   "cell_type": "code",
   "execution_count": 14,
   "id": "4273f5b5",
   "metadata": {},
   "outputs": [
    {
     "data": {
      "text/plain": [
       "array([[2, 3],\n",
       "       [5, 6]])"
      ]
     },
     "execution_count": 14,
     "metadata": {},
     "output_type": "execute_result"
    }
   ],
   "source": [
    "#lets see columns\n",
    "matrix_a[:,1:]"
   ]
  },
  {
   "cell_type": "code",
   "execution_count": 15,
   "id": "12df8041",
   "metadata": {},
   "outputs": [
    {
     "data": {
      "text/plain": [
       "array([[5, 6]])"
      ]
     },
     "execution_count": 15,
     "metadata": {},
     "output_type": "execute_result"
    }
   ],
   "source": [
    "#Now let's seperate values\n",
    "matrix_a[1:,1:]"
   ]
  },
  {
   "cell_type": "markdown",
   "id": "0e507c8f",
   "metadata": {},
   "source": [
    "### Stepwise Slicing\n",
    "This is the type of Slicing where we don't take consecutive values, we take values which are a certain distance apart"
   ]
  },
  {
   "cell_type": "code",
   "execution_count": 16,
   "id": "a24e11bf",
   "metadata": {},
   "outputs": [
    {
     "data": {
      "text/plain": [
       "array([[1, 1, 1, 2, 0],\n",
       "       [3, 6, 6, 7, 4],\n",
       "       [4, 5, 3, 8, 0]])"
      ]
     },
     "execution_count": 16,
     "metadata": {},
     "output_type": "execute_result"
    }
   ],
   "source": [
    "matrix_B = np.array([[1,1,1,2,0],[3,6,6,7,4],[4,5,3,8,0]])\n",
    "matrix_B"
   ]
  },
  {
   "cell_type": "code",
   "execution_count": 17,
   "id": "176f5523",
   "metadata": {},
   "outputs": [
    {
     "data": {
      "text/plain": [
       "array([[1, 1, 1, 2, 0],\n",
       "       [3, 6, 6, 7, 4],\n",
       "       [4, 5, 3, 8, 0]])"
      ]
     },
     "execution_count": 17,
     "metadata": {},
     "output_type": "execute_result"
    }
   ],
   "source": [
    "matrix_B[:,:]"
   ]
  },
  {
   "cell_type": "code",
   "execution_count": 18,
   "id": "c1a6bf10",
   "metadata": {},
   "outputs": [
    {
     "data": {
      "text/plain": [
       "array([[1, 1, 1, 2, 0],\n",
       "       [3, 6, 6, 7, 4],\n",
       "       [4, 5, 3, 8, 0]])"
      ]
     },
     "execution_count": 18,
     "metadata": {},
     "output_type": "execute_result"
    }
   ],
   "source": [
    "matrix_B[::,::]\n",
    "#here start:stop:step is what the :: signifies"
   ]
  },
  {
   "cell_type": "code",
   "execution_count": 19,
   "id": "3d072b6b",
   "metadata": {
    "scrolled": true
   },
   "outputs": [
    {
     "data": {
      "text/plain": [
       "array([[1, 1, 1, 2, 0],\n",
       "       [4, 5, 3, 8, 0]])"
      ]
     },
     "execution_count": 19,
     "metadata": {},
     "output_type": "execute_result"
    }
   ],
   "source": [
    "matrix_B[::2,::]"
   ]
  },
  {
   "cell_type": "code",
   "execution_count": 20,
   "id": "07e2fca2",
   "metadata": {
    "scrolled": true
   },
   "outputs": [
    {
     "data": {
      "text/plain": [
       "array([[1, 1, 0],\n",
       "       [3, 6, 4],\n",
       "       [4, 3, 0]])"
      ]
     },
     "execution_count": 20,
     "metadata": {},
     "output_type": "execute_result"
    }
   ],
   "source": [
    "matrix_B[::,::2]"
   ]
  },
  {
   "cell_type": "code",
   "execution_count": 21,
   "id": "ca492616",
   "metadata": {
    "scrolled": true
   },
   "outputs": [
    {
     "data": {
      "text/plain": [
       "array([[1, 1, 0],\n",
       "       [4, 3, 0]])"
      ]
     },
     "execution_count": 21,
     "metadata": {},
     "output_type": "execute_result"
    }
   ],
   "source": [
    "matrix_B[::2,::2]"
   ]
  },
  {
   "cell_type": "code",
   "execution_count": 22,
   "id": "52265119",
   "metadata": {},
   "outputs": [
    {
     "data": {
      "text/plain": [
       "array([[4, 3, 0],\n",
       "       [3, 6, 4],\n",
       "       [1, 1, 0]])"
      ]
     },
     "execution_count": 22,
     "metadata": {},
     "output_type": "execute_result"
    }
   ],
   "source": [
    "#Step value can be positive or Negative but can never be ZERO\n",
    "#By default we're starting from the bottom of the matrix and moving up\n",
    "matrix_B[-1::-1,::2]"
   ]
  },
  {
   "cell_type": "code",
   "execution_count": 23,
   "id": "163b6314",
   "metadata": {},
   "outputs": [
    {
     "data": {
      "text/plain": [
       "array([[0, 8, 3, 5, 4],\n",
       "       [4, 7, 6, 6, 3],\n",
       "       [0, 2, 1, 1, 1]])"
      ]
     },
     "execution_count": 23,
     "metadata": {},
     "output_type": "execute_result"
    }
   ],
   "source": [
    "matrix_B[-1::-1,-1::-1]"
   ]
  },
  {
   "cell_type": "code",
   "execution_count": 24,
   "id": "35cb7593",
   "metadata": {},
   "outputs": [
    {
     "data": {
      "text/plain": [
       "array([[1, 1, 1, 2, 0],\n",
       "       [3, 6, 6, 7, 4],\n",
       "       [4, 5, 3, 8, 0]])"
      ]
     },
     "execution_count": 24,
     "metadata": {},
     "output_type": "execute_result"
    }
   ],
   "source": [
    "matrix_B"
   ]
  },
  {
   "cell_type": "markdown",
   "id": "97a91a9f",
   "metadata": {},
   "source": [
    "### Conditional Slicing"
   ]
  },
  {
   "cell_type": "code",
   "execution_count": 25,
   "id": "ecdc6b13",
   "metadata": {},
   "outputs": [
    {
     "data": {
      "text/plain": [
       "array([[1, 1, 1, 2, 0],\n",
       "       [3, 6, 6, 7, 4],\n",
       "       [4, 5, 3, 8, 9]])"
      ]
     },
     "execution_count": 25,
     "metadata": {},
     "output_type": "execute_result"
    }
   ],
   "source": [
    "matrix_C = np.array([[1,1,1,2,0],[3,6,6,7,4],[4,5,3,8,9]])\n",
    "matrix_C"
   ]
  },
  {
   "cell_type": "code",
   "execution_count": 26,
   "id": "677e74a6",
   "metadata": {},
   "outputs": [
    {
     "data": {
      "text/plain": [
       "array([1, 3, 4])"
      ]
     },
     "execution_count": 26,
     "metadata": {},
     "output_type": "execute_result"
    }
   ],
   "source": [
    "matrix_C[:,0]"
   ]
  },
  {
   "cell_type": "code",
   "execution_count": 27,
   "id": "ed7b6ec9",
   "metadata": {},
   "outputs": [
    {
     "data": {
      "text/plain": [
       "array([False,  True,  True])"
      ]
     },
     "execution_count": 27,
     "metadata": {},
     "output_type": "execute_result"
    }
   ],
   "source": [
    "matrix_C[:,0] > 2\n",
    "#this is conditional slicing"
   ]
  },
  {
   "cell_type": "code",
   "execution_count": 28,
   "id": "62fe5001",
   "metadata": {},
   "outputs": [
    {
     "data": {
      "text/plain": [
       "array([[False, False, False, False, False],\n",
       "       [ True,  True,  True,  True,  True],\n",
       "       [ True,  True,  True,  True,  True]])"
      ]
     },
     "execution_count": 28,
     "metadata": {},
     "output_type": "execute_result"
    }
   ],
   "source": [
    "matrix_C[:,:] > 2"
   ]
  },
  {
   "cell_type": "code",
   "execution_count": 29,
   "id": "7563219e",
   "metadata": {},
   "outputs": [
    {
     "data": {
      "text/plain": [
       "array([3, 6, 6, 7, 4, 4, 5, 3, 8, 9])"
      ]
     },
     "execution_count": 29,
     "metadata": {},
     "output_type": "execute_result"
    }
   ],
   "source": [
    "#If we want to know the exact values which satisfy the conditon\n",
    "#We need to write the conditional part as an index\n",
    "matrix_C[matrix_C[:,:] > 2]"
   ]
  },
  {
   "cell_type": "markdown",
   "id": "3f624ee8",
   "metadata": {},
   "source": [
    "<b>The reason why the output is a 1-D array:</b>\n",
    "\n",
    "<b>1.) NumPy doesn't know how many of the elements would fit this condition</b>\n",
    "\n",
    "<b>2.) Python takes the flattened array (which is 1-D) and applies the condition on it</b>\n",
    "\n",
    "\n",
    "All types of condition <,>,<=,>=,!=,==\n",
    "Are applicable"
   ]
  },
  {
   "cell_type": "code",
   "execution_count": 30,
   "id": "601704a1",
   "metadata": {},
   "outputs": [
    {
     "data": {
      "text/plain": [
       "array([2, 0, 6, 6, 4, 4, 8])"
      ]
     },
     "execution_count": 30,
     "metadata": {},
     "output_type": "execute_result"
    }
   ],
   "source": [
    "matrix_C[matrix_C[:,:] % 2 == 0]"
   ]
  },
  {
   "cell_type": "code",
   "execution_count": 31,
   "id": "d793c514",
   "metadata": {},
   "outputs": [
    {
     "data": {
      "text/plain": [
       "array([2, 0, 4, 4])"
      ]
     },
     "execution_count": 31,
     "metadata": {},
     "output_type": "execute_result"
    }
   ],
   "source": [
    "#Even multiple conditions are possible\n",
    "matrix_C[(matrix_C[:,:] % 2 == 0) & (matrix_C[:,:] <= 4)]\n",
    "# & == and "
   ]
  },
  {
   "cell_type": "code",
   "execution_count": 32,
   "id": "385bb6ee",
   "metadata": {},
   "outputs": [
    {
     "data": {
      "text/plain": [
       "array([1, 1, 1, 2, 0, 3, 6, 6, 4, 4, 3, 8])"
      ]
     },
     "execution_count": 32,
     "metadata": {},
     "output_type": "execute_result"
    }
   ],
   "source": [
    "matrix_C[(matrix_C[:,:] % 2 == 0) | (matrix_C[:,:] <= 4)]\n",
    "# | = or"
   ]
  },
  {
   "cell_type": "markdown",
   "id": "5c6ad740",
   "metadata": {},
   "source": [
    "### Dimensions and the Squeeze Function"
   ]
  },
  {
   "cell_type": "code",
   "execution_count": 35,
   "id": "a8e9f8b3",
   "metadata": {},
   "outputs": [
    {
     "data": {
      "text/plain": [
       "array([[1, 1, 1, 2, 0],\n",
       "       [3, 6, 6, 7, 4],\n",
       "       [4, 5, 3, 8, 0]])"
      ]
     },
     "execution_count": 35,
     "metadata": {},
     "output_type": "execute_result"
    }
   ],
   "source": [
    "matrix_D = np.array([[1,1,1,2,0],[3,6,6,7,4],[4,5,3,8,0]])\n",
    "matrix_D\n"
   ]
  },
  {
   "cell_type": "code",
   "execution_count": 36,
   "id": "9801ba0e",
   "metadata": {},
   "outputs": [
    {
     "data": {
      "text/plain": [
       "numpy.int32"
      ]
     },
     "execution_count": 36,
     "metadata": {},
     "output_type": "execute_result"
    }
   ],
   "source": [
    "type(matrix_D[0,0])"
   ]
  },
  {
   "cell_type": "code",
   "execution_count": 37,
   "id": "c74a263d",
   "metadata": {},
   "outputs": [
    {
     "name": "stdout",
     "output_type": "stream",
     "text": [
      "1\n"
     ]
    }
   ],
   "source": [
    "print(matrix_D[0,0])"
   ]
  },
  {
   "cell_type": "code",
   "execution_count": 39,
   "id": "bbd4944c",
   "metadata": {},
   "outputs": [
    {
     "data": {
      "text/plain": [
       "numpy.ndarray"
      ]
     },
     "execution_count": 39,
     "metadata": {},
     "output_type": "execute_result"
    }
   ],
   "source": [
    "type(matrix_D[0,0:1])"
   ]
  },
  {
   "cell_type": "code",
   "execution_count": 40,
   "id": "1aba0805",
   "metadata": {},
   "outputs": [
    {
     "name": "stdout",
     "output_type": "stream",
     "text": [
      "[1]\n"
     ]
    }
   ],
   "source": [
    "print(matrix_D[0,0:1])"
   ]
  },
  {
   "cell_type": "code",
   "execution_count": 41,
   "id": "2b2ae937",
   "metadata": {},
   "outputs": [
    {
     "data": {
      "text/plain": [
       "numpy.ndarray"
      ]
     },
     "execution_count": 41,
     "metadata": {},
     "output_type": "execute_result"
    }
   ],
   "source": [
    "type(matrix_D[0:1,0:1])"
   ]
  },
  {
   "cell_type": "code",
   "execution_count": 42,
   "id": "b9fd575b",
   "metadata": {},
   "outputs": [
    {
     "name": "stdout",
     "output_type": "stream",
     "text": [
      "[[1]]\n"
     ]
    }
   ],
   "source": [
    "print(matrix_D[0:1,0:1])"
   ]
  },
  {
   "cell_type": "code",
   "execution_count": 44,
   "id": "c881ea8d",
   "metadata": {},
   "outputs": [
    {
     "name": "stdout",
     "output_type": "stream",
     "text": [
      "()\n",
      "(1,)\n",
      "(1, 1)\n"
     ]
    }
   ],
   "source": [
    "print(matrix_D[0,0].shape)\n",
    "print(matrix_D[0,0:1].shape)\n",
    "print(matrix_D[0:1,0:1].shape)"
   ]
  },
  {
   "cell_type": "markdown",
   "id": "bc50218f",
   "metadata": {},
   "source": [
    "This gives us the ability to store a perticular value in different dimension or size, which is necessary while using certain functions or methods\n",
    "\n",
    "But it's necessary to be consistent while working with array"
   ]
  },
  {
   "cell_type": "code",
   "execution_count": 46,
   "id": "ef978db1",
   "metadata": {},
   "outputs": [
    {
     "data": {
      "text/plain": [
       "array(1)"
      ]
     },
     "execution_count": 46,
     "metadata": {},
     "output_type": "execute_result"
    }
   ],
   "source": [
    "matrix_D[0:1,0:1].squeeze()\n",
    "#When we squeeze an array along all its axes, we get a single numeric value"
   ]
  },
  {
   "cell_type": "code",
   "execution_count": 48,
   "id": "8763e9c9",
   "metadata": {},
   "outputs": [
    {
     "data": {
      "text/plain": [
       "()"
      ]
     },
     "execution_count": 48,
     "metadata": {},
     "output_type": "execute_result"
    }
   ],
   "source": [
    "matrix_D[0:1,0:1].squeeze().shape"
   ]
  },
  {
   "cell_type": "code",
   "execution_count": 49,
   "id": "47156328",
   "metadata": {},
   "outputs": [
    {
     "name": "stdout",
     "output_type": "stream",
     "text": [
      "1\n"
     ]
    }
   ],
   "source": [
    "print(matrix_D[0:1,0:1].squeeze())"
   ]
  },
  {
   "cell_type": "code",
   "execution_count": 50,
   "id": "bd3460d6",
   "metadata": {},
   "outputs": [
    {
     "data": {
      "text/plain": [
       "array(1)"
      ]
     },
     "execution_count": 50,
     "metadata": {},
     "output_type": "execute_result"
    }
   ],
   "source": [
    "#Another way of using squeeze is\n",
    "np.squeeze(matrix_D[0:1,0:1])"
   ]
  },
  {
   "cell_type": "code",
   "execution_count": 52,
   "id": "3e710f48",
   "metadata": {},
   "outputs": [
    {
     "name": "stdout",
     "output_type": "stream",
     "text": [
      "()\n",
      "()\n",
      "()\n"
     ]
    }
   ],
   "source": [
    "print(matrix_D[0,0].squeeze().shape)#squeeze should be before shape\n",
    "print(matrix_D[0,0:1].squeeze().shape)#cause shape is an attribute\n",
    "print(matrix_D[0:1,0:1].squeeze().shape)"
   ]
  },
  {
   "cell_type": "markdown",
   "id": "4fc54a98",
   "metadata": {},
   "source": [
    "<b>IN CONCLUSION:</b>\n",
    "\n",
    "As long as we apply the squeeze method of function we can use any slicing variation to get the same chunk of data \n",
    "\n",
    "[x,y]  [x, y:y+1]  [x:x+1,y]  [x:x+1, y:y+1]"
   ]
  },
  {
   "cell_type": "code",
   "execution_count": null,
   "id": "24c79a05",
   "metadata": {},
   "outputs": [],
   "source": []
  }
 ],
 "metadata": {
  "kernelspec": {
   "display_name": "Python 3 (ipykernel)",
   "language": "python",
   "name": "python3"
  },
  "language_info": {
   "codemirror_mode": {
    "name": "ipython",
    "version": 3
   },
   "file_extension": ".py",
   "mimetype": "text/x-python",
   "name": "python",
   "nbconvert_exporter": "python",
   "pygments_lexer": "ipython3",
   "version": "3.10.9"
  }
 },
 "nbformat": 4,
 "nbformat_minor": 5
}
