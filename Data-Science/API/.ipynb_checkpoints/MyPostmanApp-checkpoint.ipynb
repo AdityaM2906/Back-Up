{
 "cells": [
  {
   "cell_type": "code",
   "execution_count": 1,
   "id": "6ca3b4ca",
   "metadata": {},
   "outputs": [],
   "source": [
    "def findURL():\n",
    "    import requests\n",
    "    baseUrl = input(\"Please enter base url: \")\n",
    "    endpoint = input(\"Please enter endpoint: \")\n",
    "    query = input(\"Please enter query: \")\n",
    "    URL = requests.get(baseUrl + endpoint + query)\n",
    "    info=URL.json()\n",
    "    return info\n"
   ]
  },
  {
   "cell_type": "code",
   "execution_count": 4,
   "id": "4739e302",
   "metadata": {},
   "outputs": [
    {
     "name": "stdout",
     "output_type": "stream",
     "text": [
      "Please enter base url: https://api.wheretheiss.at/v1/satellites/25544\n",
      "Please enter endpoint: \n",
      "Please enter query: \n"
     ]
    },
    {
     "data": {
      "text/plain": [
       "{'name': 'iss',\n",
       " 'id': 25544,\n",
       " 'latitude': -5.400211690634,\n",
       " 'longitude': -117.85265216941,\n",
       " 'altitude': 417.95668578006,\n",
       " 'velocity': 27584.700957152,\n",
       " 'visibility': 'eclipsed',\n",
       " 'footprint': 4497.0533517916,\n",
       " 'timestamp': 1692356887,\n",
       " 'daynum': 2460174.9639699,\n",
       " 'solar_lat': 13.096285051249,\n",
       " 'solar_lon': 13.95590443626,\n",
       " 'units': 'kilometers'}"
      ]
     },
     "execution_count": 4,
     "metadata": {},
     "output_type": "execute_result"
    }
   ],
   "source": [
    "findURL()"
   ]
  },
  {
   "cell_type": "code",
   "execution_count": null,
   "id": "c55823ce",
   "metadata": {},
   "outputs": [],
   "source": []
  }
 ],
 "metadata": {
  "kernelspec": {
   "display_name": "Python 3 (ipykernel)",
   "language": "python",
   "name": "python3"
  },
  "language_info": {
   "codemirror_mode": {
    "name": "ipython",
    "version": 3
   },
   "file_extension": ".py",
   "mimetype": "text/x-python",
   "name": "python",
   "nbconvert_exporter": "python",
   "pygments_lexer": "ipython3",
   "version": "3.10.9"
  }
 },
 "nbformat": 4,
 "nbformat_minor": 5
}
