{
 "cells": [
  {
   "cell_type": "markdown",
   "id": "e84b923c",
   "metadata": {},
   "source": [
    "## Nested for Loops"
   ]
  },
  {
   "cell_type": "code",
   "execution_count": 1,
   "id": "aeef27da",
   "metadata": {},
   "outputs": [
    {
     "name": "stdout",
     "output_type": "stream",
     "text": [
      "[0, 0]\n",
      "[0, 1]\n",
      "[0, 2]\n",
      "[0, 3]\n",
      "[0, 4]\n",
      "[1, 0]\n",
      "[1, 1]\n",
      "[1, 2]\n",
      "[1, 3]\n",
      "[1, 4]\n"
     ]
    }
   ],
   "source": [
    "for i in range(2):\n",
    "    for j in range(5):\n",
    "        print([i,j])"
   ]
  },
  {
   "cell_type": "markdown",
   "id": "de1ab04d",
   "metadata": {},
   "source": [
    "Here i and j are iterator and range() iterable. Now j loop is nested in i loop. The simple explanation to this loop functioning is the outer loop(i) took the first value went in the inner loop (j) and got exicuted till the inner  loop was exausted. And it happened as many time as the values in outer loop."
   ]
  },
  {
   "cell_type": "code",
   "execution_count": 2,
   "id": "bb431122",
   "metadata": {},
   "outputs": [
    {
     "name": "stdout",
     "output_type": "stream",
     "text": [
      "['Product A', 0]\n",
      "['Product A', 1]\n",
      "['Product A', 2]\n",
      "['Product A', 3]\n",
      "['Product A', 4]\n",
      "['Product B', 0]\n",
      "['Product B', 1]\n",
      "['Product B', 2]\n",
      "['Product B', 3]\n",
      "['Product B', 4]\n"
     ]
    }
   ],
   "source": [
    "for i in ['Product A','Product B']:\n",
    "    for j in range(5):\n",
    "        print([i,j])"
   ]
  },
  {
   "cell_type": "code",
   "execution_count": 3,
   "id": "7ce6ebe2",
   "metadata": {},
   "outputs": [
    {
     "name": "stdout",
     "output_type": "stream",
     "text": [
      "['Product A', 10000]\n",
      "['Product A', 11000]\n",
      "['Product A', 12000]\n",
      "['Product A', 13000]\n",
      "['Product A', 14000]\n",
      "['Product B', 10000]\n",
      "['Product B', 11000]\n",
      "['Product B', 12000]\n",
      "['Product B', 13000]\n",
      "['Product B', 14000]\n"
     ]
    }
   ],
   "source": [
    "#The prefered way to do it is:\n",
    "product = [\"Product A\",\"Product B\"]\n",
    "exp_sales = [10000,11000,12000,13000,14000]\n",
    "for i in product:\n",
    "    for j in exp_sales:\n",
    "        print([i,j])"
   ]
  },
  {
   "cell_type": "markdown",
   "id": "2abdb27c",
   "metadata": {},
   "source": [
    "### Triple nested loop"
   ]
  },
  {
   "cell_type": "code",
   "execution_count": 4,
   "id": "b07ceaf5",
   "metadata": {},
   "outputs": [
    {
     "name": "stdout",
     "output_type": "stream",
     "text": [
      "['Product A', 10000]\n",
      "['Product A', 30000]\n",
      "['Product A', 120000]\n",
      "['Product A', 11000]\n",
      "['Product A', 33000]\n",
      "['Product A', 132000]\n",
      "['Product A', 12000]\n",
      "['Product A', 36000]\n",
      "['Product A', 144000]\n",
      "['Product A', 13000]\n",
      "['Product A', 39000]\n",
      "['Product A', 156000]\n",
      "['Product A', 14000]\n",
      "['Product A', 42000]\n",
      "['Product A', 168000]\n",
      "['Product B', 10000]\n",
      "['Product B', 30000]\n",
      "['Product B', 120000]\n",
      "['Product B', 11000]\n",
      "['Product B', 33000]\n",
      "['Product B', 132000]\n",
      "['Product B', 12000]\n",
      "['Product B', 36000]\n",
      "['Product B', 144000]\n",
      "['Product B', 13000]\n",
      "['Product B', 39000]\n",
      "['Product B', 156000]\n",
      "['Product B', 14000]\n",
      "['Product B', 42000]\n",
      "['Product B', 168000]\n"
     ]
    }
   ],
   "source": [
    "product = [\"Product A\",\"Product B\"]\n",
    "exp_sales = [10000,11000,12000,13000,14000]\n",
    "time_horizon = (1,3,12)\n",
    "for i in product:\n",
    "    for j in exp_sales:\n",
    "        for k in time_horizon:\n",
    "            print([i,j*k])"
   ]
  },
  {
   "cell_type": "code",
   "execution_count": 5,
   "id": "efc643ac",
   "metadata": {},
   "outputs": [
    {
     "name": "stdout",
     "output_type": "stream",
     "text": [
      "Expected sales for a period of 1 month(s) for Product A: $10000\n",
      "Expected sales for a period of 3 month(s) for Product A: $30000\n",
      "Expected sales for a period of 12 month(s) for Product A: $120000\n",
      "Expected sales for a period of 1 month(s) for Product A: $11000\n",
      "Expected sales for a period of 3 month(s) for Product A: $33000\n",
      "Expected sales for a period of 12 month(s) for Product A: $132000\n",
      "Expected sales for a period of 1 month(s) for Product A: $12000\n",
      "Expected sales for a period of 3 month(s) for Product A: $36000\n",
      "Expected sales for a period of 12 month(s) for Product A: $144000\n",
      "Expected sales for a period of 1 month(s) for Product A: $13000\n",
      "Expected sales for a period of 3 month(s) for Product A: $39000\n",
      "Expected sales for a period of 12 month(s) for Product A: $156000\n",
      "Expected sales for a period of 1 month(s) for Product A: $14000\n",
      "Expected sales for a period of 3 month(s) for Product A: $42000\n",
      "Expected sales for a period of 12 month(s) for Product A: $168000\n",
      "Expected sales for a period of 1 month(s) for Product B: $10000\n",
      "Expected sales for a period of 3 month(s) for Product B: $30000\n",
      "Expected sales for a period of 12 month(s) for Product B: $120000\n",
      "Expected sales for a period of 1 month(s) for Product B: $11000\n",
      "Expected sales for a period of 3 month(s) for Product B: $33000\n",
      "Expected sales for a period of 12 month(s) for Product B: $132000\n",
      "Expected sales for a period of 1 month(s) for Product B: $12000\n",
      "Expected sales for a period of 3 month(s) for Product B: $36000\n",
      "Expected sales for a period of 12 month(s) for Product B: $144000\n",
      "Expected sales for a period of 1 month(s) for Product B: $13000\n",
      "Expected sales for a period of 3 month(s) for Product B: $39000\n",
      "Expected sales for a period of 12 month(s) for Product B: $156000\n",
      "Expected sales for a period of 1 month(s) for Product B: $14000\n",
      "Expected sales for a period of 3 month(s) for Product B: $42000\n",
      "Expected sales for a period of 12 month(s) for Product B: $168000\n"
     ]
    }
   ],
   "source": [
    "#Now to make it more standard\n",
    "\n",
    "product = [\"Product A\",\"Product B\"]\n",
    "exp_sales = [10000,11000,12000,13000,14000]\n",
    "time_horizon = (1,3,12)\n",
    "\n",
    "for prod in product:\n",
    "    for sale in exp_sales:\n",
    "        for t_hor in time_horizon:\n",
    "            print('Expected sales for a period of {0} month(s) for {1}: ${sales}'.format(t_hor,\n",
    "                                                                                         prod,\n",
    "                                                                                         sales = sale * t_hor))"
   ]
  },
  {
   "cell_type": "markdown",
   "id": "fca2d5bf",
   "metadata": {},
   "source": [
    "But using loop is considered a non-Pythonic way of doing it the Pythonioc way of doing it is using <b>List Comprehension</b>"
   ]
  },
  {
   "cell_type": "markdown",
   "id": "26621058",
   "metadata": {},
   "source": [
    "### List Comprehension\n",
    "\n",
    "So the foramt of the same is:\n",
    "\n",
    "[An output expression/a formule/ for an  element/iterator variable/ in iterable /the sequesnce/]"
   ]
  },
  {
   "cell_type": "code",
   "execution_count": 6,
   "id": "a8ab575a",
   "metadata": {},
   "outputs": [
    {
     "data": {
      "text/plain": [
       "[1, 13, 4, 5, 63, 100]"
      ]
     },
     "execution_count": 6,
     "metadata": {},
     "output_type": "execute_result"
    }
   ],
   "source": [
    "numbers = [1,13,4,5,63,100]\n",
    "numbers"
   ]
  },
  {
   "cell_type": "code",
   "execution_count": 7,
   "id": "d239baea",
   "metadata": {},
   "outputs": [
    {
     "name": "stdout",
     "output_type": "stream",
     "text": [
      "[2, 26, 8, 10, 126, 200]\n"
     ]
    }
   ],
   "source": [
    "new_number = []\n",
    "\n",
    "for n in numbers:\n",
    "    new_number.append(n*2)\n",
    "    \n",
    "print(new_number)"
   ]
  },
  {
   "cell_type": "code",
   "execution_count": 8,
   "id": "1a53b08c",
   "metadata": {},
   "outputs": [
    {
     "name": "stdout",
     "output_type": "stream",
     "text": [
      "[2, 26, 8, 10, 126, 200]\n"
     ]
    }
   ],
   "source": [
    "new_number = [n*2 for n  in numbers]\n",
    "print(new_number)\n",
    "#As you can see a list comprehension is easy to read, and quick to write\n",
    "#The output is directly in a list"
   ]
  },
  {
   "cell_type": "code",
   "execution_count": 9,
   "id": "d5f56dd4",
   "metadata": {},
   "outputs": [
    {
     "name": "stdout",
     "output_type": "stream",
     "text": [
      "0 1 2 3 4 1 2 3 4 5 "
     ]
    }
   ],
   "source": [
    "for i in range(2):\n",
    "    for j in range(5):\n",
    "        print(i + j, end  = \" \")"
   ]
  },
  {
   "cell_type": "code",
   "execution_count": 11,
   "id": "37db73fa",
   "metadata": {},
   "outputs": [
    {
     "data": {
      "text/plain": [
       "[0, 1, 2, 3, 4, 1, 2, 3, 4, 5]"
      ]
     },
     "execution_count": 11,
     "metadata": {},
     "output_type": "execute_result"
    }
   ],
   "source": [
    "new_list_compre_1 = [i + j for i in range(2) for j in range(5)]\n",
    "new_list_compre_1"
   ]
  },
  {
   "cell_type": "code",
   "execution_count": 12,
   "id": "3e262f6c",
   "metadata": {},
   "outputs": [
    {
     "data": {
      "text/plain": [
       "list"
      ]
     },
     "execution_count": 12,
     "metadata": {},
     "output_type": "execute_result"
    }
   ],
   "source": [
    "type(new_list_compre_1)"
   ]
  },
  {
   "cell_type": "code",
   "execution_count": 22,
   "id": "dfd85b66",
   "metadata": {},
   "outputs": [],
   "source": [
    "new_list_compre_2 = [[i + j for i in range(2)] for j in range(5)]"
   ]
  },
  {
   "cell_type": "code",
   "execution_count": 23,
   "id": "5f66de9b",
   "metadata": {},
   "outputs": [
    {
     "data": {
      "text/plain": [
       "[[0, 1], [1, 2], [2, 3], [3, 4], [4, 5]]"
      ]
     },
     "execution_count": 23,
     "metadata": {},
     "output_type": "execute_result"
    }
   ],
   "source": [
    "new_list_compre_2"
   ]
  },
  {
   "cell_type": "code",
   "execution_count": 24,
   "id": "a5222e2e",
   "metadata": {},
   "outputs": [
    {
     "name": "stdout",
     "output_type": "stream",
     "text": [
      "1 27 125 343 729 "
     ]
    }
   ],
   "source": [
    "for i in range (1,11):\n",
    "    if i % 2 != 0:\n",
    "        print(i**3, end =' ')"
   ]
  },
  {
   "cell_type": "code",
   "execution_count": 26,
   "id": "a7c62a35",
   "metadata": {},
   "outputs": [
    {
     "data": {
      "text/plain": [
       "[1, 27, 125, 343, 729]"
      ]
     },
     "execution_count": 26,
     "metadata": {},
     "output_type": "execute_result"
    }
   ],
   "source": [
    "#We can put conditions on the output and on the iterable in the list comprehension\n",
    "list_com_3 = [num ** 3 for num in range(1,11) if num % 2 != 0]\n",
    "list_com_3\n",
    "# In this we are putting conditon on iterable"
   ]
  },
  {
   "cell_type": "code",
   "execution_count": 27,
   "id": "7f81f9da",
   "metadata": {},
   "outputs": [],
   "source": [
    "#Now let's put condition on the output\n",
    "list_com_4 = [num**3 if num % 2 != 0 else \"even\" for num in range(1,11)]"
   ]
  },
  {
   "cell_type": "code",
   "execution_count": 28,
   "id": "71738d7f",
   "metadata": {},
   "outputs": [
    {
     "data": {
      "text/plain": [
       "[1, 'even', 27, 'even', 125, 'even', 343, 'even', 729, 'even']"
      ]
     },
     "execution_count": 28,
     "metadata": {},
     "output_type": "execute_result"
    }
   ],
   "source": [
    "list_com_4"
   ]
  },
  {
   "cell_type": "markdown",
   "id": "4bf61da8",
   "metadata": {},
   "source": [
    "<b>List Comprehension is a powerful tool and is a great example of high-quality coded BUT it requires more memory and runs very slow as compared to loops.</b>"
   ]
  },
  {
   "cell_type": "markdown",
   "id": "33798fe5",
   "metadata": {},
   "source": [
    "## Lambda Functions in Python\n",
    "\n",
    "Lambda expression is a Pythons syntax for creating anonymous (Lambda) functions\n",
    "\n",
    "It is mostly used in cases in which you will prefer not to define a whole new function and create a function that will allow you to focus on the function itself"
   ]
  },
  {
   "cell_type": "code",
   "execution_count": 29,
   "id": "c929e877",
   "metadata": {},
   "outputs": [],
   "source": [
    "#The treditional way to do it is\n",
    "def raise_to_the_power_of2(x):\n",
    "    return(x**2)"
   ]
  },
  {
   "cell_type": "code",
   "execution_count": 30,
   "id": "2b3d6d6a",
   "metadata": {},
   "outputs": [
    {
     "data": {
      "text/plain": [
       "9"
      ]
     },
     "execution_count": 30,
     "metadata": {},
     "output_type": "execute_result"
    }
   ],
   "source": [
    "raise_to_the_power_of2(3)"
   ]
  },
  {
   "cell_type": "code",
   "execution_count": 31,
   "id": "9be6bf9e",
   "metadata": {},
   "outputs": [
    {
     "data": {
      "text/plain": [
       "<function __main__.<lambda>(x)>"
      ]
     },
     "execution_count": 31,
     "metadata": {},
     "output_type": "execute_result"
    }
   ],
   "source": [
    "#The syntax to use lambda function is:\n",
    "lambda x: x**2"
   ]
  },
  {
   "cell_type": "code",
   "execution_count": 32,
   "id": "b273dafa",
   "metadata": {},
   "outputs": [],
   "source": [
    "raise_to_the_power_of2_lambda = lambda x: x**2"
   ]
  },
  {
   "cell_type": "code",
   "execution_count": 33,
   "id": "c0f71b98",
   "metadata": {},
   "outputs": [
    {
     "data": {
      "text/plain": [
       "9"
      ]
     },
     "execution_count": 33,
     "metadata": {},
     "output_type": "execute_result"
    }
   ],
   "source": [
    "raise_to_the_power_of2_lambda(3)"
   ]
  },
  {
   "cell_type": "code",
   "execution_count": 34,
   "id": "0df1806d",
   "metadata": {},
   "outputs": [
    {
     "data": {
      "text/plain": [
       "5.5"
      ]
     },
     "execution_count": 34,
     "metadata": {},
     "output_type": "execute_result"
    }
   ],
   "source": [
    "#the easier way\n",
    "(lambda x: x/2)(11)"
   ]
  },
  {
   "cell_type": "code",
   "execution_count": 35,
   "id": "161b29d0",
   "metadata": {},
   "outputs": [
    {
     "data": {
      "text/plain": [
       "53.792"
      ]
     },
     "execution_count": 35,
     "metadata": {},
     "output_type": "execute_result"
    }
   ],
   "source": [
    "(lambda x: (2 + 5 * x ** 4) ** 2 / (x + 3) ** 3)(2)"
   ]
  },
  {
   "cell_type": "code",
   "execution_count": 37,
   "id": "f521b15d",
   "metadata": {},
   "outputs": [
    {
     "data": {
      "text/plain": [
       "5"
      ]
     },
     "execution_count": 37,
     "metadata": {},
     "output_type": "execute_result"
    }
   ],
   "source": [
    "sum_xy = lambda x,y: x+y\n",
    "sum_xy(2,3)"
   ]
  },
  {
   "cell_type": "code",
   "execution_count": 38,
   "id": "8413ed29",
   "metadata": {},
   "outputs": [],
   "source": [
    "#you can even use function in function \n",
    "sum_xy = lambda x, y: x + y(x)"
   ]
  },
  {
   "cell_type": "code",
   "execution_count": 39,
   "id": "b23d4e7f",
   "metadata": {},
   "outputs": [
    {
     "data": {
      "text/plain": [
       "12"
      ]
     },
     "execution_count": 39,
     "metadata": {},
     "output_type": "execute_result"
    }
   ],
   "source": [
    "sum_xy(2, lambda x: x * 5)"
   ]
  },
  {
   "cell_type": "markdown",
   "id": "b05aded0",
   "metadata": {},
   "source": [
    "Features of Lambda function:\n",
    "\n",
    "It can have one of many parameters but can contain a single expression only\n",
    "\n",
    "Allow you to write just one line of code to include a simple functionality in a more complex expression\n",
    "\n",
    "It can only be applied to the larger expression they have been written in"
   ]
  },
  {
   "cell_type": "code",
   "execution_count": null,
   "id": "0a0ac361",
   "metadata": {},
   "outputs": [],
   "source": []
  }
 ],
 "metadata": {
  "kernelspec": {
   "display_name": "Python 3 (ipykernel)",
   "language": "python",
   "name": "python3"
  },
  "language_info": {
   "codemirror_mode": {
    "name": "ipython",
    "version": 3
   },
   "file_extension": ".py",
   "mimetype": "text/x-python",
   "name": "python",
   "nbconvert_exporter": "python",
   "pygments_lexer": "ipython3",
   "version": "3.10.9"
  }
 },
 "nbformat": 4,
 "nbformat_minor": 5
}
