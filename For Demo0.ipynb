{
 "cells": [
  {
   "cell_type": "code",
   "execution_count": 1,
   "id": "cdeb63e1",
   "metadata": {},
   "outputs": [],
   "source": [
    "list_1 = [1,2,3,4,5]"
   ]
  },
  {
   "cell_type": "code",
   "execution_count": 2,
   "id": "4297fc84",
   "metadata": {},
   "outputs": [
    {
     "data": {
      "text/plain": [
       "[1, 2, 'AVM', 4, 5]"
      ]
     },
     "execution_count": 2,
     "metadata": {},
     "output_type": "execute_result"
    }
   ],
   "source": [
    "list_1[2]='AVM'\n",
    "list_1"
   ]
  },
  {
   "cell_type": "code",
   "execution_count": 3,
   "id": "f264be55",
   "metadata": {},
   "outputs": [],
   "source": [
    "name =('Aditya','Yuvraj','Nishad',)"
   ]
  },
  {
   "cell_type": "code",
   "execution_count": 4,
   "id": "9cd5da93",
   "metadata": {},
   "outputs": [
    {
     "data": {
      "text/plain": [
       "{'Aditya': list, 'Yuvraj': 24, 'Nishad': 25}"
      ]
     },
     "execution_count": 4,
     "metadata": {},
     "output_type": "execute_result"
    }
   ],
   "source": [
    "employee_name = {'Aditya':list,'Yuvraj':24,'Nishad':25}\n",
    "employee_name"
   ]
  },
  {
   "cell_type": "code",
   "execution_count": 5,
   "id": "f10c4ba8",
   "metadata": {},
   "outputs": [
    {
     "data": {
      "text/plain": [
       "{'Aditya': list, 'Yuvraj': 28, 'Nishad': 25}"
      ]
     },
     "execution_count": 5,
     "metadata": {},
     "output_type": "execute_result"
    }
   ],
   "source": [
    "employee_name['Yuvraj']=28\n",
    "employee_name"
   ]
  },
  {
   "cell_type": "code",
   "execution_count": 6,
   "id": "f34bcb54",
   "metadata": {},
   "outputs": [],
   "source": [
    "def name_change(x):\n",
    "    for n in x:\n",
    "        if n == 'Nilesh':\n",
    "            print('Renu')\n",
    "        else:\n",
    "            print(n)"
   ]
  },
  {
   "cell_type": "code",
   "execution_count": 7,
   "id": "88c54160",
   "metadata": {},
   "outputs": [
    {
     "name": "stdout",
     "output_type": "stream",
     "text": [
      "Pankaj\n",
      "Renu\n",
      "Kamini\n"
     ]
    }
   ],
   "source": [
    "name_change(['Pankaj','Nilesh','Kamini'])"
   ]
  },
  {
   "cell_type": "code",
   "execution_count": 8,
   "id": "8b19f1af",
   "metadata": {},
   "outputs": [],
   "source": [
    "price = {'Tata_steel':64,\n",
    "         'KEC':102,\n",
    "         'MS':2204}\n",
    "quantity = {'Tata_steel':10,\n",
    "         'KEC':5,\n",
    "         'MS':2}\n",
    "\n",
    "total_money_spent = 0\n"
   ]
  },
  {
   "cell_type": "code",
   "execution_count": 9,
   "id": "47396af6",
   "metadata": {},
   "outputs": [
    {
     "name": "stdout",
     "output_type": "stream",
     "text": [
      "5558\n"
     ]
    }
   ],
   "source": [
    "for p in price:\n",
    "    total_money_spent = total_money_spent + (price[p] * quantity[p])\n",
    "    \n",
    "print(total_money_spent)"
   ]
  },
  {
   "cell_type": "code",
   "execution_count": 10,
   "id": "b26b045d",
   "metadata": {},
   "outputs": [
    {
     "name": "stdout",
     "output_type": "stream",
     "text": [
      "{'c': 24, 'd': 7, 'b': 15, 'a': 2}\n"
     ]
    }
   ],
   "source": [
    "dict1 = {'a': 2, 'b': 3, 'c': 4}\n",
    "dict2 = {'b': 5, 'c': 6, 'd': 7}\n",
    "\n",
    "result_dict = {}\n",
    "for key in set(dict1).union(dict2):\n",
    "    if key in dict1 and key in dict2:\n",
    "        result_dict[key] = dict1[key] * dict2[key]\n",
    "    elif key in dict1:\n",
    "        result_dict[key] = dict1[key]\n",
    "    elif key in dict2:\n",
    "        result_dict[key] = dict2[key]\n",
    "\n",
    "print(result_dict)"
   ]
  },
  {
   "cell_type": "code",
   "execution_count": 11,
   "id": "7fd42366",
   "metadata": {},
   "outputs": [],
   "source": [
    "list_1 = [1,2,3,4,5,6]"
   ]
  },
  {
   "cell_type": "code",
   "execution_count": 12,
   "id": "82266c4e",
   "metadata": {},
   "outputs": [
    {
     "name": "stdout",
     "output_type": "stream",
     "text": [
      "1 2 3 4 5 6 "
     ]
    }
   ],
   "source": [
    "for n in list_1:\n",
    "    print(n, end=' ')"
   ]
  },
  {
   "cell_type": "code",
   "execution_count": null,
   "id": "f3c999dc",
   "metadata": {},
   "outputs": [],
   "source": []
  },
  {
   "cell_type": "code",
   "execution_count": 13,
   "id": "83803dfa",
   "metadata": {},
   "outputs": [
    {
     "name": "stdout",
     "output_type": "stream",
     "text": [
      "10 11 12 13 14 15 16 17 18 19 "
     ]
    }
   ],
   "source": [
    "x = 10\n",
    "while x < 20:\n",
    "    print(x, end=' ')\n",
    "    x += 1"
   ]
  },
  {
   "cell_type": "code",
   "execution_count": 14,
   "id": "18ed30f2",
   "metadata": {},
   "outputs": [
    {
     "data": {
      "text/plain": [
       "range(0, 10)"
      ]
     },
     "execution_count": 14,
     "metadata": {},
     "output_type": "execute_result"
    }
   ],
   "source": [
    "range(10)"
   ]
  },
  {
   "cell_type": "code",
   "execution_count": 18,
   "id": "31983065",
   "metadata": {},
   "outputs": [
    {
     "data": {
      "text/plain": [
       "[0, 2, 4, 6, 8]"
      ]
     },
     "execution_count": 18,
     "metadata": {},
     "output_type": "execute_result"
    }
   ],
   "source": [
    "list(range(0,10,2))"
   ]
  },
  {
   "cell_type": "code",
   "execution_count": 19,
   "id": "a092f94a",
   "metadata": {},
   "outputs": [
    {
     "name": "stdout",
     "output_type": "stream",
     "text": [
      "0\n",
      "2\n",
      "4\n",
      "6\n",
      "8\n"
     ]
    }
   ],
   "source": [
    "for n in range(0,10,2):\n",
    "    print(n)"
   ]
  },
  {
   "cell_type": "code",
   "execution_count": 24,
   "id": "1595b107",
   "metadata": {},
   "outputs": [
    {
     "name": "stdout",
     "output_type": "stream",
     "text": [
      "0 Odd 2 Odd 4 Odd 6 Odd 8 Odd 10 Odd 12 Odd 14 Odd 16 Odd 18 Odd 20 "
     ]
    }
   ],
   "source": [
    "for n in range(0,21):\n",
    "    if n % 2 != 0:\n",
    "        print('Odd', end=' ')\n",
    "    else:\n",
    "        print(n, end=' ')"
   ]
  },
  {
   "cell_type": "code",
   "execution_count": 6,
   "id": "f39b4f76",
   "metadata": {},
   "outputs": [
    {
     "name": "stdout",
     "output_type": "stream",
     "text": [
      "2 3 5 7 11 13 17 19 23 29 31 37 41 43 47 "
     ]
    }
   ],
   "source": [
    "for n in range(1,51):\n",
    "    if n == 2:\n",
    "        print(n,end=' ')\n",
    "    elif n == 3:\n",
    "        print(n,end=' ')\n",
    "    elif n == 5:\n",
    "        print(n,end=' ')\n",
    "    elif n == 7:\n",
    "        print(n,end=' ')\n",
    "    elif n == 11:\n",
    "        print(n,end=' ')\n",
    "    elif n == 13:\n",
    "        print(n,end=' ')\n",
    "    elif n == 17:\n",
    "        print(n,end=' ')\n",
    "    elif n == 19:\n",
    "        print(n,end=' ')\n",
    "    elif n == 23:\n",
    "        print(n,end=' ')\n",
    "    elif n == 29:\n",
    "        print(n,end=' ')\n",
    "    elif n == 31:\n",
    "        print(n,end=' ')\n",
    "    elif n == 37:\n",
    "        print(n,end=' ')\n",
    "    elif n == 41:\n",
    "        print(n,end=' ')\n",
    "    elif n == 43:\n",
    "        print(n,end=' ')\n",
    "    elif n == 47:\n",
    "        print(n,end=' ')\n",
    "    else:\n",
    "        print('',end='')\n",
    "    "
   ]
  },
  {
   "cell_type": "code",
   "execution_count": 1,
   "id": "746e3079",
   "metadata": {},
   "outputs": [
    {
     "name": "stdout",
     "output_type": "stream",
     "text": [
      "2 3 5 7 11 13 17 19 23 29 31 37 41 43 47 "
     ]
    }
   ],
   "source": [
    "def is_prime(num):\n",
    "    if num < 2:\n",
    "        return False\n",
    "    for i in range(2, int(num ** 0.5) + 1):\n",
    "        if num % i == 0:\n",
    "            return False\n",
    "    return True\n",
    "\n",
    "for num in range(1, 51):\n",
    "    if is_prime(num):\n",
    "        print(num, end=\" \")\n"
   ]
  },
  {
   "cell_type": "code",
   "execution_count": 9,
   "id": "5d263f50",
   "metadata": {},
   "outputs": [
    {
     "data": {
      "text/plain": [
       "2"
      ]
     },
     "execution_count": 9,
     "metadata": {},
     "output_type": "execute_result"
    }
   ],
   "source": [
    "int(4**0.5)"
   ]
  },
  {
   "cell_type": "code",
   "execution_count": null,
   "id": "7be646b6",
   "metadata": {},
   "outputs": [],
   "source": []
  }
 ],
 "metadata": {
  "kernelspec": {
   "display_name": "Python 3 (ipykernel)",
   "language": "python",
   "name": "python3"
  },
  "language_info": {
   "codemirror_mode": {
    "name": "ipython",
    "version": 3
   },
   "file_extension": ".py",
   "mimetype": "text/x-python",
   "name": "python",
   "nbconvert_exporter": "python",
   "pygments_lexer": "ipython3",
   "version": "3.10.9"
  }
 },
 "nbformat": 4,
 "nbformat_minor": 5
}
