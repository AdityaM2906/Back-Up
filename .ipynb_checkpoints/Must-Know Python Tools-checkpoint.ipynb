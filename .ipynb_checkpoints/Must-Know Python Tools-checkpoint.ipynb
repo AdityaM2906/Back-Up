{
 "cells": [
  {
   "cell_type": "markdown",
   "id": "2bf00105",
   "metadata": {},
   "source": [
    "# Iterating Over Range Objects"
   ]
  },
  {
   "cell_type": "code",
   "execution_count": 1,
   "id": "4a1f9e86",
   "metadata": {},
   "outputs": [
    {
     "data": {
      "text/plain": [
       "(4, 5, 6, 7)"
      ]
     },
     "execution_count": 1,
     "metadata": {},
     "output_type": "execute_result"
    }
   ],
   "source": [
    "t = (4,5,6,7)\n",
    "t"
   ]
  },
  {
   "cell_type": "code",
   "execution_count": 2,
   "id": "ae6d02af",
   "metadata": {},
   "outputs": [
    {
     "data": {
      "text/plain": [
       "[10, 5, 10, 75, 30, 100]"
      ]
     },
     "execution_count": 2,
     "metadata": {},
     "output_type": "execute_result"
    }
   ],
   "source": [
    "l = [10,5,10,75,30,100]\n",
    "l"
   ]
  },
  {
   "cell_type": "code",
   "execution_count": 3,
   "id": "53795942",
   "metadata": {},
   "outputs": [
    {
     "data": {
      "text/plain": [
       "'abcde'"
      ]
     },
     "execution_count": 3,
     "metadata": {},
     "output_type": "execute_result"
    }
   ],
   "source": [
    "s = 'abcde'\n",
    "s"
   ]
  },
  {
   "cell_type": "code",
   "execution_count": 4,
   "id": "35d46c78",
   "metadata": {},
   "outputs": [
    {
     "name": "stdout",
     "output_type": "stream",
     "text": [
      "10 5 10 75 30 100 "
     ]
    }
   ],
   "source": [
    "for i in l:\n",
    "    print(i, end=' ')"
   ]
  },
  {
   "cell_type": "code",
   "execution_count": 5,
   "id": "47226752",
   "metadata": {},
   "outputs": [
    {
     "data": {
      "text/plain": [
       "range(0, 5)"
      ]
     },
     "execution_count": 5,
     "metadata": {},
     "output_type": "execute_result"
    }
   ],
   "source": [
    "range(5)"
   ]
  },
  {
   "cell_type": "code",
   "execution_count": 6,
   "id": "92a67639",
   "metadata": {},
   "outputs": [
    {
     "name": "stdout",
     "output_type": "stream",
     "text": [
      "0 1 2 3 4 "
     ]
    }
   ],
   "source": [
    "for i in range(5):\n",
    "    print(i, end=' ')"
   ]
  },
  {
   "cell_type": "markdown",
   "id": "683127bc",
   "metadata": {},
   "source": [
    "# Nested For Loops - Intro"
   ]
  },
  {
   "cell_type": "code",
   "execution_count": 7,
   "id": "81956895",
   "metadata": {},
   "outputs": [
    {
     "name": "stdout",
     "output_type": "stream",
     "text": [
      "0\n",
      "1\n"
     ]
    }
   ],
   "source": [
    "for i in range(2):\n",
    "    print(i)"
   ]
  },
  {
   "cell_type": "code",
   "execution_count": 8,
   "id": "31740fb9",
   "metadata": {},
   "outputs": [
    {
     "name": "stdout",
     "output_type": "stream",
     "text": [
      "0\n",
      "1\n",
      "2\n",
      "3\n",
      "4\n"
     ]
    }
   ],
   "source": [
    "for j in range(5):\n",
    "    print(j)"
   ]
  },
  {
   "cell_type": "code",
   "execution_count": 9,
   "id": "07c7e763",
   "metadata": {},
   "outputs": [
    {
     "name": "stdout",
     "output_type": "stream",
     "text": [
      "0\n",
      "1\n",
      "2\n",
      "3\n",
      "4\n",
      "0\n",
      "1\n",
      "2\n",
      "3\n",
      "4\n",
      "0\n",
      "1\n",
      "2\n",
      "3\n",
      "4\n"
     ]
    }
   ],
   "source": [
    "for i in range(3):\n",
    "    for j in range(5):\n",
    "        print(j)"
   ]
  },
  {
   "cell_type": "markdown",
   "id": "b5fe17b9",
   "metadata": {},
   "source": [
    "Now to understand what happened lets examine the code 1st the i loop or the outer loop IN which the j loop or the inner loop is nested/placed within/placed inside started,then the code went inside and exicuted till the end of inner loop then it returend to the outerloop again got exicuted and again went inside. You can understand it it better in the example below."
   ]
  },
  {
   "cell_type": "code",
   "execution_count": 10,
   "id": "0cef2f69",
   "metadata": {},
   "outputs": [
    {
     "name": "stdout",
     "output_type": "stream",
     "text": [
      "[0, 0]\n",
      "[0, 1]\n",
      "[0, 2]\n",
      "[0, 3]\n",
      "[0, 4]\n",
      "[1, 0]\n",
      "[1, 1]\n",
      "[1, 2]\n",
      "[1, 3]\n",
      "[1, 4]\n"
     ]
    }
   ],
   "source": [
    "for i in range(2):\n",
    "    for j in range(5):\n",
    "        print([i,j])"
   ]
  },
  {
   "cell_type": "markdown",
   "id": "369c2506",
   "metadata": {},
   "source": [
    "Now lets use it in a way in which it should be used"
   ]
  },
  {
   "cell_type": "code",
   "execution_count": 11,
   "id": "5660ec4e",
   "metadata": {},
   "outputs": [],
   "source": [
    "product = ['Product A','Product B']\n",
    "exp_sales = [10000,11000,12000,13000,14000]"
   ]
  },
  {
   "cell_type": "code",
   "execution_count": 12,
   "id": "9e45f505",
   "metadata": {},
   "outputs": [
    {
     "name": "stdout",
     "output_type": "stream",
     "text": [
      "['Product A', 10000]\n",
      "['Product A', 11000]\n",
      "['Product A', 12000]\n",
      "['Product A', 13000]\n",
      "['Product A', 14000]\n",
      "['Product B', 10000]\n",
      "['Product B', 11000]\n",
      "['Product B', 12000]\n",
      "['Product B', 13000]\n",
      "['Product B', 14000]\n"
     ]
    }
   ],
   "source": [
    "for i in product:\n",
    "    for j in exp_sales:\n",
    "        print([i,j])"
   ]
  },
  {
   "cell_type": "markdown",
   "id": "c028af35",
   "metadata": {},
   "source": [
    "# Triple nested loop"
   ]
  },
  {
   "cell_type": "code",
   "execution_count": 13,
   "id": "87d81c4f",
   "metadata": {},
   "outputs": [],
   "source": [
    "product = ['Product A','Product B']\n",
    "exp_sales = [10000,11000,12000,13000,14000]"
   ]
  },
  {
   "cell_type": "code",
   "execution_count": 14,
   "id": "1bc367f8",
   "metadata": {},
   "outputs": [],
   "source": [
    "time_horizon = (1,3,12)"
   ]
  },
  {
   "cell_type": "code",
   "execution_count": 15,
   "id": "cc80cffa",
   "metadata": {},
   "outputs": [
    {
     "name": "stdout",
     "output_type": "stream",
     "text": [
      "['Product A', 10000]\n",
      "['Product A', 30000]\n",
      "['Product A', 120000]\n",
      "['Product A', 11000]\n",
      "['Product A', 33000]\n",
      "['Product A', 132000]\n",
      "['Product A', 12000]\n",
      "['Product A', 36000]\n",
      "['Product A', 144000]\n",
      "['Product A', 13000]\n",
      "['Product A', 39000]\n",
      "['Product A', 156000]\n",
      "['Product A', 14000]\n",
      "['Product A', 42000]\n",
      "['Product A', 168000]\n",
      "['Product B', 10000]\n",
      "['Product B', 30000]\n",
      "['Product B', 120000]\n",
      "['Product B', 11000]\n",
      "['Product B', 33000]\n",
      "['Product B', 132000]\n",
      "['Product B', 12000]\n",
      "['Product B', 36000]\n",
      "['Product B', 144000]\n",
      "['Product B', 13000]\n",
      "['Product B', 39000]\n",
      "['Product B', 156000]\n",
      "['Product B', 14000]\n",
      "['Product B', 42000]\n",
      "['Product B', 168000]\n"
     ]
    }
   ],
   "source": [
    "for i in product:\n",
    "    for j in exp_sales:\n",
    "        for k in time_horizon:\n",
    "            print([i,j*k])"
   ]
  },
  {
   "cell_type": "markdown",
   "id": "7316f478",
   "metadata": {},
   "source": [
    "Like this you can nest as many loops as you want, now lets see the way in which we can make it look presentable."
   ]
  },
  {
   "cell_type": "code",
   "execution_count": 16,
   "id": "39f4e71d",
   "metadata": {},
   "outputs": [
    {
     "name": "stdout",
     "output_type": "stream",
     "text": [
      "Product A 10000\n",
      "Product A 30000\n",
      "Product A 120000\n",
      "Product A 11000\n",
      "Product A 33000\n",
      "Product A 132000\n",
      "Product A 12000\n",
      "Product A 36000\n",
      "Product A 144000\n",
      "Product A 13000\n",
      "Product A 39000\n",
      "Product A 156000\n",
      "Product A 14000\n",
      "Product A 42000\n",
      "Product A 168000\n",
      "Product B 10000\n",
      "Product B 30000\n",
      "Product B 120000\n",
      "Product B 11000\n",
      "Product B 33000\n",
      "Product B 132000\n",
      "Product B 12000\n",
      "Product B 36000\n",
      "Product B 144000\n",
      "Product B 13000\n",
      "Product B 39000\n",
      "Product B 156000\n",
      "Product B 14000\n",
      "Product B 42000\n",
      "Product B 168000\n"
     ]
    }
   ],
   "source": [
    "for prod in product:\n",
    "    for sale in exp_sales:\n",
    "        for t_hor in time_horizon:\n",
    "            print(prod, sale*t_hor)"
   ]
  },
  {
   "cell_type": "code",
   "execution_count": 17,
   "id": "c245e5c3",
   "metadata": {},
   "outputs": [
    {
     "name": "stdout",
     "output_type": "stream",
     "text": [
      "Expected sales for a period of 1 month(s)f for Product A: $10000\n",
      "Expected sales for a period of 3 month(s)f for Product A: $30000\n",
      "Expected sales for a period of 12 month(s)f for Product A: $120000\n",
      "Expected sales for a period of 1 month(s)f for Product A: $11000\n",
      "Expected sales for a period of 3 month(s)f for Product A: $33000\n",
      "Expected sales for a period of 12 month(s)f for Product A: $132000\n",
      "Expected sales for a period of 1 month(s)f for Product A: $12000\n",
      "Expected sales for a period of 3 month(s)f for Product A: $36000\n",
      "Expected sales for a period of 12 month(s)f for Product A: $144000\n",
      "Expected sales for a period of 1 month(s)f for Product A: $13000\n",
      "Expected sales for a period of 3 month(s)f for Product A: $39000\n",
      "Expected sales for a period of 12 month(s)f for Product A: $156000\n",
      "Expected sales for a period of 1 month(s)f for Product A: $14000\n",
      "Expected sales for a period of 3 month(s)f for Product A: $42000\n",
      "Expected sales for a period of 12 month(s)f for Product A: $168000\n",
      "Expected sales for a period of 1 month(s)f for Product B: $10000\n",
      "Expected sales for a period of 3 month(s)f for Product B: $30000\n",
      "Expected sales for a period of 12 month(s)f for Product B: $120000\n",
      "Expected sales for a period of 1 month(s)f for Product B: $11000\n",
      "Expected sales for a period of 3 month(s)f for Product B: $33000\n",
      "Expected sales for a period of 12 month(s)f for Product B: $132000\n",
      "Expected sales for a period of 1 month(s)f for Product B: $12000\n",
      "Expected sales for a period of 3 month(s)f for Product B: $36000\n",
      "Expected sales for a period of 12 month(s)f for Product B: $144000\n",
      "Expected sales for a period of 1 month(s)f for Product B: $13000\n",
      "Expected sales for a period of 3 month(s)f for Product B: $39000\n",
      "Expected sales for a period of 12 month(s)f for Product B: $156000\n",
      "Expected sales for a period of 1 month(s)f for Product B: $14000\n",
      "Expected sales for a period of 3 month(s)f for Product B: $42000\n",
      "Expected sales for a period of 12 month(s)f for Product B: $168000\n"
     ]
    }
   ],
   "source": [
    "for prod in product:\n",
    "    for sale in exp_sales:\n",
    "        for t_hor in time_horizon:\n",
    "            print('Expected sales for a period of {0} month(s)f for {1}: ${sales}'.format(t_hor,prod,sales = sale * t_hor))"
   ]
  },
  {
   "cell_type": "markdown",
   "id": "e3e30246",
   "metadata": {},
   "source": [
    "But writing loop is said to be \"Non-Pythonic\" cause we can use list comprehensions"
   ]
  },
  {
   "cell_type": "markdown",
   "id": "f5c2c130",
   "metadata": {},
   "source": [
    "# List Comprehensions"
   ]
  },
  {
   "cell_type": "code",
   "execution_count": 18,
   "id": "871069f0",
   "metadata": {},
   "outputs": [
    {
     "data": {
      "text/plain": [
       "[1, 13, 4, 5, 63, 100]"
      ]
     },
     "execution_count": 18,
     "metadata": {},
     "output_type": "execute_result"
    }
   ],
   "source": [
    "number = [1,13,4,5,63,100]\n",
    "number"
   ]
  },
  {
   "cell_type": "code",
   "execution_count": 19,
   "id": "e9d2a2f7",
   "metadata": {},
   "outputs": [
    {
     "name": "stdout",
     "output_type": "stream",
     "text": [
      "[2, 26, 8, 10, 126, 200]\n"
     ]
    }
   ],
   "source": [
    "new_number = []\n",
    "\n",
    "for i in number:\n",
    "    new_number.append(i*2)\n",
    "    \n",
    "print(new_number)"
   ]
  },
  {
   "cell_type": "markdown",
   "id": "26aa741c",
   "metadata": {},
   "source": [
    "Now this is how a Python user will do it:"
   ]
  },
  {
   "cell_type": "code",
   "execution_count": 20,
   "id": "a6ac4470",
   "metadata": {},
   "outputs": [
    {
     "name": "stdout",
     "output_type": "stream",
     "text": [
      "[2, 26, 8, 10, 126, 200]\n"
     ]
    }
   ],
   "source": [
    "new_number = [n * 2 for n in number]\n",
    "print(new_number)"
   ]
  },
  {
   "cell_type": "code",
   "execution_count": 21,
   "id": "0cdec707",
   "metadata": {
    "scrolled": true
   },
   "outputs": [
    {
     "name": "stdout",
     "output_type": "stream",
     "text": [
      "0 1 2 3 4 1 2 3 4 5 "
     ]
    }
   ],
   "source": [
    "for i in range(2):\n",
    "    for j in range(5):\n",
    "        print(i + j, end = ' ')"
   ]
  },
  {
   "cell_type": "markdown",
   "id": "069fed52",
   "metadata": {},
   "source": [
    "This code runs in the following:\n",
    "first 0 goes in and after that 1 goes in:\n",
    "0+0,0+1,0+2,0+3,0+4,1+0,1+1,1+2,1+3,1+4"
   ]
  },
  {
   "cell_type": "code",
   "execution_count": 23,
   "id": "b46a167e",
   "metadata": {},
   "outputs": [
    {
     "data": {
      "text/plain": [
       "[0, 1, 2, 3, 4, 1, 2, 3, 4, 5]"
      ]
     },
     "execution_count": 23,
     "metadata": {},
     "output_type": "execute_result"
    }
   ],
   "source": [
    "new_list_comprehension_1 = [i+j for i in range(2) for j in range(5)]\n",
    "new_list_comprehension_1"
   ]
  },
  {
   "cell_type": "code",
   "execution_count": 24,
   "id": "8a5164f1",
   "metadata": {},
   "outputs": [
    {
     "data": {
      "text/plain": [
       "list"
      ]
     },
     "execution_count": 24,
     "metadata": {},
     "output_type": "execute_result"
    }
   ],
   "source": [
    "type(new_list_comprehension_1)"
   ]
  },
  {
   "cell_type": "code",
   "execution_count": 29,
   "id": "1973317e",
   "metadata": {},
   "outputs": [
    {
     "data": {
      "text/plain": [
       "[[0, 1], [1, 2], [2, 3], [3, 4], [4, 5]]"
      ]
     },
     "execution_count": 29,
     "metadata": {},
     "output_type": "execute_result"
    }
   ],
   "source": [
    "new_list_comprehension_2 = [[i+j for i in range(2)]for j in range (5)]\n",
    "new_list_comprehension_2"
   ]
  },
  {
   "cell_type": "markdown",
   "id": "2b4d650d",
   "metadata": {},
   "source": [
    "Now we need to see how we can put conditions in this situation, not just on the iterable but also on the output"
   ]
  },
  {
   "cell_type": "code",
   "execution_count": 33,
   "id": "a0226993",
   "metadata": {},
   "outputs": [
    {
     "data": {
      "text/plain": [
       "[1, 27, 125, 343, 729]"
      ]
     },
     "execution_count": 33,
     "metadata": {},
     "output_type": "execute_result"
    }
   ],
   "source": [
    "[num**3 for num in range(1,11) if num % 2 != 0] "
   ]
  },
  {
   "cell_type": "code",
   "execution_count": 34,
   "id": "e32e01d4",
   "metadata": {},
   "outputs": [
    {
     "data": {
      "text/plain": [
       "[1, 'even', 27, 'even', 125, 'even', 343, 'even', 729, 'even']"
      ]
     },
     "execution_count": 34,
     "metadata": {},
     "output_type": "execute_result"
    }
   ],
   "source": [
    "[num**3 if num % 2 != 0 else 'even' for num in range(1,11)]"
   ]
  },
  {
   "cell_type": "markdown",
   "id": "5afe8a9f",
   "metadata": {},
   "source": [
    "if in the above code we don't put a else statement it will show error. Cause while using this you need to tell python what to do when condition is not fulfilled"
   ]
  },
  {
   "cell_type": "code",
   "execution_count": null,
   "id": "6d7abb06",
   "metadata": {},
   "outputs": [],
   "source": []
  }
 ],
 "metadata": {
  "kernelspec": {
   "display_name": "Python 3 (ipykernel)",
   "language": "python",
   "name": "python3"
  },
  "language_info": {
   "codemirror_mode": {
    "name": "ipython",
    "version": 3
   },
   "file_extension": ".py",
   "mimetype": "text/x-python",
   "name": "python",
   "nbconvert_exporter": "python",
   "pygments_lexer": "ipython3",
   "version": "3.10.9"
  }
 },
 "nbformat": 4,
 "nbformat_minor": 5
}
