{
 "cells": [
  {
   "cell_type": "markdown",
   "id": "3476a732",
   "metadata": {},
   "source": [
    "Following asssignment contains all possible topics which come in the category of \"Basic_1\" please go through this assignment atleast twice to reinforce your concept"
   ]
  },
  {
   "cell_type": "markdown",
   "id": "81c41140",
   "metadata": {},
   "source": [
    "# Variables"
   ]
  },
  {
   "cell_type": "markdown",
   "id": "9ed43b75",
   "metadata": {},
   "source": [
    "Create a variable with name, \"your name\" and a value of \"your age\". Execute."
   ]
  },
  {
   "cell_type": "code",
   "execution_count": null,
   "id": "6755e071",
   "metadata": {},
   "outputs": [],
   "source": []
  },
  {
   "cell_type": "markdown",
   "id": "ab2c0123",
   "metadata": {},
   "source": [
    "Tell the computer to show the value of the created variable(There are two ways to do this)"
   ]
  },
  {
   "cell_type": "code",
   "execution_count": null,
   "id": "a32e0c85",
   "metadata": {},
   "outputs": [],
   "source": []
  },
  {
   "cell_type": "code",
   "execution_count": null,
   "id": "5a9a027f",
   "metadata": {},
   "outputs": [],
   "source": []
  },
  {
   "cell_type": "markdown",
   "id": "08c74b73",
   "metadata": {},
   "source": [
    "Create four variables with value 10,20,30,40 respectively"
   ]
  },
  {
   "cell_type": "code",
   "execution_count": null,
   "id": "702d542e",
   "metadata": {},
   "outputs": [],
   "source": []
  },
  {
   "cell_type": "markdown",
   "id": "91bf7bb6",
   "metadata": {},
   "source": [
    "Now print each variables value separately"
   ]
  },
  {
   "cell_type": "code",
   "execution_count": null,
   "id": "1f93831b",
   "metadata": {},
   "outputs": [],
   "source": []
  },
  {
   "cell_type": "code",
   "execution_count": null,
   "id": "7c3f4e33",
   "metadata": {},
   "outputs": [],
   "source": []
  },
  {
   "cell_type": "code",
   "execution_count": null,
   "id": "bb98f9c5",
   "metadata": {},
   "outputs": [],
   "source": []
  },
  {
   "cell_type": "code",
   "execution_count": null,
   "id": "f638cdb9",
   "metadata": {},
   "outputs": [],
   "source": []
  },
  {
   "cell_type": "markdown",
   "id": "4fd377d4",
   "metadata": {},
   "source": [
    "# Numbers and Boolean Values"
   ]
  },
  {
   "cell_type": "markdown",
   "id": "4d0a47ed",
   "metadata": {},
   "source": [
    "Create a variable equal to \"True\""
   ]
  },
  {
   "cell_type": "code",
   "execution_count": null,
   "id": "7abffe98",
   "metadata": {},
   "outputs": [],
   "source": []
  },
  {
   "cell_type": "markdown",
   "id": "e03c9b26",
   "metadata": {},
   "source": [
    "Check its type"
   ]
  },
  {
   "cell_type": "code",
   "execution_count": null,
   "id": "258dbaf4",
   "metadata": {},
   "outputs": [],
   "source": []
  },
  {
   "cell_type": "markdown",
   "id": "89e107a9",
   "metadata": {},
   "source": [
    "Create a variable equal to 99, check its type and change it's type"
   ]
  },
  {
   "cell_type": "code",
   "execution_count": null,
   "id": "e9e62ba6",
   "metadata": {},
   "outputs": [],
   "source": []
  },
  {
   "cell_type": "code",
   "execution_count": null,
   "id": "a1b3af50",
   "metadata": {},
   "outputs": [],
   "source": []
  },
  {
   "cell_type": "code",
   "execution_count": null,
   "id": "4e6b466c",
   "metadata": {},
   "outputs": [],
   "source": []
  },
  {
   "cell_type": "markdown",
   "id": "f1c0159c",
   "metadata": {},
   "source": [
    "Create a variable equal to 0.99, check its type and change it's type"
   ]
  },
  {
   "cell_type": "code",
   "execution_count": null,
   "id": "4e44a528",
   "metadata": {},
   "outputs": [],
   "source": []
  },
  {
   "cell_type": "code",
   "execution_count": null,
   "id": "b886beb3",
   "metadata": {},
   "outputs": [],
   "source": []
  },
  {
   "cell_type": "code",
   "execution_count": null,
   "id": "07a3deb7",
   "metadata": {},
   "outputs": [],
   "source": []
  },
  {
   "cell_type": "markdown",
   "id": "2daeb0c9",
   "metadata": {},
   "source": [
    "Assign the value 1000 to the variable \"life\", now with the help of \"life\", create a one line code which has output 1000 ways to live."
   ]
  },
  {
   "cell_type": "code",
   "execution_count": null,
   "id": "f321eba3",
   "metadata": {},
   "outputs": [],
   "source": []
  },
  {
   "cell_type": "code",
   "execution_count": null,
   "id": "7ed4ea5e",
   "metadata": {},
   "outputs": [],
   "source": []
  },
  {
   "cell_type": "code",
   "execution_count": null,
   "id": "e09efeca",
   "metadata": {},
   "outputs": [],
   "source": []
  },
  {
   "cell_type": "markdown",
   "id": "df730e62",
   "metadata": {},
   "source": [
    "Produce an output equal to It's cool, isn't it?"
   ]
  },
  {
   "cell_type": "code",
   "execution_count": null,
   "id": "0bfd2f93",
   "metadata": {},
   "outputs": [],
   "source": []
  },
  {
   "cell_type": "markdown",
   "id": "ae8c3d40",
   "metadata": {},
   "source": [
    "Fix my mistake ;-)"
   ]
  },
  {
   "cell_type": "code",
   "execution_count": null,
   "id": "9c095501",
   "metadata": {},
   "outputs": [],
   "source": [
    "'Don't be stiff"
   ]
  },
  {
   "cell_type": "markdown",
   "id": "908dcde3",
   "metadata": {},
   "source": [
    "Produce an output equal to Click \"YES\""
   ]
  },
  {
   "cell_type": "code",
   "execution_count": null,
   "id": "38cce3f8",
   "metadata": {},
   "outputs": [],
   "source": []
  },
  {
   "cell_type": "markdown",
   "id": "62bac432",
   "metadata": {},
   "source": [
    "# Arithmetic Operation"
   ]
  },
  {
   "cell_type": "markdown",
   "id": "017f4a9e",
   "metadata": {},
   "source": [
    "Combine 10 and 23 and then subtract it"
   ]
  },
  {
   "cell_type": "code",
   "execution_count": null,
   "id": "079ca776",
   "metadata": {},
   "outputs": [],
   "source": []
  },
  {
   "cell_type": "code",
   "execution_count": null,
   "id": "b400e51a",
   "metadata": {},
   "outputs": [],
   "source": []
  },
  {
   "cell_type": "markdown",
   "id": "e39f4f0f",
   "metadata": {},
   "source": [
    "Divide 20 by 4, Divide 22 by 4,Divide the float 22 by 4, Find remainder of 22/4"
   ]
  },
  {
   "cell_type": "code",
   "execution_count": null,
   "id": "b1940cc0",
   "metadata": {},
   "outputs": [],
   "source": []
  },
  {
   "cell_type": "code",
   "execution_count": null,
   "id": "d2f293e6",
   "metadata": {},
   "outputs": [],
   "source": []
  },
  {
   "cell_type": "code",
   "execution_count": null,
   "id": "47a0b5dc",
   "metadata": {},
   "outputs": [],
   "source": []
  },
  {
   "cell_type": "code",
   "execution_count": null,
   "id": "e7e7e79c",
   "metadata": {},
   "outputs": [],
   "source": []
  },
  {
   "cell_type": "markdown",
   "id": "ce9f31a1",
   "metadata": {},
   "source": [
    "Multiply 25 by 2 and then, put 2 to the power of 25"
   ]
  },
  {
   "cell_type": "code",
   "execution_count": null,
   "id": "39272e8c",
   "metadata": {},
   "outputs": [],
   "source": []
  },
  {
   "cell_type": "code",
   "execution_count": null,
   "id": "5c6a617b",
   "metadata": {},
   "outputs": [],
   "source": []
  },
  {
   "cell_type": "markdown",
   "id": "dd527fc6",
   "metadata": {},
   "source": [
    "# The double-equality sign"
   ]
  },
  {
   "cell_type": "markdown",
   "id": "d3c201d4",
   "metadata": {},
   "source": [
    "Demonstrate that 100 is not equal to 10**3"
   ]
  },
  {
   "cell_type": "code",
   "execution_count": null,
   "id": "dacc4995",
   "metadata": {},
   "outputs": [],
   "source": []
  },
  {
   "cell_type": "markdown",
   "id": "2fa19b61",
   "metadata": {},
   "source": [
    "# Reassign Values"
   ]
  },
  {
   "cell_type": "markdown",
   "id": "231928ae",
   "metadata": {},
   "source": [
    "Assign the value of 14 to p, calculate p + 20, then assign 25 to p and Calculate p + 55"
   ]
  },
  {
   "cell_type": "code",
   "execution_count": null,
   "id": "8ce674ea",
   "metadata": {},
   "outputs": [],
   "source": []
  },
  {
   "cell_type": "code",
   "execution_count": null,
   "id": "82a61384",
   "metadata": {},
   "outputs": [],
   "source": []
  },
  {
   "cell_type": "code",
   "execution_count": null,
   "id": "366c1e98",
   "metadata": {},
   "outputs": [],
   "source": []
  },
  {
   "cell_type": "code",
   "execution_count": null,
   "id": "73220a0d",
   "metadata": {},
   "outputs": [],
   "source": []
  },
  {
   "cell_type": "markdown",
   "id": "43df36b8",
   "metadata": {},
   "source": [
    "# Line Continuation"
   ]
  },
  {
   "cell_type": "markdown",
   "id": "bfbf25d4",
   "metadata": {},
   "source": [
    "Add a backslash in the code below, explain the change"
   ]
  },
  {
   "cell_type": "code",
   "execution_count": null,
   "id": "144721c7",
   "metadata": {},
   "outputs": [],
   "source": [
    "15 + 31\n",
    "-26"
   ]
  },
  {
   "cell_type": "code",
   "execution_count": null,
   "id": "ab073538",
   "metadata": {},
   "outputs": [],
   "source": []
  },
  {
   "cell_type": "markdown",
   "id": "727e6895",
   "metadata": {},
   "source": [
    "# Indexing"
   ]
  },
  {
   "cell_type": "markdown",
   "id": "7eae925b",
   "metadata": {},
   "source": [
    "Extract any one letter from your name"
   ]
  },
  {
   "cell_type": "code",
   "execution_count": null,
   "id": "12ac3e63",
   "metadata": {},
   "outputs": [],
   "source": []
  },
  {
   "cell_type": "code",
   "execution_count": null,
   "id": "404fae4a",
   "metadata": {},
   "outputs": [],
   "source": []
  },
  {
   "cell_type": "markdown",
   "id": "615b3081",
   "metadata": {},
   "source": [
    "Extract the letter \"u\" from \"Constitution\"."
   ]
  },
  {
   "cell_type": "code",
   "execution_count": null,
   "id": "c2b23a5b",
   "metadata": {},
   "outputs": [],
   "source": []
  },
  {
   "cell_type": "code",
   "execution_count": null,
   "id": "3515ceae",
   "metadata": {},
   "outputs": [],
   "source": []
  },
  {
   "cell_type": "markdown",
   "id": "d2a97452",
   "metadata": {},
   "source": [
    "# Indentation"
   ]
  },
  {
   "cell_type": "markdown",
   "id": "97b496e9",
   "metadata": {},
   "source": [
    "Use indentation properly to print the result of the function with an argument of 3."
   ]
  },
  {
   "cell_type": "code",
   "execution_count": null,
   "id": "30a8a181",
   "metadata": {},
   "outputs": [],
   "source": [
    "def ten(x):\n",
    "    x = 10\n",
    "    return x\n",
    "    print(ten(3))"
   ]
  },
  {
   "cell_type": "code",
   "execution_count": null,
   "id": "50fecbe2",
   "metadata": {},
   "outputs": [],
   "source": []
  },
  {
   "cell_type": "markdown",
   "id": "d4a2e5bb",
   "metadata": {},
   "source": [
    "# Operators"
   ]
  },
  {
   "cell_type": "markdown",
   "id": "dfc1efc6",
   "metadata": {},
   "source": [
    "## Comparison Operators"
   ]
  },
  {
   "cell_type": "markdown",
   "id": "89db5be7",
   "metadata": {},
   "source": [
    "Verify that 25 is smaller than 30,\n",
    "\n",
    "Verify that 5 multiplied by 3 is less than or equal to 5 to the power of 3.\n",
    "\n",
    "Verify that 100 is equal to 10 square.\n",
    "\n",
    "Verify that 53 is not equal to 46."
   ]
  },
  {
   "cell_type": "code",
   "execution_count": null,
   "id": "fec82783",
   "metadata": {},
   "outputs": [],
   "source": []
  },
  {
   "cell_type": "code",
   "execution_count": null,
   "id": "90ab6194",
   "metadata": {},
   "outputs": [],
   "source": []
  },
  {
   "cell_type": "code",
   "execution_count": null,
   "id": "88377176",
   "metadata": {},
   "outputs": [],
   "source": []
  },
  {
   "cell_type": "code",
   "execution_count": null,
   "id": "91613e9c",
   "metadata": {},
   "outputs": [],
   "source": []
  },
  {
   "cell_type": "markdown",
   "id": "f26a7d79",
   "metadata": {},
   "source": [
    "# Logical and Identity Operators"
   ]
  },
  {
   "cell_type": "markdown",
   "id": "f5333228",
   "metadata": {},
   "source": [
    "Check whether the following code is True of False:\n",
    "\n",
    "False or not True and not False\n",
    "\n",
    "True and not False and True or not False\n",
    "\n",
    "False and True or False"
   ]
  },
  {
   "cell_type": "code",
   "execution_count": null,
   "id": "2a9ff839",
   "metadata": {},
   "outputs": [],
   "source": []
  },
  {
   "cell_type": "code",
   "execution_count": null,
   "id": "8805de7d",
   "metadata": {},
   "outputs": [],
   "source": []
  },
  {
   "cell_type": "code",
   "execution_count": null,
   "id": "4d71d7d9",
   "metadata": {},
   "outputs": [],
   "source": []
  },
  {
   "cell_type": "markdown",
   "id": "84a78f32",
   "metadata": {},
   "source": [
    "# Conditional Statement"
   ]
  },
  {
   "cell_type": "markdown",
   "id": "b0a08bf9",
   "metadata": {},
   "source": [
    "Assign 200 to x. Create the following piece of code: If x > 200, print out \"Big\"; If x > 100 and x <= 200, print out \"Average\"; and If x <= 100, print out \"Small\". Use the If, Elif, and Else keywords in your code."
   ]
  },
  {
   "cell_type": "code",
   "execution_count": null,
   "id": "3b607b75",
   "metadata": {},
   "outputs": [],
   "source": []
  },
  {
   "cell_type": "markdown",
   "id": "cf703d36",
   "metadata": {},
   "source": [
    "# Functions"
   ]
  },
  {
   "cell_type": "markdown",
   "id": "21711497",
   "metadata": {},
   "source": [
    "## Using a function in Another Function"
   ]
  },
  {
   "cell_type": "markdown",
   "id": "dacea9ed",
   "metadata": {},
   "source": [
    "Define a function that adds 5 to the parameter. Then, define another function that will multiply the newly obtained number by 3. Verify your code was correct by calling the second function with an argument of 5. Was your output equal to 30?"
   ]
  },
  {
   "cell_type": "code",
   "execution_count": null,
   "id": "5113ced5",
   "metadata": {},
   "outputs": [],
   "source": []
  },
  {
   "cell_type": "markdown",
   "id": "eda18daf",
   "metadata": {},
   "source": [
    "## Combining Conditional Statement and Functions"
   ]
  },
  {
   "cell_type": "markdown",
   "id": "dc80d17c",
   "metadata": {},
   "source": [
    "Define a function, called compare_the_two(), with two arguments. If the first one is greater than the second one, let it print \"Greater\". If the second one is greater, it should print \"Less\". Let it print \"Equal\" if the two values are the same number."
   ]
  },
  {
   "cell_type": "code",
   "execution_count": null,
   "id": "0e1aff90",
   "metadata": {},
   "outputs": [],
   "source": []
  },
  {
   "cell_type": "markdown",
   "id": "1e14137d",
   "metadata": {},
   "source": [
    "Bonus: Define a function that states the value of the argument accompanied by the phrase \"Raised to the power of 2:\" and returns a value equal to its argument raised to the power of 2. This time, use a new variable, called \"result\", in the body of the Function. Call the function with some argument to verify it works properly.\n",
    "\n",
    "Hint: Your knowledge about stating multiple elements on a line can be of great help in solving this exercise!"
   ]
  },
  {
   "cell_type": "code",
   "execution_count": null,
   "id": "1e60a973",
   "metadata": {},
   "outputs": [],
   "source": []
  },
  {
   "cell_type": "markdown",
   "id": "84364c5a",
   "metadata": {},
   "source": [
    "# Notable Built - In Functions in Python"
   ]
  },
  {
   "cell_type": "markdown",
   "id": "dd3479dc",
   "metadata": {},
   "source": [
    "Give example of:\n",
    "1) A built in function which tells the maximum value among numbers\n",
    "2) A built in function which tells the minimum value among numbers\n",
    "3) A function which tells absolute value\n",
    "4) A function which rounds off\n",
    "5) A function which finds sum of a list\n",
    "6) A function which raises power\n",
    "7) A function which tells how many characters are there in your name"
   ]
  },
  {
   "cell_type": "code",
   "execution_count": null,
   "id": "40bdae70",
   "metadata": {},
   "outputs": [],
   "source": []
  },
  {
   "cell_type": "code",
   "execution_count": null,
   "id": "67b0a070",
   "metadata": {},
   "outputs": [],
   "source": []
  },
  {
   "cell_type": "code",
   "execution_count": null,
   "id": "38292874",
   "metadata": {},
   "outputs": [],
   "source": []
  },
  {
   "cell_type": "code",
   "execution_count": null,
   "id": "696b915d",
   "metadata": {},
   "outputs": [],
   "source": []
  },
  {
   "cell_type": "code",
   "execution_count": null,
   "id": "49a90615",
   "metadata": {},
   "outputs": [],
   "source": []
  },
  {
   "cell_type": "code",
   "execution_count": null,
   "id": "9c9bd7f0",
   "metadata": {},
   "outputs": [],
   "source": []
  },
  {
   "cell_type": "code",
   "execution_count": null,
   "id": "4a3c0ece",
   "metadata": {},
   "outputs": [],
   "source": []
  }
 ],
 "metadata": {
  "kernelspec": {
   "display_name": "Python 3 (ipykernel)",
   "language": "python",
   "name": "python3"
  },
  "language_info": {
   "codemirror_mode": {
    "name": "ipython",
    "version": 3
   },
   "file_extension": ".py",
   "mimetype": "text/x-python",
   "name": "python",
   "nbconvert_exporter": "python",
   "pygments_lexer": "ipython3",
   "version": "3.10.9"
  }
 },
 "nbformat": 4,
 "nbformat_minor": 5
}
