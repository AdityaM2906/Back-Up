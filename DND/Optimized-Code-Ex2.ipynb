{
 "cells": [
  {
   "cell_type": "code",
   "execution_count": 8,
   "id": "27c65bc3",
   "metadata": {
    "scrolled": true
   },
   "outputs": [
    {
     "name": "stdout",
     "output_type": "stream",
     "text": [
      "Please enter file name with extension: Siddharth khata book.xlsx\n",
      "Please enter file sheet name: July\n",
      "Please enter the number of top rows to skip: 3\n",
      "Please enter the number of bottom rows to skip: 1\n",
      "Please enter which columns you want to choose to analyse: 0,1,2\n"
     ]
    }
   ],
   "source": [
    "import pandas as pd\n",
    "import numpy as np\n",
    "\n",
    "np.set_printoptions(suppress=True, linewidth=100, precision=2)\n",
    "\n",
    "def read_excel_file(filename, sheet_name, header_skip, skip_footer, use_cols_str):\n",
    "    try:\n",
    "        header_skip = int(header_skip)\n",
    "        skip_footer = int(skip_footer)\n",
    "        use_cols = [int(col) for col in use_cols_str.split(',')]\n",
    "        \n",
    "        com_data_debit = pd.read_excel(filename,\n",
    "                                       sheet_name=sheet_name,\n",
    "                                       header=header_skip,\n",
    "                                       skipfooter=skip_footer,\n",
    "                                       usecols=use_cols)\n",
    "        \n",
    "        # Handle missing values by dropping rows with NaN\n",
    "        com_data_debit.dropna(axis=0, inplace=True)\n",
    "        \n",
    "        return com_data_debit\n",
    "    except FileNotFoundError:\n",
    "        print(f\"Error: File '{filename}' not found.\")\n",
    "        return None\n",
    "    except Exception as e:\n",
    "        print(f\"An error occurred: {str(e)}\")\n",
    "        return None\n",
    "\n",
    "def calculate_subcat_debit_total(data):\n",
    "    loop_output_subcat = {}\n",
    "    for i in data[\"Details\"].unique():\n",
    "        key = f'{i}'\n",
    "        details = data[data[\"Details\"].str.startswith(i)][\"Debit(-)\"].sum()\n",
    "        loop_output_subcat[key] = details\n",
    "    \n",
    "    sub_cat_debit_total = pd.DataFrame(loop_output_subcat, index=[0]).T\n",
    "    return sub_cat_debit_total\n",
    "\n",
    "def main():\n",
    "    filename = input(\"Please enter file name with extension: \")\n",
    "    sheet_name = input(\"Please enter file sheet name: \")\n",
    "    header_skip = input(\"Please enter the number of top rows to skip: \")\n",
    "    skip_footer = input(\"Please enter the number of bottom rows to skip: \")\n",
    "    use_cols_str = input(\"Please enter which columns you want to choose to analyse: \")\n",
    "\n",
    "    com_data_debit = read_excel_file(filename, sheet_name, header_skip, skip_footer, use_cols_str)\n",
    "    \n",
    "    if com_data_debit is not None:\n",
    "        sub_cat_debit_total = calculate_subcat_debit_total(com_data_debit)\n",
    "        sub_cat_debit_total.to_excel(f\"Sub-Category-Debit-Total-{sheet_name}.xlsx\")\n",
    "\n",
    "if __name__ == \"__main__\":\n",
    "    main()"
   ]
  },
  {
   "cell_type": "code",
   "execution_count": null,
   "id": "5b8362b4",
   "metadata": {},
   "outputs": [],
   "source": []
  }
 ],
 "metadata": {
  "kernelspec": {
   "display_name": "Python 3 (ipykernel)",
   "language": "python",
   "name": "python3"
  },
  "language_info": {
   "codemirror_mode": {
    "name": "ipython",
    "version": 3
   },
   "file_extension": ".py",
   "mimetype": "text/x-python",
   "name": "python",
   "nbconvert_exporter": "python",
   "pygments_lexer": "ipython3",
   "version": "3.10.9"
  }
 },
 "nbformat": 4,
 "nbformat_minor": 5
}
