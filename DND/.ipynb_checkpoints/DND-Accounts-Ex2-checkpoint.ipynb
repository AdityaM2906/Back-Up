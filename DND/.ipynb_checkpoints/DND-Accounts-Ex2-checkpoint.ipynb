{
 "cells": [
  {
   "cell_type": "code",
   "execution_count": 21,
   "id": "a81453ea",
   "metadata": {},
   "outputs": [
    {
     "name": "stdout",
     "output_type": "stream",
     "text": [
      "Please enter file name with extension: Siddharth khata book.xlsx\n",
      "Please enter file sheet name: Feb\n",
      "Please enter the number of top rows to skip: 1\n",
      "Please enter the number of bottom rows to skip: 2\n",
      "Please enter which columns you want to choose to analyse: 0,1,2,3\n"
     ]
    }
   ],
   "source": [
    "import pandas as pd #imported pandas\n",
    "import numpy as np #imported numpy\n",
    "np.set_printoptions(suppress = True,\n",
    "                   linewidth = 100,\n",
    "                   precision = 2)\n",
    "\n",
    "def excel_debit_creator(filename, sheet_name, header_skip, skip_footer, use_cols_str):\n",
    "    \n",
    "    header_skip = int(header_skip)\n",
    "    skip_footer = int(skip_footer)\n",
    "    use_cols = [int(col) for col in use_cols_str.split(',')]\n",
    "    \n",
    "    com_data_debit = pd.read_excel(filename,\n",
    "                                   sheet_name,\n",
    "                                   header=header_skip,\n",
    "                                   skipfooter=skip_footer,\n",
    "                                   usecols=use_cols)\n",
    "    nan_indices = com_data_debit[com_data_debit.isna().any(axis=1)].index\n",
    "    com_data_debit = com_data_debit.drop(nan_indices)\n",
    "    loop_output_subcat ={}\n",
    "    for i in com_data_debit[\"Details\"].unique():\n",
    "        key = f'{i}'\n",
    "        details = com_data_debit[com_data_debit[\"Details\"].str.startswith(i)][\"Debit\"].array.sum()\n",
    "        loop_output_subcat[key]=details\n",
    "        \n",
    "    sub_cat_debit_total = pd.DataFrame(loop_output_subcat, index=range(1))\n",
    "    sub_cat_debit_total=sub_cat_debit_total.T\n",
    "    sub_cat_debit_total.to_excel(\"Sub-Category-Debit-Total-'%s'.xlsx\" % sheet_name)\n",
    "    \n",
    "\n",
    "filename = input(\"Please enter file name with extension: \")\n",
    "sheet_name = input(\"Please enter file sheet name: \")\n",
    "header_skip = input(\"Please enter the number of top rows to skip: \")\n",
    "skip_footer = input(\"Please enter the number of bottom rows to skip: \")\n",
    "use_cols_str = input(\"Please enter which columns you want to choose to analyse: \")\n",
    "\n",
    "excel_debit_creator(filename, sheet_name, header_skip, skip_footer, use_cols_str)\n"
   ]
  },
  {
   "cell_type": "code",
   "execution_count": 2,
   "id": "79f920e1",
   "metadata": {},
   "outputs": [
    {
     "data": {
      "text/html": [
       "<div>\n",
       "<style scoped>\n",
       "    .dataframe tbody tr th:only-of-type {\n",
       "        vertical-align: middle;\n",
       "    }\n",
       "\n",
       "    .dataframe tbody tr th {\n",
       "        vertical-align: top;\n",
       "    }\n",
       "\n",
       "    .dataframe thead th {\n",
       "        text-align: right;\n",
       "    }\n",
       "</style>\n",
       "<table border=\"1\" class=\"dataframe\">\n",
       "  <thead>\n",
       "    <tr style=\"text-align: right;\">\n",
       "      <th></th>\n",
       "      <th>Date</th>\n",
       "      <th>Unnamed: 1</th>\n",
       "      <th>Details</th>\n",
       "      <th>Debit</th>\n",
       "    </tr>\n",
       "  </thead>\n",
       "  <tbody>\n",
       "    <tr>\n",
       "      <th>0</th>\n",
       "      <td>1</td>\n",
       "      <td>Feb</td>\n",
       "      <td>atm withdrawal 13+13</td>\n",
       "      <td>NaN</td>\n",
       "    </tr>\n",
       "    <tr>\n",
       "      <th>1</th>\n",
       "      <td>1</td>\n",
       "      <td>Feb</td>\n",
       "      <td>samajseva</td>\n",
       "      <td>28000.0</td>\n",
       "    </tr>\n",
       "    <tr>\n",
       "      <th>2</th>\n",
       "      <td>1</td>\n",
       "      <td>Feb</td>\n",
       "      <td>vegetables</td>\n",
       "      <td>610.0</td>\n",
       "    </tr>\n",
       "    <tr>\n",
       "      <th>3</th>\n",
       "      <td>1</td>\n",
       "      <td>Feb</td>\n",
       "      <td>kirana</td>\n",
       "      <td>3342.0</td>\n",
       "    </tr>\n",
       "    <tr>\n",
       "      <th>4</th>\n",
       "      <td>1</td>\n",
       "      <td>Feb</td>\n",
       "      <td>dairy</td>\n",
       "      <td>2775.0</td>\n",
       "    </tr>\n",
       "    <tr>\n",
       "      <th>...</th>\n",
       "      <td>...</td>\n",
       "      <td>...</td>\n",
       "      <td>...</td>\n",
       "      <td>...</td>\n",
       "    </tr>\n",
       "    <tr>\n",
       "      <th>169</th>\n",
       "      <td>27</td>\n",
       "      <td>Feb</td>\n",
       "      <td>vegetables</td>\n",
       "      <td>270.0</td>\n",
       "    </tr>\n",
       "    <tr>\n",
       "      <th>170</th>\n",
       "      <td>27</td>\n",
       "      <td>Feb</td>\n",
       "      <td>dairy</td>\n",
       "      <td>2820.0</td>\n",
       "    </tr>\n",
       "    <tr>\n",
       "      <th>171</th>\n",
       "      <td>27</td>\n",
       "      <td>Feb</td>\n",
       "      <td>kirana</td>\n",
       "      <td>2786.0</td>\n",
       "    </tr>\n",
       "    <tr>\n",
       "      <th>172</th>\n",
       "      <td>27</td>\n",
       "      <td>Feb</td>\n",
       "      <td>old butter pending 1/2 kg</td>\n",
       "      <td>260.0</td>\n",
       "    </tr>\n",
       "    <tr>\n",
       "      <th>173</th>\n",
       "      <td>27</td>\n",
       "      <td>Feb</td>\n",
       "      <td>cash counter</td>\n",
       "      <td>NaN</td>\n",
       "    </tr>\n",
       "  </tbody>\n",
       "</table>\n",
       "<p>174 rows × 4 columns</p>\n",
       "</div>"
      ],
      "text/plain": [
       "     Date Unnamed: 1                    Details    Debit\n",
       "0       1        Feb       atm withdrawal 13+13      NaN\n",
       "1       1        Feb                  samajseva  28000.0\n",
       "2       1        Feb                 vegetables    610.0\n",
       "3       1        Feb                     kirana   3342.0\n",
       "4       1        Feb                      dairy   2775.0\n",
       "..    ...        ...                        ...      ...\n",
       "169    27        Feb                 vegetables    270.0\n",
       "170    27        Feb                      dairy   2820.0\n",
       "171    27        Feb                     kirana   2786.0\n",
       "172    27        Feb  old butter pending 1/2 kg    260.0\n",
       "173    27        Feb               cash counter      NaN\n",
       "\n",
       "[174 rows x 4 columns]"
      ]
     },
     "execution_count": 2,
     "metadata": {},
     "output_type": "execute_result"
    }
   ],
   "source": [
    "com_data_debit"
   ]
  },
  {
   "cell_type": "code",
   "execution_count": 3,
   "id": "215c6ce9",
   "metadata": {},
   "outputs": [
    {
     "data": {
      "text/html": [
       "<div>\n",
       "<style scoped>\n",
       "    .dataframe tbody tr th:only-of-type {\n",
       "        vertical-align: middle;\n",
       "    }\n",
       "\n",
       "    .dataframe tbody tr th {\n",
       "        vertical-align: top;\n",
       "    }\n",
       "\n",
       "    .dataframe thead th {\n",
       "        text-align: right;\n",
       "    }\n",
       "</style>\n",
       "<table border=\"1\" class=\"dataframe\">\n",
       "  <thead>\n",
       "    <tr style=\"text-align: right;\">\n",
       "      <th></th>\n",
       "      <th>Date</th>\n",
       "      <th>Unnamed: 1</th>\n",
       "      <th>Details</th>\n",
       "      <th>Debit</th>\n",
       "    </tr>\n",
       "  </thead>\n",
       "  <tbody>\n",
       "    <tr>\n",
       "      <th>0</th>\n",
       "      <td>1</td>\n",
       "      <td>Feb</td>\n",
       "      <td>atm withdrawal 13+13</td>\n",
       "      <td>NaN</td>\n",
       "    </tr>\n",
       "    <tr>\n",
       "      <th>1</th>\n",
       "      <td>1</td>\n",
       "      <td>Feb</td>\n",
       "      <td>samajseva</td>\n",
       "      <td>28000.0</td>\n",
       "    </tr>\n",
       "    <tr>\n",
       "      <th>2</th>\n",
       "      <td>1</td>\n",
       "      <td>Feb</td>\n",
       "      <td>vegetables</td>\n",
       "      <td>610.0</td>\n",
       "    </tr>\n",
       "    <tr>\n",
       "      <th>3</th>\n",
       "      <td>1</td>\n",
       "      <td>Feb</td>\n",
       "      <td>kirana</td>\n",
       "      <td>3342.0</td>\n",
       "    </tr>\n",
       "    <tr>\n",
       "      <th>4</th>\n",
       "      <td>1</td>\n",
       "      <td>Feb</td>\n",
       "      <td>dairy</td>\n",
       "      <td>2775.0</td>\n",
       "    </tr>\n",
       "    <tr>\n",
       "      <th>...</th>\n",
       "      <td>...</td>\n",
       "      <td>...</td>\n",
       "      <td>...</td>\n",
       "      <td>...</td>\n",
       "    </tr>\n",
       "    <tr>\n",
       "      <th>169</th>\n",
       "      <td>27</td>\n",
       "      <td>Feb</td>\n",
       "      <td>vegetables</td>\n",
       "      <td>270.0</td>\n",
       "    </tr>\n",
       "    <tr>\n",
       "      <th>170</th>\n",
       "      <td>27</td>\n",
       "      <td>Feb</td>\n",
       "      <td>dairy</td>\n",
       "      <td>2820.0</td>\n",
       "    </tr>\n",
       "    <tr>\n",
       "      <th>171</th>\n",
       "      <td>27</td>\n",
       "      <td>Feb</td>\n",
       "      <td>kirana</td>\n",
       "      <td>2786.0</td>\n",
       "    </tr>\n",
       "    <tr>\n",
       "      <th>172</th>\n",
       "      <td>27</td>\n",
       "      <td>Feb</td>\n",
       "      <td>old butter pending 1/2 kg</td>\n",
       "      <td>260.0</td>\n",
       "    </tr>\n",
       "    <tr>\n",
       "      <th>173</th>\n",
       "      <td>27</td>\n",
       "      <td>Feb</td>\n",
       "      <td>cash counter</td>\n",
       "      <td>NaN</td>\n",
       "    </tr>\n",
       "  </tbody>\n",
       "</table>\n",
       "<p>174 rows × 4 columns</p>\n",
       "</div>"
      ],
      "text/plain": [
       "     Date Unnamed: 1                    Details    Debit\n",
       "0       1        Feb       atm withdrawal 13+13      NaN\n",
       "1       1        Feb                  samajseva  28000.0\n",
       "2       1        Feb                 vegetables    610.0\n",
       "3       1        Feb                     kirana   3342.0\n",
       "4       1        Feb                      dairy   2775.0\n",
       "..    ...        ...                        ...      ...\n",
       "169    27        Feb                 vegetables    270.0\n",
       "170    27        Feb                      dairy   2820.0\n",
       "171    27        Feb                     kirana   2786.0\n",
       "172    27        Feb  old butter pending 1/2 kg    260.0\n",
       "173    27        Feb               cash counter      NaN\n",
       "\n",
       "[174 rows x 4 columns]"
      ]
     },
     "execution_count": 3,
     "metadata": {},
     "output_type": "execute_result"
    }
   ],
   "source": [
    "com_data_debit"
   ]
  },
  {
   "cell_type": "code",
   "execution_count": 6,
   "id": "5d80244f",
   "metadata": {},
   "outputs": [
    {
     "data": {
      "text/plain": [
       "Date           0\n",
       "Unnamed: 1     0\n",
       "Details        0\n",
       "Debit         25\n",
       "dtype: int64"
      ]
     },
     "execution_count": 6,
     "metadata": {},
     "output_type": "execute_result"
    }
   ],
   "source": [
    "com_data_debit.isna().sum()"
   ]
  },
  {
   "cell_type": "code",
   "execution_count": 7,
   "id": "7b7d960b",
   "metadata": {},
   "outputs": [],
   "source": [
    "nan_indices = com_data_debit[com_data_debit.isna().any(axis=1)].index"
   ]
  },
  {
   "cell_type": "code",
   "execution_count": 8,
   "id": "2d58486a",
   "metadata": {},
   "outputs": [
    {
     "data": {
      "text/plain": [
       "Index([  0,   7,  14,  20,  25,  33,  40,  41,  46,  54,  55,  65,  74,  82,\n",
       "        88,  94, 101, 102, 109, 117, 129, 143, 152, 165, 173],\n",
       "      dtype='int64')"
      ]
     },
     "execution_count": 8,
     "metadata": {},
     "output_type": "execute_result"
    }
   ],
   "source": [
    "nan_indices"
   ]
  },
  {
   "cell_type": "code",
   "execution_count": 9,
   "id": "60d54ba1",
   "metadata": {},
   "outputs": [],
   "source": [
    "com_data_debit = com_data_debit.drop(nan_indices)"
   ]
  },
  {
   "cell_type": "code",
   "execution_count": 10,
   "id": "d9fa901a",
   "metadata": {},
   "outputs": [
    {
     "data": {
      "text/html": [
       "<div>\n",
       "<style scoped>\n",
       "    .dataframe tbody tr th:only-of-type {\n",
       "        vertical-align: middle;\n",
       "    }\n",
       "\n",
       "    .dataframe tbody tr th {\n",
       "        vertical-align: top;\n",
       "    }\n",
       "\n",
       "    .dataframe thead th {\n",
       "        text-align: right;\n",
       "    }\n",
       "</style>\n",
       "<table border=\"1\" class=\"dataframe\">\n",
       "  <thead>\n",
       "    <tr style=\"text-align: right;\">\n",
       "      <th></th>\n",
       "      <th>Date</th>\n",
       "      <th>Unnamed: 1</th>\n",
       "      <th>Details</th>\n",
       "      <th>Debit</th>\n",
       "    </tr>\n",
       "  </thead>\n",
       "  <tbody>\n",
       "    <tr>\n",
       "      <th>1</th>\n",
       "      <td>1</td>\n",
       "      <td>Feb</td>\n",
       "      <td>samajseva</td>\n",
       "      <td>28000.0</td>\n",
       "    </tr>\n",
       "    <tr>\n",
       "      <th>2</th>\n",
       "      <td>1</td>\n",
       "      <td>Feb</td>\n",
       "      <td>vegetables</td>\n",
       "      <td>610.0</td>\n",
       "    </tr>\n",
       "    <tr>\n",
       "      <th>3</th>\n",
       "      <td>1</td>\n",
       "      <td>Feb</td>\n",
       "      <td>kirana</td>\n",
       "      <td>3342.0</td>\n",
       "    </tr>\n",
       "    <tr>\n",
       "      <th>4</th>\n",
       "      <td>1</td>\n",
       "      <td>Feb</td>\n",
       "      <td>dairy</td>\n",
       "      <td>2775.0</td>\n",
       "    </tr>\n",
       "    <tr>\n",
       "      <th>5</th>\n",
       "      <td>1</td>\n",
       "      <td>Feb</td>\n",
       "      <td>petrol</td>\n",
       "      <td>500.0</td>\n",
       "    </tr>\n",
       "    <tr>\n",
       "      <th>...</th>\n",
       "      <td>...</td>\n",
       "      <td>...</td>\n",
       "      <td>...</td>\n",
       "      <td>...</td>\n",
       "    </tr>\n",
       "    <tr>\n",
       "      <th>168</th>\n",
       "      <td>27</td>\n",
       "      <td>Feb</td>\n",
       "      <td>eggs 2 tray</td>\n",
       "      <td>267.0</td>\n",
       "    </tr>\n",
       "    <tr>\n",
       "      <th>169</th>\n",
       "      <td>27</td>\n",
       "      <td>Feb</td>\n",
       "      <td>vegetables</td>\n",
       "      <td>270.0</td>\n",
       "    </tr>\n",
       "    <tr>\n",
       "      <th>170</th>\n",
       "      <td>27</td>\n",
       "      <td>Feb</td>\n",
       "      <td>dairy</td>\n",
       "      <td>2820.0</td>\n",
       "    </tr>\n",
       "    <tr>\n",
       "      <th>171</th>\n",
       "      <td>27</td>\n",
       "      <td>Feb</td>\n",
       "      <td>kirana</td>\n",
       "      <td>2786.0</td>\n",
       "    </tr>\n",
       "    <tr>\n",
       "      <th>172</th>\n",
       "      <td>27</td>\n",
       "      <td>Feb</td>\n",
       "      <td>old butter pending 1/2 kg</td>\n",
       "      <td>260.0</td>\n",
       "    </tr>\n",
       "  </tbody>\n",
       "</table>\n",
       "<p>149 rows × 4 columns</p>\n",
       "</div>"
      ],
      "text/plain": [
       "     Date Unnamed: 1                    Details    Debit\n",
       "1       1        Feb                  samajseva  28000.0\n",
       "2       1        Feb                 vegetables    610.0\n",
       "3       1        Feb                     kirana   3342.0\n",
       "4       1        Feb                      dairy   2775.0\n",
       "5       1        Feb                     petrol    500.0\n",
       "..    ...        ...                        ...      ...\n",
       "168    27        Feb                eggs 2 tray    267.0\n",
       "169    27        Feb                 vegetables    270.0\n",
       "170    27        Feb                      dairy   2820.0\n",
       "171    27        Feb                     kirana   2786.0\n",
       "172    27        Feb  old butter pending 1/2 kg    260.0\n",
       "\n",
       "[149 rows x 4 columns]"
      ]
     },
     "execution_count": 10,
     "metadata": {},
     "output_type": "execute_result"
    }
   ],
   "source": [
    "com_data_debit"
   ]
  },
  {
   "cell_type": "code",
   "execution_count": 11,
   "id": "d438797b",
   "metadata": {},
   "outputs": [
    {
     "data": {
      "text/plain": [
       "Date          0\n",
       "Unnamed: 1    0\n",
       "Details       0\n",
       "Debit         0\n",
       "dtype: int64"
      ]
     },
     "execution_count": 11,
     "metadata": {},
     "output_type": "execute_result"
    }
   ],
   "source": [
    "com_data_debit.isna().sum()"
   ]
  },
  {
   "cell_type": "code",
   "execution_count": 12,
   "id": "230f2f7c",
   "metadata": {},
   "outputs": [
    {
     "data": {
      "text/plain": [
       "array(['samajseva', 'vegetables', 'kirana', 'dairy', 'petrol', 'mutton', 'eggs', 'lemon',\n",
       "       'stationary', 'utensil', 'chicken ib', 'hukka exp', 'mutton 2kg', 'eggs 2 tray',\n",
       "       'onion 10kg', 'toilet freshners', '5 kg paneer', 'old cling flim payment',\n",
       "       'staff party liquor', '52kg onion', '2kg mutton', 'parking monthly', 'gulab jamun',\n",
       "       'mutton 2 kg', 'mixer repair', 'ginger', 'green chilli', 'potato', 'Daniya 3kg', 'kakdi',\n",
       "       'garlic', 'hukka pot and exp', 'khowa', '5kg paneer', 'chakka', 'onion 60kg', 'kot books',\n",
       "       'fish', '36ltr oil rice bran', 'onion', 'old butter pending 1/2 kg'], dtype=object)"
      ]
     },
     "execution_count": 12,
     "metadata": {},
     "output_type": "execute_result"
    }
   ],
   "source": [
    "com_data_debit[\"Details\"].unique()"
   ]
  },
  {
   "cell_type": "code",
   "execution_count": 14,
   "id": "ba33ea98",
   "metadata": {},
   "outputs": [
    {
     "data": {
      "text/plain": [
       "Details\n",
       "dairy                        22\n",
       "kirana                       21\n",
       "vegetables                   21\n",
       "petrol                       16\n",
       "lemon                        15\n",
       "eggs 2 tray                   6\n",
       "mutton                        6\n",
       "mutton 2kg                    4\n",
       "eggs                          4\n",
       "toilet freshners              2\n",
       "hukka exp                     2\n",
       "hukka pot and exp             1\n",
       "Daniya 3kg                    1\n",
       "garlic                        1\n",
       "kakdi                         1\n",
       "5kg paneer                    1\n",
       "khowa                         1\n",
       "samajseva                     1\n",
       "chakka                        1\n",
       "onion 60kg                    1\n",
       "kot books                     1\n",
       "green chilli                  1\n",
       "fish                          1\n",
       "36ltr oil rice bran           1\n",
       "onion                         1\n",
       "potato                        1\n",
       "2kg mutton                    1\n",
       "ginger                        1\n",
       "mixer repair                  1\n",
       "mutton 2 kg                   1\n",
       "gulab jamun                   1\n",
       "parking monthly               1\n",
       "52kg onion                    1\n",
       "staff party liquor            1\n",
       "old cling flim payment        1\n",
       "5 kg paneer                   1\n",
       "onion 10kg                    1\n",
       "chicken ib                    1\n",
       "utensil                       1\n",
       "stationary                    1\n",
       "old butter pending 1/2 kg     1\n",
       "Name: count, dtype: int64"
      ]
     },
     "execution_count": 14,
     "metadata": {},
     "output_type": "execute_result"
    }
   ],
   "source": [
    "com_data_debit[\"Details\"].value_counts()"
   ]
  },
  {
   "cell_type": "code",
   "execution_count": 16,
   "id": "af509251",
   "metadata": {},
   "outputs": [
    {
     "name": "stdout",
     "output_type": "stream",
     "text": [
      "2kg mutton: Index([73], dtype='int64')\n",
      "36ltr oil rice bran: Index([156], dtype='int64')\n",
      "5 kg paneer: Index([62], dtype='int64')\n",
      "52kg onion: Index([67], dtype='int64')\n",
      "5kg paneer: Index([132], dtype='int64')\n",
      "Daniya 3kg: Index([124], dtype='int64')\n",
      "chakka: Index([133], dtype='int64')\n",
      "chicken ib: Index([35], dtype='int64')\n",
      "dairy: Index([  4,  11,  19,  24,  30,  38,  43,  51,  61,  70,  80,  86,  91,  99,\n",
      "       106, 113, 118, 140, 150, 158, 164, 170],\n",
      "      dtype='int64')\n",
      "eggs: Index([10, 29, 97, 155], dtype='int64')\n",
      "eggs 2 tray: Index([49, 69, 79, 111, 138, 168], dtype='int64')\n",
      "fish: Index([146], dtype='int64')\n",
      "garlic: Index([127], dtype='int64')\n",
      "ginger: Index([120], dtype='int64')\n",
      "green chilli: Index([122], dtype='int64')\n",
      "gulab jamun: Index([87], dtype='int64')\n",
      "hukka exp: Index([47, 128], dtype='int64')\n",
      "hukka pot and exp: Index([130], dtype='int64')\n",
      "kakdi: Index([125], dtype='int64')\n",
      "khowa: Index([131], dtype='int64')\n",
      "kirana: Index([  3,   9,  18,  22,  28,  37,  44,  53,  59,  71,  76,  85,  90,  98,\n",
      "       105, 112, 139, 148, 157, 163, 171],\n",
      "      dtype='int64')\n",
      "kot books: Index([136], dtype='int64')\n",
      "lemon: Index([17, 26, 52, 58, 68, 78, 84, 104, 115, 121, 135, 151, 154, 162, 166], dtype='int64')\n",
      "mixer repair: Index([110], dtype='int64')\n",
      "mutton: Index([6, 13, 15, 31, 137, 145], dtype='int64')\n",
      "mutton 2 kg: Index([92], dtype='int64')\n",
      "mutton 2kg: Index([48, 108, 119, 159], dtype='int64')\n",
      "old butter pending 1/2 kg: Index([172], dtype='int64')\n",
      "old cling flim payment: Index([63], dtype='int64')\n",
      "onion: Index([167], dtype='int64')\n",
      "onion 10kg: Index([57], dtype='int64')\n",
      "onion 60kg: Index([134], dtype='int64')\n",
      "parking monthly: Index([75], dtype='int64')\n",
      "petrol: Index([5, 12, 32, 39, 45, 72, 81, 89, 95, 100, 107, 116, 126, 142, 144, 160], dtype='int64')\n",
      "potato: Index([123], dtype='int64')\n",
      "samajseva: Index([1], dtype='int64')\n",
      "staff party liquor: Index([64], dtype='int64')\n",
      "stationary: Index([23], dtype='int64')\n",
      "toilet freshners: Index([60, 149], dtype='int64')\n",
      "utensil: Index([34], dtype='int64')\n",
      "vegetables: Index([  2,   8,  16,  21,  27,  36,  42,  50,  56,  66,  77,  83,  93,  96,\n",
      "       103, 114, 141, 147, 153, 161, 169],\n",
      "      dtype='int64')\n"
     ]
    }
   ],
   "source": [
    "locations=com_data_debit.groupby('Details').groups\n",
    "for key, value in locations.items():\n",
    "    print(f\"{key}: {value}\")"
   ]
  },
  {
   "cell_type": "code",
   "execution_count": 18,
   "id": "aaa62303",
   "metadata": {},
   "outputs": [],
   "source": [
    "loop_output_subcat ={}\n",
    "for i in com_data_debit[\"Details\"].unique():\n",
    "    key = f'{i}'\n",
    "    details = com_data_debit[com_data_debit[\"Details\"].str.startswith(i)][\"Debit\"].array.sum()\n",
    "    loop_output_subcat[key]=details"
   ]
  },
  {
   "cell_type": "code",
   "execution_count": 19,
   "id": "267d0d19",
   "metadata": {},
   "outputs": [
    {
     "data": {
      "text/plain": [
       "{'samajseva': 28000.0,\n",
       " 'vegetables': 14402.0,\n",
       " 'kirana': 80231.0,\n",
       " 'dairy': 47907.0,\n",
       " 'petrol': 8000.0,\n",
       " 'mutton': 11700.0,\n",
       " 'eggs': 2764.0,\n",
       " 'lemon': 4420.0,\n",
       " 'stationary': 280.0,\n",
       " 'utensil': 440.0,\n",
       " 'chicken ib': 1499.0,\n",
       " 'hukka exp': 4570.0,\n",
       " 'mutton 2kg': 5200.0,\n",
       " 'eggs 2 tray': 1639.0,\n",
       " 'onion 10kg': 250.0,\n",
       " 'toilet freshners': 320.0,\n",
       " '5 kg paneer': 1400.0,\n",
       " 'old cling flim payment': 650.0,\n",
       " 'staff party liquor': 1860.0,\n",
       " '52kg onion': 1100.0,\n",
       " '2kg mutton': 1300.0,\n",
       " 'parking monthly': 300.0,\n",
       " 'gulab jamun': 500.0,\n",
       " 'mutton 2 kg': 1300.0,\n",
       " 'mixer repair': 220.0,\n",
       " 'ginger': 80.0,\n",
       " 'green chilli': 80.0,\n",
       " 'potato': 50.0,\n",
       " 'Daniya 3kg': 90.0,\n",
       " 'kakdi': 25.0,\n",
       " 'garlic': 180.0,\n",
       " 'hukka pot and exp': 3960.0,\n",
       " 'khowa': 140.0,\n",
       " '5kg paneer': 1400.0,\n",
       " 'chakka': 800.0,\n",
       " 'onion 60kg': 1320.0,\n",
       " 'kot books': 680.0,\n",
       " 'fish': 1000.0,\n",
       " '36ltr oil rice bran': 4392.0,\n",
       " 'onion': 2430.0,\n",
       " 'old butter pending 1/2 kg': 260.0}"
      ]
     },
     "execution_count": 19,
     "metadata": {},
     "output_type": "execute_result"
    }
   ],
   "source": [
    "loop_output_subcat"
   ]
  },
  {
   "cell_type": "code",
   "execution_count": 20,
   "id": "15c77c18",
   "metadata": {},
   "outputs": [],
   "source": [
    "sub_cat_debit_total = pd.DataFrame(loop_output_subcat, index=range(1))\n",
    "sub_cat_debit_total=sub_cat_debit_total.T\n",
    "sub_cat_debit_total.to_excel(\"Sub-Category-Debit-Total-Feb.xlsx\")"
   ]
  },
  {
   "cell_type": "code",
   "execution_count": null,
   "id": "d0142432",
   "metadata": {},
   "outputs": [],
   "source": []
  },
  {
   "cell_type": "code",
   "execution_count": null,
   "id": "cfbb6cf8",
   "metadata": {},
   "outputs": [],
   "source": []
  },
  {
   "cell_type": "code",
   "execution_count": null,
   "id": "1991805c",
   "metadata": {},
   "outputs": [],
   "source": []
  },
  {
   "cell_type": "code",
   "execution_count": 23,
   "id": "37be3b08",
   "metadata": {},
   "outputs": [
    {
     "name": "stdout",
     "output_type": "stream",
     "text": [
      "The two Excel files are identical.\n"
     ]
    }
   ],
   "source": [
    "# Load the two Excel files into DataFrames\n",
    "df1 = pd.read_excel(\"Sub-Category-Debit-Total-Feb.xlsx\")\n",
    "df2 = pd.read_excel(\"Sub-Category-Debit-Total-'Feb'.xlsx\")\n",
    "\n",
    "# Compare DataFrames for equality\n",
    "if df1.equals(df2):\n",
    "    print(\"The two Excel files are identical.\")\n",
    "else:\n",
    "    print(\"The two Excel files are different.\")"
   ]
  },
  {
   "cell_type": "code",
   "execution_count": null,
   "id": "18c8e6c6",
   "metadata": {},
   "outputs": [],
   "source": []
  }
 ],
 "metadata": {
  "kernelspec": {
   "display_name": "Python 3 (ipykernel)",
   "language": "python",
   "name": "python3"
  },
  "language_info": {
   "codemirror_mode": {
    "name": "ipython",
    "version": 3
   },
   "file_extension": ".py",
   "mimetype": "text/x-python",
   "name": "python",
   "nbconvert_exporter": "python",
   "pygments_lexer": "ipython3",
   "version": "3.10.9"
  }
 },
 "nbformat": 4,
 "nbformat_minor": 5
}
