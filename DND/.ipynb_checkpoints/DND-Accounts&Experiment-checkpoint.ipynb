{
 "cells": [
  {
   "cell_type": "markdown",
   "id": "000feda7",
   "metadata": {},
   "source": [
    "Following script is created for Hotel DND and the analysis of the excel and associated steps to be taken are as follows:\n",
    "\n",
    "Observation:\n",
    "\n",
    "1.) This is a multi sheet excel file\n",
    "\n",
    "2.) Pandas is recommended with NumPy for data cleaning and preprocessing\n",
    "\n",
    "3.) The data will be divided in to Debit, Credit and Balance\n",
    "\n",
    "4.) REQUEST: Loan need to be highlighted\n",
    "\n",
    "5.) Data is divide on the bases of months from Jan-July\n",
    "\n",
    "6.) Data inconsistency can be an issue deep check for NaN recommended\n",
    "\n",
    "7.) PRIORITY: Sub-categorisation is the top priority\n",
    "\n",
    "STEPS:\n",
    "\n",
    "S1> Data import\n",
    "\n",
    "S2.0> Data segregation in Debit, Credit and Balance(creation of individual excel sheet recommended)\n",
    "\n",
    "S2.1> Check for NaN values\n",
    "\n",
    "S3> After creation of excel sheets individual analysis is needed\n",
    "\n",
    "S4> Sub-Cateorisation is the top proority \n",
    "\n",
    "S5> Final sheet should have sub cat, combined with the result of debit, credit and balamve for all the months and individual months respectively\n",
    "\n",
    "S6> Each sheet should be handled individualy"
   ]
  },
  {
   "cell_type": "code",
   "execution_count": 1,
   "id": "0aa35a82",
   "metadata": {},
   "outputs": [],
   "source": [
    "import pandas as pd #imported pandas\n",
    "import numpy as np #imported numpy\n",
    "np.set_printoptions(suppress = True,\n",
    "                   linewidth = 100,\n",
    "                   precision = 2)\n",
    "#SETTING VIEW"
   ]
  },
  {
   "cell_type": "code",
   "execution_count": 2,
   "id": "28e014b2",
   "metadata": {},
   "outputs": [],
   "source": [
    "com_data_jan_debit = pd.read_excel(\"Siddharth khata book.xlsx\",\n",
    "                                   \"Jan\",\n",
    "                                   header=4,\n",
    "                                   skipfooter=2,\n",
    "                                   usecols=[0,1,2,3])\n",
    "#the above code imported the excel\n",
    "#Sheet JAN\n",
    "#4 unnecessary header rows were skipped\n",
    "#2 footers were skipped\n",
    "#This is only for data of debit"
   ]
  },
  {
   "cell_type": "code",
   "execution_count": 3,
   "id": "2d97666f",
   "metadata": {},
   "outputs": [
    {
     "data": {
      "text/html": [
       "<div>\n",
       "<style scoped>\n",
       "    .dataframe tbody tr th:only-of-type {\n",
       "        vertical-align: middle;\n",
       "    }\n",
       "\n",
       "    .dataframe tbody tr th {\n",
       "        vertical-align: top;\n",
       "    }\n",
       "\n",
       "    .dataframe thead th {\n",
       "        text-align: right;\n",
       "    }\n",
       "</style>\n",
       "<table border=\"1\" class=\"dataframe\">\n",
       "  <thead>\n",
       "    <tr style=\"text-align: right;\">\n",
       "      <th></th>\n",
       "      <th>Date</th>\n",
       "      <th>Unnamed: 1</th>\n",
       "      <th>Details</th>\n",
       "      <th>Debit(-)</th>\n",
       "    </tr>\n",
       "  </thead>\n",
       "  <tbody>\n",
       "    <tr>\n",
       "      <th>0</th>\n",
       "      <td>1</td>\n",
       "      <td>2023-01-01 00:00:00</td>\n",
       "      <td>NaN</td>\n",
       "      <td>NaN</td>\n",
       "    </tr>\n",
       "    <tr>\n",
       "      <th>1</th>\n",
       "      <td>1</td>\n",
       "      <td>Jan carry forward from Dec 22</td>\n",
       "      <td>NaN</td>\n",
       "      <td>99334.0</td>\n",
       "    </tr>\n",
       "    <tr>\n",
       "      <th>2</th>\n",
       "      <td>1</td>\n",
       "      <td>Jan cash counter 31.12. 2022</td>\n",
       "      <td>NaN</td>\n",
       "      <td>NaN</td>\n",
       "    </tr>\n",
       "    <tr>\n",
       "      <th>3</th>\n",
       "      <td>1</td>\n",
       "      <td>Jan</td>\n",
       "      <td>lemon</td>\n",
       "      <td>220.0</td>\n",
       "    </tr>\n",
       "    <tr>\n",
       "      <th>4</th>\n",
       "      <td>1</td>\n",
       "      <td>Jan</td>\n",
       "      <td>vegetables</td>\n",
       "      <td>860.0</td>\n",
       "    </tr>\n",
       "    <tr>\n",
       "      <th>...</th>\n",
       "      <td>...</td>\n",
       "      <td>...</td>\n",
       "      <td>...</td>\n",
       "      <td>...</td>\n",
       "    </tr>\n",
       "    <tr>\n",
       "      <th>205</th>\n",
       "      <td>31</td>\n",
       "      <td>Jan</td>\n",
       "      <td>vegetables</td>\n",
       "      <td>310.0</td>\n",
       "    </tr>\n",
       "    <tr>\n",
       "      <th>206</th>\n",
       "      <td>31</td>\n",
       "      <td>Jan</td>\n",
       "      <td>kirana</td>\n",
       "      <td>1948.0</td>\n",
       "    </tr>\n",
       "    <tr>\n",
       "      <th>207</th>\n",
       "      <td>31</td>\n",
       "      <td>Jan</td>\n",
       "      <td>dairy</td>\n",
       "      <td>1390.0</td>\n",
       "    </tr>\n",
       "    <tr>\n",
       "      <th>208</th>\n",
       "      <td>31</td>\n",
       "      <td>Jan</td>\n",
       "      <td>cash counter</td>\n",
       "      <td>NaN</td>\n",
       "    </tr>\n",
       "    <tr>\n",
       "      <th>209</th>\n",
       "      <td>31</td>\n",
       "      <td>Jan</td>\n",
       "      <td>card loan to account</td>\n",
       "      <td>49000.0</td>\n",
       "    </tr>\n",
       "  </tbody>\n",
       "</table>\n",
       "<p>210 rows × 4 columns</p>\n",
       "</div>"
      ],
      "text/plain": [
       "     Date                     Unnamed: 1               Details  Debit(-)\n",
       "0       1            2023-01-01 00:00:00                   NaN       NaN\n",
       "1       1  Jan carry forward from Dec 22                   NaN   99334.0\n",
       "2       1   Jan cash counter 31.12. 2022                   NaN       NaN\n",
       "3       1                           Jan                  lemon     220.0\n",
       "4       1                           Jan             vegetables     860.0\n",
       "..    ...                            ...                   ...       ...\n",
       "205    31                            Jan            vegetables     310.0\n",
       "206    31                            Jan                kirana    1948.0\n",
       "207    31                            Jan                 dairy    1390.0\n",
       "208    31                            Jan          cash counter       NaN\n",
       "209    31                            Jan  card loan to account   49000.0\n",
       "\n",
       "[210 rows x 4 columns]"
      ]
     },
     "execution_count": 3,
     "metadata": {},
     "output_type": "execute_result"
    }
   ],
   "source": [
    "com_data_jan_debit\n",
    "#according to data the carry forward debt is 99334.0 from Dec 2022"
   ]
  },
  {
   "cell_type": "code",
   "execution_count": 4,
   "id": "11158638",
   "metadata": {},
   "outputs": [],
   "source": [
    "com_data_jan_debit = com_data_jan_debit.drop([0,1,2])\n",
    "#row 0,1,2 was droped caus it had no data"
   ]
  },
  {
   "cell_type": "code",
   "execution_count": 5,
   "id": "26a60eb6",
   "metadata": {
    "scrolled": true
   },
   "outputs": [
    {
     "data": {
      "text/html": [
       "<div>\n",
       "<style scoped>\n",
       "    .dataframe tbody tr th:only-of-type {\n",
       "        vertical-align: middle;\n",
       "    }\n",
       "\n",
       "    .dataframe tbody tr th {\n",
       "        vertical-align: top;\n",
       "    }\n",
       "\n",
       "    .dataframe thead th {\n",
       "        text-align: right;\n",
       "    }\n",
       "</style>\n",
       "<table border=\"1\" class=\"dataframe\">\n",
       "  <thead>\n",
       "    <tr style=\"text-align: right;\">\n",
       "      <th></th>\n",
       "      <th>Date</th>\n",
       "      <th>Unnamed: 1</th>\n",
       "      <th>Details</th>\n",
       "      <th>Debit(-)</th>\n",
       "    </tr>\n",
       "  </thead>\n",
       "  <tbody>\n",
       "    <tr>\n",
       "      <th>3</th>\n",
       "      <td>1</td>\n",
       "      <td>Jan</td>\n",
       "      <td>lemon</td>\n",
       "      <td>220.0</td>\n",
       "    </tr>\n",
       "    <tr>\n",
       "      <th>4</th>\n",
       "      <td>1</td>\n",
       "      <td>Jan</td>\n",
       "      <td>vegetables</td>\n",
       "      <td>860.0</td>\n",
       "    </tr>\n",
       "    <tr>\n",
       "      <th>5</th>\n",
       "      <td>1</td>\n",
       "      <td>Jan</td>\n",
       "      <td>kirana</td>\n",
       "      <td>7665.0</td>\n",
       "    </tr>\n",
       "    <tr>\n",
       "      <th>6</th>\n",
       "      <td>1</td>\n",
       "      <td>Jan</td>\n",
       "      <td>dairy</td>\n",
       "      <td>4395.0</td>\n",
       "    </tr>\n",
       "    <tr>\n",
       "      <th>7</th>\n",
       "      <td>1</td>\n",
       "      <td>Jan</td>\n",
       "      <td>mutton 3kg</td>\n",
       "      <td>1950.0</td>\n",
       "    </tr>\n",
       "    <tr>\n",
       "      <th>...</th>\n",
       "      <td>...</td>\n",
       "      <td>...</td>\n",
       "      <td>...</td>\n",
       "      <td>...</td>\n",
       "    </tr>\n",
       "    <tr>\n",
       "      <th>205</th>\n",
       "      <td>31</td>\n",
       "      <td>Jan</td>\n",
       "      <td>vegetables</td>\n",
       "      <td>310.0</td>\n",
       "    </tr>\n",
       "    <tr>\n",
       "      <th>206</th>\n",
       "      <td>31</td>\n",
       "      <td>Jan</td>\n",
       "      <td>kirana</td>\n",
       "      <td>1948.0</td>\n",
       "    </tr>\n",
       "    <tr>\n",
       "      <th>207</th>\n",
       "      <td>31</td>\n",
       "      <td>Jan</td>\n",
       "      <td>dairy</td>\n",
       "      <td>1390.0</td>\n",
       "    </tr>\n",
       "    <tr>\n",
       "      <th>208</th>\n",
       "      <td>31</td>\n",
       "      <td>Jan</td>\n",
       "      <td>cash counter</td>\n",
       "      <td>NaN</td>\n",
       "    </tr>\n",
       "    <tr>\n",
       "      <th>209</th>\n",
       "      <td>31</td>\n",
       "      <td>Jan</td>\n",
       "      <td>card loan to account</td>\n",
       "      <td>49000.0</td>\n",
       "    </tr>\n",
       "  </tbody>\n",
       "</table>\n",
       "<p>207 rows × 4 columns</p>\n",
       "</div>"
      ],
      "text/plain": [
       "     Date Unnamed: 1               Details  Debit(-)\n",
       "3       1       Jan                  lemon     220.0\n",
       "4       1       Jan             vegetables     860.0\n",
       "5       1       Jan                 kirana    7665.0\n",
       "6       1       Jan                  dairy    4395.0\n",
       "7       1       Jan             mutton 3kg    1950.0\n",
       "..    ...        ...                   ...       ...\n",
       "205    31        Jan            vegetables     310.0\n",
       "206    31        Jan                kirana    1948.0\n",
       "207    31        Jan                 dairy    1390.0\n",
       "208    31        Jan          cash counter       NaN\n",
       "209    31        Jan  card loan to account   49000.0\n",
       "\n",
       "[207 rows x 4 columns]"
      ]
     },
     "execution_count": 5,
     "metadata": {},
     "output_type": "execute_result"
    }
   ],
   "source": [
    "com_data_jan_debit"
   ]
  },
  {
   "cell_type": "code",
   "execution_count": 6,
   "id": "827d7743",
   "metadata": {},
   "outputs": [
    {
     "data": {
      "text/plain": [
       "Date           0\n",
       "Unnamed: 1     0\n",
       "Details        0\n",
       "Debit(-)      29\n",
       "dtype: int64"
      ]
     },
     "execution_count": 6,
     "metadata": {},
     "output_type": "execute_result"
    }
   ],
   "source": [
    "com_data_jan_debit.isna().sum()\n",
    "#check for nan values"
   ]
  },
  {
   "cell_type": "code",
   "execution_count": 7,
   "id": "f3f6441e",
   "metadata": {},
   "outputs": [],
   "source": [
    "nan_indices = com_data_jan_debit[com_data_jan_debit.isna().any(axis=1)].index\n",
    "#finding index of the nan values"
   ]
  },
  {
   "cell_type": "code",
   "execution_count": 8,
   "id": "9771411c",
   "metadata": {},
   "outputs": [
    {
     "data": {
      "text/plain": [
       "Index([ 12,  17,  25,  26,  32,  37,  43,  45,  59,  68,  71,  78,  89,  94,\n",
       "       101, 110, 116, 117, 129, 139, 148, 156, 162, 163, 181, 188, 197, 204,\n",
       "       208],\n",
       "      dtype='int64')"
      ]
     },
     "execution_count": 8,
     "metadata": {},
     "output_type": "execute_result"
    }
   ],
   "source": [
    "nan_indices"
   ]
  },
  {
   "cell_type": "code",
   "execution_count": 9,
   "id": "bd972a5a",
   "metadata": {},
   "outputs": [],
   "source": [
    "com_data_jan_debit = com_data_jan_debit.drop(nan_indices)\n",
    "#deleting nan values as it is related to credit"
   ]
  },
  {
   "cell_type": "code",
   "execution_count": 10,
   "id": "7b6ed5f7",
   "metadata": {},
   "outputs": [
    {
     "data": {
      "text/plain": [
       "Date          0\n",
       "Unnamed: 1    0\n",
       "Details       0\n",
       "Debit(-)      0\n",
       "dtype: int64"
      ]
     },
     "execution_count": 10,
     "metadata": {},
     "output_type": "execute_result"
    }
   ],
   "source": [
    "com_data_jan_debit.isna().sum()\n",
    "#Successful removal all nan values"
   ]
  },
  {
   "cell_type": "code",
   "execution_count": 11,
   "id": "80e2602f",
   "metadata": {},
   "outputs": [
    {
     "data": {
      "text/plain": [
       "array(['lemon', 'vegetables', 'kirana', 'dairy', 'mutton 3kg', 'indian broiler', 'bread',\n",
       "       'tissue papers', 'spring roll 2pc', 'eggs', 'mutton', 'eggs 2 tray', 'hukka exp',\n",
       "       'mutton 2kg', 'wood', 'butter', 'transfer pankaj bhaiya', 'bonfire wood',\n",
       "       'yogesh ::: 100 sagar - 100 balya - 350 vijay eggs', 'onion 47 kg + 57 kg (3/1/23)',\n",
       "       'toilet freshners', '30kg staff rice', 'lemon 100', '5kg paneer', 'gulab jamun 50',\n",
       "       'small water bottles 250ml', 'chakka', 'petrol', '24ltr oil rice bran', 'cloth tandoor',\n",
       "       'onion 58kg', 'lemon 200', 'French fries', 'khowa 0.5kg', 'bread crums', 'Noodles',\n",
       "       'parking monthly', 'tomatoes 3 kg', 'lighter big', 'green chilli 2 kg', 'samajseva lcb',\n",
       "       'electricity bill', '9 box water', 'coal payment', 'card account loan', 'eggs tray',\n",
       "       'emergency onion 5kg', 'onion 52kg', 'Big bag tissue paper', 'emergency chicken 5',\n",
       "       'van gear repair and without oil change', 'chakka 5kg', 'samaj seva', 'onion 56kg',\n",
       "       'chicken 5 big chicken', 'cash match up pankaj bhaiya', 'hukka pot and extra pipes',\n",
       "       'stationary', 'card loan to account'], dtype=object)"
      ]
     },
     "execution_count": 11,
     "metadata": {},
     "output_type": "execute_result"
    }
   ],
   "source": [
    "com_data_jan_debit[\"Details\"].unique()\n",
    "#to find all the unique values"
   ]
  },
  {
   "cell_type": "code",
   "execution_count": 12,
   "id": "5a0db0c5",
   "metadata": {},
   "outputs": [
    {
     "data": {
      "text/plain": [
       "Details\n",
       "vegetables                                           25\n",
       "kirana                                               24\n",
       "dairy                                                24\n",
       "petrol                                               15\n",
       "eggs 2 tray                                           8\n",
       "mutton                                                8\n",
       "mutton 2kg                                            8\n",
       "lemon                                                 7\n",
       "eggs                                                  4\n",
       "hukka exp                                             4\n",
       "wood                                                  2\n",
       "indian broiler                                        2\n",
       "samajseva lcb                                         1\n",
       "green chilli 2 kg                                     1\n",
       "emergency onion 5kg                                   1\n",
       "lighter big                                           1\n",
       "electricity bill                                      1\n",
       "tomatoes 3 kg                                         1\n",
       "9 box water                                           1\n",
       "coal payment                                          1\n",
       "card account loan                                     1\n",
       "eggs tray                                             1\n",
       "chakka 5kg                                            1\n",
       "onion 52kg                                            1\n",
       "Big bag tissue paper                                  1\n",
       "emergency chicken 5                                   1\n",
       "van gear repair and without oil change                1\n",
       "Noodles                                               1\n",
       "samaj seva                                            1\n",
       "onion 56kg                                            1\n",
       "chicken 5 big chicken                                 1\n",
       "cash match up pankaj bhaiya                           1\n",
       "hukka pot and extra pipes                             1\n",
       "stationary                                            1\n",
       "parking monthly                                       1\n",
       "cloth tandoor                                         1\n",
       "bread crums                                           1\n",
       "toilet freshners                                      1\n",
       "mutton 3kg                                            1\n",
       "bread                                                 1\n",
       "tissue papers                                         1\n",
       "spring roll 2pc                                       1\n",
       "butter                                                1\n",
       "transfer pankaj bhaiya                                1\n",
       "bonfire wood                                          1\n",
       "yogesh ::: 100 sagar - 100 balya - 350 vijay eggs     1\n",
       "onion 47 kg + 57 kg (3/1/23)                          1\n",
       "30kg staff rice                                       1\n",
       "khowa 0.5kg                                           1\n",
       "lemon 100                                             1\n",
       "5kg paneer                                            1\n",
       "gulab jamun 50                                        1\n",
       "small water bottles 250ml                             1\n",
       "chakka                                                1\n",
       "24ltr oil rice bran                                   1\n",
       "onion 58kg                                            1\n",
       "lemon 200                                             1\n",
       "French fries                                          1\n",
       "card loan to account                                  1\n",
       "Name: count, dtype: int64"
      ]
     },
     "execution_count": 12,
     "metadata": {},
     "output_type": "execute_result"
    }
   ],
   "source": [
    "com_data_jan_debit[\"Details\"].value_counts()\n",
    "#To find how many times the unique value has been repeated"
   ]
  },
  {
   "cell_type": "code",
   "execution_count": 13,
   "id": "d333ca3b",
   "metadata": {},
   "outputs": [],
   "source": [
    "locations=com_data_jan_debit.groupby('Details').groups\n",
    "#creating groups of these values according to index"
   ]
  },
  {
   "cell_type": "code",
   "execution_count": 14,
   "id": "11b2a771",
   "metadata": {},
   "outputs": [
    {
     "name": "stdout",
     "output_type": "stream",
     "text": [
      "24ltr oil rice bran: Index([69], dtype='int64')\n",
      "30kg staff rice: Index([51], dtype='int64')\n",
      "5kg paneer: Index([57], dtype='int64')\n",
      "9 box water: Index([109], dtype='int64')\n",
      "Big bag tissue paper: Index([145], dtype='int64')\n",
      "French fries: Index([82], dtype='int64')\n",
      "Noodles: Index([85], dtype='int64')\n",
      "bonfire wood: Index([46], dtype='int64')\n",
      "bread: Index([9], dtype='int64')\n",
      "bread crums: Index([84], dtype='int64')\n",
      "butter: Index([36], dtype='int64')\n",
      "card account loan: Index([131], dtype='int64')\n",
      "card loan to account: Index([209], dtype='int64')\n",
      "cash match up pankaj bhaiya: Index([182], dtype='int64')\n",
      "chakka: Index([66], dtype='int64')\n",
      "chakka 5kg: Index([170], dtype='int64')\n",
      "chicken 5 big chicken: Index([178], dtype='int64')\n",
      "cloth tandoor: Index([72], dtype='int64')\n",
      "coal payment: Index([111], dtype='int64')\n",
      "dairy: Index([  6,  15,  20,  30,  42,  56,  65,  76,  92,  98, 103, 115, 122, 126,\n",
      "       135, 144, 155, 160, 169, 174, 187, 195, 202, 207],\n",
      "      dtype='int64')\n",
      "eggs: Index([16, 40, 120, 193], dtype='int64')\n",
      "eggs 2 tray: Index([22, 54, 74, 99, 141, 152, 172, 201], dtype='int64')\n",
      "eggs tray: Index([133], dtype='int64')\n",
      "electricity bill: Index([108], dtype='int64')\n",
      "emergency chicken 5: Index([147], dtype='int64')\n",
      "emergency onion 5kg: Index([138], dtype='int64')\n",
      "green chilli 2 kg: Index([104], dtype='int64')\n",
      "gulab jamun 50: Index([58], dtype='int64')\n",
      "hukka exp: Index([24, 106, 130, 183], dtype='int64')\n",
      "hukka pot and extra pipes: Index([189], dtype='int64')\n",
      "indian broiler: Index([8, 127], dtype='int64')\n",
      "khowa 0.5kg: Index([83], dtype='int64')\n",
      "kirana: Index([  5,  14,  19,  31,  34,  41,  55,  64,  75,  86,  96, 114, 121, 125,\n",
      "       134, 143, 153, 159, 168, 173, 186, 194, 200, 206],\n",
      "      dtype='int64')\n",
      "lemon: Index([3, 63, 154, 165, 177, 191, 199], dtype='int64')\n",
      "lemon 100: Index([53], dtype='int64')\n",
      "lemon 200: Index([80], dtype='int64')\n",
      "lighter big: Index([97], dtype='int64')\n",
      "mutton: Index([18, 23, 47, 61, 70, 100, 118, 203], dtype='int64')\n",
      "mutton 2kg: Index([27, 35, 90, 137, 149, 166, 179, 190], dtype='int64')\n",
      "mutton 3kg: Index([7], dtype='int64')\n",
      "onion 47 kg + 57 kg (3/1/23): Index([49], dtype='int64')\n",
      "onion 52kg: Index([142], dtype='int64')\n",
      "onion 56kg: Index([176], dtype='int64')\n",
      "onion 58kg: Index([79], dtype='int64')\n",
      "parking monthly: Index([87], dtype='int64')\n",
      "petrol: Index([67, 77, 88, 93, 105, 112, 119, 128, 136, 146, 150, 161, 164, 180, 184], dtype='int64')\n",
      "samaj seva: Index([171], dtype='int64')\n",
      "samajseva lcb: Index([107], dtype='int64')\n",
      "small water bottles 250ml: Index([60], dtype='int64')\n",
      "spring roll 2pc: Index([11], dtype='int64')\n",
      "stationary: Index([196], dtype='int64')\n",
      "tissue papers: Index([10], dtype='int64')\n",
      "toilet freshners: Index([50], dtype='int64')\n",
      "tomatoes 3 kg: Index([91], dtype='int64')\n",
      "transfer pankaj bhaiya: Index([44], dtype='int64')\n",
      "van gear repair and without oil change: Index([157], dtype='int64')\n",
      "vegetables: Index([  4,  13,  21,  29,  33,  39,  52,  62,  73,  81,  95, 102, 113, 123,\n",
      "       124, 132, 140, 151, 158, 167, 175, 185, 192, 198, 205],\n",
      "      dtype='int64')\n",
      "wood: Index([28, 38], dtype='int64')\n",
      "yogesh ::: 100 sagar - 100 balya - 350 vijay eggs: Index([48], dtype='int64')\n"
     ]
    }
   ],
   "source": [
    "for key, value in locations.items():\n",
    "    print(f\"{key}: {value}\")\n",
    "    \n",
    "#respective indices have been shown"
   ]
  },
  {
   "cell_type": "code",
   "execution_count": 15,
   "id": "fd0a852a",
   "metadata": {},
   "outputs": [],
   "source": [
    "loop_output_subcat ={}\n",
    "for i in com_data_jan_debit[\"Details\"].unique():\n",
    "    key = f'{i}'\n",
    "    details = com_data_jan_debit[com_data_jan_debit[\"Details\"].str.startswith(i)][\"Debit(-)\"].array.sum()\n",
    "    loop_output_subcat[key]=details\n",
    "\n",
    "#a loop to create sub-categories and add them"
   ]
  },
  {
   "cell_type": "code",
   "execution_count": 16,
   "id": "8144981a",
   "metadata": {},
   "outputs": [
    {
     "data": {
      "text/plain": [
       "{'lemon': 1890.0,\n",
       " 'vegetables': 16155.0,\n",
       " 'kirana': 94287.0,\n",
       " 'dairy': 57035.0,\n",
       " 'mutton 3kg': 1950.0,\n",
       " 'indian broiler': 8160.0,\n",
       " 'bread': 205.0,\n",
       " 'tissue papers': 200.0,\n",
       " 'spring roll 2pc': 220.0,\n",
       " 'eggs': 4106.0,\n",
       " 'mutton': 19500.0,\n",
       " 'eggs 2 tray': 2734.0,\n",
       " 'hukka exp': 13650.0,\n",
       " 'mutton 2kg': 10400.0,\n",
       " 'wood': 350.0,\n",
       " 'butter': 520.0,\n",
       " 'transfer pankaj bhaiya': 6000.0,\n",
       " 'bonfire wood': 600.0,\n",
       " 'yogesh ::: 100 sagar - 100 balya - 350 vijay eggs': 550.0,\n",
       " 'onion 47 kg + 57 kg (3/1/23)': 2350.0,\n",
       " 'toilet freshners': 120.0,\n",
       " '30kg staff rice': 1050.0,\n",
       " 'lemon 100': 150.0,\n",
       " '5kg paneer': 1400.0,\n",
       " 'gulab jamun 50': 250.0,\n",
       " 'small water bottles 250ml': 540.0,\n",
       " 'chakka': 2000.0,\n",
       " 'petrol': 7500.0,\n",
       " '24ltr oil rice bran': 3120.0,\n",
       " 'cloth tandoor': 130.0,\n",
       " 'onion 58kg': 1392.0,\n",
       " 'lemon 200': 400.0,\n",
       " 'French fries': 400.0,\n",
       " 'khowa 0.5kg': 130.0,\n",
       " 'bread crums': 160.0,\n",
       " 'Noodles': 80.0,\n",
       " 'parking monthly': 300.0,\n",
       " 'tomatoes 3 kg': 60.0,\n",
       " 'lighter big': 150.0,\n",
       " 'green chilli 2 kg': 120.0,\n",
       " 'samajseva lcb': 10000.0,\n",
       " 'electricity bill': 16370.0,\n",
       " '9 box water': 720.0,\n",
       " 'coal payment': 6200.0,\n",
       " 'card account loan': 10000.0,\n",
       " 'eggs tray': 180.0,\n",
       " 'emergency onion 5kg': 140.0,\n",
       " 'onion 52kg': 1248.0,\n",
       " 'Big bag tissue paper': 2360.0,\n",
       " 'emergency chicken 5': 910.0,\n",
       " 'van gear repair and without oil change': 3020.0,\n",
       " 'chakka 5kg': 1000.0,\n",
       " 'samaj seva': 28000.0,\n",
       " 'onion 56kg': 1400.0,\n",
       " 'chicken 5 big chicken': 1266.0,\n",
       " 'cash match up pankaj bhaiya': 15000.0,\n",
       " 'hukka pot and extra pipes': 1750.0,\n",
       " 'stationary': 160.0,\n",
       " 'card loan to account': 49000.0}"
      ]
     },
     "execution_count": 16,
     "metadata": {},
     "output_type": "execute_result"
    }
   ],
   "source": [
    "loop_output_subcat"
   ]
  },
  {
   "cell_type": "code",
   "execution_count": 17,
   "id": "6de082ef",
   "metadata": {},
   "outputs": [],
   "source": [
    "sub_cat_debit_total = pd.DataFrame(loop_output_subcat, index=range(1))\n",
    "#storing them in dataFrame"
   ]
  },
  {
   "cell_type": "code",
   "execution_count": 18,
   "id": "5da4be60",
   "metadata": {},
   "outputs": [],
   "source": [
    "sub_cat_debit_total=sub_cat_debit_total.T\n",
    "#Data Frame transposed for better readability"
   ]
  },
  {
   "cell_type": "code",
   "execution_count": 19,
   "id": "9056b533",
   "metadata": {},
   "outputs": [],
   "source": [
    "sub_cat_debit_total.to_excel(\"Sub-Category-Debit-Total.xlsx\")"
   ]
  },
  {
   "cell_type": "code",
   "execution_count": null,
   "id": "b0d23d94",
   "metadata": {},
   "outputs": [],
   "source": []
  }
 ],
 "metadata": {
  "kernelspec": {
   "display_name": "Python 3 (ipykernel)",
   "language": "python",
   "name": "python3"
  },
  "language_info": {
   "codemirror_mode": {
    "name": "ipython",
    "version": 3
   },
   "file_extension": ".py",
   "mimetype": "text/x-python",
   "name": "python",
   "nbconvert_exporter": "python",
   "pygments_lexer": "ipython3",
   "version": "3.10.9"
  }
 },
 "nbformat": 4,
 "nbformat_minor": 5
}
