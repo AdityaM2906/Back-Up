{
 "cells": [
  {
   "cell_type": "markdown",
   "id": "24ee58c8",
   "metadata": {},
   "source": [
    "## Generating Data with NumPy"
   ]
  },
  {
   "cell_type": "code",
   "execution_count": 1,
   "id": "097db215",
   "metadata": {},
   "outputs": [],
   "source": [
    "import numpy as np"
   ]
  },
  {
   "cell_type": "code",
   "execution_count": 2,
   "id": "c8786f1a",
   "metadata": {},
   "outputs": [
    {
     "data": {
      "text/plain": [
       "array([[3.33772792e-307, 4.22786102e-307, 2.78145267e-307],\n",
       "       [4.00537061e-307, 9.45656391e-308, 0.00000000e+000]])"
      ]
     },
     "execution_count": 2,
     "metadata": {},
     "output_type": "execute_result"
    }
   ],
   "source": [
    "array_empty = np.empty(shape = (2,3))\n",
    "array_empty"
   ]
  },
  {
   "cell_type": "markdown",
   "id": "2bee8e7a",
   "metadata": {},
   "source": [
    "As you can see \"empty\" produces a array of zeros and it is not consistent there are chances that random charaters might be generated, so it is not consistent. "
   ]
  },
  {
   "cell_type": "code",
   "execution_count": 3,
   "id": "a5c62945",
   "metadata": {},
   "outputs": [
    {
     "data": {
      "text/plain": [
       "array([[0., 0., 0.],\n",
       "       [0., 0., 0.]])"
      ]
     },
     "execution_count": 3,
     "metadata": {},
     "output_type": "execute_result"
    }
   ],
   "source": [
    "array_0s = np.zeros(shape = (2,3))\n",
    "array_0s\n",
    "#np.zeros has consistent output\n",
    "#it will always create arrays of zeros"
   ]
  },
  {
   "cell_type": "code",
   "execution_count": 4,
   "id": "2ae3244a",
   "metadata": {},
   "outputs": [
    {
     "data": {
      "text/plain": [
       "array([[0, 0, 0],\n",
       "       [0, 0, 0]], dtype=int8)"
      ]
     },
     "execution_count": 4,
     "metadata": {},
     "output_type": "execute_result"
    }
   ],
   "source": [
    "array_0s = np.zeros(shape = (2,3), dtype = np.int8 )\n",
    "array_0s\n",
    "#np.zeros has consistent output\n",
    "#it will always create arrays of zeros"
   ]
  },
  {
   "cell_type": "code",
   "execution_count": 5,
   "id": "1397d593",
   "metadata": {},
   "outputs": [
    {
     "data": {
      "text/plain": [
       "array([[1., 1., 1.],\n",
       "       [1., 1., 1.]])"
      ]
     },
     "execution_count": 5,
     "metadata": {},
     "output_type": "execute_result"
    }
   ],
   "source": [
    "array_1s = np.ones(shape = (2,3))\n",
    "array_1s\n",
    "#np.ones has consistent output\n",
    "#it will always create arrays of zeros"
   ]
  },
  {
   "cell_type": "code",
   "execution_count": 6,
   "id": "c46d1e4f",
   "metadata": {},
   "outputs": [
    {
     "data": {
      "text/plain": [
       "array([[5, 5, 5],\n",
       "       [5, 5, 5]])"
      ]
     },
     "execution_count": 6,
     "metadata": {},
     "output_type": "execute_result"
    }
   ],
   "source": [
    "#np.full generates an array filled entirely with a specified value\n",
    "#the fill_value takes scalar values\n",
    "array_full = np.full(shape = (2,3), fill_value = 5)\n",
    "array_full"
   ]
  },
  {
   "cell_type": "code",
   "execution_count": 7,
   "id": "8775543e",
   "metadata": {},
   "outputs": [
    {
     "data": {
      "text/plain": [
       "array([['Aditya', 'Aditya', 'Aditya'],\n",
       "       ['Aditya', 'Aditya', 'Aditya']], dtype='<U6')"
      ]
     },
     "execution_count": 7,
     "metadata": {},
     "output_type": "execute_result"
    }
   ],
   "source": [
    "array_full = np.full(shape = (2,3), fill_value = \"Aditya\")\n",
    "array_full\n",
    "#this shows that fill_value can take any dtype as it is a scalar"
   ]
  },
  {
   "cell_type": "markdown",
   "id": "5a7a36c5",
   "metadata": {},
   "source": [
    "### \"_like\" functions\n",
    "they are equivalent to np.zeros,ones and full, but we don't need to define there shape,type we just need to provide another array whose shape and type is used"
   ]
  },
  {
   "cell_type": "code",
   "execution_count": 8,
   "id": "219c607f",
   "metadata": {},
   "outputs": [],
   "source": [
    "matrix_A = np.array([[1,0,9,2,2],[3,23,4,5,1],[0,2,3,4,1]])"
   ]
  },
  {
   "cell_type": "code",
   "execution_count": 9,
   "id": "21a29134",
   "metadata": {},
   "outputs": [
    {
     "data": {
      "text/plain": [
       "array([[ 1,  0,  9,  2,  2],\n",
       "       [ 3, 23,  4,  5,  1],\n",
       "       [ 0,  2,  3,  4,  1]])"
      ]
     },
     "execution_count": 9,
     "metadata": {},
     "output_type": "execute_result"
    }
   ],
   "source": [
    "matrix_A"
   ]
  },
  {
   "cell_type": "code",
   "execution_count": 10,
   "id": "2f181ac0",
   "metadata": {},
   "outputs": [
    {
     "data": {
      "text/plain": [
       "array([[   0,    0,    0,    0,    0],\n",
       "       [   0,    0,    0,    0,    0],\n",
       "       [1488,    0,    0,    0,    0]])"
      ]
     },
     "execution_count": 10,
     "metadata": {},
     "output_type": "execute_result"
    }
   ],
   "source": [
    "array_empty_like = np.empty_like(matrix_A)\n",
    "array_empty_like"
   ]
  },
  {
   "cell_type": "code",
   "execution_count": 11,
   "id": "6df6f5e3",
   "metadata": {},
   "outputs": [
    {
     "data": {
      "text/plain": [
       "array([[0, 0, 0, 0, 0],\n",
       "       [0, 0, 0, 0, 0],\n",
       "       [0, 0, 0, 0, 0]])"
      ]
     },
     "execution_count": 11,
     "metadata": {},
     "output_type": "execute_result"
    }
   ],
   "source": [
    "array_0s_like = np.zeros_like(matrix_A)\n",
    "array_0s_like"
   ]
  },
  {
   "cell_type": "code",
   "execution_count": 12,
   "id": "c98b3809",
   "metadata": {},
   "outputs": [
    {
     "data": {
      "text/plain": [
       "array([[1, 1, 1, 1, 1],\n",
       "       [1, 1, 1, 1, 1],\n",
       "       [1, 1, 1, 1, 1]])"
      ]
     },
     "execution_count": 12,
     "metadata": {},
     "output_type": "execute_result"
    }
   ],
   "source": [
    "array_1s_like = np.ones_like(matrix_A)\n",
    "array_1s_like"
   ]
  },
  {
   "cell_type": "markdown",
   "id": "c053d160",
   "metadata": {},
   "source": [
    "The above mentioned \"like\" very useful when we need to handle big databases"
   ]
  },
  {
   "cell_type": "markdown",
   "id": "c5989064",
   "metadata": {},
   "source": [
    "### np.arange()\n",
    "It's a NumPy equivalent of Pythons range function and creats a sequence of consecutive integer values within a given range"
   ]
  },
  {
   "cell_type": "code",
   "execution_count": 13,
   "id": "5e8ad387",
   "metadata": {},
   "outputs": [
    {
     "data": {
      "text/plain": [
       "array([ 0,  1,  2,  3,  4,  5,  6,  7,  8,  9, 10, 11, 12, 13, 14, 15, 16,\n",
       "       17, 18, 19, 20, 21, 22, 23, 24, 25, 26, 27, 28, 29])"
      ]
     },
     "execution_count": 13,
     "metadata": {},
     "output_type": "execute_result"
    }
   ],
   "source": [
    "npr = np.arange(30)\n",
    "npr\n",
    "#we don't include 30 on the array"
   ]
  },
  {
   "cell_type": "code",
   "execution_count": 14,
   "id": "35abea43",
   "metadata": {},
   "outputs": [
    {
     "data": {
      "text/plain": [
       "array([ 0,  1,  2,  3,  4,  5,  6,  7,  8,  9, 10, 11, 12, 13, 14, 15, 16,\n",
       "       17, 18, 19, 20, 21, 22, 23, 24, 25, 26, 27, 28, 29])"
      ]
     },
     "execution_count": 14,
     "metadata": {},
     "output_type": "execute_result"
    }
   ],
   "source": [
    "array_npr = np.arange(stop = 30)\n",
    "array_npr\n",
    "\n",
    "#it is mendatory to give the stop value\n",
    "#giving just start value wont work as it did in Python 2"
   ]
  },
  {
   "cell_type": "code",
   "execution_count": 15,
   "id": "4dcecc55",
   "metadata": {},
   "outputs": [
    {
     "data": {
      "text/plain": [
       "array([ 1. ,  3.5,  6. ,  8.5, 11. , 13.5, 16. , 18.5, 21. , 23.5])"
      ]
     },
     "execution_count": 15,
     "metadata": {},
     "output_type": "execute_result"
    }
   ],
   "source": [
    "array_npr = np.arange(start = 1, stop = 25, step = 2.5)\n",
    "array_npr"
   ]
  },
  {
   "cell_type": "code",
   "execution_count": 16,
   "id": "5b087c0e",
   "metadata": {},
   "outputs": [
    {
     "data": {
      "text/plain": [
       "array([ 1,  3,  5,  7,  9, 11, 13, 15, 17, 19])"
      ]
     },
     "execution_count": 16,
     "metadata": {},
     "output_type": "execute_result"
    }
   ],
   "source": [
    "array_npr = np.arange(start = 1, stop = 25, step = 2.5, dtype = np.int32)\n",
    "\n",
    "array_npr\n",
    "#as you can see if we change the dtype the no. of output remains the same\n",
    "#but the python takes step as 2 rather then 2.5"
   ]
  },
  {
   "cell_type": "markdown",
   "id": "a212a0b7",
   "metadata": {},
   "source": [
    "## Random Generators"
   ]
  },
  {
   "cell_type": "code",
   "execution_count": 17,
   "id": "1926df2f",
   "metadata": {},
   "outputs": [],
   "source": [
    "#for this we need\n",
    "from numpy.random import Generator as gen\n",
    "from numpy.random import PCG64 as pcg\n",
    "#PCG = Permutation Congruential Generator\n",
    "#it can produce a value of 64 bits in size"
   ]
  },
  {
   "cell_type": "code",
   "execution_count": 18,
   "id": "a9c1c31e",
   "metadata": {},
   "outputs": [
    {
     "data": {
      "text/plain": [
       "array([[-0.41345603,  1.44907713, -0.09378219,  0.29278017,  0.17510966],\n",
       "       [ 0.04488735,  1.36401358, -0.2370268 ,  1.35737758,  1.01230583],\n",
       "       [-1.25688748, -1.01476343, -0.0371388 , -0.47627584, -0.09797856],\n",
       "       [-1.4449338 , -0.74827697, -0.72090105,  0.00969347, -0.20118927],\n",
       "       [-0.6983132 ,  0.06116296,  1.78765486, -1.46802963, -0.94898923]])"
      ]
     },
     "execution_count": 18,
     "metadata": {},
     "output_type": "execute_result"
    }
   ],
   "source": [
    "array_rg = gen(pcg())\n",
    "array_rg.normal(size = (5,5))"
   ]
  },
  {
   "cell_type": "code",
   "execution_count": 19,
   "id": "f6a118b0",
   "metadata": {},
   "outputs": [
    {
     "data": {
      "text/plain": [
       "array([[-0.13640899,  0.09414431, -0.06300442,  1.05391641, -0.6866818 ],\n",
       "       [-0.50922173, -0.7999526 ,  0.73041825,  0.08825439, -2.1177576 ],\n",
       "       [ 0.65526774, -0.48095012, -0.5519114 , -0.58578662, -0.98257896],\n",
       "       [ 1.12378166, -1.30984316, -0.04703774,  0.955272  ,  0.26071745],\n",
       "       [-0.20023668, -1.50172484, -1.4929163 ,  0.96535084,  1.18694633]])"
      ]
     },
     "execution_count": 19,
     "metadata": {},
     "output_type": "execute_result"
    }
   ],
   "source": [
    "#Every time we call a method the generator randomly selects a \"seed\"\n",
    "#seed is a set of starting parameters for the algorithm\n",
    "#specifing a seed is useful when we need to work with a model\n",
    "#and we don't want the data to change\n",
    "array_rg = gen(pcg(seed = 365))\n",
    "array_rg.normal(size = (5,5))"
   ]
  },
  {
   "cell_type": "code",
   "execution_count": 20,
   "id": "8b9f6ee1",
   "metadata": {},
   "outputs": [
    {
     "data": {
      "text/plain": [
       "array([[-0.76065577,  1.48158358,  0.01200258, -0.06846959,  0.25301664],\n",
       "       [-0.52640788,  0.79613109,  0.28203421,  1.80238008,  0.93932117],\n",
       "       [-0.53693283, -0.26317689, -1.77723035,  1.14900013, -2.20733915],\n",
       "       [ 1.54116775, -0.5124932 , -2.14564563,  1.98878673,  0.32208907],\n",
       "       [-1.2651495 ,  3.2714633 ,  1.78650493, -0.20233675,  0.20427467]])"
      ]
     },
     "execution_count": 20,
     "metadata": {},
     "output_type": "execute_result"
    }
   ],
   "source": [
    "array_rg.normal(size = (5,5))\n",
    "#here the values have changed as the seed has reset"
   ]
  },
  {
   "cell_type": "markdown",
   "id": "4fcd3862",
   "metadata": {},
   "source": [
    "## Generating Integers, Probabilities and Random Choices"
   ]
  },
  {
   "cell_type": "code",
   "execution_count": 23,
   "id": "4a9c0a3b",
   "metadata": {},
   "outputs": [
    {
     "data": {
      "text/plain": [
       "array([[0, 7, 6, 7, 8],\n",
       "       [6, 6, 2, 0, 6],\n",
       "       [3, 0, 3, 7, 9],\n",
       "       [1, 1, 8, 7, 4],\n",
       "       [4, 8, 6, 4, 9]], dtype=int64)"
      ]
     },
     "execution_count": 23,
     "metadata": {},
     "output_type": "execute_result"
    }
   ],
   "source": [
    "array_rg = gen(pcg(seed = 365))\n",
    "array_rg.integers(10,size = (5,5))\n",
    "#here 10 specifies the range in which we want the numbers\n",
    "#size tells the size"
   ]
  },
  {
   "cell_type": "code",
   "execution_count": 24,
   "id": "46ab57d7",
   "metadata": {
    "scrolled": true
   },
   "outputs": [
    {
     "data": {
      "text/plain": [
       "array([[18, 78, 64, 78, 84],\n",
       "       [66, 67, 28, 10, 69],\n",
       "       [45, 15, 37, 74, 96],\n",
       "       [19, 21, 89, 73, 54],\n",
       "       [53, 84, 66, 51, 92]], dtype=int64)"
      ]
     },
     "execution_count": 24,
     "metadata": {},
     "output_type": "execute_result"
    }
   ],
   "source": [
    "array_rg = gen(pcg(seed = 365))\n",
    "array_rg.integers(low = 10,high = 100,size = (5,5))"
   ]
  },
  {
   "cell_type": "code",
   "execution_count": 25,
   "id": "ed8c1cd6",
   "metadata": {
    "scrolled": true
   },
   "outputs": [
    {
     "data": {
      "text/plain": [
       "array([[0.75915734, 0.7662218 , 0.6291028 , 0.20336599, 0.66501486],\n",
       "       [0.06559111, 0.71326309, 0.10812106, 0.87969046, 0.49405844],\n",
       "       [0.82472673, 0.45652944, 0.07367232, 0.69628564, 0.36690736],\n",
       "       [0.29787156, 0.4996155 , 0.4865245 , 0.62740703, 0.54952637],\n",
       "       [0.64894629, 0.04411757, 0.7206516 , 0.84594003, 0.17159792]])"
      ]
     },
     "execution_count": 25,
     "metadata": {},
     "output_type": "execute_result"
    }
   ],
   "source": [
    "array_rg = gen(pcg(seed = 365))\n",
    "array_rg.random(size = (5,5))"
   ]
  },
  {
   "cell_type": "code",
   "execution_count": 26,
   "id": "58968a9c",
   "metadata": {
    "scrolled": true
   },
   "outputs": [
    {
     "data": {
      "text/plain": [
       "array([[1, 4, 4, 4, 5],\n",
       "       [4, 4, 2, 1, 4],\n",
       "       [2, 1, 2, 4, 5],\n",
       "       [1, 1, 5, 4, 3],\n",
       "       [3, 5, 4, 3, 5]])"
      ]
     },
     "execution_count": 26,
     "metadata": {},
     "output_type": "execute_result"
    }
   ],
   "source": [
    "array_rg = gen(pcg(seed = 365))\n",
    "array_rg.choice([1,2,3,4,5],size = (5,5))\n",
    "#here all outcomes as equally likely \n",
    "#this is a discrete prob. distribution"
   ]
  },
  {
   "cell_type": "code",
   "execution_count": 28,
   "id": "2c8357a4",
   "metadata": {},
   "outputs": [
    {
     "data": {
      "text/plain": [
       "array([[4, 4, 3, 1, 3],\n",
       "       [1, 3, 1, 4, 2],\n",
       "       [4, 2, 1, 3, 2],\n",
       "       [2, 2, 2, 3, 3],\n",
       "       [3, 1, 3, 4, 1]])"
      ]
     },
     "execution_count": 28,
     "metadata": {},
     "output_type": "execute_result"
    }
   ],
   "source": [
    "array_rg = gen(pcg(seed = 365))\n",
    "array_rg.choice([1,2,3,4,5],\n",
    "                p =[0.25,0.25,0.25,0.20,0.05] ,\n",
    "                size = (5,5))\n",
    "#here each number has the given prob."
   ]
  },
  {
   "cell_type": "markdown",
   "id": "7b2586c0",
   "metadata": {},
   "source": [
    "# Video 177"
   ]
  },
  {
   "cell_type": "markdown",
   "id": "13fa9cfe",
   "metadata": {},
   "source": [
    "## Application of Random Generators"
   ]
  },
  {
   "cell_type": "code",
   "execution_count": 29,
   "id": "e63850fa",
   "metadata": {},
   "outputs": [],
   "source": [
    "array_RG = gen(pcg(seed = 365))\n",
    "\n",
    "#loc is centre of the distribution\n",
    "#scale is the standard deviation\n",
    "array_col_1 = array_RG.normal(loc = 2, scale = 3, size = (1000))\n",
    "array_col_2 = array_RG.normal(loc = 2, scale = 3, size = (1000))\n",
    "array_col_3 = array_RG.logistic(loc = 11, scale = 3, size = (1000))\n",
    "array_col_4 = array_RG.exponential(scale = 4, size = (1000))\n",
    "array_col_5 = array_RG.geometric(p = 0.7, size = (1000))"
   ]
  },
  {
   "cell_type": "code",
   "execution_count": 31,
   "id": "61202130",
   "metadata": {},
   "outputs": [
    {
     "data": {
      "text/plain": [
       "array([[ 1.59077303,  1.13261443, 10.14698427,  6.91500737,  1.        ],\n",
       "       [ 2.28243293,  4.36853483, 15.93309953,  6.243605  ,  1.        ],\n",
       "       [ 1.81098674, -0.74094797, -0.46878789,  2.44997251,  1.        ],\n",
       "       ...,\n",
       "       [ 0.1973629 , -1.98012191,  2.66485989,  0.80935387,  1.        ],\n",
       "       [-2.21015722,  3.82646031, 12.69328115,  0.50644607,  2.        ],\n",
       "       [ 2.91161235,  3.35506542, 11.79840961,  4.86816939,  1.        ]])"
      ]
     },
     "execution_count": 31,
     "metadata": {},
     "output_type": "execute_result"
    }
   ],
   "source": [
    "random_text_data = np.array([array_col_1,\n",
    "                             array_col_2,\n",
    "                             array_col_3,\n",
    "                             array_col_4,\n",
    "                             array_col_5]).transpose()\n",
    "random_text_data"
   ]
  },
  {
   "cell_type": "code",
   "execution_count": 32,
   "id": "1ccbb7a4",
   "metadata": {},
   "outputs": [
    {
     "data": {
      "text/plain": [
       "(1000, 5)"
      ]
     },
     "execution_count": 32,
     "metadata": {},
     "output_type": "execute_result"
    }
   ],
   "source": [
    "random_text_data.shape"
   ]
  },
  {
   "cell_type": "code",
   "execution_count": 33,
   "id": "fc344324",
   "metadata": {},
   "outputs": [],
   "source": [
    "np.savetxt(\"Random-Test-from-NumPy.csv\", \n",
    "           random_text_data,\n",
    "          fmt = \"%s\",\n",
    "          delimiter=',')"
   ]
  },
  {
   "cell_type": "code",
   "execution_count": 34,
   "id": "0f7ad605",
   "metadata": {},
   "outputs": [
    {
     "data": {
      "text/plain": [
       "array([[ 1.59077303,  1.13261443, 10.14698427,  6.91500737,  1.        ],\n",
       "       [ 2.28243293,  4.36853483, 15.93309953,  6.243605  ,  1.        ],\n",
       "       [ 1.81098674, -0.74094797, -0.46878789,  2.44997251,  1.        ],\n",
       "       ...,\n",
       "       [ 0.1973629 , -1.98012191,  2.66485989,  0.80935387,  1.        ],\n",
       "       [-2.21015722,  3.82646031, 12.69328115,  0.50644607,  2.        ],\n",
       "       [ 2.91161235,  3.35506542, 11.79840961,  4.86816939,  1.        ]])"
      ]
     },
     "execution_count": 34,
     "metadata": {},
     "output_type": "execute_result"
    }
   ],
   "source": [
    "np.genfromtxt(\"Random-Test-from-NumPy.csv\", delimiter= ',')"
   ]
  },
  {
   "cell_type": "code",
   "execution_count": null,
   "id": "c0137b7b",
   "metadata": {},
   "outputs": [],
   "source": []
  }
 ],
 "metadata": {
  "kernelspec": {
   "display_name": "Python 3 (ipykernel)",
   "language": "python",
   "name": "python3"
  },
  "language_info": {
   "codemirror_mode": {
    "name": "ipython",
    "version": 3
   },
   "file_extension": ".py",
   "mimetype": "text/x-python",
   "name": "python",
   "nbconvert_exporter": "python",
   "pygments_lexer": "ipython3",
   "version": "3.10.9"
  }
 },
 "nbformat": 4,
 "nbformat_minor": 5
}
