{
 "cells": [
  {
   "cell_type": "markdown",
   "id": "754970c8",
   "metadata": {},
   "source": [
    "##### ndarrays: Originated from the NumPy package and it is a special datatype in Python whioch can store multiple numeric values in a sequence, elementwise"
   ]
  },
  {
   "cell_type": "code",
   "execution_count": 1,
   "id": "62228d3f",
   "metadata": {},
   "outputs": [],
   "source": [
    "import numpy as np"
   ]
  },
  {
   "cell_type": "markdown",
   "id": "dd7baaed",
   "metadata": {},
   "source": [
    "### Ndarrays"
   ]
  },
  {
   "cell_type": "code",
   "execution_count": 2,
   "id": "7cb6534e",
   "metadata": {},
   "outputs": [],
   "source": [
    "array_a = np.array([1,2,3])"
   ]
  },
  {
   "cell_type": "code",
   "execution_count": 3,
   "id": "af8f6813",
   "metadata": {},
   "outputs": [
    {
     "data": {
      "text/plain": [
       "array([1, 2, 3])"
      ]
     },
     "execution_count": 3,
     "metadata": {},
     "output_type": "execute_result"
    }
   ],
   "source": [
    "array_a"
   ]
  },
  {
   "cell_type": "code",
   "execution_count": 4,
   "id": "3b654ef4",
   "metadata": {},
   "outputs": [
    {
     "name": "stdout",
     "output_type": "stream",
     "text": [
      "[1 2 3]\n"
     ]
    }
   ],
   "source": [
    "print(array_a)\n",
    "#here the data type which is array is not shown"
   ]
  },
  {
   "cell_type": "code",
   "execution_count": 5,
   "id": "3510032f",
   "metadata": {},
   "outputs": [
    {
     "data": {
      "text/plain": [
       "numpy.ndarray"
      ]
     },
     "execution_count": 5,
     "metadata": {},
     "output_type": "execute_result"
    }
   ],
   "source": [
    "type(array_a)"
   ]
  },
  {
   "cell_type": "code",
   "execution_count": 6,
   "id": "3b31aca5",
   "metadata": {},
   "outputs": [
    {
     "data": {
      "text/plain": [
       "(3,)"
      ]
     },
     "execution_count": 6,
     "metadata": {},
     "output_type": "execute_result"
    }
   ],
   "source": [
    "array_a.shape\n",
    "#the out put shows that it's a vector of length 3"
   ]
  },
  {
   "cell_type": "code",
   "execution_count": 8,
   "id": "ef5ea9a9",
   "metadata": {},
   "outputs": [],
   "source": [
    "array_b = np.array([[7,8,9],[10,11,12]])"
   ]
  },
  {
   "cell_type": "code",
   "execution_count": 9,
   "id": "ab31777a",
   "metadata": {},
   "outputs": [
    {
     "data": {
      "text/plain": [
       "numpy.ndarray"
      ]
     },
     "execution_count": 9,
     "metadata": {},
     "output_type": "execute_result"
    }
   ],
   "source": [
    "type(array_b)"
   ]
  },
  {
   "cell_type": "code",
   "execution_count": 10,
   "id": "45abc3fb",
   "metadata": {},
   "outputs": [
    {
     "name": "stdout",
     "output_type": "stream",
     "text": [
      "[[ 7  8  9]\n",
      " [10 11 12]]\n"
     ]
    }
   ],
   "source": [
    "print(array_b)\n",
    "#it resembles a table which has 2 rows and 3 columns\n",
    "# dimension = 2*3"
   ]
  },
  {
   "cell_type": "code",
   "execution_count": 11,
   "id": "ca0d080e",
   "metadata": {},
   "outputs": [
    {
     "data": {
      "text/plain": [
       "(2, 3)"
      ]
     },
     "execution_count": 11,
     "metadata": {},
     "output_type": "execute_result"
    }
   ],
   "source": [
    "array_b.shape"
   ]
  },
  {
   "cell_type": "code",
   "execution_count": 12,
   "id": "1e4065dc",
   "metadata": {},
   "outputs": [
    {
     "data": {
      "text/plain": [
       "2"
      ]
     },
     "execution_count": 12,
     "metadata": {},
     "output_type": "execute_result"
    }
   ],
   "source": [
    "#if I just wqant to know number of rows\n",
    "array_b.shape[0]"
   ]
  },
  {
   "cell_type": "code",
   "execution_count": 13,
   "id": "6cfaf63e",
   "metadata": {},
   "outputs": [
    {
     "data": {
      "text/plain": [
       "3"
      ]
     },
     "execution_count": 13,
     "metadata": {},
     "output_type": "execute_result"
    }
   ],
   "source": [
    "#if I just wqant to know number of columns\n",
    "array_b.shape[1]"
   ]
  },
  {
   "cell_type": "code",
   "execution_count": 14,
   "id": "178cd2e1",
   "metadata": {},
   "outputs": [],
   "source": [
    "array_C = np.array(13)\n",
    "#This is a scalar\n",
    "#Not a conventional array"
   ]
  },
  {
   "cell_type": "code",
   "execution_count": 15,
   "id": "113434d7",
   "metadata": {},
   "outputs": [
    {
     "data": {
      "text/plain": [
       "numpy.ndarray"
      ]
     },
     "execution_count": 15,
     "metadata": {},
     "output_type": "execute_result"
    }
   ],
   "source": [
    "type(array_C)"
   ]
  },
  {
   "cell_type": "code",
   "execution_count": 16,
   "id": "8b169fdf",
   "metadata": {},
   "outputs": [
    {
     "name": "stdout",
     "output_type": "stream",
     "text": [
      "13\n"
     ]
    }
   ],
   "source": [
    "print(array_C)"
   ]
  },
  {
   "cell_type": "code",
   "execution_count": 17,
   "id": "b0400b38",
   "metadata": {},
   "outputs": [
    {
     "data": {
      "text/plain": [
       "()"
      ]
     },
     "execution_count": 17,
     "metadata": {},
     "output_type": "execute_result"
    }
   ],
   "source": [
    "array_C.shape"
   ]
  },
  {
   "cell_type": "code",
   "execution_count": 18,
   "id": "e6126c5e",
   "metadata": {},
   "outputs": [],
   "source": [
    "#but\n",
    "array_d = np.array([15])\n",
    "#this is usually done to make the input ready for a perticular function\n",
    "#coz some functions take input of certain dimension\n",
    "#this represents like a point on the line"
   ]
  },
  {
   "cell_type": "code",
   "execution_count": 19,
   "id": "d9ad6e29",
   "metadata": {},
   "outputs": [
    {
     "data": {
      "text/plain": [
       "(1,)"
      ]
     },
     "execution_count": 19,
     "metadata": {},
     "output_type": "execute_result"
    }
   ],
   "source": [
    "array_d.shape"
   ]
  },
  {
   "cell_type": "code",
   "execution_count": 20,
   "id": "fc3af623",
   "metadata": {},
   "outputs": [
    {
     "data": {
      "text/plain": [
       "numpy.ndarray"
      ]
     },
     "execution_count": 20,
     "metadata": {},
     "output_type": "execute_result"
    }
   ],
   "source": [
    "type(array_d)"
   ]
  },
  {
   "cell_type": "markdown",
   "id": "1950638a",
   "metadata": {},
   "source": [
    "###### The no. of brackets an array has indicates how many dimensions it requires"
   ]
  },
  {
   "cell_type": "markdown",
   "id": "36d84225",
   "metadata": {},
   "source": [
    "### List vs Array"
   ]
  },
  {
   "cell_type": "code",
   "execution_count": 21,
   "id": "9a4690dc",
   "metadata": {},
   "outputs": [],
   "source": [
    "list_a = [[1,2,3],[4,5,6]]"
   ]
  },
  {
   "cell_type": "code",
   "execution_count": 22,
   "id": "076f1f30",
   "metadata": {},
   "outputs": [
    {
     "data": {
      "text/plain": [
       "2"
      ]
     },
     "execution_count": 22,
     "metadata": {},
     "output_type": "execute_result"
    }
   ],
   "source": [
    "len(list_a)"
   ]
  },
  {
   "cell_type": "code",
   "execution_count": 23,
   "id": "96a36b2d",
   "metadata": {},
   "outputs": [],
   "source": [
    "array_a = np.array(list_a)"
   ]
  },
  {
   "cell_type": "code",
   "execution_count": 24,
   "id": "67dcc0df",
   "metadata": {},
   "outputs": [
    {
     "data": {
      "text/plain": [
       "list"
      ]
     },
     "execution_count": 24,
     "metadata": {},
     "output_type": "execute_result"
    }
   ],
   "source": [
    "type(list_a)"
   ]
  },
  {
   "cell_type": "code",
   "execution_count": 25,
   "id": "4386454d",
   "metadata": {},
   "outputs": [
    {
     "data": {
      "text/plain": [
       "numpy.ndarray"
      ]
     },
     "execution_count": 25,
     "metadata": {},
     "output_type": "execute_result"
    }
   ],
   "source": [
    "type(array_a)"
   ]
  },
  {
   "cell_type": "markdown",
   "id": "ae7f2502",
   "metadata": {},
   "source": [
    "So, even though the input is same Python treats list and arrays in different ways which is something we actually want."
   ]
  },
  {
   "cell_type": "code",
   "execution_count": 26,
   "id": "99659d3c",
   "metadata": {},
   "outputs": [
    {
     "name": "stdout",
     "output_type": "stream",
     "text": [
      "[[1, 2, 3], [4, 5, 6]]\n"
     ]
    }
   ],
   "source": [
    "print(list_a)"
   ]
  },
  {
   "cell_type": "code",
   "execution_count": 27,
   "id": "cdb68a21",
   "metadata": {},
   "outputs": [
    {
     "name": "stdout",
     "output_type": "stream",
     "text": [
      "[[1 2 3]\n",
      " [4 5 6]]\n"
     ]
    }
   ],
   "source": [
    "print(array_a)"
   ]
  },
  {
   "cell_type": "code",
   "execution_count": 28,
   "id": "d834b434",
   "metadata": {},
   "outputs": [
    {
     "data": {
      "text/plain": [
       "(2, 3)"
      ]
     },
     "execution_count": 28,
     "metadata": {},
     "output_type": "execute_result"
    }
   ],
   "source": [
    "array_a.shape"
   ]
  },
  {
   "cell_type": "code",
   "execution_count": 30,
   "id": "970dfc30",
   "metadata": {},
   "outputs": [],
   "source": [
    "#list_a.shape\n",
    "#this code will show error cause, list and array are stored differently"
   ]
  },
  {
   "cell_type": "code",
   "execution_count": 31,
   "id": "cd4db901",
   "metadata": {},
   "outputs": [
    {
     "data": {
      "text/plain": [
       "2"
      ]
     },
     "execution_count": 31,
     "metadata": {},
     "output_type": "execute_result"
    }
   ],
   "source": [
    "len(list_a)"
   ]
  },
  {
   "cell_type": "code",
   "execution_count": 32,
   "id": "ff9d8cdf",
   "metadata": {},
   "outputs": [
    {
     "data": {
      "text/plain": [
       "3"
      ]
     },
     "execution_count": 32,
     "metadata": {},
     "output_type": "execute_result"
    }
   ],
   "source": [
    "len(list_a[0])\n",
    "# this means that inner first list has 3 elements"
   ]
  },
  {
   "cell_type": "code",
   "execution_count": 33,
   "id": "3995b49f",
   "metadata": {},
   "outputs": [
    {
     "data": {
      "text/plain": [
       "[[1, 2, 3], [4, 5, 6]]"
      ]
     },
     "execution_count": 33,
     "metadata": {},
     "output_type": "execute_result"
    }
   ],
   "source": [
    "list_a"
   ]
  },
  {
   "cell_type": "code",
   "execution_count": 34,
   "id": "4fc71136",
   "metadata": {},
   "outputs": [
    {
     "data": {
      "text/plain": [
       "array([[1, 2, 3],\n",
       "       [4, 5, 6]])"
      ]
     },
     "execution_count": 34,
     "metadata": {},
     "output_type": "execute_result"
    }
   ],
   "source": [
    "array_a"
   ]
  },
  {
   "cell_type": "code",
   "execution_count": 35,
   "id": "54a6c32d",
   "metadata": {},
   "outputs": [],
   "source": [
    "#Now\n",
    "list_b = list_a[0] + list_a[1]\n",
    "array_b = array_a[0] + array_a[1]"
   ]
  },
  {
   "cell_type": "code",
   "execution_count": 36,
   "id": "36b6f0fe",
   "metadata": {},
   "outputs": [
    {
     "data": {
      "text/plain": [
       "[1, 2, 3, 4, 5, 6]"
      ]
     },
     "execution_count": 36,
     "metadata": {},
     "output_type": "execute_result"
    }
   ],
   "source": [
    "list_b"
   ]
  },
  {
   "cell_type": "code",
   "execution_count": 37,
   "id": "5ccaaf8d",
   "metadata": {},
   "outputs": [
    {
     "data": {
      "text/plain": [
       "array([5, 7, 9])"
      ]
     },
     "execution_count": 37,
     "metadata": {},
     "output_type": "execute_result"
    }
   ],
   "source": [
    "array_b"
   ]
  },
  {
   "cell_type": "code",
   "execution_count": 39,
   "id": "a9714192",
   "metadata": {},
   "outputs": [],
   "source": [
    "import math\n",
    "#array_e = math.sqrt(list_a[1,0])\n",
    "#print(array_e)\n",
    "#this code will show error as the input is a list"
   ]
  },
  {
   "cell_type": "code",
   "execution_count": 40,
   "id": "29babb87",
   "metadata": {},
   "outputs": [
    {
     "name": "stdout",
     "output_type": "stream",
     "text": [
      "2.0\n"
     ]
    }
   ],
   "source": [
    "import math\n",
    "array_e = math.sqrt(array_a[1,0])\n",
    "print(array_e)\n"
   ]
  },
  {
   "cell_type": "code",
   "execution_count": 41,
   "id": "33ed6384",
   "metadata": {},
   "outputs": [
    {
     "data": {
      "text/plain": [
       "array([[1.        , 1.41421356, 1.73205081],\n",
       "       [2.        , 2.23606798, 2.44948974]])"
      ]
     },
     "execution_count": 41,
     "metadata": {},
     "output_type": "execute_result"
    }
   ],
   "source": [
    "np.sqrt(array_a)"
   ]
  },
  {
   "cell_type": "markdown",
   "id": "7d7803fa",
   "metadata": {},
   "source": [
    "### String vs Object vs Numbers"
   ]
  },
  {
   "cell_type": "code",
   "execution_count": 43,
   "id": "0f7cd578",
   "metadata": {},
   "outputs": [],
   "source": [
    "lending_co_lt = np.genfromtxt(\"lending-co-LT.csv\", delimiter=',')"
   ]
  },
  {
   "cell_type": "code",
   "execution_count": 44,
   "id": "7808e800",
   "metadata": {},
   "outputs": [
    {
     "data": {
      "text/plain": [
       "array([[      nan,       nan,       nan, ...,       nan,       nan,\n",
       "              nan],\n",
       "       [1.000e+00,       nan,       nan, ...,       nan,       nan,\n",
       "        1.660e+04],\n",
       "       [2.000e+00,       nan,       nan, ...,       nan,       nan,\n",
       "        1.660e+04],\n",
       "       ...,\n",
       "       [1.041e+03,       nan,       nan, ...,       nan,       nan,\n",
       "        1.660e+04],\n",
       "       [1.042e+03,       nan,       nan, ...,       nan,       nan,\n",
       "        1.560e+04],\n",
       "       [1.043e+03,       nan,       nan, ...,       nan,       nan,\n",
       "        1.660e+04]])"
      ]
     },
     "execution_count": 44,
     "metadata": {},
     "output_type": "execute_result"
    }
   ],
   "source": [
    "lending_co_lt"
   ]
  },
  {
   "cell_type": "code",
   "execution_count": 45,
   "id": "ca0c5e30",
   "metadata": {},
   "outputs": [
    {
     "name": "stdout",
     "output_type": "stream",
     "text": [
      "[[      nan       nan       nan ...       nan       nan       nan]\n",
      " [1.000e+00       nan       nan ...       nan       nan 1.660e+04]\n",
      " [2.000e+00       nan       nan ...       nan       nan 1.660e+04]\n",
      " ...\n",
      " [1.041e+03       nan       nan ...       nan       nan 1.660e+04]\n",
      " [1.042e+03       nan       nan ...       nan       nan 1.560e+04]\n",
      " [1.043e+03       nan       nan ...       nan       nan 1.660e+04]]\n"
     ]
    }
   ],
   "source": [
    "# another wqay of displaying this is\n",
    "print(lending_co_lt)\n",
    "#As you can see the numbers are shown in ye+x format which means y*10^(x)"
   ]
  },
  {
   "cell_type": "code",
   "execution_count": 46,
   "id": "e11b0b6a",
   "metadata": {},
   "outputs": [
    {
     "data": {
      "text/plain": [
       "array([[   -1,    -1,    -1, ...,    -1,    -1,    -1],\n",
       "       [    1,    -1,    -1, ...,    -1,    -1, 16600],\n",
       "       [    2,    -1,    -1, ...,    -1,    -1, 16600],\n",
       "       ...,\n",
       "       [ 1041,    -1,    -1, ...,    -1,    -1, 16600],\n",
       "       [ 1042,    -1,    -1, ...,    -1,    -1, 15600],\n",
       "       [ 1043,    -1,    -1, ...,    -1,    -1, 16600]])"
      ]
     },
     "execution_count": 46,
     "metadata": {},
     "output_type": "execute_result"
    }
   ],
   "source": [
    "lending_co_lt = np.genfromtxt(\"lending-co-LT.csv\", \n",
    "                              delimiter=',',\n",
    "                             dtype = np.int32)\n",
    "lending_co_lt\n",
    "#Now the missing values are generated differently"
   ]
  },
  {
   "cell_type": "code",
   "execution_count": 47,
   "id": "fd7c9338",
   "metadata": {},
   "outputs": [
    {
     "data": {
      "text/plain": [
       "-2"
      ]
     },
     "execution_count": 47,
     "metadata": {},
     "output_type": "execute_result"
    }
   ],
   "source": [
    "lending_co_lt[0,0] + lending_co_lt[0,1]"
   ]
  },
  {
   "cell_type": "code",
   "execution_count": 48,
   "id": "904baefe",
   "metadata": {},
   "outputs": [
    {
     "data": {
      "text/plain": [
       "array([['LoanID', 'StringID', 'Product', ..., 'Location', 'Region',\n",
       "        'TotalPrice'],\n",
       "       ['1', 'id_1', 'Product B', ..., 'Location 2', 'Region 2',\n",
       "        '16600.0'],\n",
       "       ['2', 'id_2', 'Product B', ..., 'Location 3', '', '16600.0'],\n",
       "       ...,\n",
       "       ['1041', 'id_1041', 'Product B', ..., 'Location 23', 'Region 4',\n",
       "        '16600.0'],\n",
       "       ['1042', 'id_1042', 'Product C', ..., 'Location 52', 'Region 6',\n",
       "        '15600.0'],\n",
       "       ['1043', 'id_1043', 'Product B', ..., 'Location 142', 'Region 6',\n",
       "        '16600.0']], dtype='<U14')"
      ]
     },
     "execution_count": 48,
     "metadata": {},
     "output_type": "execute_result"
    }
   ],
   "source": [
    "lending_co_lt = np.genfromtxt(\"lending-co-LT.csv\", \n",
    "                              delimiter=',',\n",
    "                             dtype = np.str_)\n",
    "lending_co_lt\n",
    "#Here the values are the symbols stored in those areas\n",
    "#that means are numbers are not values but just symbols\n",
    "#so they can't be added\n",
    "#The different elements within the array can still be stored, cut and formatted"
   ]
  },
  {
   "cell_type": "code",
   "execution_count": 49,
   "id": "30525109",
   "metadata": {},
   "outputs": [
    {
     "data": {
      "text/plain": [
       "array([[b'LoanID', b'StringID', b'Product', ..., b'Location', b'Region',\n",
       "        b'TotalPrice'],\n",
       "       [b'1', b'id_1', b'Product B', ..., b'Location 2', b'Region 2',\n",
       "        b'16600.0'],\n",
       "       [b'2', b'id_2', b'Product B', ..., b'Location 3', b'', b'16600.0'],\n",
       "       ...,\n",
       "       [b'1041', b'id_1041', b'Product B', ..., b'Location 23',\n",
       "        b'Region 4', b'16600.0'],\n",
       "       [b'1042', b'id_1042', b'Product C', ..., b'Location 52',\n",
       "        b'Region 6', b'15600.0'],\n",
       "       [b'1043', b'id_1043', b'Product B', ..., b'Location 142',\n",
       "        b'Region 6', b'16600.0']], dtype=object)"
      ]
     },
     "execution_count": 49,
     "metadata": {},
     "output_type": "execute_result"
    }
   ],
   "source": [
    "lending_co_lt = np.genfromtxt(\"lending-co-LT.csv\", \n",
    "                              delimiter=',',\n",
    "                             dtype = object)\n",
    "lending_co_lt\n",
    "#The data inside is not just plain text we can't freely manipulate\n",
    "#Object dtype is used for better compatibility with older versions of pandas"
   ]
  },
  {
   "cell_type": "code",
   "execution_count": 50,
   "id": "3b03d118",
   "metadata": {},
   "outputs": [
    {
     "data": {
      "text/plain": [
       "array([(  -1, '', '', '', '', '',    -1),\n",
       "       (   1, '', '', '', '', '', 16600),\n",
       "       (   2, '', '', '', '', '', 16600), ...,\n",
       "       (1041, '', '', '', '', '', 16600),\n",
       "       (1042, '', '', '', '', '', 15600),\n",
       "       (1043, '', '', '', '', '', 16600)],\n",
       "      dtype=[('f0', '<i4'), ('f1', '<U'), ('f2', '<U'), ('f3', '<U'), ('f4', '<U'), ('f5', '<U'), ('f6', '<i4')])"
      ]
     },
     "execution_count": 50,
     "metadata": {},
     "output_type": "execute_result"
    }
   ],
   "source": [
    "lending_co_lt = np.genfromtxt(\"lending-co-LT.csv\", \n",
    "                              delimiter=',',\n",
    "                             dtype = (np.int32, np.str_, np.str_, np.str_, np.str_, np.str_, np.int32))\n",
    "lending_co_lt\n",
    "#Output is not very pleasing\n",
    "#The reason behind it is Arrays usually consist of a single numeric dtype\n",
    "#We should avoid specifying various dtypes when working with NumPy"
   ]
  },
  {
   "cell_type": "code",
   "execution_count": null,
   "id": "a75a07bb",
   "metadata": {},
   "outputs": [],
   "source": []
  }
 ],
 "metadata": {
  "kernelspec": {
   "display_name": "Python 3 (ipykernel)",
   "language": "python",
   "name": "python3"
  },
  "language_info": {
   "codemirror_mode": {
    "name": "ipython",
    "version": 3
   },
   "file_extension": ".py",
   "mimetype": "text/x-python",
   "name": "python",
   "nbconvert_exporter": "python",
   "pygments_lexer": "ipython3",
   "version": "3.10.9"
  }
 },
 "nbformat": 4,
 "nbformat_minor": 5
}
