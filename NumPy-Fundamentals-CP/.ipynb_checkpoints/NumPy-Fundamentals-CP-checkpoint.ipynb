{
 "cells": [
  {
   "cell_type": "markdown",
   "id": "ca5ebfbd",
   "metadata": {},
   "source": [
    "# NumPy Fundamentals"
   ]
  },
  {
   "cell_type": "code",
   "execution_count": 1,
   "id": "5f7fddf7",
   "metadata": {},
   "outputs": [],
   "source": [
    "import numpy as np"
   ]
  },
  {
   "cell_type": "code",
   "execution_count": 2,
   "id": "2b1244fc",
   "metadata": {},
   "outputs": [
    {
     "data": {
      "text/plain": [
       "'1.24.3'"
      ]
     },
     "execution_count": 2,
     "metadata": {},
     "output_type": "execute_result"
    }
   ],
   "source": [
    "np.__version__"
   ]
  },
  {
   "cell_type": "markdown",
   "id": "3aa1fa5a",
   "metadata": {},
   "source": [
    "### Indexing"
   ]
  },
  {
   "cell_type": "code",
   "execution_count": 3,
   "id": "2d2255cc",
   "metadata": {},
   "outputs": [
    {
     "data": {
      "text/plain": [
       "array([[1, 2, 3],\n",
       "       [4, 5, 6]])"
      ]
     },
     "execution_count": 3,
     "metadata": {},
     "output_type": "execute_result"
    }
   ],
   "source": [
    "array_a = np.array([[1,2,3],[4,5,6]])\n",
    "array_a"
   ]
  },
  {
   "cell_type": "markdown",
   "id": "44cc8a37",
   "metadata": {},
   "source": [
    "### Specific Values"
   ]
  },
  {
   "cell_type": "code",
   "execution_count": 4,
   "id": "c7b56a30",
   "metadata": {},
   "outputs": [
    {
     "data": {
      "text/plain": [
       "array([4, 5, 6])"
      ]
     },
     "execution_count": 4,
     "metadata": {},
     "output_type": "execute_result"
    }
   ],
   "source": [
    "array_a[1]"
   ]
  },
  {
   "cell_type": "code",
   "execution_count": 5,
   "id": "5d1a4f59",
   "metadata": {},
   "outputs": [
    {
     "data": {
      "text/plain": [
       "3"
      ]
     },
     "execution_count": 5,
     "metadata": {},
     "output_type": "execute_result"
    }
   ],
   "source": [
    "array_a[0][2]"
   ]
  },
  {
   "cell_type": "code",
   "execution_count": 6,
   "id": "51536735",
   "metadata": {},
   "outputs": [
    {
     "data": {
      "text/plain": [
       "5"
      ]
     },
     "execution_count": 6,
     "metadata": {},
     "output_type": "execute_result"
    }
   ],
   "source": [
    "# A better way of doing the above operation is\n",
    "array_a[1,1]"
   ]
  },
  {
   "cell_type": "markdown",
   "id": "90e8d3ad",
   "metadata": {},
   "source": [
    "###### Both the operations can be done what's important is to be consistent with one type of code through out the program."
   ]
  },
  {
   "cell_type": "code",
   "execution_count": 7,
   "id": "2d8204b9",
   "metadata": {},
   "outputs": [
    {
     "data": {
      "text/plain": [
       "array([1, 4])"
      ]
     },
     "execution_count": 7,
     "metadata": {},
     "output_type": "execute_result"
    }
   ],
   "source": [
    "array_a[:,0]\n",
    "#this tells us that we need the column"
   ]
  },
  {
   "cell_type": "markdown",
   "id": "30ecac1c",
   "metadata": {},
   "source": [
    "### Negative Indices"
   ]
  },
  {
   "cell_type": "code",
   "execution_count": 8,
   "id": "8944a28f",
   "metadata": {},
   "outputs": [
    {
     "data": {
      "text/plain": [
       "3"
      ]
     },
     "execution_count": 8,
     "metadata": {},
     "output_type": "execute_result"
    }
   ],
   "source": [
    "array_b = np.array([1,2,3])\n",
    "array_b[-1]"
   ]
  },
  {
   "cell_type": "code",
   "execution_count": 9,
   "id": "95b69496",
   "metadata": {},
   "outputs": [
    {
     "data": {
      "text/plain": [
       "array([[1, 2, 3],\n",
       "       [4, 5, 6]])"
      ]
     },
     "execution_count": 9,
     "metadata": {},
     "output_type": "execute_result"
    }
   ],
   "source": [
    "array_a"
   ]
  },
  {
   "cell_type": "code",
   "execution_count": 10,
   "id": "83d7555e",
   "metadata": {},
   "outputs": [
    {
     "data": {
      "text/plain": [
       "array([4, 5, 6])"
      ]
     },
     "execution_count": 10,
     "metadata": {},
     "output_type": "execute_result"
    }
   ],
   "source": [
    "array_a[-1]"
   ]
  },
  {
   "cell_type": "code",
   "execution_count": 11,
   "id": "7f2c20ec",
   "metadata": {},
   "outputs": [
    {
     "data": {
      "text/plain": [
       "array([3, 6])"
      ]
     },
     "execution_count": 11,
     "metadata": {},
     "output_type": "execute_result"
    }
   ],
   "source": [
    "array_a[:,-1]"
   ]
  },
  {
   "cell_type": "markdown",
   "id": "4c7a8267",
   "metadata": {},
   "source": [
    "### Assigning Values"
   ]
  },
  {
   "cell_type": "code",
   "execution_count": 12,
   "id": "01720885",
   "metadata": {},
   "outputs": [
    {
     "data": {
      "text/plain": [
       "array([[1, 2, 3],\n",
       "       [4, 5, 6]])"
      ]
     },
     "execution_count": 12,
     "metadata": {},
     "output_type": "execute_result"
    }
   ],
   "source": [
    "array_a = np.array([[1,2,3],[4,5,6]])\n",
    "array_a"
   ]
  },
  {
   "cell_type": "code",
   "execution_count": 13,
   "id": "844979c9",
   "metadata": {},
   "outputs": [
    {
     "data": {
      "text/plain": [
       "array([[1, 2, 9],\n",
       "       [4, 5, 6]])"
      ]
     },
     "execution_count": 13,
     "metadata": {},
     "output_type": "execute_result"
    }
   ],
   "source": [
    "array_a[0,2] = 9\n",
    "array_a"
   ]
  },
  {
   "cell_type": "code",
   "execution_count": 14,
   "id": "96a5fc10",
   "metadata": {},
   "outputs": [
    {
     "data": {
      "text/plain": [
       "array([[9, 9, 9],\n",
       "       [4, 5, 6]])"
      ]
     },
     "execution_count": 14,
     "metadata": {},
     "output_type": "execute_result"
    }
   ],
   "source": [
    "array_a[0] = 9\n",
    "array_a"
   ]
  },
  {
   "cell_type": "code",
   "execution_count": 15,
   "id": "84970264",
   "metadata": {},
   "outputs": [
    {
     "data": {
      "text/plain": [
       "array([[9, 9, 9],\n",
       "       [9, 5, 6]])"
      ]
     },
     "execution_count": 15,
     "metadata": {},
     "output_type": "execute_result"
    }
   ],
   "source": [
    "array_a[:,0] = 9\n",
    "array_a"
   ]
  },
  {
   "cell_type": "code",
   "execution_count": 16,
   "id": "50d88671",
   "metadata": {},
   "outputs": [
    {
     "data": {
      "text/plain": [
       "array([[7, 8, 9],\n",
       "       [9, 5, 6]])"
      ]
     },
     "execution_count": 16,
     "metadata": {},
     "output_type": "execute_result"
    }
   ],
   "source": [
    "# If we want to change multiple elements we use list\n",
    "list_a = [7,8,9]\n",
    "array_a[0] = list_a\n",
    "array_a"
   ]
  },
  {
   "cell_type": "code",
   "execution_count": 17,
   "id": "1fe78cb5",
   "metadata": {},
   "outputs": [
    {
     "data": {
      "text/plain": [
       "numpy.ndarray"
      ]
     },
     "execution_count": 17,
     "metadata": {},
     "output_type": "execute_result"
    }
   ],
   "source": [
    "type(array_a[0])\n",
    "# This shows that once the array has accepted a value in it it's type becomes\n",
    "# eqyal to array"
   ]
  },
  {
   "cell_type": "code",
   "execution_count": 18,
   "id": "c89ef969",
   "metadata": {},
   "outputs": [],
   "source": [
    "array_a[:] = 9"
   ]
  },
  {
   "cell_type": "code",
   "execution_count": 19,
   "id": "2ce3a22d",
   "metadata": {},
   "outputs": [
    {
     "data": {
      "text/plain": [
       "array([[9, 9, 9],\n",
       "       [9, 9, 9]])"
      ]
     },
     "execution_count": 19,
     "metadata": {},
     "output_type": "execute_result"
    }
   ],
   "source": [
    "array_a"
   ]
  },
  {
   "cell_type": "code",
   "execution_count": 20,
   "id": "369ab91f",
   "metadata": {},
   "outputs": [
    {
     "data": {
      "text/plain": [
       "9"
      ]
     },
     "execution_count": 20,
     "metadata": {},
     "output_type": "execute_result"
    }
   ],
   "source": [
    "array_a = 9\n",
    "array_a"
   ]
  },
  {
   "cell_type": "code",
   "execution_count": 21,
   "id": "90da3ffc",
   "metadata": {},
   "outputs": [
    {
     "data": {
      "text/plain": [
       "int"
      ]
     },
     "execution_count": 21,
     "metadata": {},
     "output_type": "execute_result"
    }
   ],
   "source": [
    "type(array_a)"
   ]
  },
  {
   "cell_type": "markdown",
   "id": "e6b5fd49",
   "metadata": {},
   "source": [
    "This shows that the 2D array is no more in existence "
   ]
  },
  {
   "cell_type": "code",
   "execution_count": 22,
   "id": "bd3d763b",
   "metadata": {},
   "outputs": [
    {
     "data": {
      "text/plain": [
       "array([[1, 2, 3],\n",
       "       [4, 5, 6]])"
      ]
     },
     "execution_count": 22,
     "metadata": {},
     "output_type": "execute_result"
    }
   ],
   "source": [
    "array_a = np.array([[1,2,3],[4,5,6]])\n",
    "array_a"
   ]
  },
  {
   "cell_type": "markdown",
   "id": "d2ac8b45",
   "metadata": {},
   "source": [
    "### Elementwise Properties\n",
    "\n",
    "Elementwise means that whatever mathmatical computation we are conducting, we are doing it to each element of the array"
   ]
  },
  {
   "cell_type": "code",
   "execution_count": 23,
   "id": "b3c78014",
   "metadata": {},
   "outputs": [
    {
     "data": {
      "text/plain": [
       "array([7, 8, 9])"
      ]
     },
     "execution_count": 23,
     "metadata": {},
     "output_type": "execute_result"
    }
   ],
   "source": [
    "array_a = np.array([7,8,9])\n",
    "array_a"
   ]
  },
  {
   "cell_type": "code",
   "execution_count": 24,
   "id": "c250399a",
   "metadata": {},
   "outputs": [
    {
     "data": {
      "text/plain": [
       "array([[1, 2, 3],\n",
       "       [4, 5, 6]])"
      ]
     },
     "execution_count": 24,
     "metadata": {},
     "output_type": "execute_result"
    }
   ],
   "source": [
    "array_b = np.array([[1,2,3],[4,5,6]])\n",
    "array_b                    "
   ]
  },
  {
   "cell_type": "code",
   "execution_count": 25,
   "id": "089d9fae",
   "metadata": {},
   "outputs": [
    {
     "data": {
      "text/plain": [
       "array([ 9, 10, 11])"
      ]
     },
     "execution_count": 25,
     "metadata": {},
     "output_type": "execute_result"
    }
   ],
   "source": [
    "array_a +  2"
   ]
  },
  {
   "cell_type": "code",
   "execution_count": 26,
   "id": "0de46707",
   "metadata": {},
   "outputs": [
    {
     "data": {
      "text/plain": [
       "array([[3, 4, 5],\n",
       "       [6, 7, 8]])"
      ]
     },
     "execution_count": 26,
     "metadata": {},
     "output_type": "execute_result"
    }
   ],
   "source": [
    "array_b + 2"
   ]
  },
  {
   "cell_type": "code",
   "execution_count": 27,
   "id": "1935330c",
   "metadata": {},
   "outputs": [
    {
     "data": {
      "text/plain": [
       "array([ 8, 10, 12])"
      ]
     },
     "execution_count": 27,
     "metadata": {},
     "output_type": "execute_result"
    }
   ],
   "source": [
    "array_a + array_b[0]\n",
    "# Each individual element is added up with its corresponding counterpart from the other array"
   ]
  },
  {
   "cell_type": "code",
   "execution_count": 28,
   "id": "0d4f5f23",
   "metadata": {},
   "outputs": [
    {
     "data": {
      "text/plain": [
       "array([[ 8, 10, 12],\n",
       "       [11, 13, 15]])"
      ]
     },
     "execution_count": 28,
     "metadata": {},
     "output_type": "execute_result"
    }
   ],
   "source": [
    "array_a + array_b\n",
    "#This is posible only if the length of the arrays is equal"
   ]
  },
  {
   "cell_type": "code",
   "execution_count": 29,
   "id": "6f6c7342",
   "metadata": {},
   "outputs": [
    {
     "data": {
      "text/plain": [
       "array([[ 7, 16, 27],\n",
       "       [28, 40, 54]])"
      ]
     },
     "execution_count": 29,
     "metadata": {},
     "output_type": "execute_result"
    }
   ],
   "source": [
    "array_a * array_b"
   ]
  },
  {
   "cell_type": "markdown",
   "id": "c400ee66",
   "metadata": {},
   "source": [
    "Always remember that while Addition and Subtraction the sequence is important"
   ]
  },
  {
   "cell_type": "markdown",
   "id": "94e901a6",
   "metadata": {},
   "source": [
    "### Types of Data Supported by NumPy"
   ]
  },
  {
   "cell_type": "code",
   "execution_count": 33,
   "id": "a0332834",
   "metadata": {},
   "outputs": [
    {
     "data": {
      "text/plain": [
       "array([[1, 2, 3],\n",
       "       [4, 5, 6]])"
      ]
     },
     "execution_count": 33,
     "metadata": {},
     "output_type": "execute_result"
    }
   ],
   "source": [
    "arra_a = np.array([[1,2,3],[4,5,6]])\n",
    "arra_a"
   ]
  },
  {
   "cell_type": "code",
   "execution_count": 34,
   "id": "3f7d2b49",
   "metadata": {},
   "outputs": [
    {
     "data": {
      "text/plain": [
       "array([[1., 2., 3.],\n",
       "       [4., 5., 6.]], dtype=float32)"
      ]
     },
     "execution_count": 34,
     "metadata": {},
     "output_type": "execute_result"
    }
   ],
   "source": [
    "arra_a = np.array([[1,2,3],[4,5,6]], dtype = \"float32\")\n",
    "arra_a"
   ]
  },
  {
   "cell_type": "code",
   "execution_count": 35,
   "id": "49a97b5d",
   "metadata": {},
   "outputs": [
    {
     "data": {
      "text/plain": [
       "array([[1., 2., 3.],\n",
       "       [4., 5., 6.]], dtype=float32)"
      ]
     },
     "execution_count": 35,
     "metadata": {},
     "output_type": "execute_result"
    }
   ],
   "source": [
    "# Another way of writing this is... \n",
    "arra_a = np.array([[1,2,3],[4,5,6]], dtype = np.float32)\n",
    "arra_a"
   ]
  },
  {
   "cell_type": "code",
   "execution_count": 36,
   "id": "3756de47",
   "metadata": {},
   "outputs": [
    {
     "data": {
      "text/plain": [
       "array([[1.+0.j, 2.+0.j, 3.+0.j],\n",
       "       [4.+0.j, 5.+0.j, 6.+0.j]], dtype=complex64)"
      ]
     },
     "execution_count": 36,
     "metadata": {},
     "output_type": "execute_result"
    }
   ],
   "source": [
    "arra_a = np.array([[1,2,3],[4,5,6]], np.complex64)\n",
    "arra_a"
   ]
  },
  {
   "cell_type": "code",
   "execution_count": 44,
   "id": "8b1e6add",
   "metadata": {},
   "outputs": [
    {
     "data": {
      "text/plain": [
       "array([['1', '2', '3'],\n",
       "       ['4', '5', '6']], dtype='<U1')"
      ]
     },
     "execution_count": 44,
     "metadata": {},
     "output_type": "execute_result"
    }
   ],
   "source": [
    "arra_a = np.array([[1,2,3],[4,5,6]], str)\n",
    "arra_a\n",
    "#here U1 tells us that the string has a unicode value of lenght up to 1"
   ]
  },
  {
   "cell_type": "code",
   "execution_count": 43,
   "id": "56620891",
   "metadata": {},
   "outputs": [
    {
     "data": {
      "text/plain": [
       "array([[ True,  True,  True],\n",
       "       [ True,  True,  True]])"
      ]
     },
     "execution_count": 43,
     "metadata": {},
     "output_type": "execute_result"
    }
   ],
   "source": [
    "arra_a = np.array([[1,2,3],[4,5,6]], bool)\n",
    "arra_a"
   ]
  },
  {
   "cell_type": "markdown",
   "id": "0e36675a",
   "metadata": {},
   "source": [
    "### Broadcasting\n",
    "\n",
    "We want to conduct elementwise operations but have elements of different sizes, and/or demision, So we broadcast the smaller variable and create a broadcasted version with the size of the larger one\n",
    "\n",
    "\"Stretching\" one variable over the other to produce an output with the same shape."
   ]
  },
  {
   "cell_type": "code",
   "execution_count": 45,
   "id": "ac20bf7e",
   "metadata": {},
   "outputs": [
    {
     "data": {
      "text/plain": [
       "array([1, 2, 3])"
      ]
     },
     "execution_count": 45,
     "metadata": {},
     "output_type": "execute_result"
    }
   ],
   "source": [
    "array_a = np.array([1,2,3])\n",
    "array_a"
   ]
  },
  {
   "cell_type": "code",
   "execution_count": 46,
   "id": "847c8149",
   "metadata": {},
   "outputs": [
    {
     "data": {
      "text/plain": [
       "array([[1],\n",
       "       [2]])"
      ]
     },
     "execution_count": 46,
     "metadata": {},
     "output_type": "execute_result"
    }
   ],
   "source": [
    "array_b = np.array([[1],[2]])\n",
    "array_b"
   ]
  },
  {
   "cell_type": "code",
   "execution_count": 47,
   "id": "9e02d66a",
   "metadata": {},
   "outputs": [
    {
     "data": {
      "text/plain": [
       "array([[1, 2, 3],\n",
       "       [4, 5, 6]])"
      ]
     },
     "execution_count": 47,
     "metadata": {},
     "output_type": "execute_result"
    }
   ],
   "source": [
    "array_c = np.array([[1,2,3],[4,5,6]])\n",
    "array_c"
   ]
  },
  {
   "cell_type": "markdown",
   "id": "c76d27c5",
   "metadata": {},
   "source": [
    "## Characteristics of NumPy Functions"
   ]
  },
  {
   "cell_type": "markdown",
   "id": "c40fb4db",
   "metadata": {},
   "source": [
    "### Universal Functions\n",
    "Universal Functions work with NDarrays on an element-by-element bases, an extension of the elementwise operation"
   ]
  },
  {
   "cell_type": "markdown",
   "id": "159864bb",
   "metadata": {},
   "source": [
    "https://numpy.org/devdocs/reference/ufuncs.html"
   ]
  },
  {
   "cell_type": "code",
   "execution_count": 48,
   "id": "da92f57a",
   "metadata": {},
   "outputs": [
    {
     "data": {
      "text/plain": [
       "array([[2, 4, 6],\n",
       "       [5, 7, 9]])"
      ]
     },
     "execution_count": 48,
     "metadata": {},
     "output_type": "execute_result"
    }
   ],
   "source": [
    "np.add(array_a, array_c)"
   ]
  },
  {
   "cell_type": "code",
   "execution_count": 49,
   "id": "f5552984",
   "metadata": {},
   "outputs": [
    {
     "data": {
      "text/plain": [
       "array([[2, 3, 4],\n",
       "       [6, 7, 8]])"
      ]
     },
     "execution_count": 49,
     "metadata": {},
     "output_type": "execute_result"
    }
   ],
   "source": [
    "np.add(array_b, array_c)"
   ]
  },
  {
   "cell_type": "markdown",
   "id": "6aaf32cd",
   "metadata": {},
   "source": [
    "###### Broadcasting Rules:\n",
    "1.) The arrays have the same shape\n",
    "\n",
    "2.) The arrays have the same number of dimension, and the lenght of each dimension is either common or 1\n",
    "\n",
    "3.) The arrays that have too few dimensions can have their shapees altered with dimension 1, to satisfy the second rule"
   ]
  },
  {
   "cell_type": "markdown",
   "id": "5901bc05",
   "metadata": {},
   "source": [
    "## Type Casting\n",
    "\n",
    "Taking every element of an array and changing it to a specified datatype"
   ]
  },
  {
   "cell_type": "code",
   "execution_count": 50,
   "id": "8106bb74",
   "metadata": {},
   "outputs": [
    {
     "data": {
      "text/plain": [
       "array([[2., 3., 4.],\n",
       "       [6., 7., 8.]])"
      ]
     },
     "execution_count": 50,
     "metadata": {},
     "output_type": "execute_result"
    }
   ],
   "source": [
    "np.add(array_b, array_c, dtype = np.float64)"
   ]
  },
  {
   "cell_type": "code",
   "execution_count": 52,
   "id": "ebfa8ce1",
   "metadata": {},
   "outputs": [],
   "source": [
    "#np.add(array_b, array_c, dtype = str)\n",
    "# this will show an error cause the method .add first converts all numbers to str\n",
    "# And then tries to add it which is not possible in this case."
   ]
  },
  {
   "cell_type": "markdown",
   "id": "534800fd",
   "metadata": {},
   "source": [
    "### Running over an Axis\n",
    "\n",
    "Running a function along a given axis: \n",
    "\n",
    "1.) NumPy breaks down an ND-array into smaller arrays of N-1 many dimension\n",
    "\n",
    "2.) Applies the function to each one and we can use this feature to run fuction along each row or column"
   ]
  },
  {
   "cell_type": "code",
   "execution_count": 53,
   "id": "c75bfa2c",
   "metadata": {},
   "outputs": [
    {
     "data": {
      "text/plain": [
       "array([2.5, 3.5, 4.5])"
      ]
     },
     "execution_count": 53,
     "metadata": {},
     "output_type": "execute_result"
    }
   ],
   "source": [
    "np.mean(array_c, axis = 0)"
   ]
  },
  {
   "cell_type": "code",
   "execution_count": 54,
   "id": "41288d43",
   "metadata": {},
   "outputs": [
    {
     "data": {
      "text/plain": [
       "array([[1, 2, 3],\n",
       "       [4, 5, 6]])"
      ]
     },
     "execution_count": 54,
     "metadata": {},
     "output_type": "execute_result"
    }
   ],
   "source": [
    "array_c"
   ]
  }
 ],
 "metadata": {
  "kernelspec": {
   "display_name": "Python 3 (ipykernel)",
   "language": "python",
   "name": "python3"
  },
  "language_info": {
   "codemirror_mode": {
    "name": "ipython",
    "version": 3
   },
   "file_extension": ".py",
   "mimetype": "text/x-python",
   "name": "python",
   "nbconvert_exporter": "python",
   "pygments_lexer": "ipython3",
   "version": "3.10.9"
  }
 },
 "nbformat": 4,
 "nbformat_minor": 5
}
