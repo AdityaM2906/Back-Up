{
 "cells": [
  {
   "cell_type": "markdown",
   "id": "9f92913e",
   "metadata": {},
   "source": [
    "## Basic Slicing in NumPy"
   ]
  },
  {
   "cell_type": "code",
   "execution_count": 1,
   "id": "ffeab45d",
   "metadata": {},
   "outputs": [],
   "source": [
    "import numpy as np"
   ]
  },
  {
   "cell_type": "markdown",
   "id": "13c68c95",
   "metadata": {},
   "source": [
    "#### Slicing"
   ]
  },
  {
   "cell_type": "code",
   "execution_count": 2,
   "id": "2558ff8c",
   "metadata": {},
   "outputs": [
    {
     "data": {
      "text/plain": [
       "array([[1, 2, 3],\n",
       "       [4, 5, 6]])"
      ]
     },
     "execution_count": 2,
     "metadata": {},
     "output_type": "execute_result"
    }
   ],
   "source": [
    "matrix_a = np.array([[1,2,3],[4,5,6]])\n",
    "matrix_a"
   ]
  },
  {
   "cell_type": "markdown",
   "id": "80147b0e",
   "metadata": {},
   "source": [
    "#### Basic Slicing\n",
    "Creating a new array by taking chunks of values out of the existing one\n",
    "###### Slice: It contains entire rows and columns of the original array, or just part of them"
   ]
  },
  {
   "cell_type": "code",
   "execution_count": 3,
   "id": "807bc4ef",
   "metadata": {},
   "outputs": [
    {
     "data": {
      "text/plain": [
       "array([[1, 2, 3],\n",
       "       [4, 5, 6]])"
      ]
     },
     "execution_count": 3,
     "metadata": {},
     "output_type": "execute_result"
    }
   ],
   "source": [
    "matrix_a[:]\n",
    "#this shows all the rows and columns"
   ]
  },
  {
   "cell_type": "code",
   "execution_count": 4,
   "id": "5ef193e3",
   "metadata": {},
   "outputs": [
    {
     "data": {
      "text/plain": [
       "array([], shape=(0, 3), dtype=int32)"
      ]
     },
     "execution_count": 4,
     "metadata": {},
     "output_type": "execute_result"
    }
   ],
   "source": [
    "matrix_a[0:0]\n",
    "#this shows an empty array but it still has 3 columns"
   ]
  },
  {
   "cell_type": "code",
   "execution_count": 5,
   "id": "44810f7c",
   "metadata": {},
   "outputs": [
    {
     "data": {
      "text/plain": [
       "array([[1, 2, 3]])"
      ]
     },
     "execution_count": 5,
     "metadata": {},
     "output_type": "execute_result"
    }
   ],
   "source": [
    "matrix_a[0:1]\n",
    "#[0:1] signifies all the values before row of index 1\n",
    "# We don't use upper limit"
   ]
  },
  {
   "cell_type": "code",
   "execution_count": 6,
   "id": "9798822f",
   "metadata": {},
   "outputs": [
    {
     "data": {
      "text/plain": [
       "array([[1, 2, 3],\n",
       "       [4, 5, 6]])"
      ]
     },
     "execution_count": 6,
     "metadata": {},
     "output_type": "execute_result"
    }
   ],
   "source": [
    "matrix_a[0:2]"
   ]
  },
  {
   "cell_type": "code",
   "execution_count": 7,
   "id": "2d2a8baf",
   "metadata": {},
   "outputs": [
    {
     "data": {
      "text/plain": [
       "array([[1, 2, 3],\n",
       "       [4, 5, 6]])"
      ]
     },
     "execution_count": 7,
     "metadata": {},
     "output_type": "execute_result"
    }
   ],
   "source": [
    "matrix_a[:,:]\n",
    "#This prints the complete matrix"
   ]
  },
  {
   "cell_type": "code",
   "execution_count": 8,
   "id": "54a8b532",
   "metadata": {},
   "outputs": [
    {
     "data": {
      "text/plain": [
       "array([[4, 5, 6]])"
      ]
     },
     "execution_count": 8,
     "metadata": {},
     "output_type": "execute_result"
    }
   ],
   "source": [
    "#Similarly\n",
    "matrix_a[1:]\n",
    "#[1:] tells from where to start and print till the end"
   ]
  },
  {
   "cell_type": "code",
   "execution_count": 9,
   "id": "84e54888",
   "metadata": {},
   "outputs": [
    {
     "data": {
      "text/plain": [
       "array([], shape=(0, 3), dtype=int32)"
      ]
     },
     "execution_count": 9,
     "metadata": {},
     "output_type": "execute_result"
    }
   ],
   "source": [
    "matrix_a[2:]\n",
    "#Since there is no index 2 row"
   ]
  },
  {
   "cell_type": "code",
   "execution_count": 10,
   "id": "ec69b91a",
   "metadata": {},
   "outputs": [
    {
     "data": {
      "text/plain": [
       "array([[1, 2, 3],\n",
       "       [4, 5, 6]])"
      ]
     },
     "execution_count": 10,
     "metadata": {},
     "output_type": "execute_result"
    }
   ],
   "source": [
    "matrix_a[:2]\n",
    "#even this gives full matrix as there are only index till 1"
   ]
  },
  {
   "cell_type": "code",
   "execution_count": 11,
   "id": "31a824d7",
   "metadata": {},
   "outputs": [
    {
     "data": {
      "text/plain": [
       "array([[1, 2, 3]])"
      ]
     },
     "execution_count": 11,
     "metadata": {},
     "output_type": "execute_result"
    }
   ],
   "source": [
    "matrix_a[:1]\n",
    "# this is 2D slicing"
   ]
  },
  {
   "cell_type": "code",
   "execution_count": 12,
   "id": "39cadcbc",
   "metadata": {},
   "outputs": [
    {
     "data": {
      "text/plain": [
       "array([1, 2, 3])"
      ]
     },
     "execution_count": 12,
     "metadata": {},
     "output_type": "execute_result"
    }
   ],
   "source": [
    "#on the other side\n",
    "matrix_a[0]\n",
    "#this is 1D slicing"
   ]
  },
  {
   "cell_type": "markdown",
   "id": "853f51c3",
   "metadata": {},
   "source": [
    "So the numerical values are identical <b>BUT</b> the output vary in dimension"
   ]
  },
  {
   "cell_type": "code",
   "execution_count": 13,
   "id": "2111c88f",
   "metadata": {},
   "outputs": [
    {
     "data": {
      "text/plain": [
       "array([[1, 2, 3]])"
      ]
     },
     "execution_count": 13,
     "metadata": {},
     "output_type": "execute_result"
    }
   ],
   "source": [
    "#lets use negative index\n",
    "matrix_a[:-1]"
   ]
  },
  {
   "cell_type": "code",
   "execution_count": 14,
   "id": "4273f5b5",
   "metadata": {},
   "outputs": [
    {
     "data": {
      "text/plain": [
       "array([[2, 3],\n",
       "       [5, 6]])"
      ]
     },
     "execution_count": 14,
     "metadata": {},
     "output_type": "execute_result"
    }
   ],
   "source": [
    "#lets see columns\n",
    "matrix_a[:,1:]"
   ]
  },
  {
   "cell_type": "code",
   "execution_count": 15,
   "id": "12df8041",
   "metadata": {},
   "outputs": [
    {
     "data": {
      "text/plain": [
       "array([[5, 6]])"
      ]
     },
     "execution_count": 15,
     "metadata": {},
     "output_type": "execute_result"
    }
   ],
   "source": [
    "#Now let's seperate values\n",
    "matrix_a[1:,1:]"
   ]
  },
  {
   "cell_type": "code",
   "execution_count": null,
   "id": "003494eb",
   "metadata": {},
   "outputs": [],
   "source": []
  }
 ],
 "metadata": {
  "kernelspec": {
   "display_name": "Python 3 (ipykernel)",
   "language": "python",
   "name": "python3"
  },
  "language_info": {
   "codemirror_mode": {
    "name": "ipython",
    "version": 3
   },
   "file_extension": ".py",
   "mimetype": "text/x-python",
   "name": "python",
   "nbconvert_exporter": "python",
   "pygments_lexer": "ipython3",
   "version": "3.10.9"
  }
 },
 "nbformat": 4,
 "nbformat_minor": 5
}
