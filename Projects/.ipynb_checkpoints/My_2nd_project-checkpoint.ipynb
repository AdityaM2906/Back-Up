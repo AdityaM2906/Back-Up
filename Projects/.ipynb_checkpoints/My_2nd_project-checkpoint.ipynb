{
 "cells": [
  {
   "cell_type": "markdown",
   "id": "bc302c27",
   "metadata": {},
   "source": [
    "# 1st Data Analyst Project\n",
    "\n",
    "#### S1: Eye ball the data see it in a text editor or excel\n",
    "#### S2: Find as much information from it as possible\n",
    "\n",
    "###### I1.) We have a .csv file\n",
    "   \n",
    "###### I2.) The separator is ';'\n",
    "\n",
    "###### I3.) Data is a combination of Strings and Numbers\n",
    "\n",
    "###### I4.) There are roughly 14 cols and 10000 rows\n",
    "   \n",
    "###### I5.) File contains web urls\n",
    "   \n",
    "###### I6.) The possibility of NaN and missing data is considerable \n",
    "\n",
    "###### I7.) The data is of year 2015\n",
    "###### genfromtxt must be prefered over loadtxt</b>"
   ]
  },
  {
   "cell_type": "code",
   "execution_count": 1,
   "id": "432d0e93",
   "metadata": {},
   "outputs": [],
   "source": [
    "#Import NumPy\n",
    "import numpy as np"
   ]
  },
  {
   "cell_type": "code",
   "execution_count": 2,
   "id": "bf8ef2be",
   "metadata": {},
   "outputs": [],
   "source": [
    "#setting print options\n",
    "np.set_printoptions(suppress = True,\n",
    "                   linewidth = 100,\n",
    "                   precision = 2)"
   ]
  },
  {
   "cell_type": "code",
   "execution_count": 3,
   "id": "c51093b8",
   "metadata": {},
   "outputs": [],
   "source": [
    "raw_data = np.genfromtxt(\"loan-data.csv\",\n",
    "                     delimiter=';',\n",
    "                     skip_header= 1,\n",
    "                     autostrip = True)"
   ]
  },
  {
   "cell_type": "code",
   "execution_count": 4,
   "id": "02d44bc8",
   "metadata": {},
   "outputs": [
    {
     "data": {
      "text/plain": [
       "array([[48010226.  ,         nan,    35000.  , ...,         nan,         nan,     9452.96],\n",
       "       [57693261.  ,         nan,    30000.  , ...,         nan,         nan,     4679.7 ],\n",
       "       [59432726.  ,         nan,    15000.  , ...,         nan,         nan,     1969.83],\n",
       "       ...,\n",
       "       [50415990.  ,         nan,    10000.  , ...,         nan,         nan,     2185.64],\n",
       "       [46154151.  ,         nan,         nan, ...,         nan,         nan,     3199.4 ],\n",
       "       [66055249.  ,         nan,    10000.  , ...,         nan,         nan,      301.9 ]])"
      ]
     },
     "execution_count": 4,
     "metadata": {},
     "output_type": "execute_result"
    }
   ],
   "source": [
    "raw_data"
   ]
  },
  {
   "cell_type": "code",
   "execution_count": 5,
   "id": "d789b371",
   "metadata": {},
   "outputs": [
    {
     "data": {
      "text/plain": [
       "88005"
      ]
     },
     "execution_count": 5,
     "metadata": {},
     "output_type": "execute_result"
    }
   ],
   "source": [
    "#let's find missing values\n",
    "np.isnan(raw_data).sum()"
   ]
  },
  {
   "cell_type": "code",
   "execution_count": 6,
   "id": "b1e55d8b",
   "metadata": {},
   "outputs": [
    {
     "name": "stderr",
     "output_type": "stream",
     "text": [
      "C:\\Users\\DELL\\AppData\\Local\\Temp\\ipykernel_3864\\128708969.py:2: RuntimeWarning: Mean of empty slice\n",
      "  temp_mean = np.nanmean(raw_data, axis = 0) #create an array of mean\n"
     ]
    }
   ],
   "source": [
    "temp_fill = np.nanmax(raw_data) + 1 #create the filler value\n",
    "temp_mean = np.nanmean(raw_data, axis = 0) #create an array of mean"
   ]
  },
  {
   "cell_type": "code",
   "execution_count": 7,
   "id": "e4051a09",
   "metadata": {},
   "outputs": [
    {
     "data": {
      "text/plain": [
       "array([54015809.19,         nan,    15273.46,         nan,    15311.04,         nan,       16.62,\n",
       "            440.92,         nan,         nan,         nan,         nan,         nan,     3143.85])"
      ]
     },
     "execution_count": 7,
     "metadata": {},
     "output_type": "execute_result"
    }
   ],
   "source": [
    "temp_mean"
   ]
  },
  {
   "cell_type": "code",
   "execution_count": 8,
   "id": "e09590ed",
   "metadata": {},
   "outputs": [
    {
     "name": "stderr",
     "output_type": "stream",
     "text": [
      "C:\\Users\\DELL\\AppData\\Local\\Temp\\ipykernel_3864\\2110386613.py:1: RuntimeWarning: All-NaN slice encountered\n",
      "  temp_stats = np.array([np.nanmin(raw_data, axis = 0),\n",
      "C:\\Users\\DELL\\AppData\\Local\\Temp\\ipykernel_3864\\2110386613.py:3: RuntimeWarning: All-NaN slice encountered\n",
      "  np.nanmax(raw_data, axis = 0)])\n"
     ]
    }
   ],
   "source": [
    "temp_stats = np.array([np.nanmin(raw_data, axis = 0),\n",
    "                      temp_mean,\n",
    "                      np.nanmax(raw_data, axis = 0)])\n",
    "#basic stats of the data"
   ]
  },
  {
   "cell_type": "code",
   "execution_count": 9,
   "id": "7b7f5e7d",
   "metadata": {},
   "outputs": [
    {
     "data": {
      "text/plain": [
       "array([[  373332.  ,         nan,     1000.  ,         nan,     1000.  ,         nan,        6.  ,\n",
       "              31.42,         nan,         nan,         nan,         nan,         nan,        0.  ],\n",
       "       [54015809.19,         nan,    15273.46,         nan,    15311.04,         nan,       16.62,\n",
       "             440.92,         nan,         nan,         nan,         nan,         nan,     3143.85],\n",
       "       [68616519.  ,         nan,    35000.  ,         nan,    35000.  ,         nan,       28.99,\n",
       "            1372.97,         nan,         nan,         nan,         nan,         nan,    41913.62]])"
      ]
     },
     "execution_count": 9,
     "metadata": {},
     "output_type": "execute_result"
    }
   ],
   "source": [
    "temp_stats"
   ]
  },
  {
   "cell_type": "code",
   "execution_count": 10,
   "id": "767d42c5",
   "metadata": {},
   "outputs": [],
   "source": [
    "#So as we already know the data has text data and numeric data\n",
    "# we will split it accordingly\n",
    "column_string = np.argwhere(np.isnan(temp_mean)).squeeze()\n",
    "#In this code the temp_mean is the input\n",
    "#with np.isnan we will know weather the value is NaN\n",
    "#np.argwhere will tell the index of the satisfied condition\n",
    "#.squeeze() is used to print all the indices in the same line"
   ]
  },
  {
   "cell_type": "code",
   "execution_count": 11,
   "id": "6733ef1e",
   "metadata": {},
   "outputs": [
    {
     "data": {
      "text/plain": [
       "array([ 1,  3,  5,  8,  9, 10, 11, 12], dtype=int64)"
      ]
     },
     "execution_count": 11,
     "metadata": {},
     "output_type": "execute_result"
    }
   ],
   "source": [
    "column_string"
   ]
  },
  {
   "cell_type": "code",
   "execution_count": 12,
   "id": "eba719c6",
   "metadata": {},
   "outputs": [
    {
     "data": {
      "text/plain": [
       "array([ 0,  2,  4,  6,  7, 13], dtype=int64)"
      ]
     },
     "execution_count": 12,
     "metadata": {},
     "output_type": "execute_result"
    }
   ],
   "source": [
    "column_numeric = np.argwhere(np.isnan(temp_mean) == False).squeeze()\n",
    "column_numeric\n",
    "#In this code the temp_mean is the input\n",
    "#with np.isnan == False we will know weather the value is not NaN\n",
    "#np.argwhere will tell the index of the satisfied condition\n",
    "#.squeeze() is used to print all the indices in the same line"
   ]
  },
  {
   "cell_type": "code",
   "execution_count": 13,
   "id": "7a401510",
   "metadata": {},
   "outputs": [
    {
     "data": {
      "text/plain": [
       "array([['May-15', 'Current', '36 months', ..., 'Verified',\n",
       "        'https://www.lendingclub.com/browse/loanDetail.action?loan_id=48010226', 'CA'],\n",
       "       ['', 'Current', '36 months', ..., 'Source Verified',\n",
       "        'https://www.lendingclub.com/browse/loanDetail.action?loan_id=57693261', 'NY'],\n",
       "       ['Sep-15', 'Current', '36 months', ..., 'Verified',\n",
       "        'https://www.lendingclub.com/browse/loanDetail.action?loan_id=59432726', 'PA'],\n",
       "       ...,\n",
       "       ['Jun-15', 'Current', '36 months', ..., 'Source Verified',\n",
       "        'https://www.lendingclub.com/browse/loanDetail.action?loan_id=50415990', 'CA'],\n",
       "       ['Apr-15', 'Current', '36 months', ..., 'Source Verified',\n",
       "        'https://www.lendingclub.com/browse/loanDetail.action?loan_id=46154151', 'OH'],\n",
       "       ['Dec-15', 'Current', '36 months', ..., '',\n",
       "        'https://www.lendingclub.com/browse/loanDetail.action?loan_id=66055249', 'IL']],\n",
       "      dtype='<U69')"
      ]
     },
     "execution_count": 13,
     "metadata": {},
     "output_type": "execute_result"
    }
   ],
   "source": [
    "#Reimporting data set but only with strings\n",
    "loan_data_strings = np.genfromtxt('loan-data.csv',\n",
    "                                 delimiter = ';',\n",
    "                                 skip_header= 1,\n",
    "                                 autostrip = True,\n",
    "                                 usecols = column_string,\n",
    "                                 dtype = np.str_)\n",
    "loan_data_strings"
   ]
  },
  {
   "cell_type": "code",
   "execution_count": 14,
   "id": "c36da385",
   "metadata": {},
   "outputs": [
    {
     "data": {
      "text/plain": [
       "array([[48010226.  ,    35000.  ,    35000.  ,       13.33,     1184.86,     9452.96],\n",
       "       [57693261.  ,    30000.  ,    30000.  , 68616520.  ,      938.57,     4679.7 ],\n",
       "       [59432726.  ,    15000.  ,    15000.  , 68616520.  ,      494.86,     1969.83],\n",
       "       ...,\n",
       "       [50415990.  ,    10000.  ,    10000.  , 68616520.  , 68616520.  ,     2185.64],\n",
       "       [46154151.  , 68616520.  ,    10000.  ,       16.55,      354.3 ,     3199.4 ],\n",
       "       [66055249.  ,    10000.  ,    10000.  , 68616520.  ,      309.97,      301.9 ]])"
      ]
     },
     "execution_count": 14,
     "metadata": {},
     "output_type": "execute_result"
    }
   ],
   "source": [
    "#Reimporting data set but only with numbers\n",
    "loan_data_numeric = np.genfromtxt('loan-data.csv',\n",
    "                                 delimiter = ';',\n",
    "                                 skip_header= 1,\n",
    "                                 autostrip = True,\n",
    "                                 usecols = column_numeric,\n",
    "                                 filling_values = temp_fill) #use to fill the missing values with the temporary_fill\n",
    "loan_data_numeric\n",
    "\n",
    "#NOTE: currently temp_fill is the largest number of the dataso it's easy to find"
   ]
  },
  {
   "cell_type": "code",
   "execution_count": 15,
   "id": "1d1d8505",
   "metadata": {},
   "outputs": [
    {
     "data": {
      "text/plain": [
       "array(['id', 'issue_d', 'loan_amnt', 'loan_status', 'funded_amnt', 'term', 'int_rate',\n",
       "       'installment', 'grade', 'sub_grade', 'verification_status', 'url', 'addr_state',\n",
       "       'total_pymnt'], dtype='<U19')"
      ]
     },
     "execution_count": 15,
     "metadata": {},
     "output_type": "execute_result"
    }
   ],
   "source": [
    "#Before we start digging deeper in the data set we need to give names to columns\n",
    "#Since in the beginning we skipped headers\n",
    "\n",
    "#Reimporting data set but only with strings\n",
    "header_full = np.genfromtxt('loan-data.csv',\n",
    "                                 delimiter = ';',\n",
    "                                 autostrip = True,\n",
    "                                 skip_footer= raw_data.shape[0], #skipps all the rows\n",
    "                                 dtype = np.str_)\n",
    "header_full"
   ]
  },
  {
   "cell_type": "code",
   "execution_count": 16,
   "id": "ccd654de",
   "metadata": {},
   "outputs": [],
   "source": [
    "header_strings, header_numeric = header_full[column_string], header_full[column_numeric]\n",
    "#As we have given input as column_sting and column_numeric\n",
    "#We have tolf to program to designate the respective column names to the data which it belongs to"
   ]
  },
  {
   "cell_type": "code",
   "execution_count": 17,
   "id": "bbef490a",
   "metadata": {},
   "outputs": [
    {
     "data": {
      "text/plain": [
       "array(['id', 'loan_amnt', 'funded_amnt', 'int_rate', 'installment', 'total_pymnt'], dtype='<U19')"
      ]
     },
     "execution_count": 17,
     "metadata": {},
     "output_type": "execute_result"
    }
   ],
   "source": [
    "header_numeric"
   ]
  },
  {
   "cell_type": "code",
   "execution_count": 18,
   "id": "96fc8ac3",
   "metadata": {},
   "outputs": [
    {
     "data": {
      "text/plain": [
       "array(['issue_d', 'loan_status', 'term', 'grade', 'sub_grade', 'verification_status', 'url',\n",
       "       'addr_state'], dtype='<U19')"
      ]
     },
     "execution_count": 18,
     "metadata": {},
     "output_type": "execute_result"
    }
   ],
   "source": [
    "header_strings"
   ]
  },
  {
   "cell_type": "markdown",
   "id": "63c2b3ba",
   "metadata": {},
   "source": [
    "#### Before we start preprocessing and manipulating data lets make checkpoints which is useful to avoid data loss"
   ]
  },
  {
   "cell_type": "code",
   "execution_count": 19,
   "id": "e098528d",
   "metadata": {},
   "outputs": [],
   "source": [
    "def checkpoint(file_name, checkpoint_header, checkpoint_data):\n",
    "    np.savez(file_name, \n",
    "             header = checkpoint_header, \n",
    "             data = checkpoint_data)\n",
    "    checkpoint_variable = np.load(file_name + \".npz\")\n",
    "    return(checkpoint_variable)\n",
    "\n",
    "#we created a checkpoint which is a .npz file\n",
    "#here the data is stored in different compartment but in same file\n",
    "#Just like a excel workbook\n",
    "#So here we first give file name\n",
    "#then we store header in one array and data in the next one\n",
    "#then we store this into a variable and return it by loading it"
   ]
  },
  {
   "cell_type": "code",
   "execution_count": 20,
   "id": "0e99b041",
   "metadata": {},
   "outputs": [],
   "source": [
    "checkpoint_test = checkpoint(\"checkpoint-test\",\n",
    "                            header_strings,\n",
    "                            loan_data_strings)"
   ]
  },
  {
   "cell_type": "code",
   "execution_count": 21,
   "id": "b0a22128",
   "metadata": {},
   "outputs": [
    {
     "data": {
      "text/plain": [
       "array([['May-15', 'Current', '36 months', ..., 'Verified',\n",
       "        'https://www.lendingclub.com/browse/loanDetail.action?loan_id=48010226', 'CA'],\n",
       "       ['', 'Current', '36 months', ..., 'Source Verified',\n",
       "        'https://www.lendingclub.com/browse/loanDetail.action?loan_id=57693261', 'NY'],\n",
       "       ['Sep-15', 'Current', '36 months', ..., 'Verified',\n",
       "        'https://www.lendingclub.com/browse/loanDetail.action?loan_id=59432726', 'PA'],\n",
       "       ...,\n",
       "       ['Jun-15', 'Current', '36 months', ..., 'Source Verified',\n",
       "        'https://www.lendingclub.com/browse/loanDetail.action?loan_id=50415990', 'CA'],\n",
       "       ['Apr-15', 'Current', '36 months', ..., 'Source Verified',\n",
       "        'https://www.lendingclub.com/browse/loanDetail.action?loan_id=46154151', 'OH'],\n",
       "       ['Dec-15', 'Current', '36 months', ..., '',\n",
       "        'https://www.lendingclub.com/browse/loanDetail.action?loan_id=66055249', 'IL']],\n",
       "      dtype='<U69')"
      ]
     },
     "execution_count": 21,
     "metadata": {},
     "output_type": "execute_result"
    }
   ],
   "source": [
    "checkpoint_test[\"data\"]"
   ]
  },
  {
   "cell_type": "code",
   "execution_count": 22,
   "id": "b87e58f3",
   "metadata": {},
   "outputs": [
    {
     "data": {
      "text/plain": [
       "True"
      ]
     },
     "execution_count": 22,
     "metadata": {},
     "output_type": "execute_result"
    }
   ],
   "source": [
    "np.array_equal(checkpoint_test[\"data\"], loan_data_strings)\n",
    "#if in place of .array_equal we use just .equal\n",
    "#it will individually check each element"
   ]
  },
  {
   "cell_type": "markdown",
   "id": "ae655189",
   "metadata": {},
   "source": [
    "### Manipulating String Columns"
   ]
  },
  {
   "cell_type": "code",
   "execution_count": 23,
   "id": "0a45b5d3",
   "metadata": {},
   "outputs": [
    {
     "data": {
      "text/plain": [
       "array(['issue_d', 'loan_status', 'term', 'grade', 'sub_grade', 'verification_status', 'url',\n",
       "       'addr_state'], dtype='<U19')"
      ]
     },
     "execution_count": 23,
     "metadata": {},
     "output_type": "execute_result"
    }
   ],
   "source": [
    "header_strings"
   ]
  },
  {
   "cell_type": "code",
   "execution_count": 24,
   "id": "67df4d5c",
   "metadata": {},
   "outputs": [],
   "source": [
    "#as we knwo it is necessary to give meaningfull names to columns\n",
    "header_strings[0] = \"issue_date\""
   ]
  },
  {
   "cell_type": "code",
   "execution_count": 25,
   "id": "29f0634f",
   "metadata": {},
   "outputs": [
    {
     "data": {
      "text/plain": [
       "array([['May-15', 'Current', '36 months', ..., 'Verified',\n",
       "        'https://www.lendingclub.com/browse/loanDetail.action?loan_id=48010226', 'CA'],\n",
       "       ['', 'Current', '36 months', ..., 'Source Verified',\n",
       "        'https://www.lendingclub.com/browse/loanDetail.action?loan_id=57693261', 'NY'],\n",
       "       ['Sep-15', 'Current', '36 months', ..., 'Verified',\n",
       "        'https://www.lendingclub.com/browse/loanDetail.action?loan_id=59432726', 'PA'],\n",
       "       ...,\n",
       "       ['Jun-15', 'Current', '36 months', ..., 'Source Verified',\n",
       "        'https://www.lendingclub.com/browse/loanDetail.action?loan_id=50415990', 'CA'],\n",
       "       ['Apr-15', 'Current', '36 months', ..., 'Source Verified',\n",
       "        'https://www.lendingclub.com/browse/loanDetail.action?loan_id=46154151', 'OH'],\n",
       "       ['Dec-15', 'Current', '36 months', ..., '',\n",
       "        'https://www.lendingclub.com/browse/loanDetail.action?loan_id=66055249', 'IL']],\n",
       "      dtype='<U69')"
      ]
     },
     "execution_count": 25,
     "metadata": {},
     "output_type": "execute_result"
    }
   ],
   "source": [
    "loan_data_strings\n",
    "#Let's examine this more deeply"
   ]
  },
  {
   "cell_type": "markdown",
   "id": "7eefbe45",
   "metadata": {},
   "source": [
    "###### Issue_date"
   ]
  },
  {
   "cell_type": "code",
   "execution_count": 26,
   "id": "2946625d",
   "metadata": {},
   "outputs": [
    {
     "data": {
      "text/plain": [
       "array(['May-15', '', 'Sep-15', ..., 'Jun-15', 'Apr-15', 'Dec-15'], dtype='<U69')"
      ]
     },
     "execution_count": 26,
     "metadata": {},
     "output_type": "execute_result"
    }
   ],
   "source": [
    "#as we can see the 1st column in the above code contains month and year lets seperate it\n",
    "loan_data_strings[:,0]\n",
    "#-15 repeats a lot \n",
    "#So the data is of 2015"
   ]
  },
  {
   "cell_type": "code",
   "execution_count": 27,
   "id": "0a6cca33",
   "metadata": {},
   "outputs": [
    {
     "data": {
      "text/plain": [
       "array(['', 'Apr-15', 'Aug-15', 'Dec-15', 'Feb-15', 'Jan-15', 'Jul-15', 'Jun-15', 'Mar-15',\n",
       "       'May-15', 'Nov-15', 'Oct-15', 'Sep-15'], dtype='<U69')"
      ]
     },
     "execution_count": 27,
     "metadata": {},
     "output_type": "execute_result"
    }
   ],
   "source": [
    "#let's see the unique values\n",
    "np.unique(loan_data_strings[:,0])"
   ]
  },
  {
   "cell_type": "code",
   "execution_count": 28,
   "id": "d02ad970",
   "metadata": {},
   "outputs": [],
   "source": [
    "#let's remove -15 as it is repeated\n",
    "#and we know the tear of data\n",
    "loan_data_strings[:,0] = np.chararray.strip(loan_data_strings[:,0], '-15')"
   ]
  },
  {
   "cell_type": "code",
   "execution_count": 29,
   "id": "f427b03d",
   "metadata": {},
   "outputs": [
    {
     "data": {
      "text/plain": [
       "array(['', 'Apr', 'Aug', 'Dec', 'Feb', 'Jan', 'Jul', 'Jun', 'Mar', 'May', 'Nov', 'Oct', 'Sep'],\n",
       "      dtype='<U69')"
      ]
     },
     "execution_count": 29,
     "metadata": {},
     "output_type": "execute_result"
    }
   ],
   "source": [
    "np.unique(loan_data_strings[:,0])"
   ]
  },
  {
   "cell_type": "code",
   "execution_count": 30,
   "id": "1856c424",
   "metadata": {},
   "outputs": [],
   "source": [
    "#as strings take more space lets store all the months in numbers\n",
    "#this helps us to store data is less space\n",
    "month = np.array(['','Jan','Feb','Mar','Apr','May','Jun','Jul','Aug','Sep','Oct','Nov','Dec'])"
   ]
  },
  {
   "cell_type": "code",
   "execution_count": 31,
   "id": "417962a9",
   "metadata": {},
   "outputs": [],
   "source": [
    "for i in range(13):\n",
    "    loan_data_strings[:,0] = np.where(loan_data_strings[:,0] == month[i],\n",
    "                                     i,\n",
    "                                     loan_data_strings[:,0])"
   ]
  },
  {
   "cell_type": "code",
   "execution_count": 32,
   "id": "bb6eec52",
   "metadata": {},
   "outputs": [
    {
     "data": {
      "text/plain": [
       "array(['0', '1', '10', '11', '12', '2', '3', '4', '5', '6', '7', '8', '9'], dtype='<U69')"
      ]
     },
     "execution_count": 32,
     "metadata": {},
     "output_type": "execute_result"
    }
   ],
   "source": [
    "np.unique(loan_data_strings[:,0])"
   ]
  },
  {
   "cell_type": "markdown",
   "id": "ade4e745",
   "metadata": {},
   "source": [
    "###### Loan Status"
   ]
  },
  {
   "cell_type": "code",
   "execution_count": 33,
   "id": "56ab27fa",
   "metadata": {},
   "outputs": [
    {
     "data": {
      "text/plain": [
       "array(['issue_date', 'loan_status', 'term', 'grade', 'sub_grade', 'verification_status', 'url',\n",
       "       'addr_state'], dtype='<U19')"
      ]
     },
     "execution_count": 33,
     "metadata": {},
     "output_type": "execute_result"
    }
   ],
   "source": [
    "header_strings #It just tells us the name of various headers"
   ]
  },
  {
   "cell_type": "code",
   "execution_count": 34,
   "id": "060630bf",
   "metadata": {},
   "outputs": [
    {
     "data": {
      "text/plain": [
       "array(['', 'Charged Off', 'Current', 'Default', 'Fully Paid', 'In Grace Period', 'Issued',\n",
       "       'Late (16-30 days)', 'Late (31-120 days)'], dtype='<U69')"
      ]
     },
     "execution_count": 34,
     "metadata": {},
     "output_type": "execute_result"
    }
   ],
   "source": [
    "np.unique(loan_data_strings[:,1])"
   ]
  },
  {
   "cell_type": "code",
   "execution_count": 35,
   "id": "7324c58b",
   "metadata": {},
   "outputs": [
    {
     "data": {
      "text/plain": [
       "9"
      ]
     },
     "execution_count": 35,
     "metadata": {},
     "output_type": "execute_result"
    }
   ],
   "source": [
    "np.unique(loan_data_strings[:,1]).size"
   ]
  },
  {
   "cell_type": "markdown",
   "id": "25e8d987",
   "metadata": {},
   "source": [
    "<b>Here we can use np.where() to assign a different number to each one but as we know regression only care if the candidate is in a stable financial condition or not, so we need to make this in a 0,1 situation</b> So we use the \"unique\" values and catagorise them in good and bad "
   ]
  },
  {
   "cell_type": "code",
   "execution_count": 36,
   "id": "8e4ccb58",
   "metadata": {},
   "outputs": [],
   "source": [
    "status_bad = np.array(['','Charged Off','Default','Late (31-120 dats)'])\n",
    "#the bad category"
   ]
  },
  {
   "cell_type": "code",
   "execution_count": 37,
   "id": "ae3de496",
   "metadata": {},
   "outputs": [],
   "source": [
    "loan_data_strings[:,1] = np.where(np.isin(loan_data_strings[:,1], status_bad),\n",
    "                                 0,\n",
    "                                 1)"
   ]
  },
  {
   "cell_type": "code",
   "execution_count": 38,
   "id": "b233530d",
   "metadata": {},
   "outputs": [
    {
     "data": {
      "text/plain": [
       "array(['0', '1'], dtype='<U69')"
      ]
     },
     "execution_count": 38,
     "metadata": {},
     "output_type": "execute_result"
    }
   ],
   "source": [
    "np.unique(loan_data_strings[:, 1])"
   ]
  },
  {
   "cell_type": "markdown",
   "id": "aa158ce4",
   "metadata": {},
   "source": [
    "###### Term"
   ]
  },
  {
   "cell_type": "code",
   "execution_count": 39,
   "id": "2b1d2fbc",
   "metadata": {},
   "outputs": [
    {
     "data": {
      "text/plain": [
       "array(['issue_date', 'loan_status', 'term', 'grade', 'sub_grade', 'verification_status', 'url',\n",
       "       'addr_state'], dtype='<U19')"
      ]
     },
     "execution_count": 39,
     "metadata": {},
     "output_type": "execute_result"
    }
   ],
   "source": [
    "header_strings"
   ]
  },
  {
   "cell_type": "code",
   "execution_count": 40,
   "id": "02abbd7e",
   "metadata": {},
   "outputs": [
    {
     "data": {
      "text/plain": [
       "array(['36 months', '36 months', '36 months', ..., '36 months', '36 months', '36 months'],\n",
       "      dtype='<U69')"
      ]
     },
     "execution_count": 40,
     "metadata": {},
     "output_type": "execute_result"
    }
   ],
   "source": [
    "loan_data_strings[:,2]"
   ]
  },
  {
   "cell_type": "code",
   "execution_count": 41,
   "id": "30710ee7",
   "metadata": {},
   "outputs": [
    {
     "data": {
      "text/plain": [
       "array(['', '36 months', '60 months'], dtype='<U69')"
      ]
     },
     "execution_count": 41,
     "metadata": {},
     "output_type": "execute_result"
    }
   ],
   "source": [
    "np.unique(loan_data_strings[:,2])"
   ]
  },
  {
   "cell_type": "code",
   "execution_count": 42,
   "id": "e01aecd0",
   "metadata": {},
   "outputs": [],
   "source": [
    "#since month is repeated we should strip it\n",
    "loan_data_strings[:,2] = np.chararray.strip(loan_data_strings[:,2], ' months')"
   ]
  },
  {
   "cell_type": "code",
   "execution_count": 43,
   "id": "b2d70b2b",
   "metadata": {},
   "outputs": [
    {
     "data": {
      "text/plain": [
       "array(['', '36', '60'], dtype='<U69')"
      ]
     },
     "execution_count": 43,
     "metadata": {},
     "output_type": "execute_result"
    }
   ],
   "source": [
    "np.unique(loan_data_strings[:,2])"
   ]
  },
  {
   "cell_type": "code",
   "execution_count": 44,
   "id": "6dc98c05",
   "metadata": {},
   "outputs": [],
   "source": [
    "#let's give this column meaning full name\n",
    "header_strings[2] = \"term_months\""
   ]
  },
  {
   "cell_type": "code",
   "execution_count": 45,
   "id": "a7328720",
   "metadata": {},
   "outputs": [
    {
     "data": {
      "text/plain": [
       "array(['36', '36', '36', ..., '36', '36', '36'], dtype='<U69')"
      ]
     },
     "execution_count": 45,
     "metadata": {},
     "output_type": "execute_result"
    }
   ],
   "source": [
    "#since we know there are missing values we assume the worst for them\n",
    "loan_data_strings[:,2] = np.where(loan_data_strings[:,2] == '',\n",
    "                                 '60',\n",
    "                                 loan_data_strings[:,2])\n",
    "loan_data_strings[:,2]"
   ]
  },
  {
   "cell_type": "code",
   "execution_count": 46,
   "id": "85e1210f",
   "metadata": {},
   "outputs": [
    {
     "data": {
      "text/plain": [
       "array(['36', '60'], dtype='<U69')"
      ]
     },
     "execution_count": 46,
     "metadata": {},
     "output_type": "execute_result"
    }
   ],
   "source": [
    "np.unique(loan_data_strings[:,2])"
   ]
  },
  {
   "cell_type": "code",
   "execution_count": null,
   "id": "018a00b1",
   "metadata": {},
   "outputs": [],
   "source": []
  }
 ],
 "metadata": {
  "kernelspec": {
   "display_name": "Python 3 (ipykernel)",
   "language": "python",
   "name": "python3"
  },
  "language_info": {
   "codemirror_mode": {
    "name": "ipython",
    "version": 3
   },
   "file_extension": ".py",
   "mimetype": "text/x-python",
   "name": "python",
   "nbconvert_exporter": "python",
   "pygments_lexer": "ipython3",
   "version": "3.10.9"
  }
 },
 "nbformat": 4,
 "nbformat_minor": 5
}
