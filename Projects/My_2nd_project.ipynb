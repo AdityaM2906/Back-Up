{
 "cells": [
  {
   "cell_type": "markdown",
   "id": "bc302c27",
   "metadata": {},
   "source": [
    "# 1st Data Analyst Project\n",
    "\n",
    "#### S1: Eye ball the data see it in a text editor or excel\n",
    "#### S2: Find as much information from it as possible\n",
    "\n",
    "###### I1.) We have a .csv file\n",
    "   \n",
    "###### I2.) The separator is ';'\n",
    "\n",
    "###### I3.) Data is a combination of Strings and Numbers\n",
    "\n",
    "###### I4.) There are roughly 14 cols and 10000 rows\n",
    "   \n",
    "###### I5.) File contains web urls\n",
    "   \n",
    "###### I6.) The possibility of NaN and missing data is considerable \n",
    "\n",
    "###### I7.) The data is of year 2015\n",
    "###### genfromtxt must be prefered over loadtxt</b>"
   ]
  },
  {
   "cell_type": "code",
   "execution_count": 1,
   "id": "432d0e93",
   "metadata": {},
   "outputs": [],
   "source": [
    "#Import NumPy\n",
    "import numpy as np"
   ]
  },
  {
   "cell_type": "code",
   "execution_count": 2,
   "id": "bf8ef2be",
   "metadata": {},
   "outputs": [],
   "source": [
    "#setting print options\n",
    "np.set_printoptions(suppress = True,\n",
    "                   linewidth = 100,\n",
    "                   precision = 2)"
   ]
  },
  {
   "cell_type": "code",
   "execution_count": 3,
   "id": "c51093b8",
   "metadata": {},
   "outputs": [],
   "source": [
    "raw_data = np.genfromtxt(\"loan-data.csv\",\n",
    "                     delimiter=';',\n",
    "                     skip_header= 1,\n",
    "                     autostrip = True)"
   ]
  },
  {
   "cell_type": "code",
   "execution_count": 4,
   "id": "02d44bc8",
   "metadata": {},
   "outputs": [
    {
     "data": {
      "text/plain": [
       "array([[48010226.  ,         nan,    35000.  , ...,         nan,         nan,     9452.96],\n",
       "       [57693261.  ,         nan,    30000.  , ...,         nan,         nan,     4679.7 ],\n",
       "       [59432726.  ,         nan,    15000.  , ...,         nan,         nan,     1969.83],\n",
       "       ...,\n",
       "       [50415990.  ,         nan,    10000.  , ...,         nan,         nan,     2185.64],\n",
       "       [46154151.  ,         nan,         nan, ...,         nan,         nan,     3199.4 ],\n",
       "       [66055249.  ,         nan,    10000.  , ...,         nan,         nan,      301.9 ]])"
      ]
     },
     "execution_count": 4,
     "metadata": {},
     "output_type": "execute_result"
    }
   ],
   "source": [
    "raw_data"
   ]
  },
  {
   "cell_type": "code",
   "execution_count": 5,
   "id": "d789b371",
   "metadata": {},
   "outputs": [
    {
     "data": {
      "text/plain": [
       "88005"
      ]
     },
     "execution_count": 5,
     "metadata": {},
     "output_type": "execute_result"
    }
   ],
   "source": [
    "#let's find missing values\n",
    "np.isnan(raw_data).sum()"
   ]
  },
  {
   "cell_type": "code",
   "execution_count": 6,
   "id": "b1e55d8b",
   "metadata": {},
   "outputs": [
    {
     "name": "stderr",
     "output_type": "stream",
     "text": [
      "C:\\Users\\DELL\\AppData\\Local\\Temp\\ipykernel_8712\\128708969.py:2: RuntimeWarning: Mean of empty slice\n",
      "  temp_mean = np.nanmean(raw_data, axis = 0) #create an array of mean\n"
     ]
    }
   ],
   "source": [
    "temp_fill = np.nanmax(raw_data) + 1 #create the filler value\n",
    "temp_mean = np.nanmean(raw_data, axis = 0) #create an array of mean"
   ]
  },
  {
   "cell_type": "code",
   "execution_count": 7,
   "id": "e4051a09",
   "metadata": {},
   "outputs": [
    {
     "data": {
      "text/plain": [
       "array([54015809.19,         nan,    15273.46,         nan,    15311.04,         nan,       16.62,\n",
       "            440.92,         nan,         nan,         nan,         nan,         nan,     3143.85])"
      ]
     },
     "execution_count": 7,
     "metadata": {},
     "output_type": "execute_result"
    }
   ],
   "source": [
    "temp_mean"
   ]
  },
  {
   "cell_type": "code",
   "execution_count": 8,
   "id": "e09590ed",
   "metadata": {},
   "outputs": [
    {
     "name": "stderr",
     "output_type": "stream",
     "text": [
      "C:\\Users\\DELL\\AppData\\Local\\Temp\\ipykernel_8712\\2110386613.py:1: RuntimeWarning: All-NaN slice encountered\n",
      "  temp_stats = np.array([np.nanmin(raw_data, axis = 0),\n",
      "C:\\Users\\DELL\\AppData\\Local\\Temp\\ipykernel_8712\\2110386613.py:3: RuntimeWarning: All-NaN slice encountered\n",
      "  np.nanmax(raw_data, axis = 0)])\n"
     ]
    }
   ],
   "source": [
    "temp_stats = np.array([np.nanmin(raw_data, axis = 0),\n",
    "                      temp_mean,\n",
    "                      np.nanmax(raw_data, axis = 0)])\n",
    "#basic stats of the data"
   ]
  },
  {
   "cell_type": "code",
   "execution_count": 9,
   "id": "7b7f5e7d",
   "metadata": {},
   "outputs": [
    {
     "data": {
      "text/plain": [
       "array([[  373332.  ,         nan,     1000.  ,         nan,     1000.  ,         nan,        6.  ,\n",
       "              31.42,         nan,         nan,         nan,         nan,         nan,        0.  ],\n",
       "       [54015809.19,         nan,    15273.46,         nan,    15311.04,         nan,       16.62,\n",
       "             440.92,         nan,         nan,         nan,         nan,         nan,     3143.85],\n",
       "       [68616519.  ,         nan,    35000.  ,         nan,    35000.  ,         nan,       28.99,\n",
       "            1372.97,         nan,         nan,         nan,         nan,         nan,    41913.62]])"
      ]
     },
     "execution_count": 9,
     "metadata": {},
     "output_type": "execute_result"
    }
   ],
   "source": [
    "temp_stats"
   ]
  },
  {
   "cell_type": "code",
   "execution_count": 10,
   "id": "767d42c5",
   "metadata": {},
   "outputs": [],
   "source": [
    "#So as we already know the data has text data and numeric data\n",
    "# we will split it accordingly\n",
    "column_string = np.argwhere(np.isnan(temp_mean)).squeeze()\n",
    "#In this code the temp_mean is the input\n",
    "#with np.isnan we will know weather the value is NaN\n",
    "#np.argwhere will tell the index of the satisfied condition\n",
    "#.squeeze() is used to print all the indices in the same line"
   ]
  },
  {
   "cell_type": "code",
   "execution_count": 11,
   "id": "6733ef1e",
   "metadata": {},
   "outputs": [
    {
     "data": {
      "text/plain": [
       "array([ 1,  3,  5,  8,  9, 10, 11, 12], dtype=int64)"
      ]
     },
     "execution_count": 11,
     "metadata": {},
     "output_type": "execute_result"
    }
   ],
   "source": [
    "column_string"
   ]
  },
  {
   "cell_type": "code",
   "execution_count": 12,
   "id": "eba719c6",
   "metadata": {},
   "outputs": [
    {
     "data": {
      "text/plain": [
       "array([ 0,  2,  4,  6,  7, 13], dtype=int64)"
      ]
     },
     "execution_count": 12,
     "metadata": {},
     "output_type": "execute_result"
    }
   ],
   "source": [
    "column_numeric = np.argwhere(np.isnan(temp_mean) == False).squeeze()\n",
    "column_numeric\n",
    "#In this code the temp_mean is the input\n",
    "#with np.isnan == False we will know weather the value is not NaN\n",
    "#np.argwhere will tell the index of the satisfied condition\n",
    "#.squeeze() is used to print all the indices in the same line"
   ]
  },
  {
   "cell_type": "code",
   "execution_count": 13,
   "id": "7a401510",
   "metadata": {},
   "outputs": [
    {
     "data": {
      "text/plain": [
       "array([['May-15', 'Current', '36 months', ..., 'Verified',\n",
       "        'https://www.lendingclub.com/browse/loanDetail.action?loan_id=48010226', 'CA'],\n",
       "       ['', 'Current', '36 months', ..., 'Source Verified',\n",
       "        'https://www.lendingclub.com/browse/loanDetail.action?loan_id=57693261', 'NY'],\n",
       "       ['Sep-15', 'Current', '36 months', ..., 'Verified',\n",
       "        'https://www.lendingclub.com/browse/loanDetail.action?loan_id=59432726', 'PA'],\n",
       "       ...,\n",
       "       ['Jun-15', 'Current', '36 months', ..., 'Source Verified',\n",
       "        'https://www.lendingclub.com/browse/loanDetail.action?loan_id=50415990', 'CA'],\n",
       "       ['Apr-15', 'Current', '36 months', ..., 'Source Verified',\n",
       "        'https://www.lendingclub.com/browse/loanDetail.action?loan_id=46154151', 'OH'],\n",
       "       ['Dec-15', 'Current', '36 months', ..., '',\n",
       "        'https://www.lendingclub.com/browse/loanDetail.action?loan_id=66055249', 'IL']],\n",
       "      dtype='<U69')"
      ]
     },
     "execution_count": 13,
     "metadata": {},
     "output_type": "execute_result"
    }
   ],
   "source": [
    "#Reimporting data set but only with strings\n",
    "loan_data_strings = np.genfromtxt('loan-data.csv',\n",
    "                                 delimiter = ';',\n",
    "                                 skip_header= 1,\n",
    "                                 autostrip = True,\n",
    "                                 usecols = column_string,\n",
    "                                 dtype = np.str_)\n",
    "loan_data_strings"
   ]
  },
  {
   "cell_type": "code",
   "execution_count": 14,
   "id": "c36da385",
   "metadata": {},
   "outputs": [
    {
     "data": {
      "text/plain": [
       "array([[48010226.  ,    35000.  ,    35000.  ,       13.33,     1184.86,     9452.96],\n",
       "       [57693261.  ,    30000.  ,    30000.  , 68616520.  ,      938.57,     4679.7 ],\n",
       "       [59432726.  ,    15000.  ,    15000.  , 68616520.  ,      494.86,     1969.83],\n",
       "       ...,\n",
       "       [50415990.  ,    10000.  ,    10000.  , 68616520.  , 68616520.  ,     2185.64],\n",
       "       [46154151.  , 68616520.  ,    10000.  ,       16.55,      354.3 ,     3199.4 ],\n",
       "       [66055249.  ,    10000.  ,    10000.  , 68616520.  ,      309.97,      301.9 ]])"
      ]
     },
     "execution_count": 14,
     "metadata": {},
     "output_type": "execute_result"
    }
   ],
   "source": [
    "#Reimporting data set but only with numbers\n",
    "loan_data_numeric = np.genfromtxt('loan-data.csv',\n",
    "                                 delimiter = ';',\n",
    "                                 skip_header= 1,\n",
    "                                 autostrip = True,\n",
    "                                 usecols = column_numeric,\n",
    "                                 filling_values = temp_fill) #use to fill the missing values with the temporary_fill\n",
    "loan_data_numeric\n",
    "\n",
    "#NOTE: currently temp_fill is the largest number of the dataso it's easy to find"
   ]
  },
  {
   "cell_type": "code",
   "execution_count": 15,
   "id": "1d1d8505",
   "metadata": {},
   "outputs": [
    {
     "data": {
      "text/plain": [
       "array(['id', 'issue_d', 'loan_amnt', 'loan_status', 'funded_amnt', 'term', 'int_rate',\n",
       "       'installment', 'grade', 'sub_grade', 'verification_status', 'url', 'addr_state',\n",
       "       'total_pymnt'], dtype='<U19')"
      ]
     },
     "execution_count": 15,
     "metadata": {},
     "output_type": "execute_result"
    }
   ],
   "source": [
    "#Before we start digging deeper in the data set we need to give names to columns\n",
    "#Since in the beginning we skipped headers\n",
    "\n",
    "#Reimporting data set but only with strings\n",
    "header_full = np.genfromtxt('loan-data.csv',\n",
    "                                 delimiter = ';',\n",
    "                                 autostrip = True,\n",
    "                                 skip_footer= raw_data.shape[0], #skipps all the rows\n",
    "                                 dtype = np.str_)\n",
    "header_full"
   ]
  },
  {
   "cell_type": "code",
   "execution_count": 16,
   "id": "ccd654de",
   "metadata": {},
   "outputs": [],
   "source": [
    "header_strings, header_numeric = header_full[column_string], header_full[column_numeric]\n",
    "#As we have given input as column_sting and column_numeric\n",
    "#We have tolf to program to designate the respective column names to the data which it belongs to"
   ]
  },
  {
   "cell_type": "code",
   "execution_count": 17,
   "id": "bbef490a",
   "metadata": {},
   "outputs": [
    {
     "data": {
      "text/plain": [
       "array(['id', 'loan_amnt', 'funded_amnt', 'int_rate', 'installment', 'total_pymnt'], dtype='<U19')"
      ]
     },
     "execution_count": 17,
     "metadata": {},
     "output_type": "execute_result"
    }
   ],
   "source": [
    "header_numeric"
   ]
  },
  {
   "cell_type": "code",
   "execution_count": 18,
   "id": "96fc8ac3",
   "metadata": {},
   "outputs": [
    {
     "data": {
      "text/plain": [
       "array(['issue_d', 'loan_status', 'term', 'grade', 'sub_grade', 'verification_status', 'url',\n",
       "       'addr_state'], dtype='<U19')"
      ]
     },
     "execution_count": 18,
     "metadata": {},
     "output_type": "execute_result"
    }
   ],
   "source": [
    "header_strings"
   ]
  },
  {
   "cell_type": "markdown",
   "id": "63c2b3ba",
   "metadata": {},
   "source": [
    "#### Before we start preprocessing and manipulating data lets make checkpoints which is useful to avoid data loss"
   ]
  },
  {
   "cell_type": "code",
   "execution_count": 19,
   "id": "e098528d",
   "metadata": {},
   "outputs": [],
   "source": [
    "def checkpoint(file_name, checkpoint_header, checkpoint_data):\n",
    "    np.savez(file_name, \n",
    "             header = checkpoint_header, \n",
    "             data = checkpoint_data)\n",
    "    checkpoint_variable = np.load(file_name + \".npz\")\n",
    "    return(checkpoint_variable)\n",
    "\n",
    "#we created a checkpoint which is a .npz file\n",
    "#here the data is stored in different compartment but in same file\n",
    "#Just like a excel workbook\n",
    "#So here we first give file name\n",
    "#then we store header in one array and data in the next one\n",
    "#then we store this into a variable and return it by loading it"
   ]
  },
  {
   "cell_type": "code",
   "execution_count": 20,
   "id": "0e99b041",
   "metadata": {},
   "outputs": [],
   "source": [
    "checkpoint_test = checkpoint(\"checkpoint-test\",\n",
    "                            header_strings,\n",
    "                            loan_data_strings)"
   ]
  },
  {
   "cell_type": "code",
   "execution_count": 21,
   "id": "b0a22128",
   "metadata": {},
   "outputs": [
    {
     "data": {
      "text/plain": [
       "array([['May-15', 'Current', '36 months', ..., 'Verified',\n",
       "        'https://www.lendingclub.com/browse/loanDetail.action?loan_id=48010226', 'CA'],\n",
       "       ['', 'Current', '36 months', ..., 'Source Verified',\n",
       "        'https://www.lendingclub.com/browse/loanDetail.action?loan_id=57693261', 'NY'],\n",
       "       ['Sep-15', 'Current', '36 months', ..., 'Verified',\n",
       "        'https://www.lendingclub.com/browse/loanDetail.action?loan_id=59432726', 'PA'],\n",
       "       ...,\n",
       "       ['Jun-15', 'Current', '36 months', ..., 'Source Verified',\n",
       "        'https://www.lendingclub.com/browse/loanDetail.action?loan_id=50415990', 'CA'],\n",
       "       ['Apr-15', 'Current', '36 months', ..., 'Source Verified',\n",
       "        'https://www.lendingclub.com/browse/loanDetail.action?loan_id=46154151', 'OH'],\n",
       "       ['Dec-15', 'Current', '36 months', ..., '',\n",
       "        'https://www.lendingclub.com/browse/loanDetail.action?loan_id=66055249', 'IL']],\n",
       "      dtype='<U69')"
      ]
     },
     "execution_count": 21,
     "metadata": {},
     "output_type": "execute_result"
    }
   ],
   "source": [
    "checkpoint_test[\"data\"]"
   ]
  },
  {
   "cell_type": "code",
   "execution_count": 22,
   "id": "b87e58f3",
   "metadata": {},
   "outputs": [
    {
     "data": {
      "text/plain": [
       "True"
      ]
     },
     "execution_count": 22,
     "metadata": {},
     "output_type": "execute_result"
    }
   ],
   "source": [
    "np.array_equal(checkpoint_test[\"data\"], loan_data_strings)\n",
    "#if in place of .array_equal we use just .equal\n",
    "#it will individually check each element"
   ]
  },
  {
   "cell_type": "markdown",
   "id": "ae655189",
   "metadata": {},
   "source": [
    "### Manipulating String Columns"
   ]
  },
  {
   "cell_type": "code",
   "execution_count": 23,
   "id": "0a45b5d3",
   "metadata": {},
   "outputs": [
    {
     "data": {
      "text/plain": [
       "array(['issue_d', 'loan_status', 'term', 'grade', 'sub_grade', 'verification_status', 'url',\n",
       "       'addr_state'], dtype='<U19')"
      ]
     },
     "execution_count": 23,
     "metadata": {},
     "output_type": "execute_result"
    }
   ],
   "source": [
    "header_strings"
   ]
  },
  {
   "cell_type": "code",
   "execution_count": 24,
   "id": "67df4d5c",
   "metadata": {},
   "outputs": [],
   "source": [
    "#as we knwo it is necessary to give meaningfull names to columns\n",
    "header_strings[0] = \"issue_date\""
   ]
  },
  {
   "cell_type": "code",
   "execution_count": 25,
   "id": "29f0634f",
   "metadata": {},
   "outputs": [
    {
     "data": {
      "text/plain": [
       "array([['May-15', 'Current', '36 months', ..., 'Verified',\n",
       "        'https://www.lendingclub.com/browse/loanDetail.action?loan_id=48010226', 'CA'],\n",
       "       ['', 'Current', '36 months', ..., 'Source Verified',\n",
       "        'https://www.lendingclub.com/browse/loanDetail.action?loan_id=57693261', 'NY'],\n",
       "       ['Sep-15', 'Current', '36 months', ..., 'Verified',\n",
       "        'https://www.lendingclub.com/browse/loanDetail.action?loan_id=59432726', 'PA'],\n",
       "       ...,\n",
       "       ['Jun-15', 'Current', '36 months', ..., 'Source Verified',\n",
       "        'https://www.lendingclub.com/browse/loanDetail.action?loan_id=50415990', 'CA'],\n",
       "       ['Apr-15', 'Current', '36 months', ..., 'Source Verified',\n",
       "        'https://www.lendingclub.com/browse/loanDetail.action?loan_id=46154151', 'OH'],\n",
       "       ['Dec-15', 'Current', '36 months', ..., '',\n",
       "        'https://www.lendingclub.com/browse/loanDetail.action?loan_id=66055249', 'IL']],\n",
       "      dtype='<U69')"
      ]
     },
     "execution_count": 25,
     "metadata": {},
     "output_type": "execute_result"
    }
   ],
   "source": [
    "loan_data_strings\n",
    "#Let's examine this more deeply"
   ]
  },
  {
   "cell_type": "markdown",
   "id": "7eefbe45",
   "metadata": {},
   "source": [
    "###### Issue_date"
   ]
  },
  {
   "cell_type": "code",
   "execution_count": 26,
   "id": "2946625d",
   "metadata": {},
   "outputs": [
    {
     "data": {
      "text/plain": [
       "array(['May-15', '', 'Sep-15', ..., 'Jun-15', 'Apr-15', 'Dec-15'], dtype='<U69')"
      ]
     },
     "execution_count": 26,
     "metadata": {},
     "output_type": "execute_result"
    }
   ],
   "source": [
    "#as we can see the 1st column in the above code contains month and year lets seperate it\n",
    "loan_data_strings[:,0]\n",
    "#-15 repeats a lot \n",
    "#So the data is of 2015"
   ]
  },
  {
   "cell_type": "code",
   "execution_count": 27,
   "id": "0a6cca33",
   "metadata": {},
   "outputs": [
    {
     "data": {
      "text/plain": [
       "array(['', 'Apr-15', 'Aug-15', 'Dec-15', 'Feb-15', 'Jan-15', 'Jul-15', 'Jun-15', 'Mar-15',\n",
       "       'May-15', 'Nov-15', 'Oct-15', 'Sep-15'], dtype='<U69')"
      ]
     },
     "execution_count": 27,
     "metadata": {},
     "output_type": "execute_result"
    }
   ],
   "source": [
    "#let's see the unique values\n",
    "np.unique(loan_data_strings[:,0])"
   ]
  },
  {
   "cell_type": "code",
   "execution_count": 28,
   "id": "d02ad970",
   "metadata": {},
   "outputs": [],
   "source": [
    "#let's remove -15 as it is repeated\n",
    "#and we know the tear of data\n",
    "loan_data_strings[:,0] = np.chararray.strip(loan_data_strings[:,0], '-15')"
   ]
  },
  {
   "cell_type": "code",
   "execution_count": 29,
   "id": "f427b03d",
   "metadata": {},
   "outputs": [
    {
     "data": {
      "text/plain": [
       "array(['', 'Apr', 'Aug', 'Dec', 'Feb', 'Jan', 'Jul', 'Jun', 'Mar', 'May', 'Nov', 'Oct', 'Sep'],\n",
       "      dtype='<U69')"
      ]
     },
     "execution_count": 29,
     "metadata": {},
     "output_type": "execute_result"
    }
   ],
   "source": [
    "np.unique(loan_data_strings[:,0])"
   ]
  },
  {
   "cell_type": "code",
   "execution_count": 30,
   "id": "1856c424",
   "metadata": {},
   "outputs": [],
   "source": [
    "#as strings take more space lets store all the months in numbers\n",
    "#this helps us to store data is less space\n",
    "month = np.array(['','Jan','Feb','Mar','Apr','May','Jun','Jul','Aug','Sep','Oct','Nov','Dec'])"
   ]
  },
  {
   "cell_type": "code",
   "execution_count": 31,
   "id": "417962a9",
   "metadata": {},
   "outputs": [],
   "source": [
    "for i in range(13):\n",
    "    loan_data_strings[:,0] = np.where(loan_data_strings[:,0] == month[i],\n",
    "                                     i,\n",
    "                                     loan_data_strings[:,0])"
   ]
  },
  {
   "cell_type": "code",
   "execution_count": 32,
   "id": "bb6eec52",
   "metadata": {},
   "outputs": [
    {
     "data": {
      "text/plain": [
       "array(['0', '1', '10', '11', '12', '2', '3', '4', '5', '6', '7', '8', '9'], dtype='<U69')"
      ]
     },
     "execution_count": 32,
     "metadata": {},
     "output_type": "execute_result"
    }
   ],
   "source": [
    "np.unique(loan_data_strings[:,0])"
   ]
  },
  {
   "cell_type": "markdown",
   "id": "ade4e745",
   "metadata": {},
   "source": [
    "###### Loan Status"
   ]
  },
  {
   "cell_type": "code",
   "execution_count": 33,
   "id": "56ab27fa",
   "metadata": {},
   "outputs": [
    {
     "data": {
      "text/plain": [
       "array(['issue_date', 'loan_status', 'term', 'grade', 'sub_grade', 'verification_status', 'url',\n",
       "       'addr_state'], dtype='<U19')"
      ]
     },
     "execution_count": 33,
     "metadata": {},
     "output_type": "execute_result"
    }
   ],
   "source": [
    "header_strings #It just tells us the name of various headers"
   ]
  },
  {
   "cell_type": "code",
   "execution_count": 34,
   "id": "060630bf",
   "metadata": {},
   "outputs": [
    {
     "data": {
      "text/plain": [
       "array(['', 'Charged Off', 'Current', 'Default', 'Fully Paid', 'In Grace Period', 'Issued',\n",
       "       'Late (16-30 days)', 'Late (31-120 days)'], dtype='<U69')"
      ]
     },
     "execution_count": 34,
     "metadata": {},
     "output_type": "execute_result"
    }
   ],
   "source": [
    "np.unique(loan_data_strings[:,1])"
   ]
  },
  {
   "cell_type": "code",
   "execution_count": 35,
   "id": "7324c58b",
   "metadata": {},
   "outputs": [
    {
     "data": {
      "text/plain": [
       "9"
      ]
     },
     "execution_count": 35,
     "metadata": {},
     "output_type": "execute_result"
    }
   ],
   "source": [
    "np.unique(loan_data_strings[:,1]).size"
   ]
  },
  {
   "cell_type": "markdown",
   "id": "25e8d987",
   "metadata": {},
   "source": [
    "<b>Here we can use np.where() to assign a different number to each one but as we know regression only care if the candidate is in a stable financial condition or not, so we need to make this in a 0,1 situation</b> So we use the \"unique\" values and catagorise them in good and bad "
   ]
  },
  {
   "cell_type": "code",
   "execution_count": 36,
   "id": "8e4ccb58",
   "metadata": {},
   "outputs": [],
   "source": [
    "status_bad = np.array(['','Charged Off','Default','Late (31-120 dats)'])\n",
    "#the bad category"
   ]
  },
  {
   "cell_type": "code",
   "execution_count": 37,
   "id": "ae3de496",
   "metadata": {},
   "outputs": [],
   "source": [
    "loan_data_strings[:,1] = np.where(np.isin(loan_data_strings[:,1], status_bad),\n",
    "                                 0,\n",
    "                                 1)"
   ]
  },
  {
   "cell_type": "code",
   "execution_count": 38,
   "id": "b233530d",
   "metadata": {},
   "outputs": [
    {
     "data": {
      "text/plain": [
       "array(['0', '1'], dtype='<U69')"
      ]
     },
     "execution_count": 38,
     "metadata": {},
     "output_type": "execute_result"
    }
   ],
   "source": [
    "np.unique(loan_data_strings[:, 1])"
   ]
  },
  {
   "cell_type": "markdown",
   "id": "aa158ce4",
   "metadata": {},
   "source": [
    "###### Term"
   ]
  },
  {
   "cell_type": "code",
   "execution_count": 39,
   "id": "2b1d2fbc",
   "metadata": {},
   "outputs": [
    {
     "data": {
      "text/plain": [
       "array(['issue_date', 'loan_status', 'term', 'grade', 'sub_grade', 'verification_status', 'url',\n",
       "       'addr_state'], dtype='<U19')"
      ]
     },
     "execution_count": 39,
     "metadata": {},
     "output_type": "execute_result"
    }
   ],
   "source": [
    "header_strings"
   ]
  },
  {
   "cell_type": "code",
   "execution_count": 40,
   "id": "02abbd7e",
   "metadata": {},
   "outputs": [
    {
     "data": {
      "text/plain": [
       "array(['36 months', '36 months', '36 months', ..., '36 months', '36 months', '36 months'],\n",
       "      dtype='<U69')"
      ]
     },
     "execution_count": 40,
     "metadata": {},
     "output_type": "execute_result"
    }
   ],
   "source": [
    "loan_data_strings[:,2]"
   ]
  },
  {
   "cell_type": "code",
   "execution_count": 41,
   "id": "30710ee7",
   "metadata": {},
   "outputs": [
    {
     "data": {
      "text/plain": [
       "array(['', '36 months', '60 months'], dtype='<U69')"
      ]
     },
     "execution_count": 41,
     "metadata": {},
     "output_type": "execute_result"
    }
   ],
   "source": [
    "np.unique(loan_data_strings[:,2])"
   ]
  },
  {
   "cell_type": "code",
   "execution_count": 42,
   "id": "e01aecd0",
   "metadata": {},
   "outputs": [],
   "source": [
    "#since month is repeated we should strip it\n",
    "loan_data_strings[:,2] = np.chararray.strip(loan_data_strings[:,2], ' months')"
   ]
  },
  {
   "cell_type": "code",
   "execution_count": 43,
   "id": "b2d70b2b",
   "metadata": {},
   "outputs": [
    {
     "data": {
      "text/plain": [
       "array(['', '36', '60'], dtype='<U69')"
      ]
     },
     "execution_count": 43,
     "metadata": {},
     "output_type": "execute_result"
    }
   ],
   "source": [
    "np.unique(loan_data_strings[:,2])"
   ]
  },
  {
   "cell_type": "code",
   "execution_count": 44,
   "id": "6dc98c05",
   "metadata": {},
   "outputs": [],
   "source": [
    "#let's give this column meaning full name\n",
    "header_strings[2] = \"term_months\""
   ]
  },
  {
   "cell_type": "code",
   "execution_count": 45,
   "id": "a7328720",
   "metadata": {},
   "outputs": [
    {
     "data": {
      "text/plain": [
       "array(['36', '36', '36', ..., '36', '36', '36'], dtype='<U69')"
      ]
     },
     "execution_count": 45,
     "metadata": {},
     "output_type": "execute_result"
    }
   ],
   "source": [
    "#since we know there are missing values we assume the worst for them\n",
    "loan_data_strings[:,2] = np.where(loan_data_strings[:,2] == '',\n",
    "                                 '60',\n",
    "                                 loan_data_strings[:,2])\n",
    "loan_data_strings[:,2]"
   ]
  },
  {
   "cell_type": "code",
   "execution_count": 46,
   "id": "85e1210f",
   "metadata": {},
   "outputs": [
    {
     "data": {
      "text/plain": [
       "array(['36', '60'], dtype='<U69')"
      ]
     },
     "execution_count": 46,
     "metadata": {},
     "output_type": "execute_result"
    }
   ],
   "source": [
    "np.unique(loan_data_strings[:,2])"
   ]
  },
  {
   "cell_type": "markdown",
   "id": "0e4ea05b",
   "metadata": {},
   "source": [
    "### Grade and Subgrade"
   ]
  },
  {
   "cell_type": "code",
   "execution_count": 47,
   "id": "390d530f",
   "metadata": {},
   "outputs": [
    {
     "data": {
      "text/plain": [
       "array(['issue_date', 'loan_status', 'term_months', 'grade', 'sub_grade', 'verification_status',\n",
       "       'url', 'addr_state'], dtype='<U19')"
      ]
     },
     "execution_count": 47,
     "metadata": {},
     "output_type": "execute_result"
    }
   ],
   "source": [
    "header_strings"
   ]
  },
  {
   "cell_type": "code",
   "execution_count": 48,
   "id": "d80a923d",
   "metadata": {},
   "outputs": [
    {
     "data": {
      "text/plain": [
       "array(['C', 'A', 'B', ..., 'A', 'D', 'A'], dtype='<U69')"
      ]
     },
     "execution_count": 48,
     "metadata": {},
     "output_type": "execute_result"
    }
   ],
   "source": [
    "loan_data_strings[:,3]"
   ]
  },
  {
   "cell_type": "code",
   "execution_count": 49,
   "id": "d9f1459b",
   "metadata": {},
   "outputs": [
    {
     "data": {
      "text/plain": [
       "array(['', 'A', 'B', 'C', 'D', 'E', 'F', 'G'], dtype='<U69')"
      ]
     },
     "execution_count": 49,
     "metadata": {},
     "output_type": "execute_result"
    }
   ],
   "source": [
    "np.unique(loan_data_strings[:,3])"
   ]
  },
  {
   "cell_type": "code",
   "execution_count": 50,
   "id": "a5e9a87b",
   "metadata": {},
   "outputs": [
    {
     "data": {
      "text/plain": [
       "array(['C3', 'A5', 'B5', ..., 'A5', 'D2', 'A4'], dtype='<U69')"
      ]
     },
     "execution_count": 50,
     "metadata": {},
     "output_type": "execute_result"
    }
   ],
   "source": [
    "loan_data_strings[:,4]"
   ]
  },
  {
   "cell_type": "code",
   "execution_count": 51,
   "id": "3b11d75b",
   "metadata": {},
   "outputs": [
    {
     "data": {
      "text/plain": [
       "array(['', 'A1', 'A2', 'A3', 'A4', 'A5', 'B1', 'B2', 'B3', 'B4', 'B5', 'C1', 'C2', 'C3', 'C4',\n",
       "       'C5', 'D1', 'D2', 'D3', 'D4', 'D5', 'E1', 'E2', 'E3', 'E4', 'E5', 'F1', 'F2', 'F3', 'F4',\n",
       "       'F5', 'G1', 'G2', 'G3', 'G4', 'G5'], dtype='<U69')"
      ]
     },
     "execution_count": 51,
     "metadata": {},
     "output_type": "execute_result"
    }
   ],
   "source": [
    "np.unique(loan_data_strings[:,4])"
   ]
  },
  {
   "cell_type": "markdown",
   "id": "609cc8d7",
   "metadata": {},
   "source": [
    "Now if we see both the above outputs, we understand that the 2nd one is way better in grading data then the first and what ever data we can get from grade can be obtained by using sub-grade. So we can assume that it is a case of redone. BUT, we can use the grade to deal with missing values in a much effective way."
   ]
  },
  {
   "cell_type": "code",
   "execution_count": 52,
   "id": "64397f20",
   "metadata": {},
   "outputs": [],
   "source": [
    "for i in np.unique(loan_data_strings[:,3])[1:]:\n",
    "    loan_data_strings[:,4] = np.where((loan_data_strings[:,4] == '') & (loan_data_strings[:,3] == i),\n",
    "                                     i + '5',\n",
    "                                     loan_data_strings[:,4])\n",
    "#the given loop takes comparison values from grade and compairs it with sub-grade. \n",
    "#np.where 1st checks if the value is empty and then if the grade is the same as what we are taking as an input\n",
    "#if it's true we put 5 after the grade or else we don't change it at all."
   ]
  },
  {
   "cell_type": "code",
   "execution_count": 53,
   "id": "422482cf",
   "metadata": {},
   "outputs": [
    {
     "data": {
      "text/plain": [
       "(array(['', 'A1', 'A2', 'A3', 'A4', 'A5', 'B1', 'B2', 'B3', 'B4', 'B5', 'C1', 'C2', 'C3', 'C4',\n",
       "        'C5', 'D1', 'D2', 'D3', 'D4', 'D5', 'E1', 'E2', 'E3', 'E4', 'E5', 'F1', 'F2', 'F3', 'F4',\n",
       "        'F5', 'G1', 'G2', 'G3', 'G4', 'G5'], dtype='<U69'),\n",
       " array([  9, 285, 278, 239, 323, 592, 509, 517, 530, 553, 633, 629, 567, 586, 564, 577, 391, 267,\n",
       "        250, 255, 288, 235, 162, 171, 139, 160,  94,  52,  34,  43,  24,  19,  10,   3,   7,   5],\n",
       "       dtype=int64))"
      ]
     },
     "execution_count": 53,
     "metadata": {},
     "output_type": "execute_result"
    }
   ],
   "source": [
    "np.unique(loan_data_strings[:,4], return_counts=True)"
   ]
  },
  {
   "cell_type": "code",
   "execution_count": 54,
   "id": "d00502dd",
   "metadata": {},
   "outputs": [],
   "source": [
    "#there a over 10000 values in this data base so if just 9 are missing we can drop it\n",
    "# but as good data analyst we will make sure that we have made sure that atleast we can identify them\n",
    "for i in np.unique(loan_data_strings[:,3])[1:]:\n",
    "    loan_data_strings[:,4] = np.where(loan_data_strings[:,4] == '',\n",
    "                                     'H1',\n",
    "                                     loan_data_strings[:,4])\n"
   ]
  },
  {
   "cell_type": "code",
   "execution_count": 55,
   "id": "af5568b6",
   "metadata": {},
   "outputs": [
    {
     "data": {
      "text/plain": [
       "(array(['A1', 'A2', 'A3', 'A4', 'A5', 'B1', 'B2', 'B3', 'B4', 'B5', 'C1', 'C2', 'C3', 'C4', 'C5',\n",
       "        'D1', 'D2', 'D3', 'D4', 'D5', 'E1', 'E2', 'E3', 'E4', 'E5', 'F1', 'F2', 'F3', 'F4', 'F5',\n",
       "        'G1', 'G2', 'G3', 'G4', 'G5', 'H1'], dtype='<U69'),\n",
       " array([285, 278, 239, 323, 592, 509, 517, 530, 553, 633, 629, 567, 586, 564, 577, 391, 267, 250,\n",
       "        255, 288, 235, 162, 171, 139, 160,  94,  52,  34,  43,  24,  19,  10,   3,   7,   5,   9],\n",
       "       dtype=int64))"
      ]
     },
     "execution_count": 55,
     "metadata": {},
     "output_type": "execute_result"
    }
   ],
   "source": [
    "np.unique(loan_data_strings[:,4], return_counts=True)"
   ]
  },
  {
   "cell_type": "markdown",
   "id": "8e361b80",
   "metadata": {},
   "source": [
    "### Removing Grade\n",
    "We will now remove the grade column cause it is not needed"
   ]
  },
  {
   "cell_type": "code",
   "execution_count": 56,
   "id": "c9703603",
   "metadata": {},
   "outputs": [],
   "source": [
    "loan_data_strings = np.delete(loan_data_strings,3,axis = 1)"
   ]
  },
  {
   "cell_type": "code",
   "execution_count": 57,
   "id": "2be2ec3b",
   "metadata": {},
   "outputs": [
    {
     "data": {
      "text/plain": [
       "array(['C3', 'A5', 'B5', ..., 'A5', 'D2', 'A4'], dtype='<U69')"
      ]
     },
     "execution_count": 57,
     "metadata": {},
     "output_type": "execute_result"
    }
   ],
   "source": [
    "loan_data_strings[:,3]"
   ]
  },
  {
   "cell_type": "code",
   "execution_count": 58,
   "id": "cb8e3aa8",
   "metadata": {},
   "outputs": [],
   "source": [
    "header_strings = np.delete(header_strings,3)"
   ]
  },
  {
   "cell_type": "code",
   "execution_count": 59,
   "id": "433098a8",
   "metadata": {},
   "outputs": [
    {
     "data": {
      "text/plain": [
       "array(['issue_date', 'loan_status', 'term_months', 'sub_grade', 'verification_status', 'url',\n",
       "       'addr_state'], dtype='<U19')"
      ]
     },
     "execution_count": 59,
     "metadata": {},
     "output_type": "execute_result"
    }
   ],
   "source": [
    "header_strings"
   ]
  },
  {
   "cell_type": "markdown",
   "id": "36f106e3",
   "metadata": {},
   "source": [
    "### Converting Sub Grade\n",
    "Now we should convert sub-grades to numbers"
   ]
  },
  {
   "cell_type": "code",
   "execution_count": 60,
   "id": "edfb1919",
   "metadata": {},
   "outputs": [
    {
     "data": {
      "text/plain": [
       "array(['A1', 'A2', 'A3', 'A4', 'A5', 'B1', 'B2', 'B3', 'B4', 'B5', 'C1', 'C2', 'C3', 'C4', 'C5',\n",
       "       'D1', 'D2', 'D3', 'D4', 'D5', 'E1', 'E2', 'E3', 'E4', 'E5', 'F1', 'F2', 'F3', 'F4', 'F5',\n",
       "       'G1', 'G2', 'G3', 'G4', 'G5', 'H1'], dtype='<U69')"
      ]
     },
     "execution_count": 60,
     "metadata": {},
     "output_type": "execute_result"
    }
   ],
   "source": [
    "np.unique(loan_data_strings[:,3])"
   ]
  },
  {
   "cell_type": "code",
   "execution_count": 61,
   "id": "5e462260",
   "metadata": {},
   "outputs": [],
   "source": [
    "keys = list(np.unique(loan_data_strings[:,3]))\n",
    "value = list(range(1, np.unique(loan_data_strings[:,3]).shape[0] + 1))\n",
    "dict_sub_grade = dict(zip(keys, value))"
   ]
  },
  {
   "cell_type": "code",
   "execution_count": 62,
   "id": "351944cd",
   "metadata": {},
   "outputs": [
    {
     "data": {
      "text/plain": [
       "{'A1': 1,\n",
       " 'A2': 2,\n",
       " 'A3': 3,\n",
       " 'A4': 4,\n",
       " 'A5': 5,\n",
       " 'B1': 6,\n",
       " 'B2': 7,\n",
       " 'B3': 8,\n",
       " 'B4': 9,\n",
       " 'B5': 10,\n",
       " 'C1': 11,\n",
       " 'C2': 12,\n",
       " 'C3': 13,\n",
       " 'C4': 14,\n",
       " 'C5': 15,\n",
       " 'D1': 16,\n",
       " 'D2': 17,\n",
       " 'D3': 18,\n",
       " 'D4': 19,\n",
       " 'D5': 20,\n",
       " 'E1': 21,\n",
       " 'E2': 22,\n",
       " 'E3': 23,\n",
       " 'E4': 24,\n",
       " 'E5': 25,\n",
       " 'F1': 26,\n",
       " 'F2': 27,\n",
       " 'F3': 28,\n",
       " 'F4': 29,\n",
       " 'F5': 30,\n",
       " 'G1': 31,\n",
       " 'G2': 32,\n",
       " 'G3': 33,\n",
       " 'G4': 34,\n",
       " 'G5': 35,\n",
       " 'H1': 36}"
      ]
     },
     "execution_count": 62,
     "metadata": {},
     "output_type": "execute_result"
    }
   ],
   "source": [
    "dict_sub_grade"
   ]
  },
  {
   "cell_type": "code",
   "execution_count": 63,
   "id": "0e9ab36d",
   "metadata": {},
   "outputs": [
    {
     "ename": "KeyError",
     "evalue": "'5'",
     "output_type": "error",
     "traceback": [
      "\u001b[1;31m---------------------------------------------------------------------------\u001b[0m",
      "\u001b[1;31mKeyError\u001b[0m                                  Traceback (most recent call last)",
      "Cell \u001b[1;32mIn[63], line 4\u001b[0m\n\u001b[0;32m      1\u001b[0m \u001b[38;5;66;03m#now let's replace these values with sub-grade\u001b[39;00m\n\u001b[0;32m      2\u001b[0m \u001b[38;5;28;01mfor\u001b[39;00m i \u001b[38;5;129;01min\u001b[39;00m loan_data_strings[:,\u001b[38;5;241m3\u001b[39m]:\n\u001b[0;32m      3\u001b[0m     loan_data_strings[:,\u001b[38;5;241m3\u001b[39m] \u001b[38;5;241m=\u001b[39m np\u001b[38;5;241m.\u001b[39mwhere(loan_data_strings[:,\u001b[38;5;241m3\u001b[39m] \u001b[38;5;241m==\u001b[39m i,\n\u001b[1;32m----> 4\u001b[0m                                       \u001b[43mdict_sub_grade\u001b[49m\u001b[43m[\u001b[49m\u001b[43mi\u001b[49m\u001b[43m]\u001b[49m,\n\u001b[0;32m      5\u001b[0m                                       loan_data_strings[:,\u001b[38;5;241m3\u001b[39m])\n",
      "\u001b[1;31mKeyError\u001b[0m: '5'"
     ]
    }
   ],
   "source": [
    "#now let's replace these values with sub-grade\n",
    "for i in loan_data_strings[:,3]:\n",
    "    loan_data_strings[:,3] = np.where(loan_data_strings[:,3] == i,\n",
    "                                      dict_sub_grade[i],\n",
    "                                      loan_data_strings[:,3])"
   ]
  },
  {
   "cell_type": "code",
   "execution_count": null,
   "id": "f2c22135",
   "metadata": {},
   "outputs": [],
   "source": []
  },
  {
   "cell_type": "code",
   "execution_count": null,
   "id": "8cc0ef88",
   "metadata": {},
   "outputs": [],
   "source": []
  }
 ],
 "metadata": {
  "kernelspec": {
   "display_name": "Python 3 (ipykernel)",
   "language": "python",
   "name": "python3"
  },
  "language_info": {
   "codemirror_mode": {
    "name": "ipython",
    "version": 3
   },
   "file_extension": ".py",
   "mimetype": "text/x-python",
   "name": "python",
   "nbconvert_exporter": "python",
   "pygments_lexer": "ipython3",
   "version": "3.10.9"
  }
 },
 "nbformat": 4,
 "nbformat_minor": 5
}
